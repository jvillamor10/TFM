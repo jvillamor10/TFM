{
 "cells": [
  {
   "cell_type": "code",
   "execution_count": 1,
   "id": "c153de9e-d8ac-47c9-87cb-c00c9aeaadce",
   "metadata": {},
   "outputs": [],
   "source": [
    "import pandas as pd"
   ]
  },
  {
   "cell_type": "code",
   "execution_count": 4,
   "id": "b860016b-42d1-424f-b068-8c2af1ccb04c",
   "metadata": {},
   "outputs": [],
   "source": [
    "ORIGINAL_DATA_FILE_DIR = '../../../../datasets/original-data/Exported Data_202309081717_Arrojeria, Esther.csv'"
   ]
  },
  {
   "cell_type": "markdown",
   "id": "7c9becfe-f478-4f49-8b3b-7d1d9c6e7eb7",
   "metadata": {},
   "source": [
    "Las primeras 6 filas es información de la captura de datos"
   ]
  },
  {
   "cell_type": "code",
   "execution_count": 5,
   "id": "9c2ccd45-e678-4411-8634-350fb581e04e",
   "metadata": {},
   "outputs": [],
   "source": [
    "with open(ORIGINAL_DATA_FILE_DIR, 'r') as file:\n",
    "    # Lee todas las líneas del archivo en una lista\n",
    "    lines = file.readlines()"
   ]
  },
  {
   "cell_type": "code",
   "execution_count": 8,
   "id": "a24cd4f0-e2f7-4ee9-825d-ef4857e22b7a",
   "metadata": {},
   "outputs": [
    {
     "data": {
      "text/plain": [
       "['\\ufeffExported Sensor Data, Version 2\\n',\n",
       " 'Start Time: ,[2023-09-08 19:17:59 652],Arrojeria  Esther\\n',\n",
       " '\\n',\n",
       " '\\n']"
      ]
     },
     "execution_count": 8,
     "metadata": {},
     "output_type": "execute_result"
    }
   ],
   "source": [
    "lines[:4]"
   ]
  },
  {
   "cell_type": "code",
   "execution_count": 9,
   "id": "4946182b-ed25-4756-ac1b-5dec2c600a29",
   "metadata": {},
   "outputs": [],
   "source": [
    "skip_rows = 4"
   ]
  },
  {
   "cell_type": "markdown",
   "id": "8e65afb4-fb5d-43cf-a5f1-2d333c3458c6",
   "metadata": {},
   "source": [
    "Inicio de la captura, nombre de la jugadora, tipo, nombre, inicio y fin"
   ]
  },
  {
   "cell_type": "code",
   "execution_count": 10,
   "id": "c04eeba8-d11b-48d6-90a8-02d08d5c8e88",
   "metadata": {},
   "outputs": [],
   "source": [
    "player_name = 'arrojeria_esther'"
   ]
  },
  {
   "cell_type": "code",
   "execution_count": 11,
   "id": "5472f12d-dc32-430b-af61-08d44004e3ea",
   "metadata": {},
   "outputs": [],
   "source": [
    "record_date = '20230908'"
   ]
  },
  {
   "cell_type": "code",
   "execution_count": 12,
   "id": "9214d4b4-a21b-49ae-a813-575e50a50178",
   "metadata": {},
   "outputs": [
    {
     "data": {
      "text/html": [
       "<div>\n",
       "<style scoped>\n",
       "    .dataframe tbody tr th:only-of-type {\n",
       "        vertical-align: middle;\n",
       "    }\n",
       "\n",
       "    .dataframe tbody tr th {\n",
       "        vertical-align: top;\n",
       "    }\n",
       "\n",
       "    .dataframe thead th {\n",
       "        text-align: right;\n",
       "    }\n",
       "</style>\n",
       "<table border=\"1\" class=\"dataframe\">\n",
       "  <thead>\n",
       "    <tr style=\"text-align: right;\">\n",
       "      <th></th>\n",
       "      <th>Seconds from Start</th>\n",
       "      <th>Date Time</th>\n",
       "      <th>Speed (km/h)</th>\n",
       "      <th>HR (bpm)</th>\n",
       "      <th>Core Temperature °C</th>\n",
       "      <th>X accelerometer (Sideways)</th>\n",
       "      <th>Y accelerometer (Forward)</th>\n",
       "      <th>Z accelerometer (Vertical)</th>\n",
       "      <th>Raw RR (ms)</th>\n",
       "      <th>Filtered RR (ms)</th>\n",
       "      <th>Difference</th>\n",
       "      <th>HR RMSSD</th>\n",
       "      <th>ActivityLoad 2D</th>\n",
       "      <th>ActivityLoad 3D</th>\n",
       "    </tr>\n",
       "  </thead>\n",
       "  <tbody>\n",
       "    <tr>\n",
       "      <th>0</th>\n",
       "      <td>1,001</td>\n",
       "      <td>[2023-09-08 19:18:00 653]</td>\n",
       "      <td>0</td>\n",
       "      <td>NaN</td>\n",
       "      <td>NaN</td>\n",
       "      <td>NaN</td>\n",
       "      <td>NaN</td>\n",
       "      <td>NaN</td>\n",
       "      <td>NaN</td>\n",
       "      <td>NaN</td>\n",
       "      <td>NaN</td>\n",
       "      <td>NaN</td>\n",
       "      <td>NaN</td>\n",
       "      <td>NaN</td>\n",
       "    </tr>\n",
       "    <tr>\n",
       "      <th>1</th>\n",
       "      <td>1,087</td>\n",
       "      <td>[2023-09-08 19:18:00 739]</td>\n",
       "      <td>NaN</td>\n",
       "      <td>NaN</td>\n",
       "      <td>NaN</td>\n",
       "      <td>-0,1531</td>\n",
       "      <td>-9,9531</td>\n",
       "      <td>-10,1163</td>\n",
       "      <td>NaN</td>\n",
       "      <td>NaN</td>\n",
       "      <td>NaN</td>\n",
       "      <td>NaN</td>\n",
       "      <td>NaN</td>\n",
       "      <td>NaN</td>\n",
       "    </tr>\n",
       "    <tr>\n",
       "      <th>2</th>\n",
       "      <td>1,097</td>\n",
       "      <td>[2023-09-08 19:18:00 749]</td>\n",
       "      <td>NaN</td>\n",
       "      <td>NaN</td>\n",
       "      <td>NaN</td>\n",
       "      <td>0</td>\n",
       "      <td>-9,6469</td>\n",
       "      <td>-9,6569</td>\n",
       "      <td>NaN</td>\n",
       "      <td>NaN</td>\n",
       "      <td>NaN</td>\n",
       "      <td>NaN</td>\n",
       "      <td>NaN</td>\n",
       "      <td>NaN</td>\n",
       "    </tr>\n",
       "    <tr>\n",
       "      <th>3</th>\n",
       "      <td>1,102</td>\n",
       "      <td>[2023-09-08 19:18:00 754]</td>\n",
       "      <td>0</td>\n",
       "      <td>NaN</td>\n",
       "      <td>NaN</td>\n",
       "      <td>NaN</td>\n",
       "      <td>NaN</td>\n",
       "      <td>NaN</td>\n",
       "      <td>NaN</td>\n",
       "      <td>NaN</td>\n",
       "      <td>NaN</td>\n",
       "      <td>NaN</td>\n",
       "      <td>NaN</td>\n",
       "      <td>NaN</td>\n",
       "    </tr>\n",
       "    <tr>\n",
       "      <th>4</th>\n",
       "      <td>1,106</td>\n",
       "      <td>[2023-09-08 19:18:00 758]</td>\n",
       "      <td>NaN</td>\n",
       "      <td>NaN</td>\n",
       "      <td>NaN</td>\n",
       "      <td>0,1531</td>\n",
       "      <td>-9,9531</td>\n",
       "      <td>-9,81</td>\n",
       "      <td>NaN</td>\n",
       "      <td>NaN</td>\n",
       "      <td>NaN</td>\n",
       "      <td>NaN</td>\n",
       "      <td>NaN</td>\n",
       "      <td>NaN</td>\n",
       "    </tr>\n",
       "  </tbody>\n",
       "</table>\n",
       "</div>"
      ],
      "text/plain": [
       "  Seconds from Start                  Date Time Speed (km/h)  HR (bpm)  \\\n",
       "0              1,001  [2023-09-08 19:18:00 653]            0       NaN   \n",
       "1              1,087  [2023-09-08 19:18:00 739]          NaN       NaN   \n",
       "2              1,097  [2023-09-08 19:18:00 749]          NaN       NaN   \n",
       "3              1,102  [2023-09-08 19:18:00 754]            0       NaN   \n",
       "4              1,106  [2023-09-08 19:18:00 758]          NaN       NaN   \n",
       "\n",
       "  Core Temperature °C X accelerometer (Sideways) Y accelerometer (Forward)  \\\n",
       "0                 NaN                        NaN                       NaN   \n",
       "1                 NaN                    -0,1531                   -9,9531   \n",
       "2                 NaN                          0                   -9,6469   \n",
       "3                 NaN                        NaN                       NaN   \n",
       "4                 NaN                     0,1531                   -9,9531   \n",
       "\n",
       "  Z accelerometer (Vertical)  Raw RR (ms)  Filtered RR (ms)  Difference  \\\n",
       "0                        NaN          NaN               NaN         NaN   \n",
       "1                   -10,1163          NaN               NaN         NaN   \n",
       "2                    -9,6569          NaN               NaN         NaN   \n",
       "3                        NaN          NaN               NaN         NaN   \n",
       "4                      -9,81          NaN               NaN         NaN   \n",
       "\n",
       "  HR RMSSD ActivityLoad 2D ActivityLoad 3D  \n",
       "0      NaN             NaN             NaN  \n",
       "1      NaN             NaN             NaN  \n",
       "2      NaN             NaN             NaN  \n",
       "3      NaN             NaN             NaN  \n",
       "4      NaN             NaN             NaN  "
      ]
     },
     "execution_count": 12,
     "metadata": {},
     "output_type": "execute_result"
    }
   ],
   "source": [
    "df = pd.read_csv(ORIGINAL_DATA_FILE_DIR,skiprows=skip_rows)\n",
    "df.head()"
   ]
  },
  {
   "cell_type": "markdown",
   "id": "52bcb337-3ad6-431d-bc34-bd9ca024eb99",
   "metadata": {},
   "source": [
    "Debemos obtener la información relevante:\n",
    "* Seconds from Start\n",
    "* Date Time\n",
    "* HR (bpm)\n",
    "* ActivityLoad 2D\n",
    "* ActivityLoad 3D"
   ]
  },
  {
   "cell_type": "code",
   "execution_count": 13,
   "id": "fbf9ea16-4dee-49d8-881a-68500f993ae0",
   "metadata": {},
   "outputs": [
    {
     "data": {
      "text/html": [
       "<div>\n",
       "<style scoped>\n",
       "    .dataframe tbody tr th:only-of-type {\n",
       "        vertical-align: middle;\n",
       "    }\n",
       "\n",
       "    .dataframe tbody tr th {\n",
       "        vertical-align: top;\n",
       "    }\n",
       "\n",
       "    .dataframe thead th {\n",
       "        text-align: right;\n",
       "    }\n",
       "</style>\n",
       "<table border=\"1\" class=\"dataframe\">\n",
       "  <thead>\n",
       "    <tr style=\"text-align: right;\">\n",
       "      <th></th>\n",
       "      <th>Seconds from Start</th>\n",
       "      <th>Date Time</th>\n",
       "      <th>HR (bpm)</th>\n",
       "    </tr>\n",
       "  </thead>\n",
       "  <tbody>\n",
       "    <tr>\n",
       "      <th>8771</th>\n",
       "      <td>80,802</td>\n",
       "      <td>[2023-09-08 19:19:20 454]</td>\n",
       "      <td>74.0</td>\n",
       "    </tr>\n",
       "    <tr>\n",
       "      <th>8829</th>\n",
       "      <td>81,302</td>\n",
       "      <td>[2023-09-08 19:19:20 954]</td>\n",
       "      <td>74.0</td>\n",
       "    </tr>\n",
       "    <tr>\n",
       "      <th>8885</th>\n",
       "      <td>81,802</td>\n",
       "      <td>[2023-09-08 19:19:21 454]</td>\n",
       "      <td>74.0</td>\n",
       "    </tr>\n",
       "    <tr>\n",
       "      <th>8938</th>\n",
       "      <td>82,302</td>\n",
       "      <td>[2023-09-08 19:19:21 954]</td>\n",
       "      <td>75.0</td>\n",
       "    </tr>\n",
       "    <tr>\n",
       "      <th>8993</th>\n",
       "      <td>82,802</td>\n",
       "      <td>[2023-09-08 19:19:22 454]</td>\n",
       "      <td>75.0</td>\n",
       "    </tr>\n",
       "    <tr>\n",
       "      <th>...</th>\n",
       "      <td>...</td>\n",
       "      <td>...</td>\n",
       "      <td>...</td>\n",
       "    </tr>\n",
       "    <tr>\n",
       "      <th>1040981</th>\n",
       "      <td>9217,814</td>\n",
       "      <td>[2023-09-08 21:51:37 466]</td>\n",
       "      <td>118.0</td>\n",
       "    </tr>\n",
       "    <tr>\n",
       "      <th>1041038</th>\n",
       "      <td>9218,313</td>\n",
       "      <td>[2023-09-08 21:51:37 965]</td>\n",
       "      <td>118.0</td>\n",
       "    </tr>\n",
       "    <tr>\n",
       "      <th>1041094</th>\n",
       "      <td>9218,816</td>\n",
       "      <td>[2023-09-08 21:51:38 468]</td>\n",
       "      <td>118.0</td>\n",
       "    </tr>\n",
       "    <tr>\n",
       "      <th>1041150</th>\n",
       "      <td>9219,316</td>\n",
       "      <td>[2023-09-08 21:51:38 968]</td>\n",
       "      <td>118.0</td>\n",
       "    </tr>\n",
       "    <tr>\n",
       "      <th>1041207</th>\n",
       "      <td>9219,816</td>\n",
       "      <td>[2023-09-08 21:51:39 468]</td>\n",
       "      <td>118.0</td>\n",
       "    </tr>\n",
       "  </tbody>\n",
       "</table>\n",
       "<p>17520 rows × 3 columns</p>\n",
       "</div>"
      ],
      "text/plain": [
       "        Seconds from Start                  Date Time  HR (bpm)\n",
       "8771                80,802  [2023-09-08 19:19:20 454]      74.0\n",
       "8829                81,302  [2023-09-08 19:19:20 954]      74.0\n",
       "8885                81,802  [2023-09-08 19:19:21 454]      74.0\n",
       "8938                82,302  [2023-09-08 19:19:21 954]      75.0\n",
       "8993                82,802  [2023-09-08 19:19:22 454]      75.0\n",
       "...                    ...                        ...       ...\n",
       "1040981           9217,814  [2023-09-08 21:51:37 466]     118.0\n",
       "1041038           9218,313  [2023-09-08 21:51:37 965]     118.0\n",
       "1041094           9218,816  [2023-09-08 21:51:38 468]     118.0\n",
       "1041150           9219,316  [2023-09-08 21:51:38 968]     118.0\n",
       "1041207           9219,816  [2023-09-08 21:51:39 468]     118.0\n",
       "\n",
       "[17520 rows x 3 columns]"
      ]
     },
     "execution_count": 13,
     "metadata": {},
     "output_type": "execute_result"
    }
   ],
   "source": [
    "hr = df[~df['HR (bpm)'].isnull()][['Seconds from Start', 'Date Time', 'HR (bpm)']]\n",
    "hr"
   ]
  },
  {
   "cell_type": "markdown",
   "id": "a42cbe6e-eee6-4264-a3c8-7d2ba1786b73",
   "metadata": {},
   "source": [
    "Se cambia el nombre de las variables"
   ]
  },
  {
   "cell_type": "code",
   "execution_count": 14,
   "id": "8b73d71a-f788-4777-b1d9-16a5505e95e2",
   "metadata": {},
   "outputs": [],
   "source": [
    "hr.columns = ['seconds', 'date', 'hr']"
   ]
  },
  {
   "cell_type": "code",
   "execution_count": 15,
   "id": "b8e4385c-bbf3-4410-ad88-4f77ddb6e4a1",
   "metadata": {},
   "outputs": [
    {
     "data": {
      "text/plain": [
       "Index(['seconds', 'date', 'hr'], dtype='object')"
      ]
     },
     "execution_count": 15,
     "metadata": {},
     "output_type": "execute_result"
    }
   ],
   "source": [
    "hr.columns "
   ]
  },
  {
   "cell_type": "markdown",
   "id": "4944adfc-47c5-479e-8f5d-4aa719cfdc5d",
   "metadata": {},
   "source": [
    "Se guarda el conjunto de datos resultante"
   ]
  },
  {
   "cell_type": "code",
   "execution_count": 16,
   "id": "24a21b11-ff8f-43c5-bbf5-6bc5408d3bdf",
   "metadata": {},
   "outputs": [
    {
     "name": "stdout",
     "output_type": "stream",
     "text": [
      "arrojeria_esther_hr.csv\n"
     ]
    }
   ],
   "source": [
    "FILE_NAME = f'{player_name}_hr.csv'\n",
    "print(FILE_NAME)"
   ]
  },
  {
   "cell_type": "code",
   "execution_count": 17,
   "id": "203e6f64-8228-4a1e-9fba-76e76cc5187e",
   "metadata": {},
   "outputs": [],
   "source": [
    "hr.to_csv(f'../../../../datasets/study-players/{record_date}/{FILE_NAME}')"
   ]
  },
  {
   "cell_type": "markdown",
   "id": "9f21784d-2224-4e97-ac65-b6ab81da3080",
   "metadata": {},
   "source": [
    "Ahora hay que obtener la carga de actividad"
   ]
  },
  {
   "cell_type": "code",
   "execution_count": 18,
   "id": "6ae06f41-7d9d-4ffc-ac10-853be155e6bd",
   "metadata": {},
   "outputs": [
    {
     "data": {
      "text/html": [
       "<div>\n",
       "<style scoped>\n",
       "    .dataframe tbody tr th:only-of-type {\n",
       "        vertical-align: middle;\n",
       "    }\n",
       "\n",
       "    .dataframe tbody tr th {\n",
       "        vertical-align: top;\n",
       "    }\n",
       "\n",
       "    .dataframe thead th {\n",
       "        text-align: right;\n",
       "    }\n",
       "</style>\n",
       "<table border=\"1\" class=\"dataframe\">\n",
       "  <thead>\n",
       "    <tr style=\"text-align: right;\">\n",
       "      <th></th>\n",
       "      <th>Seconds from Start</th>\n",
       "      <th>Date Time</th>\n",
       "      <th>ActivityLoad 2D</th>\n",
       "      <th>ActivityLoad 3D</th>\n",
       "    </tr>\n",
       "  </thead>\n",
       "  <tbody>\n",
       "    <tr>\n",
       "      <th>79</th>\n",
       "      <td>1,790</td>\n",
       "      <td>[2023-09-08 19:18:01 442]</td>\n",
       "      <td>0,0088</td>\n",
       "      <td>0,0097</td>\n",
       "    </tr>\n",
       "    <tr>\n",
       "      <th>185</th>\n",
       "      <td>2,790</td>\n",
       "      <td>[2023-09-08 19:18:02 442]</td>\n",
       "      <td>0,0018</td>\n",
       "      <td>0,0025</td>\n",
       "    </tr>\n",
       "    <tr>\n",
       "      <th>295</th>\n",
       "      <td>3,790</td>\n",
       "      <td>[2023-09-08 19:18:03 442]</td>\n",
       "      <td>0,0018</td>\n",
       "      <td>0,0029</td>\n",
       "    </tr>\n",
       "    <tr>\n",
       "      <th>406</th>\n",
       "      <td>4,790</td>\n",
       "      <td>[2023-09-08 19:18:04 442]</td>\n",
       "      <td>0,0042</td>\n",
       "      <td>0,0051</td>\n",
       "    </tr>\n",
       "    <tr>\n",
       "      <th>517</th>\n",
       "      <td>5,790</td>\n",
       "      <td>[2023-09-08 19:18:05 442]</td>\n",
       "      <td>0,0031</td>\n",
       "      <td>0,0041</td>\n",
       "    </tr>\n",
       "    <tr>\n",
       "      <th>...</th>\n",
       "      <td>...</td>\n",
       "      <td>...</td>\n",
       "      <td>...</td>\n",
       "      <td>...</td>\n",
       "    </tr>\n",
       "    <tr>\n",
       "      <th>1040832</th>\n",
       "      <td>9216,491</td>\n",
       "      <td>[2023-09-08 21:51:36 143]</td>\n",
       "      <td>0,0629</td>\n",
       "      <td>0,0877</td>\n",
       "    </tr>\n",
       "    <tr>\n",
       "      <th>1040947</th>\n",
       "      <td>9217,508</td>\n",
       "      <td>[2023-09-08 21:51:37 160]</td>\n",
       "      <td>0,0625</td>\n",
       "      <td>0,0701</td>\n",
       "    </tr>\n",
       "    <tr>\n",
       "      <th>1041060</th>\n",
       "      <td>9218,508</td>\n",
       "      <td>[2023-09-08 21:51:38 160]</td>\n",
       "      <td>0,1106</td>\n",
       "      <td>0,1324</td>\n",
       "    </tr>\n",
       "    <tr>\n",
       "      <th>1041172</th>\n",
       "      <td>9219,510</td>\n",
       "      <td>[2023-09-08 21:51:39 162]</td>\n",
       "      <td>0,0215</td>\n",
       "      <td>0,024</td>\n",
       "    </tr>\n",
       "    <tr>\n",
       "      <th>1041280</th>\n",
       "      <td>9220,510</td>\n",
       "      <td>[2023-09-08 21:51:40 162]</td>\n",
       "      <td>0,0116</td>\n",
       "      <td>0,0131</td>\n",
       "    </tr>\n",
       "  </tbody>\n",
       "</table>\n",
       "<p>9195 rows × 4 columns</p>\n",
       "</div>"
      ],
      "text/plain": [
       "        Seconds from Start                  Date Time ActivityLoad 2D  \\\n",
       "79                   1,790  [2023-09-08 19:18:01 442]          0,0088   \n",
       "185                  2,790  [2023-09-08 19:18:02 442]          0,0018   \n",
       "295                  3,790  [2023-09-08 19:18:03 442]          0,0018   \n",
       "406                  4,790  [2023-09-08 19:18:04 442]          0,0042   \n",
       "517                  5,790  [2023-09-08 19:18:05 442]          0,0031   \n",
       "...                    ...                        ...             ...   \n",
       "1040832           9216,491  [2023-09-08 21:51:36 143]          0,0629   \n",
       "1040947           9217,508  [2023-09-08 21:51:37 160]          0,0625   \n",
       "1041060           9218,508  [2023-09-08 21:51:38 160]          0,1106   \n",
       "1041172           9219,510  [2023-09-08 21:51:39 162]          0,0215   \n",
       "1041280           9220,510  [2023-09-08 21:51:40 162]          0,0116   \n",
       "\n",
       "        ActivityLoad 3D  \n",
       "79               0,0097  \n",
       "185              0,0025  \n",
       "295              0,0029  \n",
       "406              0,0051  \n",
       "517              0,0041  \n",
       "...                 ...  \n",
       "1040832          0,0877  \n",
       "1040947          0,0701  \n",
       "1041060          0,1324  \n",
       "1041172           0,024  \n",
       "1041280          0,0131  \n",
       "\n",
       "[9195 rows x 4 columns]"
      ]
     },
     "execution_count": 18,
     "metadata": {},
     "output_type": "execute_result"
    }
   ],
   "source": [
    "activity = df[~df['ActivityLoad 2D'].isnull() & ~df['ActivityLoad 3D'].isnull()][['Seconds from Start', 'Date Time', 'ActivityLoad 2D', 'ActivityLoad 3D']]\n",
    "activity"
   ]
  },
  {
   "cell_type": "markdown",
   "id": "748c489d-e560-4e91-a3d3-c5e1ea31897d",
   "metadata": {},
   "source": [
    "Se cambia el nombre de las variables"
   ]
  },
  {
   "cell_type": "code",
   "execution_count": 19,
   "id": "fec0d9eb-dfc2-4e3a-9bba-f85ec7f4755d",
   "metadata": {},
   "outputs": [],
   "source": [
    "activity.columns = ['seconds', 'date', 'activity_load_2d','activity_load_3d']"
   ]
  },
  {
   "cell_type": "code",
   "execution_count": 20,
   "id": "439b3765-3fca-473f-8629-e21d4e30fbb6",
   "metadata": {},
   "outputs": [
    {
     "data": {
      "text/plain": [
       "Index(['seconds', 'date', 'activity_load_2d', 'activity_load_3d'], dtype='object')"
      ]
     },
     "execution_count": 20,
     "metadata": {},
     "output_type": "execute_result"
    }
   ],
   "source": [
    "activity.columns"
   ]
  },
  {
   "cell_type": "markdown",
   "id": "b8341d2c-d720-4b23-bfeb-f10925fd8bbd",
   "metadata": {},
   "source": [
    "Se guarda el conjunto de datos resultante"
   ]
  },
  {
   "cell_type": "code",
   "execution_count": 21,
   "id": "d8753bf2-7539-479a-842c-371720e74b33",
   "metadata": {},
   "outputs": [
    {
     "name": "stdout",
     "output_type": "stream",
     "text": [
      "arrojeria_esther_activity_load.csv\n"
     ]
    }
   ],
   "source": [
    "FILE_NAME = f'{player_name}_activity_load.csv'\n",
    "print(FILE_NAME)"
   ]
  },
  {
   "cell_type": "code",
   "execution_count": 22,
   "id": "a4b0a62a-cfa7-4a90-a07a-dd5c6f86ff38",
   "metadata": {},
   "outputs": [],
   "source": [
    "activity.to_csv(f'../../../../datasets/study-players/{record_date}/{FILE_NAME}')"
   ]
  },
  {
   "cell_type": "code",
   "execution_count": null,
   "id": "606ab72c-4c51-4195-8d2f-c72c11ee7a67",
   "metadata": {},
   "outputs": [],
   "source": []
  }
 ],
 "metadata": {
  "kernelspec": {
   "display_name": "Python 3 (ipykernel)",
   "language": "python",
   "name": "python3"
  },
  "language_info": {
   "codemirror_mode": {
    "name": "ipython",
    "version": 3
   },
   "file_extension": ".py",
   "mimetype": "text/x-python",
   "name": "python",
   "nbconvert_exporter": "python",
   "pygments_lexer": "ipython3",
   "version": "3.9.2"
  }
 },
 "nbformat": 4,
 "nbformat_minor": 5
}
