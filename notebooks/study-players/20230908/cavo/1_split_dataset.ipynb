{
 "cells": [
  {
   "cell_type": "code",
   "execution_count": 1,
   "id": "c153de9e-d8ac-47c9-87cb-c00c9aeaadce",
   "metadata": {},
   "outputs": [],
   "source": [
    "import pandas as pd"
   ]
  },
  {
   "cell_type": "code",
   "execution_count": 2,
   "id": "b860016b-42d1-424f-b068-8c2af1ccb04c",
   "metadata": {},
   "outputs": [],
   "source": [
    "ORIGINAL_DATA_FILE_DIR = '../../../../datasets/original-data/Exported Data_202309081718_Cavo, Malena.csv'"
   ]
  },
  {
   "cell_type": "markdown",
   "id": "7c9becfe-f478-4f49-8b3b-7d1d9c6e7eb7",
   "metadata": {},
   "source": [
    "Las primeras 6 filas es información de la captura de datos"
   ]
  },
  {
   "cell_type": "code",
   "execution_count": 3,
   "id": "9c2ccd45-e678-4411-8634-350fb581e04e",
   "metadata": {},
   "outputs": [],
   "source": [
    "with open(ORIGINAL_DATA_FILE_DIR, 'r') as file:\n",
    "    # Lee todas las líneas del archivo en una lista\n",
    "    lines = file.readlines()"
   ]
  },
  {
   "cell_type": "code",
   "execution_count": 6,
   "id": "a24cd4f0-e2f7-4ee9-825d-ef4857e22b7a",
   "metadata": {},
   "outputs": [
    {
     "data": {
      "text/plain": [
       "['\\ufeffExported Sensor Data, Version 2\\n',\n",
       " 'Start Time: ,[2023-09-08 19:18:53 137],Cavo  Malena\\n',\n",
       " '\\n',\n",
       " '\\n',\n",
       " 'Seconds from Start,Date Time,Speed (km/h),HR (bpm),Core Temperature °C,X accelerometer (Sideways),Y accelerometer (Forward),Z accelerometer (Vertical),Raw RR (ms),Filtered RR (ms),Difference,HR RMSSD,ActivityLoad 2D,ActivityLoad 3D\\n']"
      ]
     },
     "execution_count": 6,
     "metadata": {},
     "output_type": "execute_result"
    }
   ],
   "source": [
    "lines[:4]"
   ]
  },
  {
   "cell_type": "code",
   "execution_count": 7,
   "id": "4946182b-ed25-4756-ac1b-5dec2c600a29",
   "metadata": {},
   "outputs": [],
   "source": [
    "skip_rows = 4"
   ]
  },
  {
   "cell_type": "markdown",
   "id": "8e65afb4-fb5d-43cf-a5f1-2d333c3458c6",
   "metadata": {},
   "source": [
    "Inicio de la captura, nombre de la jugadora, tipo, nombre, inicio y fin"
   ]
  },
  {
   "cell_type": "code",
   "execution_count": 8,
   "id": "c04eeba8-d11b-48d6-90a8-02d08d5c8e88",
   "metadata": {},
   "outputs": [],
   "source": [
    "player_name = 'cavo_malena'"
   ]
  },
  {
   "cell_type": "code",
   "execution_count": 9,
   "id": "5472f12d-dc32-430b-af61-08d44004e3ea",
   "metadata": {},
   "outputs": [],
   "source": [
    "record_date = '20230908'"
   ]
  },
  {
   "cell_type": "code",
   "execution_count": 10,
   "id": "9214d4b4-a21b-49ae-a813-575e50a50178",
   "metadata": {},
   "outputs": [
    {
     "data": {
      "text/html": [
       "<div>\n",
       "<style scoped>\n",
       "    .dataframe tbody tr th:only-of-type {\n",
       "        vertical-align: middle;\n",
       "    }\n",
       "\n",
       "    .dataframe tbody tr th {\n",
       "        vertical-align: top;\n",
       "    }\n",
       "\n",
       "    .dataframe thead th {\n",
       "        text-align: right;\n",
       "    }\n",
       "</style>\n",
       "<table border=\"1\" class=\"dataframe\">\n",
       "  <thead>\n",
       "    <tr style=\"text-align: right;\">\n",
       "      <th></th>\n",
       "      <th>Seconds from Start</th>\n",
       "      <th>Date Time</th>\n",
       "      <th>Speed (km/h)</th>\n",
       "      <th>HR (bpm)</th>\n",
       "      <th>Core Temperature °C</th>\n",
       "      <th>X accelerometer (Sideways)</th>\n",
       "      <th>Y accelerometer (Forward)</th>\n",
       "      <th>Z accelerometer (Vertical)</th>\n",
       "      <th>Raw RR (ms)</th>\n",
       "      <th>Filtered RR (ms)</th>\n",
       "      <th>Difference</th>\n",
       "      <th>HR RMSSD</th>\n",
       "      <th>ActivityLoad 2D</th>\n",
       "      <th>ActivityLoad 3D</th>\n",
       "    </tr>\n",
       "  </thead>\n",
       "  <tbody>\n",
       "    <tr>\n",
       "      <th>0</th>\n",
       "      <td>1,001</td>\n",
       "      <td>[2023-09-08 19:18:54 138]</td>\n",
       "      <td>0</td>\n",
       "      <td>NaN</td>\n",
       "      <td>NaN</td>\n",
       "      <td>NaN</td>\n",
       "      <td>NaN</td>\n",
       "      <td>NaN</td>\n",
       "      <td>NaN</td>\n",
       "      <td>NaN</td>\n",
       "      <td>NaN</td>\n",
       "      <td>NaN</td>\n",
       "      <td>NaN</td>\n",
       "      <td>NaN</td>\n",
       "    </tr>\n",
       "    <tr>\n",
       "      <th>1</th>\n",
       "      <td>1,102</td>\n",
       "      <td>[2023-09-08 19:18:54 239]</td>\n",
       "      <td>0</td>\n",
       "      <td>NaN</td>\n",
       "      <td>NaN</td>\n",
       "      <td>NaN</td>\n",
       "      <td>NaN</td>\n",
       "      <td>NaN</td>\n",
       "      <td>NaN</td>\n",
       "      <td>NaN</td>\n",
       "      <td>NaN</td>\n",
       "      <td>NaN</td>\n",
       "      <td>NaN</td>\n",
       "      <td>NaN</td>\n",
       "    </tr>\n",
       "    <tr>\n",
       "      <th>2</th>\n",
       "      <td>1,129</td>\n",
       "      <td>[2023-09-08 19:18:54 266]</td>\n",
       "      <td>NaN</td>\n",
       "      <td>NaN</td>\n",
       "      <td>NaN</td>\n",
       "      <td>0</td>\n",
       "      <td>-9,9531</td>\n",
       "      <td>-9,5037</td>\n",
       "      <td>NaN</td>\n",
       "      <td>NaN</td>\n",
       "      <td>NaN</td>\n",
       "      <td>NaN</td>\n",
       "      <td>NaN</td>\n",
       "      <td>NaN</td>\n",
       "    </tr>\n",
       "    <tr>\n",
       "      <th>3</th>\n",
       "      <td>1,139</td>\n",
       "      <td>[2023-09-08 19:18:54 276]</td>\n",
       "      <td>NaN</td>\n",
       "      <td>NaN</td>\n",
       "      <td>NaN</td>\n",
       "      <td>0</td>\n",
       "      <td>-9,8</td>\n",
       "      <td>-9,5037</td>\n",
       "      <td>NaN</td>\n",
       "      <td>NaN</td>\n",
       "      <td>NaN</td>\n",
       "      <td>NaN</td>\n",
       "      <td>NaN</td>\n",
       "      <td>NaN</td>\n",
       "    </tr>\n",
       "    <tr>\n",
       "      <th>4</th>\n",
       "      <td>1,148</td>\n",
       "      <td>[2023-09-08 19:18:54 285]</td>\n",
       "      <td>NaN</td>\n",
       "      <td>NaN</td>\n",
       "      <td>NaN</td>\n",
       "      <td>0</td>\n",
       "      <td>-9,9531</td>\n",
       "      <td>-9,5037</td>\n",
       "      <td>NaN</td>\n",
       "      <td>NaN</td>\n",
       "      <td>NaN</td>\n",
       "      <td>NaN</td>\n",
       "      <td>NaN</td>\n",
       "      <td>NaN</td>\n",
       "    </tr>\n",
       "  </tbody>\n",
       "</table>\n",
       "</div>"
      ],
      "text/plain": [
       "  Seconds from Start                  Date Time Speed (km/h)  HR (bpm)  \\\n",
       "0              1,001  [2023-09-08 19:18:54 138]            0       NaN   \n",
       "1              1,102  [2023-09-08 19:18:54 239]            0       NaN   \n",
       "2              1,129  [2023-09-08 19:18:54 266]          NaN       NaN   \n",
       "3              1,139  [2023-09-08 19:18:54 276]          NaN       NaN   \n",
       "4              1,148  [2023-09-08 19:18:54 285]          NaN       NaN   \n",
       "\n",
       "  Core Temperature °C X accelerometer (Sideways) Y accelerometer (Forward)  \\\n",
       "0                 NaN                        NaN                       NaN   \n",
       "1                 NaN                        NaN                       NaN   \n",
       "2                 NaN                          0                   -9,9531   \n",
       "3                 NaN                          0                      -9,8   \n",
       "4                 NaN                          0                   -9,9531   \n",
       "\n",
       "  Z accelerometer (Vertical)  Raw RR (ms)  Filtered RR (ms)  Difference  \\\n",
       "0                        NaN          NaN               NaN         NaN   \n",
       "1                        NaN          NaN               NaN         NaN   \n",
       "2                    -9,5037          NaN               NaN         NaN   \n",
       "3                    -9,5037          NaN               NaN         NaN   \n",
       "4                    -9,5037          NaN               NaN         NaN   \n",
       "\n",
       "  HR RMSSD ActivityLoad 2D ActivityLoad 3D  \n",
       "0      NaN             NaN             NaN  \n",
       "1      NaN             NaN             NaN  \n",
       "2      NaN             NaN             NaN  \n",
       "3      NaN             NaN             NaN  \n",
       "4      NaN             NaN             NaN  "
      ]
     },
     "execution_count": 10,
     "metadata": {},
     "output_type": "execute_result"
    }
   ],
   "source": [
    "df = pd.read_csv(ORIGINAL_DATA_FILE_DIR,skiprows=skip_rows)\n",
    "df.head()"
   ]
  },
  {
   "cell_type": "markdown",
   "id": "52bcb337-3ad6-431d-bc34-bd9ca024eb99",
   "metadata": {},
   "source": [
    "Debemos obtener la información relevante:\n",
    "* Seconds from Start\n",
    "* Date Time\n",
    "* HR (bpm)\n",
    "* ActivityLoad 2D\n",
    "* ActivityLoad 3D"
   ]
  },
  {
   "cell_type": "code",
   "execution_count": 11,
   "id": "fbf9ea16-4dee-49d8-881a-68500f993ae0",
   "metadata": {},
   "outputs": [
    {
     "data": {
      "text/html": [
       "<div>\n",
       "<style scoped>\n",
       "    .dataframe tbody tr th:only-of-type {\n",
       "        vertical-align: middle;\n",
       "    }\n",
       "\n",
       "    .dataframe tbody tr th {\n",
       "        vertical-align: top;\n",
       "    }\n",
       "\n",
       "    .dataframe thead th {\n",
       "        text-align: right;\n",
       "    }\n",
       "</style>\n",
       "<table border=\"1\" class=\"dataframe\">\n",
       "  <thead>\n",
       "    <tr style=\"text-align: right;\">\n",
       "      <th></th>\n",
       "      <th>Seconds from Start</th>\n",
       "      <th>Date Time</th>\n",
       "      <th>HR (bpm)</th>\n",
       "    </tr>\n",
       "  </thead>\n",
       "  <tbody>\n",
       "    <tr>\n",
       "      <th>10684</th>\n",
       "      <td>98,302</td>\n",
       "      <td>[2023-09-08 19:20:31 439]</td>\n",
       "      <td>80.0</td>\n",
       "    </tr>\n",
       "    <tr>\n",
       "      <th>10741</th>\n",
       "      <td>98,802</td>\n",
       "      <td>[2023-09-08 19:20:31 939]</td>\n",
       "      <td>80.0</td>\n",
       "    </tr>\n",
       "    <tr>\n",
       "      <th>10799</th>\n",
       "      <td>99,302</td>\n",
       "      <td>[2023-09-08 19:20:32 439]</td>\n",
       "      <td>81.0</td>\n",
       "    </tr>\n",
       "    <tr>\n",
       "      <th>10856</th>\n",
       "      <td>99,802</td>\n",
       "      <td>[2023-09-08 19:20:32 939]</td>\n",
       "      <td>82.0</td>\n",
       "    </tr>\n",
       "    <tr>\n",
       "      <th>10910</th>\n",
       "      <td>100,302</td>\n",
       "      <td>[2023-09-08 19:20:33 439]</td>\n",
       "      <td>84.0</td>\n",
       "    </tr>\n",
       "    <tr>\n",
       "      <th>...</th>\n",
       "      <td>...</td>\n",
       "      <td>...</td>\n",
       "      <td>...</td>\n",
       "    </tr>\n",
       "    <tr>\n",
       "      <th>976599</th>\n",
       "      <td>8556,556</td>\n",
       "      <td>[2023-09-08 21:41:29 693]</td>\n",
       "      <td>128.0</td>\n",
       "    </tr>\n",
       "    <tr>\n",
       "      <th>976656</th>\n",
       "      <td>8557,056</td>\n",
       "      <td>[2023-09-08 21:41:30 193]</td>\n",
       "      <td>128.0</td>\n",
       "    </tr>\n",
       "    <tr>\n",
       "      <th>976712</th>\n",
       "      <td>8557,556</td>\n",
       "      <td>[2023-09-08 21:41:30 693]</td>\n",
       "      <td>128.0</td>\n",
       "    </tr>\n",
       "    <tr>\n",
       "      <th>976767</th>\n",
       "      <td>8558,056</td>\n",
       "      <td>[2023-09-08 21:41:31 193]</td>\n",
       "      <td>128.0</td>\n",
       "    </tr>\n",
       "    <tr>\n",
       "      <th>976823</th>\n",
       "      <td>8558,556</td>\n",
       "      <td>[2023-09-08 21:41:31 693]</td>\n",
       "      <td>128.0</td>\n",
       "    </tr>\n",
       "  </tbody>\n",
       "</table>\n",
       "<p>16794 rows × 3 columns</p>\n",
       "</div>"
      ],
      "text/plain": [
       "       Seconds from Start                  Date Time  HR (bpm)\n",
       "10684              98,302  [2023-09-08 19:20:31 439]      80.0\n",
       "10741              98,802  [2023-09-08 19:20:31 939]      80.0\n",
       "10799              99,302  [2023-09-08 19:20:32 439]      81.0\n",
       "10856              99,802  [2023-09-08 19:20:32 939]      82.0\n",
       "10910             100,302  [2023-09-08 19:20:33 439]      84.0\n",
       "...                   ...                        ...       ...\n",
       "976599           8556,556  [2023-09-08 21:41:29 693]     128.0\n",
       "976656           8557,056  [2023-09-08 21:41:30 193]     128.0\n",
       "976712           8557,556  [2023-09-08 21:41:30 693]     128.0\n",
       "976767           8558,056  [2023-09-08 21:41:31 193]     128.0\n",
       "976823           8558,556  [2023-09-08 21:41:31 693]     128.0\n",
       "\n",
       "[16794 rows x 3 columns]"
      ]
     },
     "execution_count": 11,
     "metadata": {},
     "output_type": "execute_result"
    }
   ],
   "source": [
    "hr = df[~df['HR (bpm)'].isnull()][['Seconds from Start', 'Date Time', 'HR (bpm)']]\n",
    "hr"
   ]
  },
  {
   "cell_type": "markdown",
   "id": "a42cbe6e-eee6-4264-a3c8-7d2ba1786b73",
   "metadata": {},
   "source": [
    "Se cambia el nombre de las variables"
   ]
  },
  {
   "cell_type": "code",
   "execution_count": 12,
   "id": "8b73d71a-f788-4777-b1d9-16a5505e95e2",
   "metadata": {},
   "outputs": [],
   "source": [
    "hr.columns = ['seconds', 'date', 'hr']"
   ]
  },
  {
   "cell_type": "code",
   "execution_count": 13,
   "id": "b8e4385c-bbf3-4410-ad88-4f77ddb6e4a1",
   "metadata": {},
   "outputs": [
    {
     "data": {
      "text/plain": [
       "Index(['seconds', 'date', 'hr'], dtype='object')"
      ]
     },
     "execution_count": 13,
     "metadata": {},
     "output_type": "execute_result"
    }
   ],
   "source": [
    "hr.columns "
   ]
  },
  {
   "cell_type": "markdown",
   "id": "4944adfc-47c5-479e-8f5d-4aa719cfdc5d",
   "metadata": {},
   "source": [
    "Se guarda el conjunto de datos resultante"
   ]
  },
  {
   "cell_type": "code",
   "execution_count": 14,
   "id": "24a21b11-ff8f-43c5-bbf5-6bc5408d3bdf",
   "metadata": {},
   "outputs": [
    {
     "name": "stdout",
     "output_type": "stream",
     "text": [
      "cavo_malena_hr.csv\n"
     ]
    }
   ],
   "source": [
    "FILE_NAME = f'{player_name}_hr.csv'\n",
    "print(FILE_NAME)"
   ]
  },
  {
   "cell_type": "code",
   "execution_count": 15,
   "id": "203e6f64-8228-4a1e-9fba-76e76cc5187e",
   "metadata": {},
   "outputs": [],
   "source": [
    "hr.to_csv(f'../../../../datasets/study-players/{record_date}/{FILE_NAME}')"
   ]
  },
  {
   "cell_type": "markdown",
   "id": "9f21784d-2224-4e97-ac65-b6ab81da3080",
   "metadata": {},
   "source": [
    "Ahora hay que obtener la carga de actividad"
   ]
  },
  {
   "cell_type": "code",
   "execution_count": 16,
   "id": "6ae06f41-7d9d-4ffc-ac10-853be155e6bd",
   "metadata": {},
   "outputs": [
    {
     "data": {
      "text/html": [
       "<div>\n",
       "<style scoped>\n",
       "    .dataframe tbody tr th:only-of-type {\n",
       "        vertical-align: middle;\n",
       "    }\n",
       "\n",
       "    .dataframe tbody tr th {\n",
       "        vertical-align: top;\n",
       "    }\n",
       "\n",
       "    .dataframe thead th {\n",
       "        text-align: right;\n",
       "    }\n",
       "</style>\n",
       "<table border=\"1\" class=\"dataframe\">\n",
       "  <thead>\n",
       "    <tr style=\"text-align: right;\">\n",
       "      <th></th>\n",
       "      <th>Seconds from Start</th>\n",
       "      <th>Date Time</th>\n",
       "      <th>ActivityLoad 2D</th>\n",
       "      <th>ActivityLoad 3D</th>\n",
       "    </tr>\n",
       "  </thead>\n",
       "  <tbody>\n",
       "    <tr>\n",
       "      <th>72</th>\n",
       "      <td>1,765</td>\n",
       "      <td>[2023-09-08 19:18:54 902]</td>\n",
       "      <td>0,005</td>\n",
       "      <td>0,0055</td>\n",
       "    </tr>\n",
       "    <tr>\n",
       "      <th>181</th>\n",
       "      <td>2,765</td>\n",
       "      <td>[2023-09-08 19:18:55 902]</td>\n",
       "      <td>0,0019</td>\n",
       "      <td>0,0022</td>\n",
       "    </tr>\n",
       "    <tr>\n",
       "      <th>291</th>\n",
       "      <td>3,765</td>\n",
       "      <td>[2023-09-08 19:18:56 902]</td>\n",
       "      <td>0,0022</td>\n",
       "      <td>0,0025</td>\n",
       "    </tr>\n",
       "    <tr>\n",
       "      <th>402</th>\n",
       "      <td>4,765</td>\n",
       "      <td>[2023-09-08 19:18:57 902]</td>\n",
       "      <td>0,002</td>\n",
       "      <td>0,0023</td>\n",
       "    </tr>\n",
       "    <tr>\n",
       "      <th>513</th>\n",
       "      <td>5,765</td>\n",
       "      <td>[2023-09-08 19:18:58 902]</td>\n",
       "      <td>0,0022</td>\n",
       "      <td>0,0025</td>\n",
       "    </tr>\n",
       "    <tr>\n",
       "      <th>...</th>\n",
       "      <td>...</td>\n",
       "      <td>...</td>\n",
       "      <td>...</td>\n",
       "      <td>...</td>\n",
       "    </tr>\n",
       "    <tr>\n",
       "      <th>976473</th>\n",
       "      <td>8555,447</td>\n",
       "      <td>[2023-09-08 21:41:28 584]</td>\n",
       "      <td>0,0703</td>\n",
       "      <td>0,0863</td>\n",
       "    </tr>\n",
       "    <tr>\n",
       "      <th>976587</th>\n",
       "      <td>8556,447</td>\n",
       "      <td>[2023-09-08 21:41:29 584]</td>\n",
       "      <td>0,0863</td>\n",
       "      <td>0,1167</td>\n",
       "    </tr>\n",
       "    <tr>\n",
       "      <th>976699</th>\n",
       "      <td>8557,447</td>\n",
       "      <td>[2023-09-08 21:41:30 584]</td>\n",
       "      <td>0,0561</td>\n",
       "      <td>0,0723</td>\n",
       "    </tr>\n",
       "    <tr>\n",
       "      <th>976810</th>\n",
       "      <td>8558,447</td>\n",
       "      <td>[2023-09-08 21:41:31 584]</td>\n",
       "      <td>0,0435</td>\n",
       "      <td>0,0454</td>\n",
       "    </tr>\n",
       "    <tr>\n",
       "      <th>976921</th>\n",
       "      <td>8559,447</td>\n",
       "      <td>[2023-09-08 21:41:32 584]</td>\n",
       "      <td>0,0206</td>\n",
       "      <td>0,0219</td>\n",
       "    </tr>\n",
       "  </tbody>\n",
       "</table>\n",
       "<p>8536 rows × 4 columns</p>\n",
       "</div>"
      ],
      "text/plain": [
       "       Seconds from Start                  Date Time ActivityLoad 2D  \\\n",
       "72                  1,765  [2023-09-08 19:18:54 902]           0,005   \n",
       "181                 2,765  [2023-09-08 19:18:55 902]          0,0019   \n",
       "291                 3,765  [2023-09-08 19:18:56 902]          0,0022   \n",
       "402                 4,765  [2023-09-08 19:18:57 902]           0,002   \n",
       "513                 5,765  [2023-09-08 19:18:58 902]          0,0022   \n",
       "...                   ...                        ...             ...   \n",
       "976473           8555,447  [2023-09-08 21:41:28 584]          0,0703   \n",
       "976587           8556,447  [2023-09-08 21:41:29 584]          0,0863   \n",
       "976699           8557,447  [2023-09-08 21:41:30 584]          0,0561   \n",
       "976810           8558,447  [2023-09-08 21:41:31 584]          0,0435   \n",
       "976921           8559,447  [2023-09-08 21:41:32 584]          0,0206   \n",
       "\n",
       "       ActivityLoad 3D  \n",
       "72              0,0055  \n",
       "181             0,0022  \n",
       "291             0,0025  \n",
       "402             0,0023  \n",
       "513             0,0025  \n",
       "...                ...  \n",
       "976473          0,0863  \n",
       "976587          0,1167  \n",
       "976699          0,0723  \n",
       "976810          0,0454  \n",
       "976921          0,0219  \n",
       "\n",
       "[8536 rows x 4 columns]"
      ]
     },
     "execution_count": 16,
     "metadata": {},
     "output_type": "execute_result"
    }
   ],
   "source": [
    "activity = df[~df['ActivityLoad 2D'].isnull() & ~df['ActivityLoad 3D'].isnull()][['Seconds from Start', 'Date Time', 'ActivityLoad 2D', 'ActivityLoad 3D']]\n",
    "activity"
   ]
  },
  {
   "cell_type": "markdown",
   "id": "748c489d-e560-4e91-a3d3-c5e1ea31897d",
   "metadata": {},
   "source": [
    "Se cambia el nombre de las variables"
   ]
  },
  {
   "cell_type": "code",
   "execution_count": 17,
   "id": "fec0d9eb-dfc2-4e3a-9bba-f85ec7f4755d",
   "metadata": {},
   "outputs": [],
   "source": [
    "activity.columns = ['seconds', 'date', 'activity_load_2d','activity_load_3d']"
   ]
  },
  {
   "cell_type": "code",
   "execution_count": 18,
   "id": "439b3765-3fca-473f-8629-e21d4e30fbb6",
   "metadata": {},
   "outputs": [
    {
     "data": {
      "text/plain": [
       "Index(['seconds', 'date', 'activity_load_2d', 'activity_load_3d'], dtype='object')"
      ]
     },
     "execution_count": 18,
     "metadata": {},
     "output_type": "execute_result"
    }
   ],
   "source": [
    "activity.columns"
   ]
  },
  {
   "cell_type": "markdown",
   "id": "b8341d2c-d720-4b23-bfeb-f10925fd8bbd",
   "metadata": {},
   "source": [
    "Se guarda el conjunto de datos resultante"
   ]
  },
  {
   "cell_type": "code",
   "execution_count": 19,
   "id": "d8753bf2-7539-479a-842c-371720e74b33",
   "metadata": {},
   "outputs": [
    {
     "name": "stdout",
     "output_type": "stream",
     "text": [
      "cavo_malena_activity_load.csv\n"
     ]
    }
   ],
   "source": [
    "FILE_NAME = f'{player_name}_activity_load.csv'\n",
    "print(FILE_NAME)"
   ]
  },
  {
   "cell_type": "code",
   "execution_count": 20,
   "id": "a4b0a62a-cfa7-4a90-a07a-dd5c6f86ff38",
   "metadata": {},
   "outputs": [],
   "source": [
    "activity.to_csv(f'../../../../datasets/study-players/{record_date}/{FILE_NAME}')"
   ]
  },
  {
   "cell_type": "code",
   "execution_count": null,
   "id": "606ab72c-4c51-4195-8d2f-c72c11ee7a67",
   "metadata": {},
   "outputs": [],
   "source": []
  }
 ],
 "metadata": {
  "kernelspec": {
   "display_name": "Python 3 (ipykernel)",
   "language": "python",
   "name": "python3"
  },
  "language_info": {
   "codemirror_mode": {
    "name": "ipython",
    "version": 3
   },
   "file_extension": ".py",
   "mimetype": "text/x-python",
   "name": "python",
   "nbconvert_exporter": "python",
   "pygments_lexer": "ipython3",
   "version": "3.9.2"
  }
 },
 "nbformat": 4,
 "nbformat_minor": 5
}
