{
 "cells": [
  {
   "cell_type": "code",
   "execution_count": 1,
   "id": "c153de9e-d8ac-47c9-87cb-c00c9aeaadce",
   "metadata": {},
   "outputs": [],
   "source": [
    "import pandas as pd"
   ]
  },
  {
   "cell_type": "code",
   "execution_count": 2,
   "id": "b860016b-42d1-424f-b068-8c2af1ccb04c",
   "metadata": {},
   "outputs": [],
   "source": [
    "ORIGINAL_DATA_FILE_DIR = '../../../../datasets/original-data/Exported Data_202309091817_Arrojeria, Esther.csv'"
   ]
  },
  {
   "cell_type": "markdown",
   "id": "7c9becfe-f478-4f49-8b3b-7d1d9c6e7eb7",
   "metadata": {},
   "source": [
    "Las primeras 6 filas es información de la captura de datos"
   ]
  },
  {
   "cell_type": "code",
   "execution_count": 3,
   "id": "9c2ccd45-e678-4411-8634-350fb581e04e",
   "metadata": {},
   "outputs": [],
   "source": [
    "with open(ORIGINAL_DATA_FILE_DIR, 'r') as file:\n",
    "    # Lee todas las líneas del archivo en una lista\n",
    "    lines = file.readlines()"
   ]
  },
  {
   "cell_type": "code",
   "execution_count": 4,
   "id": "a24cd4f0-e2f7-4ee9-825d-ef4857e22b7a",
   "metadata": {},
   "outputs": [
    {
     "data": {
      "text/plain": [
       "['\\ufeffExported Sensor Data, Version 2\\n',\n",
       " 'Start Time: ,[2023-09-09 20:17:52 962],Arrojeria  Esther\\n',\n",
       " '\\n',\n",
       " '\\n']"
      ]
     },
     "execution_count": 4,
     "metadata": {},
     "output_type": "execute_result"
    }
   ],
   "source": [
    "lines[:4]"
   ]
  },
  {
   "cell_type": "code",
   "execution_count": 5,
   "id": "4946182b-ed25-4756-ac1b-5dec2c600a29",
   "metadata": {},
   "outputs": [],
   "source": [
    "skip_rows = 4"
   ]
  },
  {
   "cell_type": "markdown",
   "id": "8e65afb4-fb5d-43cf-a5f1-2d333c3458c6",
   "metadata": {},
   "source": [
    "Inicio de la captura, nombre de la jugadora, tipo, nombre, inicio y fin"
   ]
  },
  {
   "cell_type": "code",
   "execution_count": 6,
   "id": "c04eeba8-d11b-48d6-90a8-02d08d5c8e88",
   "metadata": {},
   "outputs": [],
   "source": [
    "player_name = 'arrojeria_esther'"
   ]
  },
  {
   "cell_type": "code",
   "execution_count": 7,
   "id": "5472f12d-dc32-430b-af61-08d44004e3ea",
   "metadata": {},
   "outputs": [],
   "source": [
    "record_date = '20230909'"
   ]
  },
  {
   "cell_type": "code",
   "execution_count": 8,
   "id": "9214d4b4-a21b-49ae-a813-575e50a50178",
   "metadata": {},
   "outputs": [
    {
     "data": {
      "text/html": [
       "<div>\n",
       "<style scoped>\n",
       "    .dataframe tbody tr th:only-of-type {\n",
       "        vertical-align: middle;\n",
       "    }\n",
       "\n",
       "    .dataframe tbody tr th {\n",
       "        vertical-align: top;\n",
       "    }\n",
       "\n",
       "    .dataframe thead th {\n",
       "        text-align: right;\n",
       "    }\n",
       "</style>\n",
       "<table border=\"1\" class=\"dataframe\">\n",
       "  <thead>\n",
       "    <tr style=\"text-align: right;\">\n",
       "      <th></th>\n",
       "      <th>Seconds from Start</th>\n",
       "      <th>Date Time</th>\n",
       "      <th>Speed (km/h)</th>\n",
       "      <th>HR (bpm)</th>\n",
       "      <th>Core Temperature °C</th>\n",
       "      <th>X accelerometer (Sideways)</th>\n",
       "      <th>Y accelerometer (Forward)</th>\n",
       "      <th>Z accelerometer (Vertical)</th>\n",
       "      <th>Raw RR (ms)</th>\n",
       "      <th>Filtered RR (ms)</th>\n",
       "      <th>Difference</th>\n",
       "      <th>HR RMSSD</th>\n",
       "      <th>ActivityLoad 2D</th>\n",
       "      <th>ActivityLoad 3D</th>\n",
       "    </tr>\n",
       "  </thead>\n",
       "  <tbody>\n",
       "    <tr>\n",
       "      <th>0</th>\n",
       "      <td>1,052</td>\n",
       "      <td>[2023-09-09 20:17:54 014]</td>\n",
       "      <td>0</td>\n",
       "      <td>NaN</td>\n",
       "      <td>NaN</td>\n",
       "      <td>NaN</td>\n",
       "      <td>NaN</td>\n",
       "      <td>NaN</td>\n",
       "      <td>NaN</td>\n",
       "      <td>NaN</td>\n",
       "      <td>NaN</td>\n",
       "      <td>NaN</td>\n",
       "      <td>NaN</td>\n",
       "      <td>NaN</td>\n",
       "    </tr>\n",
       "    <tr>\n",
       "      <th>1</th>\n",
       "      <td>1,073</td>\n",
       "      <td>[2023-09-09 20:17:54 035]</td>\n",
       "      <td>NaN</td>\n",
       "      <td>NaN</td>\n",
       "      <td>NaN</td>\n",
       "      <td>0</td>\n",
       "      <td>-9,8</td>\n",
       "      <td>-9,5037</td>\n",
       "      <td>NaN</td>\n",
       "      <td>NaN</td>\n",
       "      <td>NaN</td>\n",
       "      <td>NaN</td>\n",
       "      <td>NaN</td>\n",
       "      <td>NaN</td>\n",
       "    </tr>\n",
       "    <tr>\n",
       "      <th>2</th>\n",
       "      <td>1,083</td>\n",
       "      <td>[2023-09-09 20:17:54 045]</td>\n",
       "      <td>NaN</td>\n",
       "      <td>NaN</td>\n",
       "      <td>NaN</td>\n",
       "      <td>0</td>\n",
       "      <td>-9,8</td>\n",
       "      <td>-9,5037</td>\n",
       "      <td>NaN</td>\n",
       "      <td>NaN</td>\n",
       "      <td>NaN</td>\n",
       "      <td>NaN</td>\n",
       "      <td>NaN</td>\n",
       "      <td>NaN</td>\n",
       "    </tr>\n",
       "    <tr>\n",
       "      <th>3</th>\n",
       "      <td>1,093</td>\n",
       "      <td>[2023-09-09 20:17:54 055]</td>\n",
       "      <td>NaN</td>\n",
       "      <td>NaN</td>\n",
       "      <td>NaN</td>\n",
       "      <td>0</td>\n",
       "      <td>-9,8</td>\n",
       "      <td>-9,5037</td>\n",
       "      <td>NaN</td>\n",
       "      <td>NaN</td>\n",
       "      <td>NaN</td>\n",
       "      <td>NaN</td>\n",
       "      <td>NaN</td>\n",
       "      <td>NaN</td>\n",
       "    </tr>\n",
       "    <tr>\n",
       "      <th>4</th>\n",
       "      <td>1,103</td>\n",
       "      <td>[2023-09-09 20:17:54 065]</td>\n",
       "      <td>NaN</td>\n",
       "      <td>NaN</td>\n",
       "      <td>NaN</td>\n",
       "      <td>0</td>\n",
       "      <td>-9,8</td>\n",
       "      <td>-9,5037</td>\n",
       "      <td>NaN</td>\n",
       "      <td>NaN</td>\n",
       "      <td>NaN</td>\n",
       "      <td>NaN</td>\n",
       "      <td>NaN</td>\n",
       "      <td>NaN</td>\n",
       "    </tr>\n",
       "  </tbody>\n",
       "</table>\n",
       "</div>"
      ],
      "text/plain": [
       "  Seconds from Start                  Date Time Speed (km/h)  HR (bpm)  \\\n",
       "0              1,052  [2023-09-09 20:17:54 014]            0       NaN   \n",
       "1              1,073  [2023-09-09 20:17:54 035]          NaN       NaN   \n",
       "2              1,083  [2023-09-09 20:17:54 045]          NaN       NaN   \n",
       "3              1,093  [2023-09-09 20:17:54 055]          NaN       NaN   \n",
       "4              1,103  [2023-09-09 20:17:54 065]          NaN       NaN   \n",
       "\n",
       "  Core Temperature °C X accelerometer (Sideways) Y accelerometer (Forward)  \\\n",
       "0                 NaN                        NaN                       NaN   \n",
       "1                 NaN                          0                      -9,8   \n",
       "2                 NaN                          0                      -9,8   \n",
       "3                 NaN                          0                      -9,8   \n",
       "4                 NaN                          0                      -9,8   \n",
       "\n",
       "  Z accelerometer (Vertical)  Raw RR (ms)  Filtered RR (ms)  Difference  \\\n",
       "0                        NaN          NaN               NaN         NaN   \n",
       "1                    -9,5037          NaN               NaN         NaN   \n",
       "2                    -9,5037          NaN               NaN         NaN   \n",
       "3                    -9,5037          NaN               NaN         NaN   \n",
       "4                    -9,5037          NaN               NaN         NaN   \n",
       "\n",
       "  HR RMSSD ActivityLoad 2D ActivityLoad 3D  \n",
       "0      NaN             NaN             NaN  \n",
       "1      NaN             NaN             NaN  \n",
       "2      NaN             NaN             NaN  \n",
       "3      NaN             NaN             NaN  \n",
       "4      NaN             NaN             NaN  "
      ]
     },
     "execution_count": 8,
     "metadata": {},
     "output_type": "execute_result"
    }
   ],
   "source": [
    "df = pd.read_csv(ORIGINAL_DATA_FILE_DIR,skiprows=skip_rows)\n",
    "df.head()"
   ]
  },
  {
   "cell_type": "markdown",
   "id": "52bcb337-3ad6-431d-bc34-bd9ca024eb99",
   "metadata": {},
   "source": [
    "Debemos obtener la información relevante:\n",
    "* Seconds from Start\n",
    "* Date Time\n",
    "* HR (bpm)\n",
    "* ActivityLoad 2D\n",
    "* ActivityLoad 3D"
   ]
  },
  {
   "cell_type": "code",
   "execution_count": 9,
   "id": "fbf9ea16-4dee-49d8-881a-68500f993ae0",
   "metadata": {},
   "outputs": [
    {
     "data": {
      "text/html": [
       "<div>\n",
       "<style scoped>\n",
       "    .dataframe tbody tr th:only-of-type {\n",
       "        vertical-align: middle;\n",
       "    }\n",
       "\n",
       "    .dataframe tbody tr th {\n",
       "        vertical-align: top;\n",
       "    }\n",
       "\n",
       "    .dataframe thead th {\n",
       "        text-align: right;\n",
       "    }\n",
       "</style>\n",
       "<table border=\"1\" class=\"dataframe\">\n",
       "  <thead>\n",
       "    <tr style=\"text-align: right;\">\n",
       "      <th></th>\n",
       "      <th>Seconds from Start</th>\n",
       "      <th>Date Time</th>\n",
       "      <th>HR (bpm)</th>\n",
       "    </tr>\n",
       "  </thead>\n",
       "  <tbody>\n",
       "    <tr>\n",
       "      <th>8681</th>\n",
       "      <td>79,952</td>\n",
       "      <td>[2023-09-09 20:19:12 914]</td>\n",
       "      <td>80.0</td>\n",
       "    </tr>\n",
       "    <tr>\n",
       "      <th>8736</th>\n",
       "      <td>80,452</td>\n",
       "      <td>[2023-09-09 20:19:13 414]</td>\n",
       "      <td>80.0</td>\n",
       "    </tr>\n",
       "    <tr>\n",
       "      <th>8791</th>\n",
       "      <td>80,952</td>\n",
       "      <td>[2023-09-09 20:19:13 914]</td>\n",
       "      <td>80.0</td>\n",
       "    </tr>\n",
       "    <tr>\n",
       "      <th>8845</th>\n",
       "      <td>81,452</td>\n",
       "      <td>[2023-09-09 20:19:14 414]</td>\n",
       "      <td>81.0</td>\n",
       "    </tr>\n",
       "    <tr>\n",
       "      <th>8902</th>\n",
       "      <td>81,952</td>\n",
       "      <td>[2023-09-09 20:19:14 914]</td>\n",
       "      <td>81.0</td>\n",
       "    </tr>\n",
       "    <tr>\n",
       "      <th>...</th>\n",
       "      <td>...</td>\n",
       "      <td>...</td>\n",
       "      <td>...</td>\n",
       "    </tr>\n",
       "    <tr>\n",
       "      <th>1174142</th>\n",
       "      <td>10336,200</td>\n",
       "      <td>[2023-09-09 23:10:09 162]</td>\n",
       "      <td>99.0</td>\n",
       "    </tr>\n",
       "    <tr>\n",
       "      <th>1174198</th>\n",
       "      <td>10336,700</td>\n",
       "      <td>[2023-09-09 23:10:09 662]</td>\n",
       "      <td>98.0</td>\n",
       "    </tr>\n",
       "    <tr>\n",
       "      <th>1174254</th>\n",
       "      <td>10337,200</td>\n",
       "      <td>[2023-09-09 23:10:10 162]</td>\n",
       "      <td>98.0</td>\n",
       "    </tr>\n",
       "    <tr>\n",
       "      <th>1174311</th>\n",
       "      <td>10337,700</td>\n",
       "      <td>[2023-09-09 23:10:10 662]</td>\n",
       "      <td>98.0</td>\n",
       "    </tr>\n",
       "    <tr>\n",
       "      <th>1174367</th>\n",
       "      <td>10338,200</td>\n",
       "      <td>[2023-09-09 23:10:11 162]</td>\n",
       "      <td>98.0</td>\n",
       "    </tr>\n",
       "  </tbody>\n",
       "</table>\n",
       "<p>19953 rows × 3 columns</p>\n",
       "</div>"
      ],
      "text/plain": [
       "        Seconds from Start                  Date Time  HR (bpm)\n",
       "8681                79,952  [2023-09-09 20:19:12 914]      80.0\n",
       "8736                80,452  [2023-09-09 20:19:13 414]      80.0\n",
       "8791                80,952  [2023-09-09 20:19:13 914]      80.0\n",
       "8845                81,452  [2023-09-09 20:19:14 414]      81.0\n",
       "8902                81,952  [2023-09-09 20:19:14 914]      81.0\n",
       "...                    ...                        ...       ...\n",
       "1174142          10336,200  [2023-09-09 23:10:09 162]      99.0\n",
       "1174198          10336,700  [2023-09-09 23:10:09 662]      98.0\n",
       "1174254          10337,200  [2023-09-09 23:10:10 162]      98.0\n",
       "1174311          10337,700  [2023-09-09 23:10:10 662]      98.0\n",
       "1174367          10338,200  [2023-09-09 23:10:11 162]      98.0\n",
       "\n",
       "[19953 rows x 3 columns]"
      ]
     },
     "execution_count": 9,
     "metadata": {},
     "output_type": "execute_result"
    }
   ],
   "source": [
    "hr = df[~df['HR (bpm)'].isnull()][['Seconds from Start', 'Date Time', 'HR (bpm)']]\n",
    "hr"
   ]
  },
  {
   "cell_type": "markdown",
   "id": "a42cbe6e-eee6-4264-a3c8-7d2ba1786b73",
   "metadata": {},
   "source": [
    "Se cambia el nombre de las variables"
   ]
  },
  {
   "cell_type": "code",
   "execution_count": 10,
   "id": "8b73d71a-f788-4777-b1d9-16a5505e95e2",
   "metadata": {},
   "outputs": [],
   "source": [
    "hr.columns = ['seconds', 'date', 'hr']"
   ]
  },
  {
   "cell_type": "code",
   "execution_count": 11,
   "id": "b8e4385c-bbf3-4410-ad88-4f77ddb6e4a1",
   "metadata": {},
   "outputs": [
    {
     "data": {
      "text/plain": [
       "Index(['seconds', 'date', 'hr'], dtype='object')"
      ]
     },
     "execution_count": 11,
     "metadata": {},
     "output_type": "execute_result"
    }
   ],
   "source": [
    "hr.columns "
   ]
  },
  {
   "cell_type": "markdown",
   "id": "4944adfc-47c5-479e-8f5d-4aa719cfdc5d",
   "metadata": {},
   "source": [
    "Se guarda el conjunto de datos resultante"
   ]
  },
  {
   "cell_type": "code",
   "execution_count": 12,
   "id": "24a21b11-ff8f-43c5-bbf5-6bc5408d3bdf",
   "metadata": {},
   "outputs": [
    {
     "name": "stdout",
     "output_type": "stream",
     "text": [
      "arrojeria_esther_hr.csv\n"
     ]
    }
   ],
   "source": [
    "FILE_NAME = f'{player_name}_hr.csv'\n",
    "print(FILE_NAME)"
   ]
  },
  {
   "cell_type": "code",
   "execution_count": 13,
   "id": "203e6f64-8228-4a1e-9fba-76e76cc5187e",
   "metadata": {},
   "outputs": [],
   "source": [
    "hr.to_csv(f'../../../../datasets/study-players/{record_date}/{FILE_NAME}')"
   ]
  },
  {
   "cell_type": "markdown",
   "id": "9f21784d-2224-4e97-ac65-b6ab81da3080",
   "metadata": {},
   "source": [
    "Ahora hay que obtener la carga de actividad"
   ]
  },
  {
   "cell_type": "code",
   "execution_count": 14,
   "id": "6ae06f41-7d9d-4ffc-ac10-853be155e6bd",
   "metadata": {},
   "outputs": [
    {
     "data": {
      "text/html": [
       "<div>\n",
       "<style scoped>\n",
       "    .dataframe tbody tr th:only-of-type {\n",
       "        vertical-align: middle;\n",
       "    }\n",
       "\n",
       "    .dataframe tbody tr th {\n",
       "        vertical-align: top;\n",
       "    }\n",
       "\n",
       "    .dataframe thead th {\n",
       "        text-align: right;\n",
       "    }\n",
       "</style>\n",
       "<table border=\"1\" class=\"dataframe\">\n",
       "  <thead>\n",
       "    <tr style=\"text-align: right;\">\n",
       "      <th></th>\n",
       "      <th>Seconds from Start</th>\n",
       "      <th>Date Time</th>\n",
       "      <th>ActivityLoad 2D</th>\n",
       "      <th>ActivityLoad 3D</th>\n",
       "    </tr>\n",
       "  </thead>\n",
       "  <tbody>\n",
       "    <tr>\n",
       "      <th>74</th>\n",
       "      <td>1,772</td>\n",
       "      <td>[2023-09-09 20:17:54 734]</td>\n",
       "      <td>0,0053</td>\n",
       "      <td>0,0057</td>\n",
       "    </tr>\n",
       "    <tr>\n",
       "      <th>185</th>\n",
       "      <td>2,772</td>\n",
       "      <td>[2023-09-09 20:17:55 734]</td>\n",
       "      <td>0,0029</td>\n",
       "      <td>0,0032</td>\n",
       "    </tr>\n",
       "    <tr>\n",
       "      <th>296</th>\n",
       "      <td>3,772</td>\n",
       "      <td>[2023-09-09 20:17:56 734]</td>\n",
       "      <td>0,0061</td>\n",
       "      <td>0,0065</td>\n",
       "    </tr>\n",
       "    <tr>\n",
       "      <th>407</th>\n",
       "      <td>4,772</td>\n",
       "      <td>[2023-09-09 20:17:57 734]</td>\n",
       "      <td>0,0043</td>\n",
       "      <td>0,0046</td>\n",
       "    </tr>\n",
       "    <tr>\n",
       "      <th>514</th>\n",
       "      <td>5,772</td>\n",
       "      <td>[2023-09-09 20:17:58 734]</td>\n",
       "      <td>0,0022</td>\n",
       "      <td>0,0025</td>\n",
       "    </tr>\n",
       "    <tr>\n",
       "      <th>...</th>\n",
       "      <td>...</td>\n",
       "      <td>...</td>\n",
       "      <td>...</td>\n",
       "      <td>...</td>\n",
       "    </tr>\n",
       "    <tr>\n",
       "      <th>1176749</th>\n",
       "      <td>10359,796</td>\n",
       "      <td>[2023-09-09 23:10:32 758]</td>\n",
       "      <td>0,0454</td>\n",
       "      <td>0,0583</td>\n",
       "    </tr>\n",
       "    <tr>\n",
       "      <th>1176860</th>\n",
       "      <td>10360,796</td>\n",
       "      <td>[2023-09-09 23:10:33 758]</td>\n",
       "      <td>0,0448</td>\n",
       "      <td>0,0549</td>\n",
       "    </tr>\n",
       "    <tr>\n",
       "      <th>1176970</th>\n",
       "      <td>10361,796</td>\n",
       "      <td>[2023-09-09 23:10:34 758]</td>\n",
       "      <td>0,0322</td>\n",
       "      <td>0,0376</td>\n",
       "    </tr>\n",
       "    <tr>\n",
       "      <th>1177078</th>\n",
       "      <td>10362,796</td>\n",
       "      <td>[2023-09-09 23:10:35 758]</td>\n",
       "      <td>0,0161</td>\n",
       "      <td>0,0212</td>\n",
       "    </tr>\n",
       "    <tr>\n",
       "      <th>1177189</th>\n",
       "      <td>10363,796</td>\n",
       "      <td>[2023-09-09 23:10:36 758]</td>\n",
       "      <td>0,013</td>\n",
       "      <td>0,0155</td>\n",
       "    </tr>\n",
       "  </tbody>\n",
       "</table>\n",
       "<p>10335 rows × 4 columns</p>\n",
       "</div>"
      ],
      "text/plain": [
       "        Seconds from Start                  Date Time ActivityLoad 2D  \\\n",
       "74                   1,772  [2023-09-09 20:17:54 734]          0,0053   \n",
       "185                  2,772  [2023-09-09 20:17:55 734]          0,0029   \n",
       "296                  3,772  [2023-09-09 20:17:56 734]          0,0061   \n",
       "407                  4,772  [2023-09-09 20:17:57 734]          0,0043   \n",
       "514                  5,772  [2023-09-09 20:17:58 734]          0,0022   \n",
       "...                    ...                        ...             ...   \n",
       "1176749          10359,796  [2023-09-09 23:10:32 758]          0,0454   \n",
       "1176860          10360,796  [2023-09-09 23:10:33 758]          0,0448   \n",
       "1176970          10361,796  [2023-09-09 23:10:34 758]          0,0322   \n",
       "1177078          10362,796  [2023-09-09 23:10:35 758]          0,0161   \n",
       "1177189          10363,796  [2023-09-09 23:10:36 758]           0,013   \n",
       "\n",
       "        ActivityLoad 3D  \n",
       "74               0,0057  \n",
       "185              0,0032  \n",
       "296              0,0065  \n",
       "407              0,0046  \n",
       "514              0,0025  \n",
       "...                 ...  \n",
       "1176749          0,0583  \n",
       "1176860          0,0549  \n",
       "1176970          0,0376  \n",
       "1177078          0,0212  \n",
       "1177189          0,0155  \n",
       "\n",
       "[10335 rows x 4 columns]"
      ]
     },
     "execution_count": 14,
     "metadata": {},
     "output_type": "execute_result"
    }
   ],
   "source": [
    "activity = df[~df['ActivityLoad 2D'].isnull() & ~df['ActivityLoad 3D'].isnull()][['Seconds from Start', 'Date Time', 'ActivityLoad 2D', 'ActivityLoad 3D']]\n",
    "activity"
   ]
  },
  {
   "cell_type": "markdown",
   "id": "748c489d-e560-4e91-a3d3-c5e1ea31897d",
   "metadata": {},
   "source": [
    "Se cambia el nombre de las variables"
   ]
  },
  {
   "cell_type": "code",
   "execution_count": 15,
   "id": "fec0d9eb-dfc2-4e3a-9bba-f85ec7f4755d",
   "metadata": {},
   "outputs": [],
   "source": [
    "activity.columns = ['seconds', 'date', 'activity_load_2d','activity_load_3d']"
   ]
  },
  {
   "cell_type": "code",
   "execution_count": 16,
   "id": "439b3765-3fca-473f-8629-e21d4e30fbb6",
   "metadata": {},
   "outputs": [
    {
     "data": {
      "text/plain": [
       "Index(['seconds', 'date', 'activity_load_2d', 'activity_load_3d'], dtype='object')"
      ]
     },
     "execution_count": 16,
     "metadata": {},
     "output_type": "execute_result"
    }
   ],
   "source": [
    "activity.columns"
   ]
  },
  {
   "cell_type": "markdown",
   "id": "b8341d2c-d720-4b23-bfeb-f10925fd8bbd",
   "metadata": {},
   "source": [
    "Se guarda el conjunto de datos resultante"
   ]
  },
  {
   "cell_type": "code",
   "execution_count": 17,
   "id": "d8753bf2-7539-479a-842c-371720e74b33",
   "metadata": {},
   "outputs": [
    {
     "name": "stdout",
     "output_type": "stream",
     "text": [
      "arrojeria_esther_activity_load.csv\n"
     ]
    }
   ],
   "source": [
    "FILE_NAME = f'{player_name}_activity_load.csv'\n",
    "print(FILE_NAME)"
   ]
  },
  {
   "cell_type": "code",
   "execution_count": 18,
   "id": "a4b0a62a-cfa7-4a90-a07a-dd5c6f86ff38",
   "metadata": {},
   "outputs": [],
   "source": [
    "activity.to_csv(f'../../../../datasets/study-players/{record_date}/{FILE_NAME}')"
   ]
  },
  {
   "cell_type": "code",
   "execution_count": null,
   "id": "606ab72c-4c51-4195-8d2f-c72c11ee7a67",
   "metadata": {},
   "outputs": [],
   "source": []
  }
 ],
 "metadata": {
  "kernelspec": {
   "display_name": "Python 3 (ipykernel)",
   "language": "python",
   "name": "python3"
  },
  "language_info": {
   "codemirror_mode": {
    "name": "ipython",
    "version": 3
   },
   "file_extension": ".py",
   "mimetype": "text/x-python",
   "name": "python",
   "nbconvert_exporter": "python",
   "pygments_lexer": "ipython3",
   "version": "3.9.2"
  }
 },
 "nbformat": 4,
 "nbformat_minor": 5
}
