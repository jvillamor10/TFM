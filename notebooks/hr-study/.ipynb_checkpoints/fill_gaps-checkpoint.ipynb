{
 "cells": [
  {
   "cell_type": "markdown",
   "id": "ff567799-39d1-4632-af4d-2df989b76f96",
   "metadata": {},
   "source": [
    "# Cuaderno para completar los valores nulos"
   ]
  },
  {
   "cell_type": "code",
   "execution_count": null,
   "id": "948e3a60-5931-4805-be0c-3ebf9adbcc12",
   "metadata": {},
   "outputs": [],
   "source": [
    "import pandas as pd\n",
    "import matplotlib.pyplot as plt\n",
    "import numpy as np"
   ]
  },
  {
   "cell_type": "code",
   "execution_count": 2,
   "id": "32dd32e4-4303-44a9-aaf7-9d469b413efa",
   "metadata": {},
   "outputs": [
    {
     "data": {
      "text/html": [
       "<div>\n",
       "<style scoped>\n",
       "    .dataframe tbody tr th:only-of-type {\n",
       "        vertical-align: middle;\n",
       "    }\n",
       "\n",
       "    .dataframe tbody tr th {\n",
       "        vertical-align: top;\n",
       "    }\n",
       "\n",
       "    .dataframe thead th {\n",
       "        text-align: right;\n",
       "    }\n",
       "</style>\n",
       "<table border=\"1\" class=\"dataframe\">\n",
       "  <thead>\n",
       "    <tr style=\"text-align: right;\">\n",
       "      <th></th>\n",
       "      <th>seconds</th>\n",
       "      <th>date</th>\n",
       "      <th>hr</th>\n",
       "    </tr>\n",
       "  </thead>\n",
       "  <tbody>\n",
       "    <tr>\n",
       "      <th>13739</th>\n",
       "      <td>126.304</td>\n",
       "      <td>2023-04-23 18:10:38.770</td>\n",
       "      <td>75.0</td>\n",
       "    </tr>\n",
       "    <tr>\n",
       "      <th>13795</th>\n",
       "      <td>126.804</td>\n",
       "      <td>2023-04-23 18:10:38.770</td>\n",
       "      <td>75.0</td>\n",
       "    </tr>\n",
       "    <tr>\n",
       "      <th>13853</th>\n",
       "      <td>127.304</td>\n",
       "      <td>2023-04-23 18:10:38.770</td>\n",
       "      <td>75.0</td>\n",
       "    </tr>\n",
       "    <tr>\n",
       "      <th>13908</th>\n",
       "      <td>127.804</td>\n",
       "      <td>2023-04-23 18:10:38.770</td>\n",
       "      <td>75.0</td>\n",
       "    </tr>\n",
       "    <tr>\n",
       "      <th>13962</th>\n",
       "      <td>128.304</td>\n",
       "      <td>2023-04-23 18:10:38.770</td>\n",
       "      <td>75.0</td>\n",
       "    </tr>\n",
       "  </tbody>\n",
       "</table>\n",
       "</div>"
      ],
      "text/plain": [
       "       seconds                     date    hr\n",
       "13739  126.304  2023-04-23 18:10:38.770  75.0\n",
       "13795  126.804  2023-04-23 18:10:38.770  75.0\n",
       "13853  127.304  2023-04-23 18:10:38.770  75.0\n",
       "13908  127.804  2023-04-23 18:10:38.770  75.0\n",
       "13962  128.304  2023-04-23 18:10:38.770  75.0"
      ]
     },
     "execution_count": 2,
     "metadata": {},
     "output_type": "execute_result"
    }
   ],
   "source": [
    "hr = pd.read_csv('../../datasets/first-study/hr.csv',index_col=0)\n",
    "hr.head()"
   ]
  },
  {
   "cell_type": "code",
   "execution_count": 3,
   "id": "47c1f05c-3dcb-43c0-99f3-32648ff25238",
   "metadata": {},
   "outputs": [
    {
     "data": {
      "text/plain": [
       "<AxesSubplot:>"
      ]
     },
     "execution_count": 3,
     "metadata": {},
     "output_type": "execute_result"
    },
    {
     "data": {
      "image/png": "[encoded data removed]",
      "text/plain": [
       "<Figure size 432x288 with 1 Axes>"
      ]
     },
     "metadata": {
      "needs_background": "light"
     },
     "output_type": "display_data"
    }
   ],
   "source": [
    "hr.plot(y='hr')"
   ]
  },
  {
   "cell_type": "code",
   "execution_count": 4,
   "id": "eb717f10-5f84-41e7-a1bc-aac8b4ffa7e4",
   "metadata": {},
   "outputs": [
    {
     "name": "stdout",
     "output_type": "stream",
     "text": [
      "Valor mínimo 126.304\n",
      "Valor máximo 10970.804\n"
     ]
    }
   ],
   "source": [
    "min_seconds = hr['seconds'].min()\n",
    "max_seconds = hr['seconds'].max()\n",
    "\n",
    "print(f\"Valor mínimo {min_seconds}\")\n",
    "print(f\"Valor máximo {max_seconds}\")"
   ]
  },
  {
   "cell_type": "code",
   "execution_count": 5,
   "id": "2585e145-4e40-4bf8-b625-bf33c7264b81",
   "metadata": {},
   "outputs": [
    {
     "name": "stdout",
     "output_type": "stream",
     "text": [
      "Minutos totales: 180.74166666666667 minutos\n",
      "Horas totales: 3.0123611111111113 horas\n"
     ]
    }
   ],
   "source": [
    "minutes = (max_seconds - min_seconds) / 60\n",
    "hours = minutes / 60\n",
    "print(f\"Minutos totales: {minutes} minutos\")\n",
    "print(f\"Horas totales: {hours} horas\")"
   ]
  },
  {
   "cell_type": "markdown",
   "id": "421c42e7-817d-44c7-90d7-a71e5c37119e",
   "metadata": {},
   "source": [
    "Hay un total de 10.000 segundos, 180 minutos o 3 horas, para un total de 20.000 registros. Estaría interesante ver el gap entre registro y registro, para tener otro criterio en el que se pueda determinar mejor el tamaño de la ventana, pero viendo el número total de registros, el valor deberá estar entre 10 y 20, y una solapación del 50% (para empezar)."
   ]
  },
  {
   "cell_type": "code",
   "execution_count": 6,
   "id": "3e798a0d-e15a-44b2-b400-d82124fdbc0c",
   "metadata": {},
   "outputs": [
    {
     "data": {
      "text/plain": [
       "13739      NaN\n",
       "13795      0.5\n",
       "13853      0.5\n",
       "13908      0.5\n",
       "13962      0.5\n",
       "          ... \n",
       "1240787    0.5\n",
       "1240842    0.5\n",
       "1240897    0.5\n",
       "1240950    0.5\n",
       "1241005    0.5\n",
       "Name: seconds, Length: 20431, dtype: float64"
      ]
     },
     "execution_count": 6,
     "metadata": {},
     "output_type": "execute_result"
    }
   ],
   "source": [
    "hr['seconds'].diff()"
   ]
  },
  {
   "cell_type": "markdown",
   "id": "2ef3b109-0adc-4887-98fe-45da148f501b",
   "metadata": {},
   "source": [
    "A priori, parece que la frecuencia es de 0,5 segundos"
   ]
  },
  {
   "cell_type": "code",
   "execution_count": 7,
   "id": "0f1595b0-a6e7-4bea-859e-8eded8deed2f",
   "metadata": {},
   "outputs": [
    {
     "data": {
      "text/plain": [
       "array([ nan,  0.5,  3.5,  4.5,  2.5,  1.5,  0.5, 16.5, 11.5, 13.5,  9.5,\n",
       "        5.5,  6.5,  7.5, 10.5, 17.5,  0.5,  8.5,  2. ,  7. ,  6. ,  3. ,\n",
       "       24.5, 15.5,  5. , 36.5, 20. , 15. ,  4. ])"
      ]
     },
     "execution_count": 7,
     "metadata": {},
     "output_type": "execute_result"
    }
   ],
   "source": [
    "hr['seconds'].diff().unique()"
   ]
  },
  {
   "cell_type": "markdown",
   "id": "9084b27c-ff02-4bda-85a9-dcdcf34cccf1",
   "metadata": {},
   "source": [
    "Aún así, hay casos de incluso 36.5 segundos, habrá que ver como se distribuye esto"
   ]
  },
  {
   "cell_type": "code",
   "execution_count": 8,
   "id": "ff031a53-f5b4-418d-9471-02a2cc86189a",
   "metadata": {},
   "outputs": [
    {
     "data": {
      "text/plain": [
       "<AxesSubplot:>"
      ]
     },
     "execution_count": 8,
     "metadata": {},
     "output_type": "execute_result"
    },
    {
     "data": {
      "image/png": "[encoded data removed]",
      "text/plain": [
       "<Figure size 432x288 with 1 Axes>"
      ]
     },
     "metadata": {
      "needs_background": "light"
     },
     "output_type": "display_data"
    }
   ],
   "source": [
    "hr['seconds'].diff().hist()"
   ]
  },
  {
   "cell_type": "markdown",
   "id": "d2bf0ef7-9895-4e00-b5b7-c7289d9b8b60",
   "metadata": {},
   "source": [
    "Pasa en muy pocos casos, aún así, esos datos son incompletos y pueden hacer que las ventanas no tengan información correcta, ya que estaría reuniendo información de otros tramos de tiempo. Por tanto, se van a completar esos datos."
   ]
  },
  {
   "cell_type": "code",
   "execution_count": 9,
   "id": "3a4b3f9b-0e85-4bf0-ab4f-25e1be7b744f",
   "metadata": {},
   "outputs": [],
   "source": [
    "hr['diff'] = hr['seconds'].diff()"
   ]
  },
  {
   "cell_type": "code",
   "execution_count": 10,
   "id": "54a4c31e-b388-45fa-b5e0-ede9714d3cbe",
   "metadata": {},
   "outputs": [
    {
     "data": {
      "text/plain": [
       "diff\n",
       "0.5         1\n",
       "0.5     20305\n",
       "0.5         1\n",
       "1.5        20\n",
       "2.0         6\n",
       "2.5        19\n",
       "3.0         4\n",
       "3.5        12\n",
       "4.0         1\n",
       "4.5        12\n",
       "5.0         2\n",
       "5.5         9\n",
       "6.0         1\n",
       "6.5         7\n",
       "7.0         1\n",
       "7.5         2\n",
       "8.5         5\n",
       "9.5         5\n",
       "10.5        4\n",
       "11.5        3\n",
       "13.5        2\n",
       "15.0        1\n",
       "15.5        1\n",
       "16.5        1\n",
       "17.5        2\n",
       "20.0        1\n",
       "24.5        1\n",
       "36.5        1\n",
       "dtype: int64"
      ]
     },
     "execution_count": 10,
     "metadata": {},
     "output_type": "execute_result"
    }
   ],
   "source": [
    "hr.pivot_table(columns=['diff'], aggfunc='size')"
   ]
  },
  {
   "cell_type": "markdown",
   "id": "58efa227-c9d8-4024-a3e0-93d165fe1201",
   "metadata": {},
   "source": [
    "La frecuencia mayoritaría es de 0.5."
   ]
  },
  {
   "cell_type": "code",
   "execution_count": 11,
   "id": "19707802-fc73-4512-ac65-39069f3f3d8f",
   "metadata": {},
   "outputs": [
    {
     "data": {
      "text/html": [
       "<div>\n",
       "<style scoped>\n",
       "    .dataframe tbody tr th:only-of-type {\n",
       "        vertical-align: middle;\n",
       "    }\n",
       "\n",
       "    .dataframe tbody tr th {\n",
       "        vertical-align: top;\n",
       "    }\n",
       "\n",
       "    .dataframe thead th {\n",
       "        text-align: right;\n",
       "    }\n",
       "</style>\n",
       "<table border=\"1\" class=\"dataframe\">\n",
       "  <thead>\n",
       "    <tr style=\"text-align: right;\">\n",
       "      <th></th>\n",
       "      <th>seconds</th>\n",
       "      <th>date</th>\n",
       "      <th>hr</th>\n",
       "      <th>diff</th>\n",
       "    </tr>\n",
       "  </thead>\n",
       "  <tbody>\n",
       "    <tr>\n",
       "      <th>16387</th>\n",
       "      <td>149.804</td>\n",
       "      <td>2023-04-23 18:10:38.770</td>\n",
       "      <td>80.0</td>\n",
       "      <td>3.5</td>\n",
       "    </tr>\n",
       "    <tr>\n",
       "      <th>18156</th>\n",
       "      <td>165.804</td>\n",
       "      <td>2023-04-23 18:10:38.770</td>\n",
       "      <td>81.0</td>\n",
       "      <td>4.5</td>\n",
       "    </tr>\n",
       "    <tr>\n",
       "      <th>21943</th>\n",
       "      <td>199.804</td>\n",
       "      <td>2023-04-23 18:10:38.770</td>\n",
       "      <td>82.0</td>\n",
       "      <td>2.5</td>\n",
       "    </tr>\n",
       "    <tr>\n",
       "      <th>26433</th>\n",
       "      <td>239.804</td>\n",
       "      <td>2023-04-23 18:10:38.770</td>\n",
       "      <td>82.0</td>\n",
       "      <td>3.5</td>\n",
       "    </tr>\n",
       "    <tr>\n",
       "      <th>27089</th>\n",
       "      <td>245.804</td>\n",
       "      <td>2023-04-23 18:10:38.770</td>\n",
       "      <td>81.0</td>\n",
       "      <td>1.5</td>\n",
       "    </tr>\n",
       "    <tr>\n",
       "      <th>...</th>\n",
       "      <td>...</td>\n",
       "      <td>...</td>\n",
       "      <td>...</td>\n",
       "      <td>...</td>\n",
       "    </tr>\n",
       "    <tr>\n",
       "      <th>1200528</th>\n",
       "      <td>10610.804</td>\n",
       "      <td>2023-04-23 18:10:38.770</td>\n",
       "      <td>108.0</td>\n",
       "      <td>8.5</td>\n",
       "    </tr>\n",
       "    <tr>\n",
       "      <th>1205895</th>\n",
       "      <td>10658.804</td>\n",
       "      <td>2023-04-23 18:10:38.770</td>\n",
       "      <td>112.0</td>\n",
       "      <td>6.5</td>\n",
       "    </tr>\n",
       "    <tr>\n",
       "      <th>1208132</th>\n",
       "      <td>10678.804</td>\n",
       "      <td>2023-04-23 18:10:38.770</td>\n",
       "      <td>102.0</td>\n",
       "      <td>2.5</td>\n",
       "    </tr>\n",
       "    <tr>\n",
       "      <th>1232685</th>\n",
       "      <td>10896.804</td>\n",
       "      <td>2023-04-23 18:10:38.770</td>\n",
       "      <td>105.0</td>\n",
       "      <td>1.5</td>\n",
       "    </tr>\n",
       "    <tr>\n",
       "      <th>1238418</th>\n",
       "      <td>10947.804</td>\n",
       "      <td>2023-04-23 18:10:38.770</td>\n",
       "      <td>93.0</td>\n",
       "      <td>1.5</td>\n",
       "    </tr>\n",
       "  </tbody>\n",
       "</table>\n",
       "<p>124 rows × 4 columns</p>\n",
       "</div>"
      ],
      "text/plain": [
       "           seconds                     date     hr  diff\n",
       "16387      149.804  2023-04-23 18:10:38.770   80.0   3.5\n",
       "18156      165.804  2023-04-23 18:10:38.770   81.0   4.5\n",
       "21943      199.804  2023-04-23 18:10:38.770   82.0   2.5\n",
       "26433      239.804  2023-04-23 18:10:38.770   82.0   3.5\n",
       "27089      245.804  2023-04-23 18:10:38.770   81.0   1.5\n",
       "...            ...                      ...    ...   ...\n",
       "1200528  10610.804  2023-04-23 18:10:38.770  108.0   8.5\n",
       "1205895  10658.804  2023-04-23 18:10:38.770  112.0   6.5\n",
       "1208132  10678.804  2023-04-23 18:10:38.770  102.0   2.5\n",
       "1232685  10896.804  2023-04-23 18:10:38.770  105.0   1.5\n",
       "1238418  10947.804  2023-04-23 18:10:38.770   93.0   1.5\n",
       "\n",
       "[124 rows x 4 columns]"
      ]
     },
     "execution_count": 11,
     "metadata": {},
     "output_type": "execute_result"
    }
   ],
   "source": [
    "hr[hr['diff'] > 0.5]"
   ]
  },
  {
   "cell_type": "markdown",
   "id": "dd43b7e0-1545-451d-ab0d-860669b53e42",
   "metadata": {},
   "source": [
    "Tan solo hay 124 registros"
   ]
  },
  {
   "cell_type": "code",
   "execution_count": 12,
   "id": "43955988-0dae-45d6-bf4d-64bdf2d35410",
   "metadata": {},
   "outputs": [],
   "source": [
    "hr['gap'] = hr['diff'] > 0.5"
   ]
  },
  {
   "cell_type": "code",
   "execution_count": 13,
   "id": "2530baa1-3a11-444f-b464-e14e7ca6260f",
   "metadata": {},
   "outputs": [
    {
     "data": {
      "image/png": "[encoded data removed]",
      "text/plain": [
       "<Figure size 432x288 with 1 Axes>"
      ]
     },
     "metadata": {
      "needs_background": "light"
     },
     "output_type": "display_data"
    }
   ],
   "source": [
    "col = np.where(hr['gap'] == False,'k','r')\n",
    "\n",
    "plt.scatter(hr['seconds'], hr['hr'], c=col, s=5, linewidth=0)\n",
    "plt.show()"
   ]
  },
  {
   "cell_type": "code",
   "execution_count": 14,
   "id": "ca814132-95bc-41db-8e65-f1abd1de8180",
   "metadata": {},
   "outputs": [
    {
     "data": {
      "text/plain": [
       "seconds                                           509650.196\n",
       "date       2023-04-23 18:10:38.7702023-04-23 18:10:38.770...\n",
       "hr                                                   13358.0\n",
       "diff                                                   691.5\n",
       "gap                                                      124\n",
       "dtype: object"
      ]
     },
     "execution_count": 14,
     "metadata": {},
     "output_type": "execute_result"
    }
   ],
   "source": [
    "hr[hr['diff'] > 0.5].sum()"
   ]
  },
  {
   "cell_type": "code",
   "execution_count": 15,
   "id": "45f1966c-48e2-4926-b44d-c61437c1782d",
   "metadata": {},
   "outputs": [
    {
     "data": {
      "text/plain": [
       "1383.0000000000002"
      ]
     },
     "execution_count": 15,
     "metadata": {},
     "output_type": "execute_result"
    }
   ],
   "source": [
    "hr[hr['diff'] > 0.5].sum()[3]/0.5"
   ]
  },
  {
   "cell_type": "markdown",
   "id": "d7bef57a-9473-4495-9465-f12b3a48eeef",
   "metadata": {},
   "source": [
    "Hay un total de 1383 que se van a interpolar."
   ]
  },
  {
   "cell_type": "markdown",
   "id": "00198ee8-066b-415e-be3e-8e829efeca74",
   "metadata": {},
   "source": [
    "## Interpolación de los datos"
   ]
  },
  {
   "cell_type": "code",
   "execution_count": 16,
   "id": "e1687d6e-ba31-464e-b42a-ee7dfeb02a22",
   "metadata": {},
   "outputs": [
    {
     "data": {
      "text/html": [
       "<div>\n",
       "<style scoped>\n",
       "    .dataframe tbody tr th:only-of-type {\n",
       "        vertical-align: middle;\n",
       "    }\n",
       "\n",
       "    .dataframe tbody tr th {\n",
       "        vertical-align: top;\n",
       "    }\n",
       "\n",
       "    .dataframe thead th {\n",
       "        text-align: right;\n",
       "    }\n",
       "</style>\n",
       "<table border=\"1\" class=\"dataframe\">\n",
       "  <thead>\n",
       "    <tr style=\"text-align: right;\">\n",
       "      <th></th>\n",
       "      <th>seconds</th>\n",
       "      <th>date</th>\n",
       "      <th>hr</th>\n",
       "      <th>diff</th>\n",
       "      <th>gap</th>\n",
       "    </tr>\n",
       "  </thead>\n",
       "  <tbody>\n",
       "    <tr>\n",
       "      <th>13739</th>\n",
       "      <td>126.304</td>\n",
       "      <td>2023-04-23 18:10:38.770</td>\n",
       "      <td>75.0</td>\n",
       "      <td>NaN</td>\n",
       "      <td>False</td>\n",
       "    </tr>\n",
       "    <tr>\n",
       "      <th>13795</th>\n",
       "      <td>126.804</td>\n",
       "      <td>2023-04-23 18:10:38.770</td>\n",
       "      <td>75.0</td>\n",
       "      <td>0.5</td>\n",
       "      <td>False</td>\n",
       "    </tr>\n",
       "    <tr>\n",
       "      <th>13853</th>\n",
       "      <td>127.304</td>\n",
       "      <td>2023-04-23 18:10:38.770</td>\n",
       "      <td>75.0</td>\n",
       "      <td>0.5</td>\n",
       "      <td>False</td>\n",
       "    </tr>\n",
       "    <tr>\n",
       "      <th>13908</th>\n",
       "      <td>127.804</td>\n",
       "      <td>2023-04-23 18:10:38.770</td>\n",
       "      <td>75.0</td>\n",
       "      <td>0.5</td>\n",
       "      <td>False</td>\n",
       "    </tr>\n",
       "    <tr>\n",
       "      <th>13962</th>\n",
       "      <td>128.304</td>\n",
       "      <td>2023-04-23 18:10:38.770</td>\n",
       "      <td>75.0</td>\n",
       "      <td>0.5</td>\n",
       "      <td>False</td>\n",
       "    </tr>\n",
       "    <tr>\n",
       "      <th>...</th>\n",
       "      <td>...</td>\n",
       "      <td>...</td>\n",
       "      <td>...</td>\n",
       "      <td>...</td>\n",
       "      <td>...</td>\n",
       "    </tr>\n",
       "    <tr>\n",
       "      <th>1240787</th>\n",
       "      <td>10968.804</td>\n",
       "      <td>2023-04-23 18:10:38.770</td>\n",
       "      <td>96.0</td>\n",
       "      <td>0.5</td>\n",
       "      <td>False</td>\n",
       "    </tr>\n",
       "    <tr>\n",
       "      <th>1240842</th>\n",
       "      <td>10969.304</td>\n",
       "      <td>2023-04-23 18:10:38.770</td>\n",
       "      <td>96.0</td>\n",
       "      <td>0.5</td>\n",
       "      <td>False</td>\n",
       "    </tr>\n",
       "    <tr>\n",
       "      <th>1240897</th>\n",
       "      <td>10969.804</td>\n",
       "      <td>2023-04-23 18:10:38.770</td>\n",
       "      <td>96.0</td>\n",
       "      <td>0.5</td>\n",
       "      <td>False</td>\n",
       "    </tr>\n",
       "    <tr>\n",
       "      <th>1240950</th>\n",
       "      <td>10970.304</td>\n",
       "      <td>2023-04-23 18:10:38.770</td>\n",
       "      <td>96.0</td>\n",
       "      <td>0.5</td>\n",
       "      <td>False</td>\n",
       "    </tr>\n",
       "    <tr>\n",
       "      <th>1241005</th>\n",
       "      <td>10970.804</td>\n",
       "      <td>2023-04-23 18:10:38.770</td>\n",
       "      <td>96.0</td>\n",
       "      <td>0.5</td>\n",
       "      <td>False</td>\n",
       "    </tr>\n",
       "  </tbody>\n",
       "</table>\n",
       "<p>20431 rows × 5 columns</p>\n",
       "</div>"
      ],
      "text/plain": [
       "           seconds                     date    hr  diff    gap\n",
       "13739      126.304  2023-04-23 18:10:38.770  75.0   NaN  False\n",
       "13795      126.804  2023-04-23 18:10:38.770  75.0   0.5  False\n",
       "13853      127.304  2023-04-23 18:10:38.770  75.0   0.5  False\n",
       "13908      127.804  2023-04-23 18:10:38.770  75.0   0.5  False\n",
       "13962      128.304  2023-04-23 18:10:38.770  75.0   0.5  False\n",
       "...            ...                      ...   ...   ...    ...\n",
       "1240787  10968.804  2023-04-23 18:10:38.770  96.0   0.5  False\n",
       "1240842  10969.304  2023-04-23 18:10:38.770  96.0   0.5  False\n",
       "1240897  10969.804  2023-04-23 18:10:38.770  96.0   0.5  False\n",
       "1240950  10970.304  2023-04-23 18:10:38.770  96.0   0.5  False\n",
       "1241005  10970.804  2023-04-23 18:10:38.770  96.0   0.5  False\n",
       "\n",
       "[20431 rows x 5 columns]"
      ]
     },
     "execution_count": 16,
     "metadata": {},
     "output_type": "execute_result"
    }
   ],
   "source": [
    "hr"
   ]
  },
  {
   "cell_type": "code",
   "execution_count": 17,
   "id": "b8160517-74bc-442e-8aed-85dfbc3e2458",
   "metadata": {},
   "outputs": [
    {
     "name": "stdout",
     "output_type": "stream",
     "text": [
      "0\n",
      "1\n",
      "2\n",
      "3\n",
      "4\n",
      "5\n",
      "6\n"
     ]
    }
   ],
   "source": [
    "for i in range(0, int(3.5/0.5)):\n",
    "    print(i)"
   ]
  },
  {
   "cell_type": "code",
   "execution_count": 19,
   "id": "c9cf460f-7425-421a-9e3f-9ba8141d9e6f",
   "metadata": {},
   "outputs": [],
   "source": [
    "new_df = pd.DataFrame()"
   ]
  },
  {
   "cell_type": "markdown",
   "id": "4069869a-b3f1-4989-b62f-6ddfcecfaa28",
   "metadata": {},
   "source": [
    "Si la diferencia de frecuencia es mayor que 0,5, se coge el último valor y el primero de ese tramo, se calcula el valor medio y se rellenan los huecos. Los huecos que se rellenan son la diferencia partida por la frecuencia, si hay 36 de diferencia, habrá que rellenar 72 huecos."
   ]
  },
  {
   "cell_type": "code",
   "execution_count": 20,
   "id": "856a577f-c8e1-41ce-b47c-636162b42e03",
   "metadata": {},
   "outputs": [],
   "source": [
    "last = hr.iloc[0]\n",
    "for i in range(1, hr.shape[0]):\n",
    "    new_df = new_df.append(last)\n",
    "    # si valor actual tiene diff mayor que 0.5, generar números\n",
    "    \n",
    "    if hr.iloc[i]['diff'] > 0.5:\n",
    "        seconds = last['seconds']\n",
    "        value = (hr.iloc[i]['hr'] + last['hr'])/ 2\n",
    "        #print(hr.iloc[i]['hr'], last['hr'], value)\n",
    "        #print(last, hr.iloc[i])\n",
    "        for x in range(0, int(hr.iloc[i]['diff']/0.5) -1):\n",
    "            \n",
    "            seconds = seconds + 0.5\n",
    "            new_df = new_df.append({'seconds': seconds, 'date': None, 'hr': value},ignore_index=True)\n",
    "    #print(last)\n",
    "    #print(hr.iloc[i])\n",
    "    last = hr.iloc[i]\n",
    "    #break"
   ]
  },
  {
   "cell_type": "code",
   "execution_count": 21,
   "id": "eea7383b-99c4-4c68-bf74-ec24144681b2",
   "metadata": {},
   "outputs": [
    {
     "data": {
      "text/html": [
       "<div>\n",
       "<style scoped>\n",
       "    .dataframe tbody tr th:only-of-type {\n",
       "        vertical-align: middle;\n",
       "    }\n",
       "\n",
       "    .dataframe tbody tr th {\n",
       "        vertical-align: top;\n",
       "    }\n",
       "\n",
       "    .dataframe thead th {\n",
       "        text-align: right;\n",
       "    }\n",
       "</style>\n",
       "<table border=\"1\" class=\"dataframe\">\n",
       "  <thead>\n",
       "    <tr style=\"text-align: right;\">\n",
       "      <th></th>\n",
       "      <th>seconds</th>\n",
       "      <th>date</th>\n",
       "      <th>hr</th>\n",
       "      <th>diff</th>\n",
       "      <th>gap</th>\n",
       "    </tr>\n",
       "  </thead>\n",
       "  <tbody>\n",
       "    <tr>\n",
       "      <th>0</th>\n",
       "      <td>126.304</td>\n",
       "      <td>2023-04-23 18:10:38.770</td>\n",
       "      <td>75.0</td>\n",
       "      <td>NaN</td>\n",
       "      <td>0.0</td>\n",
       "    </tr>\n",
       "    <tr>\n",
       "      <th>1</th>\n",
       "      <td>126.804</td>\n",
       "      <td>2023-04-23 18:10:38.770</td>\n",
       "      <td>75.0</td>\n",
       "      <td>0.5</td>\n",
       "      <td>0.0</td>\n",
       "    </tr>\n",
       "    <tr>\n",
       "      <th>2</th>\n",
       "      <td>127.304</td>\n",
       "      <td>2023-04-23 18:10:38.770</td>\n",
       "      <td>75.0</td>\n",
       "      <td>0.5</td>\n",
       "      <td>0.0</td>\n",
       "    </tr>\n",
       "    <tr>\n",
       "      <th>3</th>\n",
       "      <td>127.804</td>\n",
       "      <td>2023-04-23 18:10:38.770</td>\n",
       "      <td>75.0</td>\n",
       "      <td>0.5</td>\n",
       "      <td>0.0</td>\n",
       "    </tr>\n",
       "    <tr>\n",
       "      <th>4</th>\n",
       "      <td>128.304</td>\n",
       "      <td>2023-04-23 18:10:38.770</td>\n",
       "      <td>75.0</td>\n",
       "      <td>0.5</td>\n",
       "      <td>0.0</td>\n",
       "    </tr>\n",
       "    <tr>\n",
       "      <th>...</th>\n",
       "      <td>...</td>\n",
       "      <td>...</td>\n",
       "      <td>...</td>\n",
       "      <td>...</td>\n",
       "      <td>...</td>\n",
       "    </tr>\n",
       "    <tr>\n",
       "      <th>1240731</th>\n",
       "      <td>10968.304</td>\n",
       "      <td>2023-04-23 18:10:38.770</td>\n",
       "      <td>96.0</td>\n",
       "      <td>0.5</td>\n",
       "      <td>0.0</td>\n",
       "    </tr>\n",
       "    <tr>\n",
       "      <th>1240787</th>\n",
       "      <td>10968.804</td>\n",
       "      <td>2023-04-23 18:10:38.770</td>\n",
       "      <td>96.0</td>\n",
       "      <td>0.5</td>\n",
       "      <td>0.0</td>\n",
       "    </tr>\n",
       "    <tr>\n",
       "      <th>1240842</th>\n",
       "      <td>10969.304</td>\n",
       "      <td>2023-04-23 18:10:38.770</td>\n",
       "      <td>96.0</td>\n",
       "      <td>0.5</td>\n",
       "      <td>0.0</td>\n",
       "    </tr>\n",
       "    <tr>\n",
       "      <th>1240897</th>\n",
       "      <td>10969.804</td>\n",
       "      <td>2023-04-23 18:10:38.770</td>\n",
       "      <td>96.0</td>\n",
       "      <td>0.5</td>\n",
       "      <td>0.0</td>\n",
       "    </tr>\n",
       "    <tr>\n",
       "      <th>1240950</th>\n",
       "      <td>10970.304</td>\n",
       "      <td>2023-04-23 18:10:38.770</td>\n",
       "      <td>96.0</td>\n",
       "      <td>0.5</td>\n",
       "      <td>0.0</td>\n",
       "    </tr>\n",
       "  </tbody>\n",
       "</table>\n",
       "<p>21689 rows × 5 columns</p>\n",
       "</div>"
      ],
      "text/plain": [
       "           seconds                     date    hr  diff  gap\n",
       "0          126.304  2023-04-23 18:10:38.770  75.0   NaN  0.0\n",
       "1          126.804  2023-04-23 18:10:38.770  75.0   0.5  0.0\n",
       "2          127.304  2023-04-23 18:10:38.770  75.0   0.5  0.0\n",
       "3          127.804  2023-04-23 18:10:38.770  75.0   0.5  0.0\n",
       "4          128.304  2023-04-23 18:10:38.770  75.0   0.5  0.0\n",
       "...            ...                      ...   ...   ...  ...\n",
       "1240731  10968.304  2023-04-23 18:10:38.770  96.0   0.5  0.0\n",
       "1240787  10968.804  2023-04-23 18:10:38.770  96.0   0.5  0.0\n",
       "1240842  10969.304  2023-04-23 18:10:38.770  96.0   0.5  0.0\n",
       "1240897  10969.804  2023-04-23 18:10:38.770  96.0   0.5  0.0\n",
       "1240950  10970.304  2023-04-23 18:10:38.770  96.0   0.5  0.0\n",
       "\n",
       "[21689 rows x 5 columns]"
      ]
     },
     "execution_count": 21,
     "metadata": {},
     "output_type": "execute_result"
    }
   ],
   "source": [
    "new_df"
   ]
  },
  {
   "cell_type": "code",
   "execution_count": 23,
   "id": "1804455c-1c53-473d-9e30-3854b0bf0d56",
   "metadata": {},
   "outputs": [],
   "source": [
    "new_df.to_csv('../../datasets/hr-study/hr_without_gaps.csv')"
   ]
  }
 ],
 "metadata": {
  "kernelspec": {
   "display_name": "Python 3 (ipykernel)",
   "language": "python",
   "name": "python3"
  },
  "language_info": {
   "codemirror_mode": {
    "name": "ipython",
    "version": 3
   },
   "file_extension": ".py",
   "mimetype": "text/x-python",
   "name": "python",
   "nbconvert_exporter": "python",
   "pygments_lexer": "ipython3",
   "version": "3.9.2"
  }
 },
 "nbformat": 4,
 "nbformat_minor": 5
}
