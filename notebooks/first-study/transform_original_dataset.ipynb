{
 "cells": [
  {
   "cell_type": "code",
   "execution_count": 12,
   "id": "063eee0a-256d-405e-8828-ba6f485e1777",
   "metadata": {},
   "outputs": [],
   "source": [
    "import pandas as pd\n",
    "import re"
   ]
  },
  {
   "cell_type": "markdown",
   "id": "db869c51-9334-4cfe-bb5a-a7b55b8bf422",
   "metadata": {},
   "source": [
    "En este cuaderno vamos a convertir los tipos de los atributos del conjunto de datos y vamos a cambiar el nombre de las variables utilizando el tipo de notación seleccionado y dejando un nombre más amigable para poder realizar operaciones con dataframes."
   ]
  },
  {
   "cell_type": "code",
   "execution_count": 2,
   "id": "7093f68a-3044-4d43-8625-d4226c60e6c6",
   "metadata": {},
   "outputs": [
    {
     "data": {
      "text/html": [
       "<div>\n",
       "<style scoped>\n",
       "    .dataframe tbody tr th:only-of-type {\n",
       "        vertical-align: middle;\n",
       "    }\n",
       "\n",
       "    .dataframe tbody tr th {\n",
       "        vertical-align: top;\n",
       "    }\n",
       "\n",
       "    .dataframe thead th {\n",
       "        text-align: right;\n",
       "    }\n",
       "</style>\n",
       "<table border=\"1\" class=\"dataframe\">\n",
       "  <thead>\n",
       "    <tr style=\"text-align: right;\">\n",
       "      <th></th>\n",
       "      <th>Seconds from Start</th>\n",
       "      <th>Date Time</th>\n",
       "      <th>Speed (km/h)</th>\n",
       "      <th>HR (bpm)</th>\n",
       "      <th>Core Temperature °C</th>\n",
       "      <th>X accelerometer (Sideways)</th>\n",
       "      <th>Y accelerometer (Forward)</th>\n",
       "      <th>Z accelerometer (Vertical)</th>\n",
       "      <th>Raw RR (ms)</th>\n",
       "      <th>Filtered RR (ms)</th>\n",
       "      <th>Difference</th>\n",
       "      <th>HR RMSSD</th>\n",
       "      <th>ActivityLoad 2D</th>\n",
       "      <th>ActivityLoad 3D</th>\n",
       "    </tr>\n",
       "  </thead>\n",
       "  <tbody>\n",
       "    <tr>\n",
       "      <th>0</th>\n",
       "      <td>1,003</td>\n",
       "      <td>[2023-04-23 18:10:38 770]</td>\n",
       "      <td>0</td>\n",
       "      <td>NaN</td>\n",
       "      <td>NaN</td>\n",
       "      <td>NaN</td>\n",
       "      <td>NaN</td>\n",
       "      <td>NaN</td>\n",
       "      <td>NaN</td>\n",
       "      <td>NaN</td>\n",
       "      <td>NaN</td>\n",
       "      <td>NaN</td>\n",
       "      <td>NaN</td>\n",
       "      <td>NaN</td>\n",
       "    </tr>\n",
       "    <tr>\n",
       "      <th>1</th>\n",
       "      <td>1,101</td>\n",
       "      <td>[2023-04-23 18:10:38 868]</td>\n",
       "      <td>NaN</td>\n",
       "      <td>NaN</td>\n",
       "      <td>NaN</td>\n",
       "      <td>-11,3313</td>\n",
       "      <td>-3,5219</td>\n",
       "      <td>-23,8975</td>\n",
       "      <td>NaN</td>\n",
       "      <td>NaN</td>\n",
       "      <td>NaN</td>\n",
       "      <td>NaN</td>\n",
       "      <td>NaN</td>\n",
       "      <td>NaN</td>\n",
       "    </tr>\n",
       "    <tr>\n",
       "      <th>2</th>\n",
       "      <td>1,104</td>\n",
       "      <td>[2023-04-23 18:10:38 871]</td>\n",
       "      <td>0</td>\n",
       "      <td>NaN</td>\n",
       "      <td>NaN</td>\n",
       "      <td>NaN</td>\n",
       "      <td>NaN</td>\n",
       "      <td>NaN</td>\n",
       "      <td>NaN</td>\n",
       "      <td>NaN</td>\n",
       "      <td>NaN</td>\n",
       "      <td>NaN</td>\n",
       "      <td>NaN</td>\n",
       "      <td>NaN</td>\n",
       "    </tr>\n",
       "    <tr>\n",
       "      <th>3</th>\n",
       "      <td>1,110</td>\n",
       "      <td>[2023-04-23 18:10:38 877]</td>\n",
       "      <td>NaN</td>\n",
       "      <td>NaN</td>\n",
       "      <td>NaN</td>\n",
       "      <td>-14,0875</td>\n",
       "      <td>-1,5312</td>\n",
       "      <td>-24,6631</td>\n",
       "      <td>NaN</td>\n",
       "      <td>NaN</td>\n",
       "      <td>NaN</td>\n",
       "      <td>NaN</td>\n",
       "      <td>NaN</td>\n",
       "      <td>NaN</td>\n",
       "    </tr>\n",
       "    <tr>\n",
       "      <th>4</th>\n",
       "      <td>1,120</td>\n",
       "      <td>[2023-04-23 18:10:38 887]</td>\n",
       "      <td>NaN</td>\n",
       "      <td>NaN</td>\n",
       "      <td>NaN</td>\n",
       "      <td>-12,0969</td>\n",
       "      <td>-0,7656</td>\n",
       "      <td>-25,5819</td>\n",
       "      <td>NaN</td>\n",
       "      <td>NaN</td>\n",
       "      <td>NaN</td>\n",
       "      <td>NaN</td>\n",
       "      <td>NaN</td>\n",
       "      <td>NaN</td>\n",
       "    </tr>\n",
       "  </tbody>\n",
       "</table>\n",
       "</div>"
      ],
      "text/plain": [
       "  Seconds from Start                  Date Time Speed (km/h)  HR (bpm)  \\\n",
       "0              1,003  [2023-04-23 18:10:38 770]            0       NaN   \n",
       "1              1,101  [2023-04-23 18:10:38 868]          NaN       NaN   \n",
       "2              1,104  [2023-04-23 18:10:38 871]            0       NaN   \n",
       "3              1,110  [2023-04-23 18:10:38 877]          NaN       NaN   \n",
       "4              1,120  [2023-04-23 18:10:38 887]          NaN       NaN   \n",
       "\n",
       "  Core Temperature °C X accelerometer (Sideways) Y accelerometer (Forward)  \\\n",
       "0                 NaN                        NaN                       NaN   \n",
       "1                 NaN                   -11,3313                   -3,5219   \n",
       "2                 NaN                        NaN                       NaN   \n",
       "3                 NaN                   -14,0875                   -1,5312   \n",
       "4                 NaN                   -12,0969                   -0,7656   \n",
       "\n",
       "  Z accelerometer (Vertical)  Raw RR (ms)  Filtered RR (ms)  Difference  \\\n",
       "0                        NaN          NaN               NaN         NaN   \n",
       "1                   -23,8975          NaN               NaN         NaN   \n",
       "2                        NaN          NaN               NaN         NaN   \n",
       "3                   -24,6631          NaN               NaN         NaN   \n",
       "4                   -25,5819          NaN               NaN         NaN   \n",
       "\n",
       "  HR RMSSD ActivityLoad 2D ActivityLoad 3D  \n",
       "0      NaN             NaN             NaN  \n",
       "1      NaN             NaN             NaN  \n",
       "2      NaN             NaN             NaN  \n",
       "3      NaN             NaN             NaN  \n",
       "4      NaN             NaN             NaN  "
      ]
     },
     "execution_count": 2,
     "metadata": {},
     "output_type": "execute_result"
    }
   ],
   "source": [
    "df = pd.read_csv('../../datasets/original-data/Exported Data_202304231610.csv')\n",
    "df.head()"
   ]
  },
  {
   "cell_type": "markdown",
   "id": "cd2ead2a-a056-40f1-a614-1af9be9e3ec8",
   "metadata": {},
   "source": [
    "Primeramente, se modifica el nombre de las columnas por algunos nombre más cortos y siguiendo la notación indicada"
   ]
  },
  {
   "cell_type": "code",
   "execution_count": 3,
   "id": "4a18b316-5bd6-4366-a002-8e7a4a492a20",
   "metadata": {},
   "outputs": [],
   "source": [
    "new_columns = {'Seconds from Start': 'seconds', \n",
    "               'Date Time': 'date',\n",
    "               'Speed (km/h)': 'speed',\n",
    "               'HR (bpm)': 'hr',\n",
    "               'Core Temperature °C': 'core_temperature',\n",
    "               'X accelerometer (Sideways)': 'x',\n",
    "               'Y accelerometer (Forward)': 'y',\n",
    "               'Z accelerometer (Vertical)': 'z',\n",
    "               'Raw RR (ms)': 'raw_rr',\n",
    "               'Filtered RR (ms)': 'filtered_rr',\n",
    "               'Difference': 'difference_rr',\n",
    "               'HR RMSSD': 'hr_rmssd',\n",
    "               'ActivityLoad 2D': 'activity_load_2d',\n",
    "               'ActivityLoad 3D': 'activity_load_3d'\n",
    "              }"
   ]
  },
  {
   "cell_type": "code",
   "execution_count": 4,
   "id": "a7ce04ff-138a-4ba5-bf8c-c0eddb96b42a",
   "metadata": {},
   "outputs": [],
   "source": [
    "df = df.rename(new_columns, axis=1)  # new method"
   ]
  },
  {
   "cell_type": "code",
   "execution_count": 5,
   "id": "b6d9ebbd-4083-40cb-a47f-f5a35d49ad29",
   "metadata": {},
   "outputs": [
    {
     "data": {
      "text/plain": [
       "Index(['seconds', 'date', 'speed', 'hr', 'core_temperature', 'x', 'y', 'z',\n",
       "       'raw_rr', 'filtered_rr', 'difference_rr', 'hr_rmssd',\n",
       "       'activity_load_2d', 'activity_load_3d'],\n",
       "      dtype='object')"
      ]
     },
     "execution_count": 5,
     "metadata": {},
     "output_type": "execute_result"
    }
   ],
   "source": [
    "df.columns"
   ]
  },
  {
   "cell_type": "markdown",
   "id": "c9c41abf-da9f-495b-9a45-adb40c10ad4e",
   "metadata": {},
   "source": [
    "Ahora cambiamos los tipos de datos a su tipo correspondiente."
   ]
  },
  {
   "cell_type": "code",
   "execution_count": 6,
   "id": "7b7404ef-5ddd-4b76-9ec9-16b2be9151fb",
   "metadata": {},
   "outputs": [
    {
     "data": {
      "text/plain": [
       "seconds              object\n",
       "date                 object\n",
       "speed                object\n",
       "hr                  float64\n",
       "core_temperature     object\n",
       "x                    object\n",
       "y                    object\n",
       "z                    object\n",
       "raw_rr              float64\n",
       "filtered_rr         float64\n",
       "difference_rr       float64\n",
       "hr_rmssd             object\n",
       "activity_load_2d     object\n",
       "activity_load_3d     object\n",
       "dtype: object"
      ]
     },
     "execution_count": 6,
     "metadata": {},
     "output_type": "execute_result"
    }
   ],
   "source": [
    "df.dtypes"
   ]
  },
  {
   "cell_type": "markdown",
   "id": "e81115df-84e6-40e1-bf8c-ef8e746b2644",
   "metadata": {},
   "source": [
    "Primeramente, se va  modificar el atributo date. Para ello, habrá que eliminar los corchetes de su valor"
   ]
  },
  {
   "cell_type": "code",
   "execution_count": 16,
   "id": "b06696a6-ccbb-4a89-b48d-38bff5b0b6f0",
   "metadata": {},
   "outputs": [],
   "source": [
    "def delete_brackets(value):\n",
    "    if isinstance(value, str):\n",
    "        # Se eliminan los corchetes\n",
    "        new_value = re.sub(r'\\[|\\]', '', cadena)\n",
    "        # Se añade un punto en los milisegundos\n",
    "        new_value = re.sub(r'(\\d{4}-\\d{2}-\\d{2}) (\\d{2}:\\d{2}:\\d{2}) (\\d{3})', r'\\1 \\2.\\3', new_value)\n",
    "        return new_value\n",
    "    return value"
   ]
  },
  {
   "cell_type": "code",
   "execution_count": 17,
   "id": "04109fca-fd3b-428b-984b-049a15158534",
   "metadata": {},
   "outputs": [],
   "source": [
    "df['date'] = df['date'].apply(lambda x: delete_brackets(x))"
   ]
  },
  {
   "cell_type": "code",
   "execution_count": 18,
   "id": "f05671a2-8898-45a2-830c-24ccdda26f5b",
   "metadata": {},
   "outputs": [
    {
     "data": {
      "text/plain": [
       "0          2023-04-23 18:10:38.770\n",
       "1          2023-04-23 18:10:38.770\n",
       "2          2023-04-23 18:10:38.770\n",
       "3          2023-04-23 18:10:38.770\n",
       "4          2023-04-23 18:10:38.770\n",
       "                    ...           \n",
       "1241159    2023-04-23 18:10:38.770\n",
       "1241160    2023-04-23 18:10:38.770\n",
       "1241161    2023-04-23 18:10:38.770\n",
       "1241162    2023-04-23 18:10:38.770\n",
       "1241163    2023-04-23 18:10:38.770\n",
       "Name: date, Length: 1241164, dtype: object"
      ]
     },
     "execution_count": 18,
     "metadata": {},
     "output_type": "execute_result"
    }
   ],
   "source": [
    "df['date']"
   ]
  },
  {
   "cell_type": "code",
   "execution_count": 20,
   "id": "d62471ae-4a57-4000-9972-c713fc5c7ce4",
   "metadata": {},
   "outputs": [],
   "source": [
    "df['date'] = df['date'].apply(pd.to_datetime)"
   ]
  },
  {
   "cell_type": "markdown",
   "id": "30f09894-d320-4890-bde8-a1b63fcec89b",
   "metadata": {},
   "source": [
    "Hay que convertir las comas por los puntos."
   ]
  },
  {
   "cell_type": "code",
   "execution_count": 21,
   "id": "6defaf05-6a33-4ab5-aa35-d62406c268f2",
   "metadata": {},
   "outputs": [],
   "source": [
    "def convert_comma_to_point(value):\n",
    "    if isinstance(value, str):\n",
    "        return value.replace(',','.')\n",
    "    return value"
   ]
  },
  {
   "cell_type": "code",
   "execution_count": 23,
   "id": "222a8042-214d-413f-b840-9bbd98456b9f",
   "metadata": {},
   "outputs": [],
   "source": [
    "column_types_dict = df.dtypes"
   ]
  },
  {
   "cell_type": "code",
   "execution_count": 24,
   "id": "ebfd40f7-1271-4939-ab22-12466abd4f1e",
   "metadata": {},
   "outputs": [
    {
     "name": "stdout",
     "output_type": "stream",
     "text": [
      "Se ha modificado la columna seconds\n",
      "Se ha modificado la columna speed\n",
      "Se ha modificado la columna core_temperature\n",
      "Se ha modificado la columna x\n",
      "Se ha modificado la columna y\n",
      "Se ha modificado la columna z\n",
      "Se ha modificado la columna hr_rmssd\n",
      "Se ha modificado la columna activity_load_2d\n",
      "Se ha modificado la columna activity_load_3d\n"
     ]
    }
   ],
   "source": [
    "for column_name, column_type in column_types_dict.items():\n",
    "    if column_type == object:\n",
    "        df[column_name] = df[column_name].apply(lambda x: convert_comma_to_point(x))\n",
    "        df[column_name] = df[column_name].apply(pd.to_numeric)\n",
    "        print(f'Se ha modificado la columna {column_name}')"
   ]
  },
  {
   "cell_type": "code",
   "execution_count": 29,
   "id": "6d5e68c5-8658-49ab-95c6-a58229088e39",
   "metadata": {},
   "outputs": [],
   "source": [
    "df.to_csv('../../datasets/first-study/processed_dataset.csv')"
   ]
  },
  {
   "cell_type": "code",
   "execution_count": null,
   "id": "9f26c4f3-2f3a-4a16-a2ca-4483cae0ef38",
   "metadata": {},
   "outputs": [],
   "source": []
  }
 ],
 "metadata": {
  "kernelspec": {
   "display_name": "Python 3 (ipykernel)",
   "language": "python",
   "name": "python3"
  },
  "language_info": {
   "codemirror_mode": {
    "name": "ipython",
    "version": 3
   },
   "file_extension": ".py",
   "mimetype": "text/x-python",
   "name": "python",
   "nbconvert_exporter": "python",
   "pygments_lexer": "ipython3",
   "version": "3.9.2"
  }
 },
 "nbformat": 4,
 "nbformat_minor": 5
}
