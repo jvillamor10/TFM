{
 "cells": [
  {
   "cell_type": "code",
   "execution_count": 7,
   "id": "3b0024a0-bdeb-408f-af17-df0e47f3fc20",
   "metadata": {},
   "outputs": [],
   "source": [
    "import pandas as pd\n",
    "\n",
    "from sklearn import datasets\n",
    "from sklearn import svm\n",
    "from sklearn.model_selection import train_test_split\n",
    "from sklearn.metrics import accuracy_score\n",
    "\n",
    "from sklearn.preprocessing import RobustScaler\n",
    "\n",
    "import pickle"
   ]
  },
  {
   "cell_type": "code",
   "execution_count": 8,
   "id": "fd950f3e-3c3a-4574-bf58-ba4352b5254b",
   "metadata": {},
   "outputs": [],
   "source": [
    "player_name = 'cavo_malena'"
   ]
  },
  {
   "cell_type": "code",
   "execution_count": 9,
   "id": "77397661-ee9a-4f72-af8f-776fadf5add7",
   "metadata": {},
   "outputs": [],
   "source": [
    "record_date = '20230908'"
   ]
  },
  {
   "cell_type": "code",
   "execution_count": 10,
   "id": "dd9b8af3-cb52-42f3-92a2-7d7db6450c1e",
   "metadata": {},
   "outputs": [
    {
     "data": {
      "text/html": [
       "<div>\n",
       "<style scoped>\n",
       "    .dataframe tbody tr th:only-of-type {\n",
       "        vertical-align: middle;\n",
       "    }\n",
       "\n",
       "    .dataframe tbody tr th {\n",
       "        vertical-align: top;\n",
       "    }\n",
       "\n",
       "    .dataframe thead th {\n",
       "        text-align: right;\n",
       "    }\n",
       "</style>\n",
       "<table border=\"1\" class=\"dataframe\">\n",
       "  <thead>\n",
       "    <tr style=\"text-align: right;\">\n",
       "      <th></th>\n",
       "      <th>seconds</th>\n",
       "      <th>date</th>\n",
       "      <th>hr</th>\n",
       "      <th>activity_load_2d</th>\n",
       "      <th>activity_load_3d</th>\n",
       "    </tr>\n",
       "  </thead>\n",
       "  <tbody>\n",
       "    <tr>\n",
       "      <th>0</th>\n",
       "      <td>2520.302</td>\n",
       "      <td>[2023-09-08 20:00:53 439]</td>\n",
       "      <td>120.0</td>\n",
       "      <td>0.0142</td>\n",
       "      <td>0.0218</td>\n",
       "    </tr>\n",
       "    <tr>\n",
       "      <th>1</th>\n",
       "      <td>2521.302</td>\n",
       "      <td>[2023-09-08 20:00:54 439]</td>\n",
       "      <td>121.0</td>\n",
       "      <td>0.0096</td>\n",
       "      <td>0.0137</td>\n",
       "    </tr>\n",
       "    <tr>\n",
       "      <th>2</th>\n",
       "      <td>2522.302</td>\n",
       "      <td>[2023-09-08 20:00:55 439]</td>\n",
       "      <td>121.0</td>\n",
       "      <td>0.0112</td>\n",
       "      <td>0.0165</td>\n",
       "    </tr>\n",
       "    <tr>\n",
       "      <th>3</th>\n",
       "      <td>2523.302</td>\n",
       "      <td>[2023-09-08 20:00:56 439]</td>\n",
       "      <td>121.0</td>\n",
       "      <td>0.0464</td>\n",
       "      <td>0.0589</td>\n",
       "    </tr>\n",
       "    <tr>\n",
       "      <th>4</th>\n",
       "      <td>2524.302</td>\n",
       "      <td>[2023-09-08 20:00:57 439]</td>\n",
       "      <td>121.0</td>\n",
       "      <td>0.0381</td>\n",
       "      <td>0.0479</td>\n",
       "    </tr>\n",
       "    <tr>\n",
       "      <th>...</th>\n",
       "      <td>...</td>\n",
       "      <td>...</td>\n",
       "      <td>...</td>\n",
       "      <td>...</td>\n",
       "      <td>...</td>\n",
       "    </tr>\n",
       "    <tr>\n",
       "      <th>5095</th>\n",
       "      <td>7615.484</td>\n",
       "      <td>[2023-09-08 21:25:48 621]</td>\n",
       "      <td>162.0</td>\n",
       "      <td>NaN</td>\n",
       "      <td>NaN</td>\n",
       "    </tr>\n",
       "    <tr>\n",
       "      <th>5096</th>\n",
       "      <td>7616.482</td>\n",
       "      <td>[2023-09-08 21:25:49 619]</td>\n",
       "      <td>161.0</td>\n",
       "      <td>NaN</td>\n",
       "      <td>NaN</td>\n",
       "    </tr>\n",
       "    <tr>\n",
       "      <th>5097</th>\n",
       "      <td>7617.483</td>\n",
       "      <td>[2023-09-08 21:25:50 620]</td>\n",
       "      <td>160.0</td>\n",
       "      <td>NaN</td>\n",
       "      <td>NaN</td>\n",
       "    </tr>\n",
       "    <tr>\n",
       "      <th>5098</th>\n",
       "      <td>7618.480</td>\n",
       "      <td>[2023-09-08 21:25:51 617]</td>\n",
       "      <td>161.0</td>\n",
       "      <td>NaN</td>\n",
       "      <td>NaN</td>\n",
       "    </tr>\n",
       "    <tr>\n",
       "      <th>5099</th>\n",
       "      <td>7619.482</td>\n",
       "      <td>[2023-09-08 21:25:52 619]</td>\n",
       "      <td>162.0</td>\n",
       "      <td>NaN</td>\n",
       "      <td>NaN</td>\n",
       "    </tr>\n",
       "  </tbody>\n",
       "</table>\n",
       "<p>5100 rows × 5 columns</p>\n",
       "</div>"
      ],
      "text/plain": [
       "       seconds                       date     hr  activity_load_2d  \\\n",
       "0     2520.302  [2023-09-08 20:00:53 439]  120.0            0.0142   \n",
       "1     2521.302  [2023-09-08 20:00:54 439]  121.0            0.0096   \n",
       "2     2522.302  [2023-09-08 20:00:55 439]  121.0            0.0112   \n",
       "3     2523.302  [2023-09-08 20:00:56 439]  121.0            0.0464   \n",
       "4     2524.302  [2023-09-08 20:00:57 439]  121.0            0.0381   \n",
       "...        ...                        ...    ...               ...   \n",
       "5095  7615.484  [2023-09-08 21:25:48 621]  162.0               NaN   \n",
       "5096  7616.482  [2023-09-08 21:25:49 619]  161.0               NaN   \n",
       "5097  7617.483  [2023-09-08 21:25:50 620]  160.0               NaN   \n",
       "5098  7618.480  [2023-09-08 21:25:51 617]  161.0               NaN   \n",
       "5099  7619.482  [2023-09-08 21:25:52 619]  162.0               NaN   \n",
       "\n",
       "      activity_load_3d  \n",
       "0               0.0218  \n",
       "1               0.0137  \n",
       "2               0.0165  \n",
       "3               0.0589  \n",
       "4               0.0479  \n",
       "...                ...  \n",
       "5095               NaN  \n",
       "5096               NaN  \n",
       "5097               NaN  \n",
       "5098               NaN  \n",
       "5099               NaN  \n",
       "\n",
       "[5100 rows x 5 columns]"
      ]
     },
     "execution_count": 10,
     "metadata": {},
     "output_type": "execute_result"
    }
   ],
   "source": [
    "match = pd.read_csv(f'../../../../datasets/study-players/{record_date}/{player_name}_match_attributes.csv',index_col=0)\n",
    "match"
   ]
  },
  {
   "cell_type": "code",
   "execution_count": 11,
   "id": "669ce5f8-e602-4b95-998d-e3973435d060",
   "metadata": {},
   "outputs": [],
   "source": [
    "match = match[~match['activity_load_3d'].isnull()]"
   ]
  },
  {
   "cell_type": "code",
   "execution_count": 12,
   "id": "d2610af3-cd19-4d6d-af51-6ac67ed93b4e",
   "metadata": {},
   "outputs": [],
   "source": [
    "# normalizar los datos con robust scaler\n",
    "scaler = RobustScaler()\n",
    "match_rs = scaler.fit_transform(match.drop(['seconds','date'],axis=1))"
   ]
  },
  {
   "cell_type": "code",
   "execution_count": 16,
   "id": "cdc3e90f-bf30-42b8-8e29-f0d47b91ddae",
   "metadata": {},
   "outputs": [],
   "source": [
    "# cargar el modelo con pickle\n",
    "file = open('../../../../modelos/supervised/rf_model.pickle', 'rb')\n",
    "rf = pickle.load(file)\n",
    "file.close()"
   ]
  },
  {
   "cell_type": "code",
   "execution_count": 19,
   "id": "d938937f-f572-4031-8730-70ba8c3ad836",
   "metadata": {},
   "outputs": [
    {
     "name": "stderr",
     "output_type": "stream",
     "text": [
      "/home/jvillamor10/.local/lib/python3.9/site-packages/sklearn/base.py:450: UserWarning: X does not have valid feature names, but RandomForestClassifier was fitted with feature names\n",
      "  warnings.warn(\n"
     ]
    }
   ],
   "source": [
    "# hacer el predict\n",
    "y_pred = rf.predict(match_rs)"
   ]
  },
  {
   "cell_type": "code",
   "execution_count": 24,
   "id": "bbc102a5-53c6-4af9-a0f1-602743af1397",
   "metadata": {},
   "outputs": [
    {
     "data": {
      "image/png": "[encoded data removed]",
      "text/plain": [
       "<Figure size 432x288 with 1 Axes>"
      ]
     },
     "metadata": {
      "needs_background": "light"
     },
     "output_type": "display_data"
    }
   ],
   "source": [
    "# mostrar gráfico\n",
    "import matplotlib.pyplot as plt\n",
    "\n",
    "colores = {0: 'red', 1: 'green', None: 'black'}\n",
    "x = match['seconds']\n",
    "y = match['hr']\n",
    "\n",
    "valores_convertidos = [colores[valor] for valor in y_pred]\n",
    "\n",
    "# Crear una figura y ejes\n",
    "fig, ax = plt.subplots()\n",
    "\n",
    "# Initialize variables for segment plotting\n",
    "segment_start = 0\n",
    "current_color = valores_convertidos[0]\n",
    "\n",
    "# Iterate through the data to plot segments with different colors\n",
    "for i in range(1, len(x)):\n",
    "    if valores_convertidos[i] != current_color:\n",
    "        # Plot the current segment with the current color\n",
    "        ax.plot(x[segment_start:i], y[segment_start:i], linestyle='-', color=current_color)\n",
    "        \n",
    "        # Update the segment start and current color\n",
    "        segment_start = i\n",
    "        current_color = valores_convertidos[i]\n",
    "\n",
    "# Plot the last segment\n",
    "ax.plot(x[segment_start:], y[segment_start:], linestyle='-', color=current_color)\n",
    "\n",
    "plt.show()"
   ]
  },
  {
   "cell_type": "code",
   "execution_count": null,
   "id": "ab6e4afa-7e6c-4452-946a-fe1a4ffa2dee",
   "metadata": {},
   "outputs": [],
   "source": []
  }
 ],
 "metadata": {
  "kernelspec": {
   "display_name": "Python 3 (ipykernel)",
   "language": "python",
   "name": "python3"
  },
  "language_info": {
   "codemirror_mode": {
    "name": "ipython",
    "version": 3
   },
   "file_extension": ".py",
   "mimetype": "text/x-python",
   "name": "python",
   "nbconvert_exporter": "python",
   "pygments_lexer": "ipython3",
   "version": "3.9.2"
  }
 },
 "nbformat": 4,
 "nbformat_minor": 5
}
