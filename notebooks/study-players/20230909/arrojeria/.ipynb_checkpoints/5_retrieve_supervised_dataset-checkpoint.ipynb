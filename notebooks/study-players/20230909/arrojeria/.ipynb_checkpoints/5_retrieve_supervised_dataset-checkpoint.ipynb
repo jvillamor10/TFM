{
 "cells": [
  {
   "cell_type": "code",
   "execution_count": 1,
   "id": "24b5095e-bab5-41f6-9ed7-c3100e5942df",
   "metadata": {},
   "outputs": [],
   "source": [
    "import pandas as pd"
   ]
  },
  {
   "cell_type": "code",
   "execution_count": 2,
   "id": "edba9301-117f-4cb9-aa1b-bfab69e08c18",
   "metadata": {},
   "outputs": [],
   "source": [
    "player_name = 'arrojeria_esther'"
   ]
  },
  {
   "cell_type": "code",
   "execution_count": 3,
   "id": "a0ce3d38-96aa-4b0e-9999-6e7f898582b5",
   "metadata": {},
   "outputs": [],
   "source": [
    "record_date = '20230909'"
   ]
  },
  {
   "cell_type": "code",
   "execution_count": 4,
   "id": "b6ad8789-f91f-40bf-a33b-8efb0481b503",
   "metadata": {},
   "outputs": [],
   "source": [
    "ACTIVITY_LOAD_DATASET_FILE_DIR = f'../../../../datasets/study-players/{record_date}/{player_name}_activity_load.csv'\n",
    "HR_DATASET_FILE_DIR = f'../../../../datasets/study-players/{record_date}/{player_name}_hr_without_gaps.csv'"
   ]
  },
  {
   "cell_type": "code",
   "execution_count": 5,
   "id": "20331893-b4f6-4dd5-8ba5-9bf66419ba0d",
   "metadata": {},
   "outputs": [
    {
     "data": {
      "text/html": [
       "<div>\n",
       "<style scoped>\n",
       "    .dataframe tbody tr th:only-of-type {\n",
       "        vertical-align: middle;\n",
       "    }\n",
       "\n",
       "    .dataframe tbody tr th {\n",
       "        vertical-align: top;\n",
       "    }\n",
       "\n",
       "    .dataframe thead th {\n",
       "        text-align: right;\n",
       "    }\n",
       "</style>\n",
       "<table border=\"1\" class=\"dataframe\">\n",
       "  <thead>\n",
       "    <tr style=\"text-align: right;\">\n",
       "      <th></th>\n",
       "      <th>seconds</th>\n",
       "      <th>date</th>\n",
       "      <th>hr</th>\n",
       "      <th>diff</th>\n",
       "    </tr>\n",
       "  </thead>\n",
       "  <tbody>\n",
       "    <tr>\n",
       "      <th>0</th>\n",
       "      <td>79.952</td>\n",
       "      <td>[2023-09-09 20:19:12 914]</td>\n",
       "      <td>80.0</td>\n",
       "      <td>NaN</td>\n",
       "    </tr>\n",
       "    <tr>\n",
       "      <th>1</th>\n",
       "      <td>80.452</td>\n",
       "      <td>[2023-09-09 20:19:13 414]</td>\n",
       "      <td>80.0</td>\n",
       "      <td>0.5</td>\n",
       "    </tr>\n",
       "    <tr>\n",
       "      <th>2</th>\n",
       "      <td>80.952</td>\n",
       "      <td>[2023-09-09 20:19:13 914]</td>\n",
       "      <td>80.0</td>\n",
       "      <td>0.5</td>\n",
       "    </tr>\n",
       "    <tr>\n",
       "      <th>3</th>\n",
       "      <td>81.452</td>\n",
       "      <td>[2023-09-09 20:19:14 414]</td>\n",
       "      <td>81.0</td>\n",
       "      <td>0.5</td>\n",
       "    </tr>\n",
       "    <tr>\n",
       "      <th>4</th>\n",
       "      <td>81.952</td>\n",
       "      <td>[2023-09-09 20:19:14 914]</td>\n",
       "      <td>81.0</td>\n",
       "      <td>0.5</td>\n",
       "    </tr>\n",
       "  </tbody>\n",
       "</table>\n",
       "</div>"
      ],
      "text/plain": [
       "   seconds                       date    hr  diff\n",
       "0   79.952  [2023-09-09 20:19:12 914]  80.0   NaN\n",
       "1   80.452  [2023-09-09 20:19:13 414]  80.0   0.5\n",
       "2   80.952  [2023-09-09 20:19:13 914]  80.0   0.5\n",
       "3   81.452  [2023-09-09 20:19:14 414]  81.0   0.5\n",
       "4   81.952  [2023-09-09 20:19:14 914]  81.0   0.5"
      ]
     },
     "execution_count": 5,
     "metadata": {},
     "output_type": "execute_result"
    }
   ],
   "source": [
    "hr = pd.read_csv(HR_DATASET_FILE_DIR,index_col=0)\n",
    "hr.head()"
   ]
  },
  {
   "cell_type": "code",
   "execution_count": 6,
   "id": "39e607fd-080b-4e63-aba4-9d5166cce03b",
   "metadata": {},
   "outputs": [
    {
     "data": {
      "text/html": [
       "<div>\n",
       "<style scoped>\n",
       "    .dataframe tbody tr th:only-of-type {\n",
       "        vertical-align: middle;\n",
       "    }\n",
       "\n",
       "    .dataframe tbody tr th {\n",
       "        vertical-align: top;\n",
       "    }\n",
       "\n",
       "    .dataframe thead th {\n",
       "        text-align: right;\n",
       "    }\n",
       "</style>\n",
       "<table border=\"1\" class=\"dataframe\">\n",
       "  <thead>\n",
       "    <tr style=\"text-align: right;\">\n",
       "      <th></th>\n",
       "      <th>seconds</th>\n",
       "      <th>date</th>\n",
       "      <th>activity_load_2d</th>\n",
       "      <th>activity_load_3d</th>\n",
       "    </tr>\n",
       "  </thead>\n",
       "  <tbody>\n",
       "    <tr>\n",
       "      <th>74</th>\n",
       "      <td>1.772</td>\n",
       "      <td>[2023-09-09 20:17:54 734]</td>\n",
       "      <td>0.0053</td>\n",
       "      <td>0.0057</td>\n",
       "    </tr>\n",
       "    <tr>\n",
       "      <th>185</th>\n",
       "      <td>2.772</td>\n",
       "      <td>[2023-09-09 20:17:55 734]</td>\n",
       "      <td>0.0029</td>\n",
       "      <td>0.0032</td>\n",
       "    </tr>\n",
       "    <tr>\n",
       "      <th>296</th>\n",
       "      <td>3.772</td>\n",
       "      <td>[2023-09-09 20:17:56 734]</td>\n",
       "      <td>0.0061</td>\n",
       "      <td>0.0065</td>\n",
       "    </tr>\n",
       "    <tr>\n",
       "      <th>407</th>\n",
       "      <td>4.772</td>\n",
       "      <td>[2023-09-09 20:17:57 734]</td>\n",
       "      <td>0.0043</td>\n",
       "      <td>0.0046</td>\n",
       "    </tr>\n",
       "    <tr>\n",
       "      <th>514</th>\n",
       "      <td>5.772</td>\n",
       "      <td>[2023-09-09 20:17:58 734]</td>\n",
       "      <td>0.0022</td>\n",
       "      <td>0.0025</td>\n",
       "    </tr>\n",
       "  </tbody>\n",
       "</table>\n",
       "</div>"
      ],
      "text/plain": [
       "     seconds                       date  activity_load_2d  activity_load_3d\n",
       "74     1.772  [2023-09-09 20:17:54 734]            0.0053            0.0057\n",
       "185    2.772  [2023-09-09 20:17:55 734]            0.0029            0.0032\n",
       "296    3.772  [2023-09-09 20:17:56 734]            0.0061            0.0065\n",
       "407    4.772  [2023-09-09 20:17:57 734]            0.0043            0.0046\n",
       "514    5.772  [2023-09-09 20:17:58 734]            0.0022            0.0025"
      ]
     },
     "execution_count": 6,
     "metadata": {},
     "output_type": "execute_result"
    }
   ],
   "source": [
    "activity_load = pd.read_csv(ACTIVITY_LOAD_DATASET_FILE_DIR,index_col=0)\n",
    "activity_load.head()"
   ]
  },
  {
   "cell_type": "markdown",
   "id": "6c541042-ae49-4ba8-a9e4-e14dd28370b0",
   "metadata": {},
   "source": [
    "Los datasets tienen distinto número de registros"
   ]
  },
  {
   "cell_type": "code",
   "execution_count": 7,
   "id": "738092aa-21bf-410b-9650-46508d321cb3",
   "metadata": {},
   "outputs": [
    {
     "name": "stdout",
     "output_type": "stream",
     "text": [
      "Número de registros de HR: 20489\n"
     ]
    }
   ],
   "source": [
    "print(f'Número de registros de HR: {len(hr)}')"
   ]
  },
  {
   "cell_type": "code",
   "execution_count": 8,
   "id": "964d3b76-ffa0-40fe-9a43-1ef8527c3cbf",
   "metadata": {},
   "outputs": [
    {
     "name": "stdout",
     "output_type": "stream",
     "text": [
      "Número de registros de ActivityLoad: 10335\n"
     ]
    }
   ],
   "source": [
    "print(f'Número de registros de ActivityLoad: {len(activity_load)}')"
   ]
  },
  {
   "cell_type": "markdown",
   "id": "919eab1d-a4f8-4ca0-8a08-123584d0d2fa",
   "metadata": {},
   "source": [
    "El número cuadra, es casi el doble."
   ]
  },
  {
   "cell_type": "markdown",
   "id": "f24ddcdd-c59a-4ca5-b11f-7be3dc3c835c",
   "metadata": {},
   "source": [
    "Coger los datos desde el inicio de partido"
   ]
  },
  {
   "cell_type": "markdown",
   "id": "27496805-dffe-445f-8ccf-cd67f1caae55",
   "metadata": {},
   "source": [
    "Hay que indicar cuando empieza el partido"
   ]
  },
  {
   "cell_type": "code",
   "execution_count": 9,
   "id": "34b61a54-db16-4a22-9a6c-4014f7e9c54d",
   "metadata": {},
   "outputs": [
    {
     "data": {
      "text/plain": [
       "[<matplotlib.lines.Line2D at 0x7f45d993f9d0>]"
      ]
     },
     "execution_count": 9,
     "metadata": {},
     "output_type": "execute_result"
    },
    {
     "data": {
      "image/png": "[encoded data removed]",
      "text/plain": [
       "<Figure size 432x288 with 1 Axes>"
      ]
     },
     "metadata": {
      "needs_background": "light"
     },
     "output_type": "display_data"
    }
   ],
   "source": [
    "import matplotlib.pyplot as plt\n",
    "\n",
    "x = hr['seconds']\n",
    "y = hr['hr']\n",
    "\n",
    "# Crear una figura y ejes\n",
    "fig, ax = plt.subplots()\n",
    "ax.plot(x, y, linestyle='-')"
   ]
  },
  {
   "cell_type": "markdown",
   "id": "5b1962b6-2814-4e53-a762-a74cafcb3177",
   "metadata": {},
   "source": [
    "## Obtener intervalo de partido"
   ]
  },
  {
   "cell_type": "markdown",
   "id": "8b4b6ef5-f0d4-4d9b-939b-7e152dbf8723",
   "metadata": {},
   "source": [
    "Se debe encontrar el inicio y el final del partido, se tiene cierta información de la página de la federación:\n",
    "\n",
    "https://www.rfebm.com/competiciones/competicion.php?seleccion=0&id=1019068&jornada=1&id_ambito=1"
   ]
  },
  {
   "cell_type": "markdown",
   "id": "0a423721-4456-4d83-a98f-37a6f5a9098c",
   "metadata": {},
   "source": [
    "El partido empieza a las 21:00"
   ]
  },
  {
   "cell_type": "code",
   "execution_count": 10,
   "id": "3eadfc5a-e835-451d-9909-493d57cf1200",
   "metadata": {},
   "outputs": [
    {
     "data": {
      "text/plain": [
       "seconds    float64\n",
       "date        object\n",
       "hr         float64\n",
       "diff       float64\n",
       "dtype: object"
      ]
     },
     "execution_count": 10,
     "metadata": {},
     "output_type": "execute_result"
    }
   ],
   "source": [
    "hr.dtypes"
   ]
  },
  {
   "cell_type": "code",
   "execution_count": 11,
   "id": "7d77a8fa-7d4f-43f5-b08e-dcfc5f39f89f",
   "metadata": {},
   "outputs": [],
   "source": [
    "hr['date'] = hr['date'].astype(str)"
   ]
  },
  {
   "cell_type": "code",
   "execution_count": 14,
   "id": "50dc12ba-358c-4a8d-8c62-0861a864af4d",
   "metadata": {},
   "outputs": [
    {
     "data": {
      "text/html": [
       "<div>\n",
       "<style scoped>\n",
       "    .dataframe tbody tr th:only-of-type {\n",
       "        vertical-align: middle;\n",
       "    }\n",
       "\n",
       "    .dataframe tbody tr th {\n",
       "        vertical-align: top;\n",
       "    }\n",
       "\n",
       "    .dataframe thead th {\n",
       "        text-align: right;\n",
       "    }\n",
       "</style>\n",
       "<table border=\"1\" class=\"dataframe\">\n",
       "  <thead>\n",
       "    <tr style=\"text-align: right;\">\n",
       "      <th></th>\n",
       "      <th>seconds</th>\n",
       "      <th>date</th>\n",
       "      <th>hr</th>\n",
       "      <th>diff</th>\n",
       "    </tr>\n",
       "  </thead>\n",
       "  <tbody>\n",
       "    <tr>\n",
       "      <th>4891</th>\n",
       "      <td>2527.064</td>\n",
       "      <td>[2023-09-09 21:00:00 026]</td>\n",
       "      <td>141.0</td>\n",
       "      <td>0.517</td>\n",
       "    </tr>\n",
       "    <tr>\n",
       "      <th>4892</th>\n",
       "      <td>2527.565</td>\n",
       "      <td>[2023-09-09 21:00:00 527]</td>\n",
       "      <td>141.0</td>\n",
       "      <td>0.501</td>\n",
       "    </tr>\n",
       "    <tr>\n",
       "      <th>4893</th>\n",
       "      <td>2528.064</td>\n",
       "      <td>[2023-09-09 21:00:01 026]</td>\n",
       "      <td>141.0</td>\n",
       "      <td>0.499</td>\n",
       "    </tr>\n",
       "    <tr>\n",
       "      <th>4894</th>\n",
       "      <td>2528.565</td>\n",
       "      <td>[2023-09-09 21:00:01 527]</td>\n",
       "      <td>140.0</td>\n",
       "      <td>0.501</td>\n",
       "    </tr>\n",
       "    <tr>\n",
       "      <th>4895</th>\n",
       "      <td>2529.064</td>\n",
       "      <td>[2023-09-09 21:00:02 026]</td>\n",
       "      <td>140.0</td>\n",
       "      <td>0.499</td>\n",
       "    </tr>\n",
       "    <tr>\n",
       "      <th>...</th>\n",
       "      <td>...</td>\n",
       "      <td>...</td>\n",
       "      <td>...</td>\n",
       "      <td>...</td>\n",
       "    </tr>\n",
       "    <tr>\n",
       "      <th>5006</th>\n",
       "      <td>2584.569</td>\n",
       "      <td>[2023-09-09 21:00:57 531]</td>\n",
       "      <td>104.0</td>\n",
       "      <td>0.501</td>\n",
       "    </tr>\n",
       "    <tr>\n",
       "      <th>5007</th>\n",
       "      <td>2585.068</td>\n",
       "      <td>[2023-09-09 21:00:58 030]</td>\n",
       "      <td>105.0</td>\n",
       "      <td>0.499</td>\n",
       "    </tr>\n",
       "    <tr>\n",
       "      <th>5008</th>\n",
       "      <td>2585.569</td>\n",
       "      <td>[2023-09-09 21:00:58 531]</td>\n",
       "      <td>105.0</td>\n",
       "      <td>0.501</td>\n",
       "    </tr>\n",
       "    <tr>\n",
       "      <th>5009</th>\n",
       "      <td>2586.051</td>\n",
       "      <td>[2023-09-09 21:00:59 013]</td>\n",
       "      <td>105.0</td>\n",
       "      <td>0.482</td>\n",
       "    </tr>\n",
       "    <tr>\n",
       "      <th>5010</th>\n",
       "      <td>2586.550</td>\n",
       "      <td>[2023-09-09 21:00:59 512]</td>\n",
       "      <td>104.0</td>\n",
       "      <td>0.499</td>\n",
       "    </tr>\n",
       "  </tbody>\n",
       "</table>\n",
       "<p>120 rows × 4 columns</p>\n",
       "</div>"
      ],
      "text/plain": [
       "       seconds                       date     hr   diff\n",
       "4891  2527.064  [2023-09-09 21:00:00 026]  141.0  0.517\n",
       "4892  2527.565  [2023-09-09 21:00:00 527]  141.0  0.501\n",
       "4893  2528.064  [2023-09-09 21:00:01 026]  141.0  0.499\n",
       "4894  2528.565  [2023-09-09 21:00:01 527]  140.0  0.501\n",
       "4895  2529.064  [2023-09-09 21:00:02 026]  140.0  0.499\n",
       "...        ...                        ...    ...    ...\n",
       "5006  2584.569  [2023-09-09 21:00:57 531]  104.0  0.501\n",
       "5007  2585.068  [2023-09-09 21:00:58 030]  105.0  0.499\n",
       "5008  2585.569  [2023-09-09 21:00:58 531]  105.0  0.501\n",
       "5009  2586.051  [2023-09-09 21:00:59 013]  105.0  0.482\n",
       "5010  2586.550  [2023-09-09 21:00:59 512]  104.0  0.499\n",
       "\n",
       "[120 rows x 4 columns]"
      ]
     },
     "execution_count": 14,
     "metadata": {},
     "output_type": "execute_result"
    }
   ],
   "source": [
    "hr[hr['date'].str.contains('21:00:')]"
   ]
  },
  {
   "cell_type": "markdown",
   "id": "4046c9df-ef3e-47b5-a3f8-bc4fd2068818",
   "metadata": {},
   "source": [
    "El partido empieza en el segundo 2520 apróximadamente."
   ]
  },
  {
   "cell_type": "code",
   "execution_count": 15,
   "id": "019618e8-5821-4686-bb2c-5d21257133d4",
   "metadata": {},
   "outputs": [],
   "source": [
    "match_start = 2527"
   ]
  },
  {
   "cell_type": "markdown",
   "id": "6ba23fa2-3e64-4756-9e03-f0de45274a11",
   "metadata": {},
   "source": [
    "Hay un total de 7 exclusiones y 2 tiempos muertos en la primera parte, por tanto, se considera que dura 39 minutos.\n",
    "La segunda parte tiene un total de 6 exclusiones y 3 tiempos muertos, haciendo un total de 39 minutos.\n",
    "El descanso dura 10 minutos."
   ]
  },
  {
   "cell_type": "code",
   "execution_count": 16,
   "id": "ff99ad61-f119-4f03-bd0d-c881ba972860",
   "metadata": {},
   "outputs": [
    {
     "name": "stdout",
     "output_type": "stream",
     "text": [
      "Tiempo hasta el final de partido: 88 minutos, 5280 segundos\n"
     ]
    }
   ],
   "source": [
    "duration = 39 + 10 + 39\n",
    "print(f'Tiempo hasta el final de partido: {duration} minutos, {duration * 60} segundos')"
   ]
  },
  {
   "cell_type": "code",
   "execution_count": 17,
   "id": "fcf04a17-4625-4692-af07-634d5c6bf75d",
   "metadata": {},
   "outputs": [
    {
     "data": {
      "text/plain": [
       "7807"
      ]
     },
     "execution_count": 17,
     "metadata": {},
     "output_type": "execute_result"
    }
   ],
   "source": [
    "match_end = match_start + duration * 60\n",
    "match_end"
   ]
  },
  {
   "cell_type": "markdown",
   "id": "cd05fe79-1109-4be0-b4cd-1df71acead6e",
   "metadata": {},
   "source": [
    "## Se procede a obtener el nuevo conjunto de datos en el intervalo de tiempo marcado"
   ]
  },
  {
   "cell_type": "code",
   "execution_count": 18,
   "id": "31301c3f-b49d-430b-9b58-cbf4c52faf86",
   "metadata": {},
   "outputs": [
    {
     "data": {
      "text/html": [
       "<div>\n",
       "<style scoped>\n",
       "    .dataframe tbody tr th:only-of-type {\n",
       "        vertical-align: middle;\n",
       "    }\n",
       "\n",
       "    .dataframe tbody tr th {\n",
       "        vertical-align: top;\n",
       "    }\n",
       "\n",
       "    .dataframe thead th {\n",
       "        text-align: right;\n",
       "    }\n",
       "</style>\n",
       "<table border=\"1\" class=\"dataframe\">\n",
       "  <thead>\n",
       "    <tr style=\"text-align: right;\">\n",
       "      <th></th>\n",
       "      <th>index</th>\n",
       "      <th>seconds</th>\n",
       "      <th>date</th>\n",
       "      <th>activity_load_2d</th>\n",
       "      <th>activity_load_3d</th>\n",
       "    </tr>\n",
       "  </thead>\n",
       "  <tbody>\n",
       "    <tr>\n",
       "      <th>0</th>\n",
       "      <td>287181</td>\n",
       "      <td>2527.503</td>\n",
       "      <td>[2023-09-09 21:00:00 465]</td>\n",
       "      <td>0.0076</td>\n",
       "      <td>0.0102</td>\n",
       "    </tr>\n",
       "    <tr>\n",
       "      <th>1</th>\n",
       "      <td>287292</td>\n",
       "      <td>2528.503</td>\n",
       "      <td>[2023-09-09 21:00:01 465]</td>\n",
       "      <td>0.0089</td>\n",
       "      <td>0.0113</td>\n",
       "    </tr>\n",
       "    <tr>\n",
       "      <th>2</th>\n",
       "      <td>287403</td>\n",
       "      <td>2529.503</td>\n",
       "      <td>[2023-09-09 21:00:02 465]</td>\n",
       "      <td>0.0197</td>\n",
       "      <td>0.0273</td>\n",
       "    </tr>\n",
       "    <tr>\n",
       "      <th>3</th>\n",
       "      <td>287519</td>\n",
       "      <td>2530.504</td>\n",
       "      <td>[2023-09-09 21:00:03 466]</td>\n",
       "      <td>0.0128</td>\n",
       "      <td>0.0170</td>\n",
       "    </tr>\n",
       "    <tr>\n",
       "      <th>4</th>\n",
       "      <td>287634</td>\n",
       "      <td>2531.504</td>\n",
       "      <td>[2023-09-09 21:00:04 466]</td>\n",
       "      <td>0.0081</td>\n",
       "      <td>0.0105</td>\n",
       "    </tr>\n",
       "    <tr>\n",
       "      <th>...</th>\n",
       "      <td>...</td>\n",
       "      <td>...</td>\n",
       "      <td>...</td>\n",
       "      <td>...</td>\n",
       "      <td>...</td>\n",
       "    </tr>\n",
       "    <tr>\n",
       "      <th>5261</th>\n",
       "      <td>886332</td>\n",
       "      <td>7802.813</td>\n",
       "      <td>[2023-09-09 22:27:55 775]</td>\n",
       "      <td>0.0090</td>\n",
       "      <td>0.0124</td>\n",
       "    </tr>\n",
       "    <tr>\n",
       "      <th>5262</th>\n",
       "      <td>886443</td>\n",
       "      <td>7803.813</td>\n",
       "      <td>[2023-09-09 22:27:56 775]</td>\n",
       "      <td>0.0071</td>\n",
       "      <td>0.0099</td>\n",
       "    </tr>\n",
       "    <tr>\n",
       "      <th>5263</th>\n",
       "      <td>886557</td>\n",
       "      <td>7804.755</td>\n",
       "      <td>[2023-09-09 22:27:57 717]</td>\n",
       "      <td>0.0082</td>\n",
       "      <td>0.0118</td>\n",
       "    </tr>\n",
       "    <tr>\n",
       "      <th>5264</th>\n",
       "      <td>886670</td>\n",
       "      <td>7805.754</td>\n",
       "      <td>[2023-09-09 22:27:58 716]</td>\n",
       "      <td>0.0078</td>\n",
       "      <td>0.0094</td>\n",
       "    </tr>\n",
       "    <tr>\n",
       "      <th>5265</th>\n",
       "      <td>886785</td>\n",
       "      <td>7806.813</td>\n",
       "      <td>[2023-09-09 22:27:59 775]</td>\n",
       "      <td>0.0066</td>\n",
       "      <td>0.0080</td>\n",
       "    </tr>\n",
       "  </tbody>\n",
       "</table>\n",
       "<p>5266 rows × 5 columns</p>\n",
       "</div>"
      ],
      "text/plain": [
       "       index   seconds                       date  activity_load_2d  \\\n",
       "0     287181  2527.503  [2023-09-09 21:00:00 465]            0.0076   \n",
       "1     287292  2528.503  [2023-09-09 21:00:01 465]            0.0089   \n",
       "2     287403  2529.503  [2023-09-09 21:00:02 465]            0.0197   \n",
       "3     287519  2530.504  [2023-09-09 21:00:03 466]            0.0128   \n",
       "4     287634  2531.504  [2023-09-09 21:00:04 466]            0.0081   \n",
       "...      ...       ...                        ...               ...   \n",
       "5261  886332  7802.813  [2023-09-09 22:27:55 775]            0.0090   \n",
       "5262  886443  7803.813  [2023-09-09 22:27:56 775]            0.0071   \n",
       "5263  886557  7804.755  [2023-09-09 22:27:57 717]            0.0082   \n",
       "5264  886670  7805.754  [2023-09-09 22:27:58 716]            0.0078   \n",
       "5265  886785  7806.813  [2023-09-09 22:27:59 775]            0.0066   \n",
       "\n",
       "      activity_load_3d  \n",
       "0               0.0102  \n",
       "1               0.0113  \n",
       "2               0.0273  \n",
       "3               0.0170  \n",
       "4               0.0105  \n",
       "...                ...  \n",
       "5261            0.0124  \n",
       "5262            0.0099  \n",
       "5263            0.0118  \n",
       "5264            0.0094  \n",
       "5265            0.0080  \n",
       "\n",
       "[5266 rows x 5 columns]"
      ]
     },
     "execution_count": 18,
     "metadata": {},
     "output_type": "execute_result"
    }
   ],
   "source": [
    "activity_match = activity_load[(activity_load['seconds']>match_start) & (activity_load['seconds']<match_end)]\n",
    "activity_match.reset_index(inplace=True)\n",
    "activity_match"
   ]
  },
  {
   "cell_type": "markdown",
   "id": "b2f0e961-ed18-43bc-a876-9084f4721b68",
   "metadata": {},
   "source": [
    "De hr, tan solo se coge la mitad del dataset"
   ]
  },
  {
   "cell_type": "code",
   "execution_count": 19,
   "id": "aa3b1aa0-5f78-42a6-b1da-396fac8b47dd",
   "metadata": {},
   "outputs": [
    {
     "name": "stderr",
     "output_type": "stream",
     "text": [
      "/tmp/ipykernel_6111/3022938453.py:1: UserWarning: Boolean Series key will be reindexed to match DataFrame index.\n",
      "  hr_match = hr.iloc[hr.index % 2 == 0][(hr['seconds']>match_start) & (hr['seconds']<match_end)]\n"
     ]
    },
    {
     "data": {
      "text/html": [
       "<div>\n",
       "<style scoped>\n",
       "    .dataframe tbody tr th:only-of-type {\n",
       "        vertical-align: middle;\n",
       "    }\n",
       "\n",
       "    .dataframe tbody tr th {\n",
       "        vertical-align: top;\n",
       "    }\n",
       "\n",
       "    .dataframe thead th {\n",
       "        text-align: right;\n",
       "    }\n",
       "</style>\n",
       "<table border=\"1\" class=\"dataframe\">\n",
       "  <thead>\n",
       "    <tr style=\"text-align: right;\">\n",
       "      <th></th>\n",
       "      <th>index</th>\n",
       "      <th>seconds</th>\n",
       "      <th>date</th>\n",
       "      <th>hr</th>\n",
       "      <th>diff</th>\n",
       "    </tr>\n",
       "  </thead>\n",
       "  <tbody>\n",
       "    <tr>\n",
       "      <th>0</th>\n",
       "      <td>4892</td>\n",
       "      <td>2527.565</td>\n",
       "      <td>[2023-09-09 21:00:00 527]</td>\n",
       "      <td>141.0</td>\n",
       "      <td>0.501</td>\n",
       "    </tr>\n",
       "    <tr>\n",
       "      <th>1</th>\n",
       "      <td>4894</td>\n",
       "      <td>2528.565</td>\n",
       "      <td>[2023-09-09 21:00:01 527]</td>\n",
       "      <td>140.0</td>\n",
       "      <td>0.501</td>\n",
       "    </tr>\n",
       "    <tr>\n",
       "      <th>2</th>\n",
       "      <td>4896</td>\n",
       "      <td>2529.565</td>\n",
       "      <td>[2023-09-09 21:00:02 527]</td>\n",
       "      <td>139.0</td>\n",
       "      <td>0.501</td>\n",
       "    </tr>\n",
       "    <tr>\n",
       "      <th>3</th>\n",
       "      <td>4898</td>\n",
       "      <td>2530.566</td>\n",
       "      <td>[2023-09-09 21:00:03 528]</td>\n",
       "      <td>139.0</td>\n",
       "      <td>0.501</td>\n",
       "    </tr>\n",
       "    <tr>\n",
       "      <th>4</th>\n",
       "      <td>4900</td>\n",
       "      <td>2531.566</td>\n",
       "      <td>[2023-09-09 21:00:04 528]</td>\n",
       "      <td>138.0</td>\n",
       "      <td>0.501</td>\n",
       "    </tr>\n",
       "    <tr>\n",
       "      <th>...</th>\n",
       "      <td>...</td>\n",
       "      <td>...</td>\n",
       "      <td>...</td>\n",
       "      <td>...</td>\n",
       "      <td>...</td>\n",
       "    </tr>\n",
       "    <tr>\n",
       "      <th>5265</th>\n",
       "      <td>15422</td>\n",
       "      <td>7802.495</td>\n",
       "      <td>[2023-09-09 22:27:55 457]</td>\n",
       "      <td>93.0</td>\n",
       "      <td>0.500</td>\n",
       "    </tr>\n",
       "    <tr>\n",
       "      <th>5266</th>\n",
       "      <td>15424</td>\n",
       "      <td>7803.495</td>\n",
       "      <td>[2023-09-09 22:27:56 457]</td>\n",
       "      <td>92.0</td>\n",
       "      <td>0.500</td>\n",
       "    </tr>\n",
       "    <tr>\n",
       "      <th>5267</th>\n",
       "      <td>15426</td>\n",
       "      <td>7804.495</td>\n",
       "      <td>[2023-09-09 22:27:57 457]</td>\n",
       "      <td>92.0</td>\n",
       "      <td>0.500</td>\n",
       "    </tr>\n",
       "    <tr>\n",
       "      <th>5268</th>\n",
       "      <td>15428</td>\n",
       "      <td>7805.436</td>\n",
       "      <td>[2023-09-09 22:27:58 398]</td>\n",
       "      <td>92.0</td>\n",
       "      <td>0.500</td>\n",
       "    </tr>\n",
       "    <tr>\n",
       "      <th>5269</th>\n",
       "      <td>15430</td>\n",
       "      <td>7806.478</td>\n",
       "      <td>[2023-09-09 22:27:59 440]</td>\n",
       "      <td>92.0</td>\n",
       "      <td>0.542</td>\n",
       "    </tr>\n",
       "  </tbody>\n",
       "</table>\n",
       "<p>5270 rows × 5 columns</p>\n",
       "</div>"
      ],
      "text/plain": [
       "      index   seconds                       date     hr   diff\n",
       "0      4892  2527.565  [2023-09-09 21:00:00 527]  141.0  0.501\n",
       "1      4894  2528.565  [2023-09-09 21:00:01 527]  140.0  0.501\n",
       "2      4896  2529.565  [2023-09-09 21:00:02 527]  139.0  0.501\n",
       "3      4898  2530.566  [2023-09-09 21:00:03 528]  139.0  0.501\n",
       "4      4900  2531.566  [2023-09-09 21:00:04 528]  138.0  0.501\n",
       "...     ...       ...                        ...    ...    ...\n",
       "5265  15422  7802.495  [2023-09-09 22:27:55 457]   93.0  0.500\n",
       "5266  15424  7803.495  [2023-09-09 22:27:56 457]   92.0  0.500\n",
       "5267  15426  7804.495  [2023-09-09 22:27:57 457]   92.0  0.500\n",
       "5268  15428  7805.436  [2023-09-09 22:27:58 398]   92.0  0.500\n",
       "5269  15430  7806.478  [2023-09-09 22:27:59 440]   92.0  0.542\n",
       "\n",
       "[5270 rows x 5 columns]"
      ]
     },
     "execution_count": 19,
     "metadata": {},
     "output_type": "execute_result"
    }
   ],
   "source": [
    "hr_match = hr.iloc[hr.index % 2 == 0][(hr['seconds']>match_start) & (hr['seconds']<match_end)]\n",
    "hr_match.reset_index(inplace=True)\n",
    "hr_match"
   ]
  },
  {
   "cell_type": "code",
   "execution_count": 20,
   "id": "0497b9e3-f6a9-4781-9830-60e7637e4b0a",
   "metadata": {},
   "outputs": [],
   "source": [
    "hr_match['activity_load_2d'] = activity_match['activity_load_2d']"
   ]
  },
  {
   "cell_type": "code",
   "execution_count": 21,
   "id": "63a10208-0173-41bd-ab9f-b41508e27823",
   "metadata": {},
   "outputs": [],
   "source": [
    "hr_match['activity_load_3d'] = activity_match['activity_load_3d']"
   ]
  },
  {
   "cell_type": "code",
   "execution_count": 22,
   "id": "e16889f2-1ec8-46fc-853e-99e5a4eb9cb5",
   "metadata": {},
   "outputs": [
    {
     "data": {
      "text/html": [
       "<div>\n",
       "<style scoped>\n",
       "    .dataframe tbody tr th:only-of-type {\n",
       "        vertical-align: middle;\n",
       "    }\n",
       "\n",
       "    .dataframe tbody tr th {\n",
       "        vertical-align: top;\n",
       "    }\n",
       "\n",
       "    .dataframe thead th {\n",
       "        text-align: right;\n",
       "    }\n",
       "</style>\n",
       "<table border=\"1\" class=\"dataframe\">\n",
       "  <thead>\n",
       "    <tr style=\"text-align: right;\">\n",
       "      <th></th>\n",
       "      <th>index</th>\n",
       "      <th>seconds</th>\n",
       "      <th>date</th>\n",
       "      <th>hr</th>\n",
       "      <th>diff</th>\n",
       "      <th>activity_load_2d</th>\n",
       "      <th>activity_load_3d</th>\n",
       "    </tr>\n",
       "  </thead>\n",
       "  <tbody>\n",
       "    <tr>\n",
       "      <th>0</th>\n",
       "      <td>4892</td>\n",
       "      <td>2527.565</td>\n",
       "      <td>[2023-09-09 21:00:00 527]</td>\n",
       "      <td>141.0</td>\n",
       "      <td>0.501</td>\n",
       "      <td>0.0076</td>\n",
       "      <td>0.0102</td>\n",
       "    </tr>\n",
       "    <tr>\n",
       "      <th>1</th>\n",
       "      <td>4894</td>\n",
       "      <td>2528.565</td>\n",
       "      <td>[2023-09-09 21:00:01 527]</td>\n",
       "      <td>140.0</td>\n",
       "      <td>0.501</td>\n",
       "      <td>0.0089</td>\n",
       "      <td>0.0113</td>\n",
       "    </tr>\n",
       "    <tr>\n",
       "      <th>2</th>\n",
       "      <td>4896</td>\n",
       "      <td>2529.565</td>\n",
       "      <td>[2023-09-09 21:00:02 527]</td>\n",
       "      <td>139.0</td>\n",
       "      <td>0.501</td>\n",
       "      <td>0.0197</td>\n",
       "      <td>0.0273</td>\n",
       "    </tr>\n",
       "    <tr>\n",
       "      <th>3</th>\n",
       "      <td>4898</td>\n",
       "      <td>2530.566</td>\n",
       "      <td>[2023-09-09 21:00:03 528]</td>\n",
       "      <td>139.0</td>\n",
       "      <td>0.501</td>\n",
       "      <td>0.0128</td>\n",
       "      <td>0.0170</td>\n",
       "    </tr>\n",
       "    <tr>\n",
       "      <th>4</th>\n",
       "      <td>4900</td>\n",
       "      <td>2531.566</td>\n",
       "      <td>[2023-09-09 21:00:04 528]</td>\n",
       "      <td>138.0</td>\n",
       "      <td>0.501</td>\n",
       "      <td>0.0081</td>\n",
       "      <td>0.0105</td>\n",
       "    </tr>\n",
       "    <tr>\n",
       "      <th>...</th>\n",
       "      <td>...</td>\n",
       "      <td>...</td>\n",
       "      <td>...</td>\n",
       "      <td>...</td>\n",
       "      <td>...</td>\n",
       "      <td>...</td>\n",
       "      <td>...</td>\n",
       "    </tr>\n",
       "    <tr>\n",
       "      <th>5265</th>\n",
       "      <td>15422</td>\n",
       "      <td>7802.495</td>\n",
       "      <td>[2023-09-09 22:27:55 457]</td>\n",
       "      <td>93.0</td>\n",
       "      <td>0.500</td>\n",
       "      <td>0.0066</td>\n",
       "      <td>0.0080</td>\n",
       "    </tr>\n",
       "    <tr>\n",
       "      <th>5266</th>\n",
       "      <td>15424</td>\n",
       "      <td>7803.495</td>\n",
       "      <td>[2023-09-09 22:27:56 457]</td>\n",
       "      <td>92.0</td>\n",
       "      <td>0.500</td>\n",
       "      <td>NaN</td>\n",
       "      <td>NaN</td>\n",
       "    </tr>\n",
       "    <tr>\n",
       "      <th>5267</th>\n",
       "      <td>15426</td>\n",
       "      <td>7804.495</td>\n",
       "      <td>[2023-09-09 22:27:57 457]</td>\n",
       "      <td>92.0</td>\n",
       "      <td>0.500</td>\n",
       "      <td>NaN</td>\n",
       "      <td>NaN</td>\n",
       "    </tr>\n",
       "    <tr>\n",
       "      <th>5268</th>\n",
       "      <td>15428</td>\n",
       "      <td>7805.436</td>\n",
       "      <td>[2023-09-09 22:27:58 398]</td>\n",
       "      <td>92.0</td>\n",
       "      <td>0.500</td>\n",
       "      <td>NaN</td>\n",
       "      <td>NaN</td>\n",
       "    </tr>\n",
       "    <tr>\n",
       "      <th>5269</th>\n",
       "      <td>15430</td>\n",
       "      <td>7806.478</td>\n",
       "      <td>[2023-09-09 22:27:59 440]</td>\n",
       "      <td>92.0</td>\n",
       "      <td>0.542</td>\n",
       "      <td>NaN</td>\n",
       "      <td>NaN</td>\n",
       "    </tr>\n",
       "  </tbody>\n",
       "</table>\n",
       "<p>5270 rows × 7 columns</p>\n",
       "</div>"
      ],
      "text/plain": [
       "      index   seconds                       date     hr   diff  \\\n",
       "0      4892  2527.565  [2023-09-09 21:00:00 527]  141.0  0.501   \n",
       "1      4894  2528.565  [2023-09-09 21:00:01 527]  140.0  0.501   \n",
       "2      4896  2529.565  [2023-09-09 21:00:02 527]  139.0  0.501   \n",
       "3      4898  2530.566  [2023-09-09 21:00:03 528]  139.0  0.501   \n",
       "4      4900  2531.566  [2023-09-09 21:00:04 528]  138.0  0.501   \n",
       "...     ...       ...                        ...    ...    ...   \n",
       "5265  15422  7802.495  [2023-09-09 22:27:55 457]   93.0  0.500   \n",
       "5266  15424  7803.495  [2023-09-09 22:27:56 457]   92.0  0.500   \n",
       "5267  15426  7804.495  [2023-09-09 22:27:57 457]   92.0  0.500   \n",
       "5268  15428  7805.436  [2023-09-09 22:27:58 398]   92.0  0.500   \n",
       "5269  15430  7806.478  [2023-09-09 22:27:59 440]   92.0  0.542   \n",
       "\n",
       "      activity_load_2d  activity_load_3d  \n",
       "0               0.0076            0.0102  \n",
       "1               0.0089            0.0113  \n",
       "2               0.0197            0.0273  \n",
       "3               0.0128            0.0170  \n",
       "4               0.0081            0.0105  \n",
       "...                ...               ...  \n",
       "5265            0.0066            0.0080  \n",
       "5266               NaN               NaN  \n",
       "5267               NaN               NaN  \n",
       "5268               NaN               NaN  \n",
       "5269               NaN               NaN  \n",
       "\n",
       "[5270 rows x 7 columns]"
      ]
     },
     "execution_count": 22,
     "metadata": {},
     "output_type": "execute_result"
    }
   ],
   "source": [
    "hr_match"
   ]
  },
  {
   "cell_type": "code",
   "execution_count": 23,
   "id": "891490b8-54ad-4553-8592-37e4576e162d",
   "metadata": {},
   "outputs": [],
   "source": [
    "hr_match.drop(['index', 'diff'],axis=1, inplace=True)"
   ]
  },
  {
   "cell_type": "code",
   "execution_count": 24,
   "id": "b8f13879-89ad-4939-92de-acf23e9293cd",
   "metadata": {},
   "outputs": [
    {
     "data": {
      "text/html": [
       "<div>\n",
       "<style scoped>\n",
       "    .dataframe tbody tr th:only-of-type {\n",
       "        vertical-align: middle;\n",
       "    }\n",
       "\n",
       "    .dataframe tbody tr th {\n",
       "        vertical-align: top;\n",
       "    }\n",
       "\n",
       "    .dataframe thead th {\n",
       "        text-align: right;\n",
       "    }\n",
       "</style>\n",
       "<table border=\"1\" class=\"dataframe\">\n",
       "  <thead>\n",
       "    <tr style=\"text-align: right;\">\n",
       "      <th></th>\n",
       "      <th>seconds</th>\n",
       "      <th>date</th>\n",
       "      <th>hr</th>\n",
       "      <th>activity_load_2d</th>\n",
       "      <th>activity_load_3d</th>\n",
       "    </tr>\n",
       "  </thead>\n",
       "  <tbody>\n",
       "    <tr>\n",
       "      <th>0</th>\n",
       "      <td>2527.565</td>\n",
       "      <td>[2023-09-09 21:00:00 527]</td>\n",
       "      <td>141.0</td>\n",
       "      <td>0.0076</td>\n",
       "      <td>0.0102</td>\n",
       "    </tr>\n",
       "    <tr>\n",
       "      <th>1</th>\n",
       "      <td>2528.565</td>\n",
       "      <td>[2023-09-09 21:00:01 527]</td>\n",
       "      <td>140.0</td>\n",
       "      <td>0.0089</td>\n",
       "      <td>0.0113</td>\n",
       "    </tr>\n",
       "    <tr>\n",
       "      <th>2</th>\n",
       "      <td>2529.565</td>\n",
       "      <td>[2023-09-09 21:00:02 527]</td>\n",
       "      <td>139.0</td>\n",
       "      <td>0.0197</td>\n",
       "      <td>0.0273</td>\n",
       "    </tr>\n",
       "    <tr>\n",
       "      <th>3</th>\n",
       "      <td>2530.566</td>\n",
       "      <td>[2023-09-09 21:00:03 528]</td>\n",
       "      <td>139.0</td>\n",
       "      <td>0.0128</td>\n",
       "      <td>0.0170</td>\n",
       "    </tr>\n",
       "    <tr>\n",
       "      <th>4</th>\n",
       "      <td>2531.566</td>\n",
       "      <td>[2023-09-09 21:00:04 528]</td>\n",
       "      <td>138.0</td>\n",
       "      <td>0.0081</td>\n",
       "      <td>0.0105</td>\n",
       "    </tr>\n",
       "  </tbody>\n",
       "</table>\n",
       "</div>"
      ],
      "text/plain": [
       "    seconds                       date     hr  activity_load_2d  \\\n",
       "0  2527.565  [2023-09-09 21:00:00 527]  141.0            0.0076   \n",
       "1  2528.565  [2023-09-09 21:00:01 527]  140.0            0.0089   \n",
       "2  2529.565  [2023-09-09 21:00:02 527]  139.0            0.0197   \n",
       "3  2530.566  [2023-09-09 21:00:03 528]  139.0            0.0128   \n",
       "4  2531.566  [2023-09-09 21:00:04 528]  138.0            0.0081   \n",
       "\n",
       "   activity_load_3d  \n",
       "0            0.0102  \n",
       "1            0.0113  \n",
       "2            0.0273  \n",
       "3            0.0170  \n",
       "4            0.0105  "
      ]
     },
     "execution_count": 24,
     "metadata": {},
     "output_type": "execute_result"
    }
   ],
   "source": [
    "hr_match.head()"
   ]
  },
  {
   "cell_type": "code",
   "execution_count": 25,
   "id": "628d3c92-a5da-40a5-833c-7011714bbfe0",
   "metadata": {},
   "outputs": [],
   "source": [
    "hr_match.to_csv(f'../../../../datasets/study-players/{record_date}/{player_name}_match_attributes.csv')"
   ]
  },
  {
   "cell_type": "code",
   "execution_count": null,
   "id": "f767bac9-9eba-48c2-b4d2-6cf61f57fe13",
   "metadata": {},
   "outputs": [],
   "source": []
  }
 ],
 "metadata": {
  "kernelspec": {
   "display_name": "Python 3 (ipykernel)",
   "language": "python",
   "name": "python3"
  },
  "language_info": {
   "codemirror_mode": {
    "name": "ipython",
    "version": 3
   },
   "file_extension": ".py",
   "mimetype": "text/x-python",
   "name": "python",
   "nbconvert_exporter": "python",
   "pygments_lexer": "ipython3",
   "version": "3.9.2"
  }
 },
 "nbformat": 4,
 "nbformat_minor": 5
}
