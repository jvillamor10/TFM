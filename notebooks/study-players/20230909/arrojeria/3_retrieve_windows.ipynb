{
 "cells": [
  {
   "cell_type": "code",
   "execution_count": 1,
   "id": "c58da552-68bc-4e72-8aff-110cfc1a9dc4",
   "metadata": {},
   "outputs": [],
   "source": [
    "import pandas as pd"
   ]
  },
  {
   "cell_type": "code",
   "execution_count": 2,
   "id": "6653c9d5-45f0-43b2-9b10-5a371a397f1d",
   "metadata": {},
   "outputs": [],
   "source": [
    "record_date = '20230909'"
   ]
  },
  {
   "cell_type": "code",
   "execution_count": 3,
   "id": "6997eaa1-5a21-443f-8794-f35701a200ea",
   "metadata": {},
   "outputs": [],
   "source": [
    "player_name = 'arrojeria_esther'"
   ]
  },
  {
   "cell_type": "code",
   "execution_count": 4,
   "id": "365f3a21-f648-4890-8417-fe5908b5ea7f",
   "metadata": {},
   "outputs": [],
   "source": [
    "PLAYER_HR_FILE_DIR = f'../../../../datasets/study-players/{record_date}/{player_name}_hr_without_gaps.csv'\n",
    "PLAYER_ACTIVITY_FILE_DIR = f'../../../../datasets/study-players/{record_date}/{player_name}_activity_load.csv'"
   ]
  },
  {
   "cell_type": "code",
   "execution_count": 5,
   "id": "366c6632-fbf9-4134-94b1-bec71c1d9d0d",
   "metadata": {},
   "outputs": [],
   "source": [
    "hr = pd.read_csv(PLAYER_HR_FILE_DIR,index_col=0)\n",
    "activity_load = pd.read_csv(PLAYER_ACTIVITY_FILE_DIR,index_col=0)"
   ]
  },
  {
   "cell_type": "code",
   "execution_count": 6,
   "id": "beaeb63f-4cb1-4017-9973-182de86dedaa",
   "metadata": {},
   "outputs": [
    {
     "data": {
      "text/html": [
       "<div>\n",
       "<style scoped>\n",
       "    .dataframe tbody tr th:only-of-type {\n",
       "        vertical-align: middle;\n",
       "    }\n",
       "\n",
       "    .dataframe tbody tr th {\n",
       "        vertical-align: top;\n",
       "    }\n",
       "\n",
       "    .dataframe thead th {\n",
       "        text-align: right;\n",
       "    }\n",
       "</style>\n",
       "<table border=\"1\" class=\"dataframe\">\n",
       "  <thead>\n",
       "    <tr style=\"text-align: right;\">\n",
       "      <th></th>\n",
       "      <th>seconds</th>\n",
       "      <th>date</th>\n",
       "      <th>hr</th>\n",
       "      <th>diff</th>\n",
       "    </tr>\n",
       "  </thead>\n",
       "  <tbody>\n",
       "    <tr>\n",
       "      <th>0</th>\n",
       "      <td>79.952</td>\n",
       "      <td>[2023-09-09 20:19:12 914]</td>\n",
       "      <td>80.0</td>\n",
       "      <td>NaN</td>\n",
       "    </tr>\n",
       "    <tr>\n",
       "      <th>1</th>\n",
       "      <td>80.452</td>\n",
       "      <td>[2023-09-09 20:19:13 414]</td>\n",
       "      <td>80.0</td>\n",
       "      <td>0.5</td>\n",
       "    </tr>\n",
       "    <tr>\n",
       "      <th>2</th>\n",
       "      <td>80.952</td>\n",
       "      <td>[2023-09-09 20:19:13 914]</td>\n",
       "      <td>80.0</td>\n",
       "      <td>0.5</td>\n",
       "    </tr>\n",
       "    <tr>\n",
       "      <th>3</th>\n",
       "      <td>81.452</td>\n",
       "      <td>[2023-09-09 20:19:14 414]</td>\n",
       "      <td>81.0</td>\n",
       "      <td>0.5</td>\n",
       "    </tr>\n",
       "    <tr>\n",
       "      <th>4</th>\n",
       "      <td>81.952</td>\n",
       "      <td>[2023-09-09 20:19:14 914]</td>\n",
       "      <td>81.0</td>\n",
       "      <td>0.5</td>\n",
       "    </tr>\n",
       "  </tbody>\n",
       "</table>\n",
       "</div>"
      ],
      "text/plain": [
       "   seconds                       date    hr  diff\n",
       "0   79.952  [2023-09-09 20:19:12 914]  80.0   NaN\n",
       "1   80.452  [2023-09-09 20:19:13 414]  80.0   0.5\n",
       "2   80.952  [2023-09-09 20:19:13 914]  80.0   0.5\n",
       "3   81.452  [2023-09-09 20:19:14 414]  81.0   0.5\n",
       "4   81.952  [2023-09-09 20:19:14 914]  81.0   0.5"
      ]
     },
     "execution_count": 6,
     "metadata": {},
     "output_type": "execute_result"
    }
   ],
   "source": [
    "hr.head()"
   ]
  },
  {
   "cell_type": "code",
   "execution_count": 7,
   "id": "d53e7c6c-0510-4969-be7a-d52a95c34291",
   "metadata": {},
   "outputs": [
    {
     "data": {
      "text/html": [
       "<div>\n",
       "<style scoped>\n",
       "    .dataframe tbody tr th:only-of-type {\n",
       "        vertical-align: middle;\n",
       "    }\n",
       "\n",
       "    .dataframe tbody tr th {\n",
       "        vertical-align: top;\n",
       "    }\n",
       "\n",
       "    .dataframe thead th {\n",
       "        text-align: right;\n",
       "    }\n",
       "</style>\n",
       "<table border=\"1\" class=\"dataframe\">\n",
       "  <thead>\n",
       "    <tr style=\"text-align: right;\">\n",
       "      <th></th>\n",
       "      <th>seconds</th>\n",
       "      <th>date</th>\n",
       "      <th>activity_load_2d</th>\n",
       "      <th>activity_load_3d</th>\n",
       "    </tr>\n",
       "  </thead>\n",
       "  <tbody>\n",
       "    <tr>\n",
       "      <th>74</th>\n",
       "      <td>1.772</td>\n",
       "      <td>[2023-09-09 20:17:54 734]</td>\n",
       "      <td>0.0053</td>\n",
       "      <td>0.0057</td>\n",
       "    </tr>\n",
       "    <tr>\n",
       "      <th>185</th>\n",
       "      <td>2.772</td>\n",
       "      <td>[2023-09-09 20:17:55 734]</td>\n",
       "      <td>0.0029</td>\n",
       "      <td>0.0032</td>\n",
       "    </tr>\n",
       "    <tr>\n",
       "      <th>296</th>\n",
       "      <td>3.772</td>\n",
       "      <td>[2023-09-09 20:17:56 734]</td>\n",
       "      <td>0.0061</td>\n",
       "      <td>0.0065</td>\n",
       "    </tr>\n",
       "    <tr>\n",
       "      <th>407</th>\n",
       "      <td>4.772</td>\n",
       "      <td>[2023-09-09 20:17:57 734]</td>\n",
       "      <td>0.0043</td>\n",
       "      <td>0.0046</td>\n",
       "    </tr>\n",
       "    <tr>\n",
       "      <th>514</th>\n",
       "      <td>5.772</td>\n",
       "      <td>[2023-09-09 20:17:58 734]</td>\n",
       "      <td>0.0022</td>\n",
       "      <td>0.0025</td>\n",
       "    </tr>\n",
       "  </tbody>\n",
       "</table>\n",
       "</div>"
      ],
      "text/plain": [
       "     seconds                       date  activity_load_2d  activity_load_3d\n",
       "74     1.772  [2023-09-09 20:17:54 734]            0.0053            0.0057\n",
       "185    2.772  [2023-09-09 20:17:55 734]            0.0029            0.0032\n",
       "296    3.772  [2023-09-09 20:17:56 734]            0.0061            0.0065\n",
       "407    4.772  [2023-09-09 20:17:57 734]            0.0043            0.0046\n",
       "514    5.772  [2023-09-09 20:17:58 734]            0.0022            0.0025"
      ]
     },
     "execution_count": 7,
     "metadata": {},
     "output_type": "execute_result"
    }
   ],
   "source": [
    "activity_load.head()"
   ]
  },
  {
   "cell_type": "markdown",
   "id": "b3baf374-48ab-49cd-b995-367a4324c3b7",
   "metadata": {},
   "source": [
    "### OBTENCIÓN DE VENTANAS DE HR"
   ]
  },
  {
   "cell_type": "code",
   "execution_count": 8,
   "id": "1c3fc98a-1ff0-4a62-9d38-e2da9958a6e4",
   "metadata": {},
   "outputs": [
    {
     "name": "stdout",
     "output_type": "stream",
     "text": [
      "Número de registros: 20489\n"
     ]
    }
   ],
   "source": [
    "print(f'Número de registros: {len(hr)}')"
   ]
  },
  {
   "cell_type": "markdown",
   "id": "ab5cfb41-f2b9-4b7d-b446-9adb69fc04d1",
   "metadata": {},
   "source": [
    "Se fijan los valores para la obtención de ventanas"
   ]
  },
  {
   "cell_type": "code",
   "execution_count": 9,
   "id": "c7cd25d3-b24a-45ef-b1cb-108d20e7e143",
   "metadata": {},
   "outputs": [],
   "source": [
    "window_size = 10\n",
    "overlap = 0.5"
   ]
  },
  {
   "cell_type": "markdown",
   "id": "cda42913-42e5-49a1-a968-258572acb6f5",
   "metadata": {},
   "source": [
    "Se crea el dataframe en el que se van a guardar las ventanas"
   ]
  },
  {
   "cell_type": "code",
   "execution_count": 10,
   "id": "56a1d099-4f89-49e1-bb20-72ea03c74faf",
   "metadata": {},
   "outputs": [],
   "source": [
    "window = pd.DataFrame()"
   ]
  },
  {
   "cell_type": "markdown",
   "id": "f4a89476-b228-43df-b4af-91b70fed316b",
   "metadata": {},
   "source": [
    "Se coge cada registro con un intervalo del tamaño de la ventana multiplicado por el solapamiento"
   ]
  },
  {
   "cell_type": "code",
   "execution_count": 11,
   "id": "95f80076-d7e4-46bf-949a-014f8516deae",
   "metadata": {},
   "outputs": [],
   "source": [
    "for i in range(0,len(hr), int(window_size*(1-overlap))):\n",
    "    window = window.append([hr.iloc[i:i+window_size]['hr'].values])"
   ]
  },
  {
   "cell_type": "code",
   "execution_count": 12,
   "id": "37543b7b-971a-4308-9b52-3c1fe6db5560",
   "metadata": {},
   "outputs": [
    {
     "data": {
      "text/html": [
       "<div>\n",
       "<style scoped>\n",
       "    .dataframe tbody tr th:only-of-type {\n",
       "        vertical-align: middle;\n",
       "    }\n",
       "\n",
       "    .dataframe tbody tr th {\n",
       "        vertical-align: top;\n",
       "    }\n",
       "\n",
       "    .dataframe thead th {\n",
       "        text-align: right;\n",
       "    }\n",
       "</style>\n",
       "<table border=\"1\" class=\"dataframe\">\n",
       "  <thead>\n",
       "    <tr style=\"text-align: right;\">\n",
       "      <th></th>\n",
       "      <th>0</th>\n",
       "      <th>1</th>\n",
       "      <th>2</th>\n",
       "      <th>3</th>\n",
       "      <th>4</th>\n",
       "      <th>5</th>\n",
       "      <th>6</th>\n",
       "      <th>7</th>\n",
       "      <th>8</th>\n",
       "      <th>9</th>\n",
       "    </tr>\n",
       "  </thead>\n",
       "  <tbody>\n",
       "    <tr>\n",
       "      <th>0</th>\n",
       "      <td>80.0</td>\n",
       "      <td>80.0</td>\n",
       "      <td>80.0</td>\n",
       "      <td>81.0</td>\n",
       "      <td>81.0</td>\n",
       "      <td>82.0</td>\n",
       "      <td>82.0</td>\n",
       "      <td>83.0</td>\n",
       "      <td>83.0</td>\n",
       "      <td>84.0</td>\n",
       "    </tr>\n",
       "    <tr>\n",
       "      <th>0</th>\n",
       "      <td>82.0</td>\n",
       "      <td>82.0</td>\n",
       "      <td>83.0</td>\n",
       "      <td>83.0</td>\n",
       "      <td>84.0</td>\n",
       "      <td>84.0</td>\n",
       "      <td>85.0</td>\n",
       "      <td>86.0</td>\n",
       "      <td>88.0</td>\n",
       "      <td>89.0</td>\n",
       "    </tr>\n",
       "    <tr>\n",
       "      <th>0</th>\n",
       "      <td>84.0</td>\n",
       "      <td>85.0</td>\n",
       "      <td>86.0</td>\n",
       "      <td>88.0</td>\n",
       "      <td>89.0</td>\n",
       "      <td>90.0</td>\n",
       "      <td>90.0</td>\n",
       "      <td>91.0</td>\n",
       "      <td>91.0</td>\n",
       "      <td>92.0</td>\n",
       "    </tr>\n",
       "    <tr>\n",
       "      <th>0</th>\n",
       "      <td>90.0</td>\n",
       "      <td>90.0</td>\n",
       "      <td>91.0</td>\n",
       "      <td>91.0</td>\n",
       "      <td>92.0</td>\n",
       "      <td>92.0</td>\n",
       "      <td>92.0</td>\n",
       "      <td>91.0</td>\n",
       "      <td>91.0</td>\n",
       "      <td>92.0</td>\n",
       "    </tr>\n",
       "    <tr>\n",
       "      <th>0</th>\n",
       "      <td>92.0</td>\n",
       "      <td>92.0</td>\n",
       "      <td>91.0</td>\n",
       "      <td>91.0</td>\n",
       "      <td>92.0</td>\n",
       "      <td>92.0</td>\n",
       "      <td>92.0</td>\n",
       "      <td>93.0</td>\n",
       "      <td>94.0</td>\n",
       "      <td>96.0</td>\n",
       "    </tr>\n",
       "    <tr>\n",
       "      <th>...</th>\n",
       "      <td>...</td>\n",
       "      <td>...</td>\n",
       "      <td>...</td>\n",
       "      <td>...</td>\n",
       "      <td>...</td>\n",
       "      <td>...</td>\n",
       "      <td>...</td>\n",
       "      <td>...</td>\n",
       "      <td>...</td>\n",
       "      <td>...</td>\n",
       "    </tr>\n",
       "    <tr>\n",
       "      <th>0</th>\n",
       "      <td>100.0</td>\n",
       "      <td>100.0</td>\n",
       "      <td>100.0</td>\n",
       "      <td>100.0</td>\n",
       "      <td>100.0</td>\n",
       "      <td>100.0</td>\n",
       "      <td>100.0</td>\n",
       "      <td>100.0</td>\n",
       "      <td>100.0</td>\n",
       "      <td>100.0</td>\n",
       "    </tr>\n",
       "    <tr>\n",
       "      <th>0</th>\n",
       "      <td>100.0</td>\n",
       "      <td>100.0</td>\n",
       "      <td>100.0</td>\n",
       "      <td>100.0</td>\n",
       "      <td>100.0</td>\n",
       "      <td>100.0</td>\n",
       "      <td>100.0</td>\n",
       "      <td>100.0</td>\n",
       "      <td>100.0</td>\n",
       "      <td>100.0</td>\n",
       "    </tr>\n",
       "    <tr>\n",
       "      <th>0</th>\n",
       "      <td>100.0</td>\n",
       "      <td>100.0</td>\n",
       "      <td>100.0</td>\n",
       "      <td>100.0</td>\n",
       "      <td>100.0</td>\n",
       "      <td>100.0</td>\n",
       "      <td>100.0</td>\n",
       "      <td>100.0</td>\n",
       "      <td>100.0</td>\n",
       "      <td>99.0</td>\n",
       "    </tr>\n",
       "    <tr>\n",
       "      <th>0</th>\n",
       "      <td>100.0</td>\n",
       "      <td>100.0</td>\n",
       "      <td>100.0</td>\n",
       "      <td>100.0</td>\n",
       "      <td>99.0</td>\n",
       "      <td>99.0</td>\n",
       "      <td>98.0</td>\n",
       "      <td>98.0</td>\n",
       "      <td>98.0</td>\n",
       "      <td>NaN</td>\n",
       "    </tr>\n",
       "    <tr>\n",
       "      <th>0</th>\n",
       "      <td>99.0</td>\n",
       "      <td>98.0</td>\n",
       "      <td>98.0</td>\n",
       "      <td>98.0</td>\n",
       "      <td>NaN</td>\n",
       "      <td>NaN</td>\n",
       "      <td>NaN</td>\n",
       "      <td>NaN</td>\n",
       "      <td>NaN</td>\n",
       "      <td>NaN</td>\n",
       "    </tr>\n",
       "  </tbody>\n",
       "</table>\n",
       "<p>4098 rows × 10 columns</p>\n",
       "</div>"
      ],
      "text/plain": [
       "        0      1      2      3      4      5      6      7      8      9\n",
       "0    80.0   80.0   80.0   81.0   81.0   82.0   82.0   83.0   83.0   84.0\n",
       "0    82.0   82.0   83.0   83.0   84.0   84.0   85.0   86.0   88.0   89.0\n",
       "0    84.0   85.0   86.0   88.0   89.0   90.0   90.0   91.0   91.0   92.0\n",
       "0    90.0   90.0   91.0   91.0   92.0   92.0   92.0   91.0   91.0   92.0\n",
       "0    92.0   92.0   91.0   91.0   92.0   92.0   92.0   93.0   94.0   96.0\n",
       "..    ...    ...    ...    ...    ...    ...    ...    ...    ...    ...\n",
       "0   100.0  100.0  100.0  100.0  100.0  100.0  100.0  100.0  100.0  100.0\n",
       "0   100.0  100.0  100.0  100.0  100.0  100.0  100.0  100.0  100.0  100.0\n",
       "0   100.0  100.0  100.0  100.0  100.0  100.0  100.0  100.0  100.0   99.0\n",
       "0   100.0  100.0  100.0  100.0   99.0   99.0   98.0   98.0   98.0    NaN\n",
       "0    99.0   98.0   98.0   98.0    NaN    NaN    NaN    NaN    NaN    NaN\n",
       "\n",
       "[4098 rows x 10 columns]"
      ]
     },
     "execution_count": 12,
     "metadata": {},
     "output_type": "execute_result"
    }
   ],
   "source": [
    "window"
   ]
  },
  {
   "cell_type": "code",
   "execution_count": 13,
   "id": "cf399c49-c786-475c-b719-51c801c7914d",
   "metadata": {},
   "outputs": [],
   "source": [
    "window.to_csv(f'../../../../datasets/study-players/{record_date}/clustering/{player_name}_hr_windows_10_50.csv')"
   ]
  },
  {
   "cell_type": "markdown",
   "id": "5d7b047c-434f-4207-a306-0dbc9fcd0d24",
   "metadata": {},
   "source": [
    "### OBTENCIÓN DE VENTANAS DE ACTIVITYLOAD"
   ]
  },
  {
   "cell_type": "code",
   "execution_count": 14,
   "id": "c9b791e4-3213-41f5-8d94-31e4d40f06b3",
   "metadata": {},
   "outputs": [
    {
     "name": "stdout",
     "output_type": "stream",
     "text": [
      "Número de registros: 10335\n"
     ]
    }
   ],
   "source": [
    "print(f'Número de registros: {len(activity_load)}')"
   ]
  },
  {
   "cell_type": "markdown",
   "id": "db3c4ab3-c925-4ea6-8c9c-27534ca0b89f",
   "metadata": {},
   "source": [
    "Se fijan los valores"
   ]
  },
  {
   "cell_type": "code",
   "execution_count": 15,
   "id": "91323443-369f-497c-b4cd-c2336bb73b83",
   "metadata": {},
   "outputs": [],
   "source": [
    "window_size = 5\n",
    "overlap = 0.6"
   ]
  },
  {
   "cell_type": "markdown",
   "id": "1bacf04f-4e23-4ab5-a9ce-9d18852375e6",
   "metadata": {},
   "source": [
    "En este caso, se va a utilizar el mismo porcentaje de solapamiento, pero un tamaño de ventana menor. Esto no es por algo trivial, si no por tener algo heterógeneo: el tamaño de ventana del ritmo cardíaco era de 10, recogiendo un total de 10 datos en un lapso de tiempo de 5 segundos, ya que se recogía el heart rate cada 0.5 segundos. En este caso, se recogen los activity load cada 1 segundo, por tanto, en el mismo periodo de tiempo, se recogerán tan solo 5 datos."
   ]
  },
  {
   "cell_type": "markdown",
   "id": "2bfe975f-0c01-4953-82b6-e09d6cb0bfc8",
   "metadata": {},
   "source": [
    "Se crea el dataframe en el que se van a guardar las ventanas"
   ]
  },
  {
   "cell_type": "code",
   "execution_count": 16,
   "id": "16f57d01-3e21-44f8-973e-59060534dfbe",
   "metadata": {},
   "outputs": [],
   "source": [
    "window = pd.DataFrame()"
   ]
  },
  {
   "cell_type": "markdown",
   "id": "ccdccc8d-17f5-46e8-b62d-74058ca5190c",
   "metadata": {},
   "source": [
    "Primero con ActivityLoad 2D"
   ]
  },
  {
   "cell_type": "code",
   "execution_count": 17,
   "id": "82d85084-0be3-4cf9-9583-6d65cf2e5943",
   "metadata": {},
   "outputs": [],
   "source": [
    "for i in range(0,len(activity_load), int(window_size*(1-overlap))):\n",
    "    window = window.append([activity_load.iloc[i:i+window_size]['activity_load_2d'].values])"
   ]
  },
  {
   "cell_type": "code",
   "execution_count": 18,
   "id": "f127aadb-649f-46b9-9a1c-e8247a13fb3e",
   "metadata": {},
   "outputs": [
    {
     "data": {
      "text/html": [
       "<div>\n",
       "<style scoped>\n",
       "    .dataframe tbody tr th:only-of-type {\n",
       "        vertical-align: middle;\n",
       "    }\n",
       "\n",
       "    .dataframe tbody tr th {\n",
       "        vertical-align: top;\n",
       "    }\n",
       "\n",
       "    .dataframe thead th {\n",
       "        text-align: right;\n",
       "    }\n",
       "</style>\n",
       "<table border=\"1\" class=\"dataframe\">\n",
       "  <thead>\n",
       "    <tr style=\"text-align: right;\">\n",
       "      <th></th>\n",
       "      <th>0</th>\n",
       "      <th>1</th>\n",
       "      <th>2</th>\n",
       "      <th>3</th>\n",
       "      <th>4</th>\n",
       "    </tr>\n",
       "  </thead>\n",
       "  <tbody>\n",
       "    <tr>\n",
       "      <th>0</th>\n",
       "      <td>0.0053</td>\n",
       "      <td>0.0029</td>\n",
       "      <td>0.0061</td>\n",
       "      <td>0.0043</td>\n",
       "      <td>0.0022</td>\n",
       "    </tr>\n",
       "    <tr>\n",
       "      <th>0</th>\n",
       "      <td>0.0061</td>\n",
       "      <td>0.0043</td>\n",
       "      <td>0.0022</td>\n",
       "      <td>0.0036</td>\n",
       "      <td>0.0020</td>\n",
       "    </tr>\n",
       "    <tr>\n",
       "      <th>0</th>\n",
       "      <td>0.0022</td>\n",
       "      <td>0.0036</td>\n",
       "      <td>0.0020</td>\n",
       "      <td>0.0022</td>\n",
       "      <td>0.0033</td>\n",
       "    </tr>\n",
       "    <tr>\n",
       "      <th>0</th>\n",
       "      <td>0.0020</td>\n",
       "      <td>0.0022</td>\n",
       "      <td>0.0033</td>\n",
       "      <td>0.0039</td>\n",
       "      <td>0.0018</td>\n",
       "    </tr>\n",
       "    <tr>\n",
       "      <th>0</th>\n",
       "      <td>0.0033</td>\n",
       "      <td>0.0039</td>\n",
       "      <td>0.0018</td>\n",
       "      <td>0.0020</td>\n",
       "      <td>0.0022</td>\n",
       "    </tr>\n",
       "    <tr>\n",
       "      <th>...</th>\n",
       "      <td>...</td>\n",
       "      <td>...</td>\n",
       "      <td>...</td>\n",
       "      <td>...</td>\n",
       "      <td>...</td>\n",
       "    </tr>\n",
       "    <tr>\n",
       "      <th>0</th>\n",
       "      <td>0.0392</td>\n",
       "      <td>0.0206</td>\n",
       "      <td>0.0140</td>\n",
       "      <td>0.0210</td>\n",
       "      <td>0.0454</td>\n",
       "    </tr>\n",
       "    <tr>\n",
       "      <th>0</th>\n",
       "      <td>0.0140</td>\n",
       "      <td>0.0210</td>\n",
       "      <td>0.0454</td>\n",
       "      <td>0.0448</td>\n",
       "      <td>0.0322</td>\n",
       "    </tr>\n",
       "    <tr>\n",
       "      <th>0</th>\n",
       "      <td>0.0454</td>\n",
       "      <td>0.0448</td>\n",
       "      <td>0.0322</td>\n",
       "      <td>0.0161</td>\n",
       "      <td>0.0130</td>\n",
       "    </tr>\n",
       "    <tr>\n",
       "      <th>0</th>\n",
       "      <td>0.0322</td>\n",
       "      <td>0.0161</td>\n",
       "      <td>0.0130</td>\n",
       "      <td>NaN</td>\n",
       "      <td>NaN</td>\n",
       "    </tr>\n",
       "    <tr>\n",
       "      <th>0</th>\n",
       "      <td>0.0130</td>\n",
       "      <td>NaN</td>\n",
       "      <td>NaN</td>\n",
       "      <td>NaN</td>\n",
       "      <td>NaN</td>\n",
       "    </tr>\n",
       "  </tbody>\n",
       "</table>\n",
       "<p>5168 rows × 5 columns</p>\n",
       "</div>"
      ],
      "text/plain": [
       "         0       1       2       3       4\n",
       "0   0.0053  0.0029  0.0061  0.0043  0.0022\n",
       "0   0.0061  0.0043  0.0022  0.0036  0.0020\n",
       "0   0.0022  0.0036  0.0020  0.0022  0.0033\n",
       "0   0.0020  0.0022  0.0033  0.0039  0.0018\n",
       "0   0.0033  0.0039  0.0018  0.0020  0.0022\n",
       "..     ...     ...     ...     ...     ...\n",
       "0   0.0392  0.0206  0.0140  0.0210  0.0454\n",
       "0   0.0140  0.0210  0.0454  0.0448  0.0322\n",
       "0   0.0454  0.0448  0.0322  0.0161  0.0130\n",
       "0   0.0322  0.0161  0.0130     NaN     NaN\n",
       "0   0.0130     NaN     NaN     NaN     NaN\n",
       "\n",
       "[5168 rows x 5 columns]"
      ]
     },
     "execution_count": 18,
     "metadata": {},
     "output_type": "execute_result"
    }
   ],
   "source": [
    "window"
   ]
  },
  {
   "cell_type": "code",
   "execution_count": 19,
   "id": "4f01199f-c0e7-4f7a-b646-129791b1cb54",
   "metadata": {},
   "outputs": [],
   "source": [
    "window.to_csv(f'../../../../datasets/study-players/{record_date}/clustering/{player_name}_al2d_windows_10_60.csv')"
   ]
  },
  {
   "cell_type": "markdown",
   "id": "eecf957f-db6a-4182-8a0d-cd51f367c448",
   "metadata": {},
   "source": [
    "Después con ActivityLoad 3D"
   ]
  },
  {
   "cell_type": "code",
   "execution_count": 20,
   "id": "81188b5f-8519-4279-9699-5758d3fb992d",
   "metadata": {},
   "outputs": [],
   "source": [
    "window = pd.DataFrame()"
   ]
  },
  {
   "cell_type": "code",
   "execution_count": 21,
   "id": "d1f45438-4fc8-4c88-9072-fe516efd20b3",
   "metadata": {},
   "outputs": [],
   "source": [
    "for i in range(0,len(activity_load), int(window_size*(1-overlap))):\n",
    "    window = window.append([activity_load.iloc[i:i+window_size]['activity_load_3d'].values])"
   ]
  },
  {
   "cell_type": "code",
   "execution_count": 22,
   "id": "f59c64c7-03e7-48bc-85d1-9cff6268f3e3",
   "metadata": {},
   "outputs": [
    {
     "data": {
      "text/html": [
       "<div>\n",
       "<style scoped>\n",
       "    .dataframe tbody tr th:only-of-type {\n",
       "        vertical-align: middle;\n",
       "    }\n",
       "\n",
       "    .dataframe tbody tr th {\n",
       "        vertical-align: top;\n",
       "    }\n",
       "\n",
       "    .dataframe thead th {\n",
       "        text-align: right;\n",
       "    }\n",
       "</style>\n",
       "<table border=\"1\" class=\"dataframe\">\n",
       "  <thead>\n",
       "    <tr style=\"text-align: right;\">\n",
       "      <th></th>\n",
       "      <th>0</th>\n",
       "      <th>1</th>\n",
       "      <th>2</th>\n",
       "      <th>3</th>\n",
       "      <th>4</th>\n",
       "    </tr>\n",
       "  </thead>\n",
       "  <tbody>\n",
       "    <tr>\n",
       "      <th>0</th>\n",
       "      <td>0.0057</td>\n",
       "      <td>0.0032</td>\n",
       "      <td>0.0065</td>\n",
       "      <td>0.0046</td>\n",
       "      <td>0.0025</td>\n",
       "    </tr>\n",
       "    <tr>\n",
       "      <th>0</th>\n",
       "      <td>0.0065</td>\n",
       "      <td>0.0046</td>\n",
       "      <td>0.0025</td>\n",
       "      <td>0.0039</td>\n",
       "      <td>0.0024</td>\n",
       "    </tr>\n",
       "    <tr>\n",
       "      <th>0</th>\n",
       "      <td>0.0025</td>\n",
       "      <td>0.0039</td>\n",
       "      <td>0.0024</td>\n",
       "      <td>0.0025</td>\n",
       "      <td>0.0037</td>\n",
       "    </tr>\n",
       "    <tr>\n",
       "      <th>0</th>\n",
       "      <td>0.0024</td>\n",
       "      <td>0.0025</td>\n",
       "      <td>0.0037</td>\n",
       "      <td>0.0042</td>\n",
       "      <td>0.0021</td>\n",
       "    </tr>\n",
       "    <tr>\n",
       "      <th>0</th>\n",
       "      <td>0.0037</td>\n",
       "      <td>0.0042</td>\n",
       "      <td>0.0021</td>\n",
       "      <td>0.0024</td>\n",
       "      <td>0.0026</td>\n",
       "    </tr>\n",
       "    <tr>\n",
       "      <th>...</th>\n",
       "      <td>...</td>\n",
       "      <td>...</td>\n",
       "      <td>...</td>\n",
       "      <td>...</td>\n",
       "      <td>...</td>\n",
       "    </tr>\n",
       "    <tr>\n",
       "      <th>0</th>\n",
       "      <td>0.0517</td>\n",
       "      <td>0.0294</td>\n",
       "      <td>0.0179</td>\n",
       "      <td>0.0255</td>\n",
       "      <td>0.0583</td>\n",
       "    </tr>\n",
       "    <tr>\n",
       "      <th>0</th>\n",
       "      <td>0.0179</td>\n",
       "      <td>0.0255</td>\n",
       "      <td>0.0583</td>\n",
       "      <td>0.0549</td>\n",
       "      <td>0.0376</td>\n",
       "    </tr>\n",
       "    <tr>\n",
       "      <th>0</th>\n",
       "      <td>0.0583</td>\n",
       "      <td>0.0549</td>\n",
       "      <td>0.0376</td>\n",
       "      <td>0.0212</td>\n",
       "      <td>0.0155</td>\n",
       "    </tr>\n",
       "    <tr>\n",
       "      <th>0</th>\n",
       "      <td>0.0376</td>\n",
       "      <td>0.0212</td>\n",
       "      <td>0.0155</td>\n",
       "      <td>NaN</td>\n",
       "      <td>NaN</td>\n",
       "    </tr>\n",
       "    <tr>\n",
       "      <th>0</th>\n",
       "      <td>0.0155</td>\n",
       "      <td>NaN</td>\n",
       "      <td>NaN</td>\n",
       "      <td>NaN</td>\n",
       "      <td>NaN</td>\n",
       "    </tr>\n",
       "  </tbody>\n",
       "</table>\n",
       "<p>5168 rows × 5 columns</p>\n",
       "</div>"
      ],
      "text/plain": [
       "         0       1       2       3       4\n",
       "0   0.0057  0.0032  0.0065  0.0046  0.0025\n",
       "0   0.0065  0.0046  0.0025  0.0039  0.0024\n",
       "0   0.0025  0.0039  0.0024  0.0025  0.0037\n",
       "0   0.0024  0.0025  0.0037  0.0042  0.0021\n",
       "0   0.0037  0.0042  0.0021  0.0024  0.0026\n",
       "..     ...     ...     ...     ...     ...\n",
       "0   0.0517  0.0294  0.0179  0.0255  0.0583\n",
       "0   0.0179  0.0255  0.0583  0.0549  0.0376\n",
       "0   0.0583  0.0549  0.0376  0.0212  0.0155\n",
       "0   0.0376  0.0212  0.0155     NaN     NaN\n",
       "0   0.0155     NaN     NaN     NaN     NaN\n",
       "\n",
       "[5168 rows x 5 columns]"
      ]
     },
     "execution_count": 22,
     "metadata": {},
     "output_type": "execute_result"
    }
   ],
   "source": [
    "window"
   ]
  },
  {
   "cell_type": "code",
   "execution_count": 23,
   "id": "9cf518f6-1937-44bc-bfd6-964db7a06581",
   "metadata": {},
   "outputs": [],
   "source": [
    "window.to_csv(f'../../../../datasets/study-players/{record_date}/clustering/{player_name}_al3d_windows_10_60.csv')"
   ]
  },
  {
   "cell_type": "code",
   "execution_count": null,
   "id": "71fa2f46-0e35-4674-be41-56395951ce4d",
   "metadata": {},
   "outputs": [],
   "source": []
  }
 ],
 "metadata": {
  "kernelspec": {
   "display_name": "Python 3 (ipykernel)",
   "language": "python",
   "name": "python3"
  },
  "language_info": {
   "codemirror_mode": {
    "name": "ipython",
    "version": 3
   },
   "file_extension": ".py",
   "mimetype": "text/x-python",
   "name": "python",
   "nbconvert_exporter": "python",
   "pygments_lexer": "ipython3",
   "version": "3.9.2"
  }
 },
 "nbformat": 4,
 "nbformat_minor": 5
}
