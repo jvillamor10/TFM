{
 "cells": [
  {
   "cell_type": "markdown",
   "id": "7ed8bb48-59e2-4c5f-90b5-fc18bf2fcf74",
   "metadata": {},
   "source": [
    "# Cuaderno que se encarga de obtener las ventans de los ActivityLoad"
   ]
  },
  {
   "cell_type": "code",
   "execution_count": 2,
   "id": "4665312a-3e53-4ae3-8cdb-1f65f84ce735",
   "metadata": {},
   "outputs": [],
   "source": [
    "import pandas as pd"
   ]
  },
  {
   "cell_type": "code",
   "execution_count": 3,
   "id": "6557b671-482b-4956-aadc-9538925296da",
   "metadata": {},
   "outputs": [
    {
     "data": {
      "text/html": [
       "<div>\n",
       "<style scoped>\n",
       "    .dataframe tbody tr th:only-of-type {\n",
       "        vertical-align: middle;\n",
       "    }\n",
       "\n",
       "    .dataframe tbody tr th {\n",
       "        vertical-align: top;\n",
       "    }\n",
       "\n",
       "    .dataframe thead th {\n",
       "        text-align: right;\n",
       "    }\n",
       "</style>\n",
       "<table border=\"1\" class=\"dataframe\">\n",
       "  <thead>\n",
       "    <tr style=\"text-align: right;\">\n",
       "      <th></th>\n",
       "      <th>seconds</th>\n",
       "      <th>date</th>\n",
       "      <th>activity_load_2d</th>\n",
       "      <th>activity_load_3d</th>\n",
       "    </tr>\n",
       "  </thead>\n",
       "  <tbody>\n",
       "    <tr>\n",
       "      <th>0</th>\n",
       "      <td>1.802</td>\n",
       "      <td>2023-04-23 18:10:39.569</td>\n",
       "      <td>0.0683</td>\n",
       "      <td>0.0928</td>\n",
       "    </tr>\n",
       "    <tr>\n",
       "      <th>1</th>\n",
       "      <td>2.802</td>\n",
       "      <td>2023-04-23 18:10:40.569</td>\n",
       "      <td>0.0850</td>\n",
       "      <td>0.1123</td>\n",
       "    </tr>\n",
       "    <tr>\n",
       "      <th>2</th>\n",
       "      <td>3.802</td>\n",
       "      <td>2023-04-23 18:10:41.569</td>\n",
       "      <td>0.0588</td>\n",
       "      <td>0.0710</td>\n",
       "    </tr>\n",
       "    <tr>\n",
       "      <th>3</th>\n",
       "      <td>4.802</td>\n",
       "      <td>2023-04-23 18:10:42.569</td>\n",
       "      <td>0.0267</td>\n",
       "      <td>0.0356</td>\n",
       "    </tr>\n",
       "    <tr>\n",
       "      <th>4</th>\n",
       "      <td>5.802</td>\n",
       "      <td>2023-04-23 18:10:43.569</td>\n",
       "      <td>0.0489</td>\n",
       "      <td>0.0677</td>\n",
       "    </tr>\n",
       "  </tbody>\n",
       "</table>\n",
       "</div>"
      ],
      "text/plain": [
       "   seconds                     date  activity_load_2d  activity_load_3d\n",
       "0    1.802  2023-04-23 18:10:39.569            0.0683            0.0928\n",
       "1    2.802  2023-04-23 18:10:40.569            0.0850            0.1123\n",
       "2    3.802  2023-04-23 18:10:41.569            0.0588            0.0710\n",
       "3    4.802  2023-04-23 18:10:42.569            0.0267            0.0356\n",
       "4    5.802  2023-04-23 18:10:43.569            0.0489            0.0677"
      ]
     },
     "execution_count": 3,
     "metadata": {},
     "output_type": "execute_result"
    }
   ],
   "source": [
    "activity_load = pd.read_csv('../../datasets/first-study/activity_load.csv')\n",
    "activity_load.head()"
   ]
  },
  {
   "cell_type": "code",
   "execution_count": 4,
   "id": "6e7c6601-f43f-4f73-b163-a0e56c399a45",
   "metadata": {},
   "outputs": [
    {
     "name": "stdout",
     "output_type": "stream",
     "text": [
      "Número de registros: 10942\n"
     ]
    }
   ],
   "source": [
    "print(f'Número de registros: {len(activity_load)}')"
   ]
  },
  {
   "cell_type": "markdown",
   "id": "c9323cd8-daa5-483e-812c-67c1008bfb15",
   "metadata": {},
   "source": [
    "Se fijan los valores"
   ]
  },
  {
   "cell_type": "code",
   "execution_count": 5,
   "id": "616949e2-8571-4c65-93ae-385c03614610",
   "metadata": {},
   "outputs": [],
   "source": [
    "window_size = 5\n",
    "overlap = 0.6"
   ]
  },
  {
   "cell_type": "markdown",
   "id": "966d59ea-b662-4d56-90fc-dff2818738a2",
   "metadata": {},
   "source": [
    "En este caso, se va a utilizar el mismo porcentaje de solapamiento, pero un tamaño de ventana menor. Esto no es por algo trivial, si no por tener algo heterógeneo: el tamaño de ventana del ritmo cardíaco era de 10, recogiendo un total de 10 datos en un lapso de tiempo de 5 segundos, ya que se recogía el heart rate cada 0.5 segundos. En este caso, se recogen los activity load cada 1 segundo, por tanto, en el mismo periodo de tiempo, se recogerán tan solo 5 datos."
   ]
  },
  {
   "cell_type": "markdown",
   "id": "b64ddd83-38a9-4cc4-ba3b-b2f3642ddac5",
   "metadata": {},
   "source": [
    "Se crea el dataframe en el que se van a guardar las ventanas\n",
    "\n",
    "Primeramente, se crean las columnas\n"
   ]
  },
  {
   "cell_type": "code",
   "execution_count": 6,
   "id": "6e5afd8e-6355-4e08-8b42-314cc26fbbfa",
   "metadata": {},
   "outputs": [],
   "source": [
    "window = pd.DataFrame()"
   ]
  },
  {
   "cell_type": "markdown",
   "id": "da985854-6e4c-4833-92fc-e7a42f10cb0b",
   "metadata": {},
   "source": [
    "# Obtención del conjunto de datos"
   ]
  },
  {
   "cell_type": "code",
   "execution_count": 7,
   "id": "ea7741e5-3f70-4f2e-a7eb-87f9d19de081",
   "metadata": {},
   "outputs": [],
   "source": [
    "for i in range(0,len(activity_load), int(window_size*(1-overlap))):\n",
    "    window = window.append([activity_load.iloc[i:i+window_size]['activity_load_2d'].values])"
   ]
  },
  {
   "cell_type": "code",
   "execution_count": 8,
   "id": "e1e8f8c6-4132-41eb-b6a1-b3bcc6a552f2",
   "metadata": {},
   "outputs": [
    {
     "name": "stdout",
     "output_type": "stream",
     "text": [
      "Número de registros obtenidos: 5471\n"
     ]
    }
   ],
   "source": [
    "print(f'Número de registros obtenidos: {len(window)}')"
   ]
  },
  {
   "cell_type": "code",
   "execution_count": 9,
   "id": "0391dd32-5c1a-4b32-a05f-b74a10f17149",
   "metadata": {
    "tags": []
   },
   "outputs": [
    {
     "data": {
      "text/html": [
       "<div>\n",
       "<style scoped>\n",
       "    .dataframe tbody tr th:only-of-type {\n",
       "        vertical-align: middle;\n",
       "    }\n",
       "\n",
       "    .dataframe tbody tr th {\n",
       "        vertical-align: top;\n",
       "    }\n",
       "\n",
       "    .dataframe thead th {\n",
       "        text-align: right;\n",
       "    }\n",
       "</style>\n",
       "<table border=\"1\" class=\"dataframe\">\n",
       "  <thead>\n",
       "    <tr style=\"text-align: right;\">\n",
       "      <th></th>\n",
       "      <th>0</th>\n",
       "      <th>1</th>\n",
       "      <th>2</th>\n",
       "      <th>3</th>\n",
       "      <th>4</th>\n",
       "    </tr>\n",
       "  </thead>\n",
       "  <tbody>\n",
       "    <tr>\n",
       "      <th>0</th>\n",
       "      <td>0.0683</td>\n",
       "      <td>0.0850</td>\n",
       "      <td>0.0588</td>\n",
       "      <td>0.0267</td>\n",
       "      <td>0.0489</td>\n",
       "    </tr>\n",
       "    <tr>\n",
       "      <th>0</th>\n",
       "      <td>0.0588</td>\n",
       "      <td>0.0267</td>\n",
       "      <td>0.0489</td>\n",
       "      <td>0.0453</td>\n",
       "      <td>0.0633</td>\n",
       "    </tr>\n",
       "    <tr>\n",
       "      <th>0</th>\n",
       "      <td>0.0489</td>\n",
       "      <td>0.0453</td>\n",
       "      <td>0.0633</td>\n",
       "      <td>0.0538</td>\n",
       "      <td>0.0725</td>\n",
       "    </tr>\n",
       "    <tr>\n",
       "      <th>0</th>\n",
       "      <td>0.0633</td>\n",
       "      <td>0.0538</td>\n",
       "      <td>0.0725</td>\n",
       "      <td>0.0637</td>\n",
       "      <td>0.0904</td>\n",
       "    </tr>\n",
       "    <tr>\n",
       "      <th>0</th>\n",
       "      <td>0.0725</td>\n",
       "      <td>0.0637</td>\n",
       "      <td>0.0904</td>\n",
       "      <td>0.1078</td>\n",
       "      <td>0.0950</td>\n",
       "    </tr>\n",
       "    <tr>\n",
       "      <th>...</th>\n",
       "      <td>...</td>\n",
       "      <td>...</td>\n",
       "      <td>...</td>\n",
       "      <td>...</td>\n",
       "      <td>...</td>\n",
       "    </tr>\n",
       "    <tr>\n",
       "      <th>0</th>\n",
       "      <td>0.0783</td>\n",
       "      <td>0.0197</td>\n",
       "      <td>0.0157</td>\n",
       "      <td>0.0492</td>\n",
       "      <td>0.0413</td>\n",
       "    </tr>\n",
       "    <tr>\n",
       "      <th>0</th>\n",
       "      <td>0.0157</td>\n",
       "      <td>0.0492</td>\n",
       "      <td>0.0413</td>\n",
       "      <td>0.0434</td>\n",
       "      <td>0.0108</td>\n",
       "    </tr>\n",
       "    <tr>\n",
       "      <th>0</th>\n",
       "      <td>0.0413</td>\n",
       "      <td>0.0434</td>\n",
       "      <td>0.0108</td>\n",
       "      <td>0.0074</td>\n",
       "      <td>0.0049</td>\n",
       "    </tr>\n",
       "    <tr>\n",
       "      <th>0</th>\n",
       "      <td>0.0108</td>\n",
       "      <td>0.0074</td>\n",
       "      <td>0.0049</td>\n",
       "      <td>0.0039</td>\n",
       "      <td>NaN</td>\n",
       "    </tr>\n",
       "    <tr>\n",
       "      <th>0</th>\n",
       "      <td>0.0049</td>\n",
       "      <td>0.0039</td>\n",
       "      <td>NaN</td>\n",
       "      <td>NaN</td>\n",
       "      <td>NaN</td>\n",
       "    </tr>\n",
       "  </tbody>\n",
       "</table>\n",
       "<p>5471 rows × 5 columns</p>\n",
       "</div>"
      ],
      "text/plain": [
       "         0       1       2       3       4\n",
       "0   0.0683  0.0850  0.0588  0.0267  0.0489\n",
       "0   0.0588  0.0267  0.0489  0.0453  0.0633\n",
       "0   0.0489  0.0453  0.0633  0.0538  0.0725\n",
       "0   0.0633  0.0538  0.0725  0.0637  0.0904\n",
       "0   0.0725  0.0637  0.0904  0.1078  0.0950\n",
       "..     ...     ...     ...     ...     ...\n",
       "0   0.0783  0.0197  0.0157  0.0492  0.0413\n",
       "0   0.0157  0.0492  0.0413  0.0434  0.0108\n",
       "0   0.0413  0.0434  0.0108  0.0074  0.0049\n",
       "0   0.0108  0.0074  0.0049  0.0039     NaN\n",
       "0   0.0049  0.0039     NaN     NaN     NaN\n",
       "\n",
       "[5471 rows x 5 columns]"
      ]
     },
     "execution_count": 9,
     "metadata": {},
     "output_type": "execute_result"
    }
   ],
   "source": [
    "window"
   ]
  },
  {
   "cell_type": "code",
   "execution_count": 10,
   "id": "aa69a52b-22cb-4142-a888-da4a858305c6",
   "metadata": {},
   "outputs": [],
   "source": [
    "window.reset_index(inplace=True)"
   ]
  },
  {
   "cell_type": "code",
   "execution_count": 11,
   "id": "14053d42-308a-4501-9fae-a6f217bd090d",
   "metadata": {},
   "outputs": [],
   "source": [
    "window.drop(['index'],inplace=True,axis=1)"
   ]
  },
  {
   "cell_type": "markdown",
   "id": "a087ecfa-fc07-4ac7-971b-a03c57847c34",
   "metadata": {},
   "source": [
    "Se reinician los índices y se guardan los ficheros obtenidos"
   ]
  },
  {
   "cell_type": "code",
   "execution_count": 13,
   "id": "894d512c-da54-4637-a3e4-db77552d334f",
   "metadata": {},
   "outputs": [
    {
     "data": {
      "text/html": [
       "<div>\n",
       "<style scoped>\n",
       "    .dataframe tbody tr th:only-of-type {\n",
       "        vertical-align: middle;\n",
       "    }\n",
       "\n",
       "    .dataframe tbody tr th {\n",
       "        vertical-align: top;\n",
       "    }\n",
       "\n",
       "    .dataframe thead th {\n",
       "        text-align: right;\n",
       "    }\n",
       "</style>\n",
       "<table border=\"1\" class=\"dataframe\">\n",
       "  <thead>\n",
       "    <tr style=\"text-align: right;\">\n",
       "      <th></th>\n",
       "      <th>0</th>\n",
       "      <th>1</th>\n",
       "      <th>2</th>\n",
       "      <th>3</th>\n",
       "      <th>4</th>\n",
       "    </tr>\n",
       "  </thead>\n",
       "  <tbody>\n",
       "    <tr>\n",
       "      <th>0</th>\n",
       "      <td>0.0683</td>\n",
       "      <td>0.0850</td>\n",
       "      <td>0.0588</td>\n",
       "      <td>0.0267</td>\n",
       "      <td>0.0489</td>\n",
       "    </tr>\n",
       "    <tr>\n",
       "      <th>1</th>\n",
       "      <td>0.0588</td>\n",
       "      <td>0.0267</td>\n",
       "      <td>0.0489</td>\n",
       "      <td>0.0453</td>\n",
       "      <td>0.0633</td>\n",
       "    </tr>\n",
       "    <tr>\n",
       "      <th>2</th>\n",
       "      <td>0.0489</td>\n",
       "      <td>0.0453</td>\n",
       "      <td>0.0633</td>\n",
       "      <td>0.0538</td>\n",
       "      <td>0.0725</td>\n",
       "    </tr>\n",
       "    <tr>\n",
       "      <th>3</th>\n",
       "      <td>0.0633</td>\n",
       "      <td>0.0538</td>\n",
       "      <td>0.0725</td>\n",
       "      <td>0.0637</td>\n",
       "      <td>0.0904</td>\n",
       "    </tr>\n",
       "    <tr>\n",
       "      <th>4</th>\n",
       "      <td>0.0725</td>\n",
       "      <td>0.0637</td>\n",
       "      <td>0.0904</td>\n",
       "      <td>0.1078</td>\n",
       "      <td>0.0950</td>\n",
       "    </tr>\n",
       "  </tbody>\n",
       "</table>\n",
       "</div>"
      ],
      "text/plain": [
       "        0       1       2       3       4\n",
       "0  0.0683  0.0850  0.0588  0.0267  0.0489\n",
       "1  0.0588  0.0267  0.0489  0.0453  0.0633\n",
       "2  0.0489  0.0453  0.0633  0.0538  0.0725\n",
       "3  0.0633  0.0538  0.0725  0.0637  0.0904\n",
       "4  0.0725  0.0637  0.0904  0.1078  0.0950"
      ]
     },
     "execution_count": 13,
     "metadata": {},
     "output_type": "execute_result"
    }
   ],
   "source": [
    "window.head()"
   ]
  },
  {
   "cell_type": "code",
   "execution_count": 14,
   "id": "00d8f0e4-828b-47d5-8921-c9faa10d60bc",
   "metadata": {},
   "outputs": [],
   "source": [
    "window.to_csv('../../datasets/activity-study/windows_5_60_al2d.csv')"
   ]
  },
  {
   "cell_type": "markdown",
   "id": "0e280b68-1a65-498b-9dff-17dede5e477d",
   "metadata": {},
   "source": [
    "### ActivityLoad 3D"
   ]
  },
  {
   "cell_type": "code",
   "execution_count": 15,
   "id": "83a6dfc7-a13d-4c86-9188-1e5d84573705",
   "metadata": {},
   "outputs": [],
   "source": [
    "window = pd.DataFrame()"
   ]
  },
  {
   "cell_type": "code",
   "execution_count": 16,
   "id": "b5fa4821-02c4-4da6-9f37-72759dbe2995",
   "metadata": {},
   "outputs": [],
   "source": [
    "for i in range(0,len(activity_load), int(window_size*(1-overlap))):\n",
    "    window = window.append([activity_load.iloc[i:i+window_size]['activity_load_3d'].values])"
   ]
  },
  {
   "cell_type": "code",
   "execution_count": 17,
   "id": "741e04e0-89b1-4330-82c2-e8487e709fb7",
   "metadata": {},
   "outputs": [],
   "source": [
    "window.reset_index(inplace=True)"
   ]
  },
  {
   "cell_type": "code",
   "execution_count": 18,
   "id": "1cb26b07-c074-4a4b-b641-4b2d4cafec8b",
   "metadata": {},
   "outputs": [],
   "source": [
    "window.drop(['index'],inplace=True,axis=1)"
   ]
  },
  {
   "cell_type": "code",
   "execution_count": 19,
   "id": "3552c1bf-112a-4248-9d14-ff3ce64d4c1c",
   "metadata": {},
   "outputs": [
    {
     "data": {
      "text/html": [
       "<div>\n",
       "<style scoped>\n",
       "    .dataframe tbody tr th:only-of-type {\n",
       "        vertical-align: middle;\n",
       "    }\n",
       "\n",
       "    .dataframe tbody tr th {\n",
       "        vertical-align: top;\n",
       "    }\n",
       "\n",
       "    .dataframe thead th {\n",
       "        text-align: right;\n",
       "    }\n",
       "</style>\n",
       "<table border=\"1\" class=\"dataframe\">\n",
       "  <thead>\n",
       "    <tr style=\"text-align: right;\">\n",
       "      <th></th>\n",
       "      <th>0</th>\n",
       "      <th>1</th>\n",
       "      <th>2</th>\n",
       "      <th>3</th>\n",
       "      <th>4</th>\n",
       "    </tr>\n",
       "  </thead>\n",
       "  <tbody>\n",
       "    <tr>\n",
       "      <th>0</th>\n",
       "      <td>0.0928</td>\n",
       "      <td>0.1123</td>\n",
       "      <td>0.0710</td>\n",
       "      <td>0.0356</td>\n",
       "      <td>0.0677</td>\n",
       "    </tr>\n",
       "    <tr>\n",
       "      <th>1</th>\n",
       "      <td>0.0710</td>\n",
       "      <td>0.0356</td>\n",
       "      <td>0.0677</td>\n",
       "      <td>0.0642</td>\n",
       "      <td>0.0918</td>\n",
       "    </tr>\n",
       "    <tr>\n",
       "      <th>2</th>\n",
       "      <td>0.0677</td>\n",
       "      <td>0.0642</td>\n",
       "      <td>0.0918</td>\n",
       "      <td>0.0757</td>\n",
       "      <td>0.0892</td>\n",
       "    </tr>\n",
       "    <tr>\n",
       "      <th>3</th>\n",
       "      <td>0.0918</td>\n",
       "      <td>0.0757</td>\n",
       "      <td>0.0892</td>\n",
       "      <td>0.0786</td>\n",
       "      <td>0.1129</td>\n",
       "    </tr>\n",
       "    <tr>\n",
       "      <th>4</th>\n",
       "      <td>0.0892</td>\n",
       "      <td>0.0786</td>\n",
       "      <td>0.1129</td>\n",
       "      <td>0.1232</td>\n",
       "      <td>0.1197</td>\n",
       "    </tr>\n",
       "    <tr>\n",
       "      <th>...</th>\n",
       "      <td>...</td>\n",
       "      <td>...</td>\n",
       "      <td>...</td>\n",
       "      <td>...</td>\n",
       "      <td>...</td>\n",
       "    </tr>\n",
       "    <tr>\n",
       "      <th>5466</th>\n",
       "      <td>0.0960</td>\n",
       "      <td>0.0226</td>\n",
       "      <td>0.0189</td>\n",
       "      <td>0.0637</td>\n",
       "      <td>0.0500</td>\n",
       "    </tr>\n",
       "    <tr>\n",
       "      <th>5467</th>\n",
       "      <td>0.0189</td>\n",
       "      <td>0.0637</td>\n",
       "      <td>0.0500</td>\n",
       "      <td>0.0504</td>\n",
       "      <td>0.0138</td>\n",
       "    </tr>\n",
       "    <tr>\n",
       "      <th>5468</th>\n",
       "      <td>0.0500</td>\n",
       "      <td>0.0504</td>\n",
       "      <td>0.0138</td>\n",
       "      <td>0.0092</td>\n",
       "      <td>0.0060</td>\n",
       "    </tr>\n",
       "    <tr>\n",
       "      <th>5469</th>\n",
       "      <td>0.0138</td>\n",
       "      <td>0.0092</td>\n",
       "      <td>0.0060</td>\n",
       "      <td>0.0047</td>\n",
       "      <td>NaN</td>\n",
       "    </tr>\n",
       "    <tr>\n",
       "      <th>5470</th>\n",
       "      <td>0.0060</td>\n",
       "      <td>0.0047</td>\n",
       "      <td>NaN</td>\n",
       "      <td>NaN</td>\n",
       "      <td>NaN</td>\n",
       "    </tr>\n",
       "  </tbody>\n",
       "</table>\n",
       "<p>5471 rows × 5 columns</p>\n",
       "</div>"
      ],
      "text/plain": [
       "           0       1       2       3       4\n",
       "0     0.0928  0.1123  0.0710  0.0356  0.0677\n",
       "1     0.0710  0.0356  0.0677  0.0642  0.0918\n",
       "2     0.0677  0.0642  0.0918  0.0757  0.0892\n",
       "3     0.0918  0.0757  0.0892  0.0786  0.1129\n",
       "4     0.0892  0.0786  0.1129  0.1232  0.1197\n",
       "...      ...     ...     ...     ...     ...\n",
       "5466  0.0960  0.0226  0.0189  0.0637  0.0500\n",
       "5467  0.0189  0.0637  0.0500  0.0504  0.0138\n",
       "5468  0.0500  0.0504  0.0138  0.0092  0.0060\n",
       "5469  0.0138  0.0092  0.0060  0.0047     NaN\n",
       "5470  0.0060  0.0047     NaN     NaN     NaN\n",
       "\n",
       "[5471 rows x 5 columns]"
      ]
     },
     "execution_count": 19,
     "metadata": {},
     "output_type": "execute_result"
    }
   ],
   "source": [
    "window"
   ]
  },
  {
   "cell_type": "code",
   "execution_count": 20,
   "id": "c2dc7c74-d7d9-440b-9547-da3449487ec2",
   "metadata": {},
   "outputs": [],
   "source": [
    "window.to_csv('../../datasets/activity-study/windows_5_60_al3d.csv')"
   ]
  },
  {
   "cell_type": "code",
   "execution_count": null,
   "id": "f1e38f85-90f8-4b23-9347-6de0770d7a39",
   "metadata": {},
   "outputs": [],
   "source": []
  }
 ],
 "metadata": {
  "kernelspec": {
   "display_name": "Python 3 (ipykernel)",
   "language": "python",
   "name": "python3"
  },
  "language_info": {
   "codemirror_mode": {
    "name": "ipython",
    "version": 3
   },
   "file_extension": ".py",
   "mimetype": "text/x-python",
   "name": "python",
   "nbconvert_exporter": "python",
   "pygments_lexer": "ipython3",
   "version": "3.9.2"
  }
 },
 "nbformat": 4,
 "nbformat_minor": 5
}
