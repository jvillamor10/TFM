{
 "cells": [
  {
   "cell_type": "code",
   "execution_count": 1,
   "id": "24b5095e-bab5-41f6-9ed7-c3100e5942df",
   "metadata": {},
   "outputs": [],
   "source": [
    "import pandas as pd"
   ]
  },
  {
   "cell_type": "code",
   "execution_count": 2,
   "id": "edba9301-117f-4cb9-aa1b-bfab69e08c18",
   "metadata": {},
   "outputs": [],
   "source": [
    "player_name = 'arrojeria_esther'"
   ]
  },
  {
   "cell_type": "code",
   "execution_count": 3,
   "id": "a0ce3d38-96aa-4b0e-9999-6e7f898582b5",
   "metadata": {},
   "outputs": [],
   "source": [
    "record_date = '20230908'"
   ]
  },
  {
   "cell_type": "code",
   "execution_count": 6,
   "id": "b6ad8789-f91f-40bf-a33b-8efb0481b503",
   "metadata": {},
   "outputs": [],
   "source": [
    "ACTIVITY_LOAD_DATASET_FILE_DIR = f'../../../../datasets/study-players/{record_date}/{player_name}_activity_load.csv'\n",
    "HR_DATASET_FILE_DIR = f'../../../../datasets/study-players/{record_date}/{player_name}_hr_without_gaps.csv'"
   ]
  },
  {
   "cell_type": "code",
   "execution_count": 7,
   "id": "20331893-b4f6-4dd5-8ba5-9bf66419ba0d",
   "metadata": {},
   "outputs": [
    {
     "data": {
      "text/html": [
       "<div>\n",
       "<style scoped>\n",
       "    .dataframe tbody tr th:only-of-type {\n",
       "        vertical-align: middle;\n",
       "    }\n",
       "\n",
       "    .dataframe tbody tr th {\n",
       "        vertical-align: top;\n",
       "    }\n",
       "\n",
       "    .dataframe thead th {\n",
       "        text-align: right;\n",
       "    }\n",
       "</style>\n",
       "<table border=\"1\" class=\"dataframe\">\n",
       "  <thead>\n",
       "    <tr style=\"text-align: right;\">\n",
       "      <th></th>\n",
       "      <th>seconds</th>\n",
       "      <th>date</th>\n",
       "      <th>hr</th>\n",
       "      <th>diff</th>\n",
       "    </tr>\n",
       "  </thead>\n",
       "  <tbody>\n",
       "    <tr>\n",
       "      <th>0</th>\n",
       "      <td>80.802</td>\n",
       "      <td>[2023-09-08 19:19:20 454]</td>\n",
       "      <td>74.0</td>\n",
       "      <td>NaN</td>\n",
       "    </tr>\n",
       "    <tr>\n",
       "      <th>1</th>\n",
       "      <td>81.302</td>\n",
       "      <td>[2023-09-08 19:19:20 954]</td>\n",
       "      <td>74.0</td>\n",
       "      <td>0.5</td>\n",
       "    </tr>\n",
       "    <tr>\n",
       "      <th>2</th>\n",
       "      <td>81.802</td>\n",
       "      <td>[2023-09-08 19:19:21 454]</td>\n",
       "      <td>74.0</td>\n",
       "      <td>0.5</td>\n",
       "    </tr>\n",
       "    <tr>\n",
       "      <th>3</th>\n",
       "      <td>82.302</td>\n",
       "      <td>[2023-09-08 19:19:21 954]</td>\n",
       "      <td>75.0</td>\n",
       "      <td>0.5</td>\n",
       "    </tr>\n",
       "    <tr>\n",
       "      <th>4</th>\n",
       "      <td>82.802</td>\n",
       "      <td>[2023-09-08 19:19:22 454]</td>\n",
       "      <td>75.0</td>\n",
       "      <td>0.5</td>\n",
       "    </tr>\n",
       "  </tbody>\n",
       "</table>\n",
       "</div>"
      ],
      "text/plain": [
       "   seconds                       date    hr  diff\n",
       "0   80.802  [2023-09-08 19:19:20 454]  74.0   NaN\n",
       "1   81.302  [2023-09-08 19:19:20 954]  74.0   0.5\n",
       "2   81.802  [2023-09-08 19:19:21 454]  74.0   0.5\n",
       "3   82.302  [2023-09-08 19:19:21 954]  75.0   0.5\n",
       "4   82.802  [2023-09-08 19:19:22 454]  75.0   0.5"
      ]
     },
     "execution_count": 7,
     "metadata": {},
     "output_type": "execute_result"
    }
   ],
   "source": [
    "hr = pd.read_csv(HR_DATASET_FILE_DIR,index_col=0)\n",
    "hr.head()"
   ]
  },
  {
   "cell_type": "code",
   "execution_count": 10,
   "id": "39e607fd-080b-4e63-aba4-9d5166cce03b",
   "metadata": {},
   "outputs": [
    {
     "data": {
      "text/html": [
       "<div>\n",
       "<style scoped>\n",
       "    .dataframe tbody tr th:only-of-type {\n",
       "        vertical-align: middle;\n",
       "    }\n",
       "\n",
       "    .dataframe tbody tr th {\n",
       "        vertical-align: top;\n",
       "    }\n",
       "\n",
       "    .dataframe thead th {\n",
       "        text-align: right;\n",
       "    }\n",
       "</style>\n",
       "<table border=\"1\" class=\"dataframe\">\n",
       "  <thead>\n",
       "    <tr style=\"text-align: right;\">\n",
       "      <th></th>\n",
       "      <th>seconds</th>\n",
       "      <th>date</th>\n",
       "      <th>activity_load_2d</th>\n",
       "      <th>activity_load_3d</th>\n",
       "    </tr>\n",
       "  </thead>\n",
       "  <tbody>\n",
       "    <tr>\n",
       "      <th>79</th>\n",
       "      <td>1.79</td>\n",
       "      <td>[2023-09-08 19:18:01 442]</td>\n",
       "      <td>0.0088</td>\n",
       "      <td>0.0097</td>\n",
       "    </tr>\n",
       "    <tr>\n",
       "      <th>185</th>\n",
       "      <td>2.79</td>\n",
       "      <td>[2023-09-08 19:18:02 442]</td>\n",
       "      <td>0.0018</td>\n",
       "      <td>0.0025</td>\n",
       "    </tr>\n",
       "    <tr>\n",
       "      <th>295</th>\n",
       "      <td>3.79</td>\n",
       "      <td>[2023-09-08 19:18:03 442]</td>\n",
       "      <td>0.0018</td>\n",
       "      <td>0.0029</td>\n",
       "    </tr>\n",
       "    <tr>\n",
       "      <th>406</th>\n",
       "      <td>4.79</td>\n",
       "      <td>[2023-09-08 19:18:04 442]</td>\n",
       "      <td>0.0042</td>\n",
       "      <td>0.0051</td>\n",
       "    </tr>\n",
       "    <tr>\n",
       "      <th>517</th>\n",
       "      <td>5.79</td>\n",
       "      <td>[2023-09-08 19:18:05 442]</td>\n",
       "      <td>0.0031</td>\n",
       "      <td>0.0041</td>\n",
       "    </tr>\n",
       "  </tbody>\n",
       "</table>\n",
       "</div>"
      ],
      "text/plain": [
       "     seconds                       date  activity_load_2d  activity_load_3d\n",
       "79      1.79  [2023-09-08 19:18:01 442]            0.0088            0.0097\n",
       "185     2.79  [2023-09-08 19:18:02 442]            0.0018            0.0025\n",
       "295     3.79  [2023-09-08 19:18:03 442]            0.0018            0.0029\n",
       "406     4.79  [2023-09-08 19:18:04 442]            0.0042            0.0051\n",
       "517     5.79  [2023-09-08 19:18:05 442]            0.0031            0.0041"
      ]
     },
     "execution_count": 10,
     "metadata": {},
     "output_type": "execute_result"
    }
   ],
   "source": [
    "activity_load = pd.read_csv(ACTIVITY_LOAD_DATASET_FILE_DIR,index_col=0)\n",
    "activity_load.head()"
   ]
  },
  {
   "cell_type": "markdown",
   "id": "6c541042-ae49-4ba8-a9e4-e14dd28370b0",
   "metadata": {},
   "source": [
    "Los datasets tienen distinto número de registros"
   ]
  },
  {
   "cell_type": "code",
   "execution_count": 11,
   "id": "738092aa-21bf-410b-9650-46508d321cb3",
   "metadata": {},
   "outputs": [
    {
     "name": "stdout",
     "output_type": "stream",
     "text": [
      "Número de registros de HR: 18265\n"
     ]
    }
   ],
   "source": [
    "print(f'Número de registros de HR: {len(hr)}')"
   ]
  },
  {
   "cell_type": "code",
   "execution_count": 12,
   "id": "964d3b76-ffa0-40fe-9a43-1ef8527c3cbf",
   "metadata": {},
   "outputs": [
    {
     "name": "stdout",
     "output_type": "stream",
     "text": [
      "Número de registros de ActivityLoad: 9195\n"
     ]
    }
   ],
   "source": [
    "print(f'Número de registros de ActivityLoad: {len(activity_load)}')"
   ]
  },
  {
   "cell_type": "markdown",
   "id": "919eab1d-a4f8-4ca0-8a08-123584d0d2fa",
   "metadata": {},
   "source": [
    "El número cuadra, es casi el doble."
   ]
  },
  {
   "cell_type": "markdown",
   "id": "f24ddcdd-c59a-4ca5-b11f-7be3dc3c835c",
   "metadata": {},
   "source": [
    "Coger los datos desde el inicio de partido"
   ]
  },
  {
   "cell_type": "markdown",
   "id": "27496805-dffe-445f-8ccf-cd67f1caae55",
   "metadata": {},
   "source": [
    "Hay que indicar cuando empieza el partido"
   ]
  },
  {
   "cell_type": "code",
   "execution_count": 13,
   "id": "34b61a54-db16-4a22-9a6c-4014f7e9c54d",
   "metadata": {},
   "outputs": [
    {
     "data": {
      "text/plain": [
       "[<matplotlib.lines.Line2D at 0x7fcbcfdaa6d0>]"
      ]
     },
     "execution_count": 13,
     "metadata": {},
     "output_type": "execute_result"
    },
    {
     "data": {
      "image/png": "[encoded data removed]",
      "text/plain": [
       "<Figure size 432x288 with 1 Axes>"
      ]
     },
     "metadata": {
      "needs_background": "light"
     },
     "output_type": "display_data"
    }
   ],
   "source": [
    "import matplotlib.pyplot as plt\n",
    "\n",
    "x = hr['seconds']\n",
    "y = hr['hr']\n",
    "\n",
    "# Crear una figura y ejes\n",
    "fig, ax = plt.subplots()\n",
    "ax.plot(x, y, linestyle='-')"
   ]
  },
  {
   "cell_type": "markdown",
   "id": "5b1962b6-2814-4e53-a762-a74cafcb3177",
   "metadata": {},
   "source": [
    "## Obtener intervalo de partido"
   ]
  },
  {
   "cell_type": "markdown",
   "id": "8b4b6ef5-f0d4-4d9b-939b-7e152dbf8723",
   "metadata": {},
   "source": [
    "Se debe encontrar el inicio y el final del partido, se tiene cierta información de la página de la federación:\n",
    "\n",
    "https://www.rfebm.com/competiciones/competicion.php?seleccion=0&id=1019068&jornada=1&id_ambito=1"
   ]
  },
  {
   "cell_type": "markdown",
   "id": "0a423721-4456-4d83-a98f-37a6f5a9098c",
   "metadata": {},
   "source": [
    "El partido empieza a las 20:00"
   ]
  },
  {
   "cell_type": "code",
   "execution_count": 16,
   "id": "3eadfc5a-e835-451d-9909-493d57cf1200",
   "metadata": {},
   "outputs": [
    {
     "data": {
      "text/plain": [
       "seconds    float64\n",
       "date        object\n",
       "hr         float64\n",
       "diff       float64\n",
       "dtype: object"
      ]
     },
     "execution_count": 16,
     "metadata": {},
     "output_type": "execute_result"
    }
   ],
   "source": [
    "hr.dtypes"
   ]
  },
  {
   "cell_type": "code",
   "execution_count": 19,
   "id": "7d77a8fa-7d4f-43f5-b08e-dcfc5f39f89f",
   "metadata": {},
   "outputs": [],
   "source": [
    "hr['date'] = hr['date'].astype(str)"
   ]
  },
  {
   "cell_type": "code",
   "execution_count": 22,
   "id": "50dc12ba-358c-4a8d-8c62-0861a864af4d",
   "metadata": {},
   "outputs": [
    {
     "data": {
      "text/html": [
       "<div>\n",
       "<style scoped>\n",
       "    .dataframe tbody tr th:only-of-type {\n",
       "        vertical-align: middle;\n",
       "    }\n",
       "\n",
       "    .dataframe tbody tr th {\n",
       "        vertical-align: top;\n",
       "    }\n",
       "\n",
       "    .dataframe thead th {\n",
       "        text-align: right;\n",
       "    }\n",
       "</style>\n",
       "<table border=\"1\" class=\"dataframe\">\n",
       "  <thead>\n",
       "    <tr style=\"text-align: right;\">\n",
       "      <th></th>\n",
       "      <th>seconds</th>\n",
       "      <th>date</th>\n",
       "      <th>hr</th>\n",
       "      <th>diff</th>\n",
       "    </tr>\n",
       "  </thead>\n",
       "  <tbody>\n",
       "    <tr>\n",
       "      <th>4879</th>\n",
       "      <td>2520.802</td>\n",
       "      <td>[2023-09-08 20:00:00 454]</td>\n",
       "      <td>131.0</td>\n",
       "      <td>0.5</td>\n",
       "    </tr>\n",
       "    <tr>\n",
       "      <th>4880</th>\n",
       "      <td>2521.302</td>\n",
       "      <td>[2023-09-08 20:00:00 954]</td>\n",
       "      <td>130.0</td>\n",
       "      <td>0.5</td>\n",
       "    </tr>\n",
       "    <tr>\n",
       "      <th>4881</th>\n",
       "      <td>2521.802</td>\n",
       "      <td>[2023-09-08 20:00:01 454]</td>\n",
       "      <td>130.0</td>\n",
       "      <td>0.5</td>\n",
       "    </tr>\n",
       "    <tr>\n",
       "      <th>4882</th>\n",
       "      <td>2522.302</td>\n",
       "      <td>[2023-09-08 20:00:01 954]</td>\n",
       "      <td>130.0</td>\n",
       "      <td>0.5</td>\n",
       "    </tr>\n",
       "    <tr>\n",
       "      <th>4883</th>\n",
       "      <td>2522.802</td>\n",
       "      <td>[2023-09-08 20:00:02 454]</td>\n",
       "      <td>130.0</td>\n",
       "      <td>0.5</td>\n",
       "    </tr>\n",
       "    <tr>\n",
       "      <th>...</th>\n",
       "      <td>...</td>\n",
       "      <td>...</td>\n",
       "      <td>...</td>\n",
       "      <td>...</td>\n",
       "    </tr>\n",
       "    <tr>\n",
       "      <th>4994</th>\n",
       "      <td>2578.302</td>\n",
       "      <td>[2023-09-08 20:00:57 954]</td>\n",
       "      <td>115.0</td>\n",
       "      <td>0.5</td>\n",
       "    </tr>\n",
       "    <tr>\n",
       "      <th>4995</th>\n",
       "      <td>2578.802</td>\n",
       "      <td>[2023-09-08 20:00:58 454]</td>\n",
       "      <td>115.0</td>\n",
       "      <td>0.5</td>\n",
       "    </tr>\n",
       "    <tr>\n",
       "      <th>4996</th>\n",
       "      <td>2579.302</td>\n",
       "      <td>[2023-09-08 20:00:58 954]</td>\n",
       "      <td>115.0</td>\n",
       "      <td>0.5</td>\n",
       "    </tr>\n",
       "    <tr>\n",
       "      <th>4997</th>\n",
       "      <td>2579.802</td>\n",
       "      <td>[2023-09-08 20:00:59 454]</td>\n",
       "      <td>115.0</td>\n",
       "      <td>0.5</td>\n",
       "    </tr>\n",
       "    <tr>\n",
       "      <th>4998</th>\n",
       "      <td>2580.302</td>\n",
       "      <td>[2023-09-08 20:00:59 954]</td>\n",
       "      <td>115.0</td>\n",
       "      <td>0.5</td>\n",
       "    </tr>\n",
       "  </tbody>\n",
       "</table>\n",
       "<p>120 rows × 4 columns</p>\n",
       "</div>"
      ],
      "text/plain": [
       "       seconds                       date     hr  diff\n",
       "4879  2520.802  [2023-09-08 20:00:00 454]  131.0   0.5\n",
       "4880  2521.302  [2023-09-08 20:00:00 954]  130.0   0.5\n",
       "4881  2521.802  [2023-09-08 20:00:01 454]  130.0   0.5\n",
       "4882  2522.302  [2023-09-08 20:00:01 954]  130.0   0.5\n",
       "4883  2522.802  [2023-09-08 20:00:02 454]  130.0   0.5\n",
       "...        ...                        ...    ...   ...\n",
       "4994  2578.302  [2023-09-08 20:00:57 954]  115.0   0.5\n",
       "4995  2578.802  [2023-09-08 20:00:58 454]  115.0   0.5\n",
       "4996  2579.302  [2023-09-08 20:00:58 954]  115.0   0.5\n",
       "4997  2579.802  [2023-09-08 20:00:59 454]  115.0   0.5\n",
       "4998  2580.302  [2023-09-08 20:00:59 954]  115.0   0.5\n",
       "\n",
       "[120 rows x 4 columns]"
      ]
     },
     "execution_count": 22,
     "metadata": {},
     "output_type": "execute_result"
    }
   ],
   "source": [
    "hr[hr['date'].str.contains('20:00:')]"
   ]
  },
  {
   "cell_type": "markdown",
   "id": "4046c9df-ef3e-47b5-a3f8-bc4fd2068818",
   "metadata": {},
   "source": [
    "El partido empieza en el segundo 2520 apróximadamente."
   ]
  },
  {
   "cell_type": "code",
   "execution_count": 23,
   "id": "019618e8-5821-4686-bb2c-5d21257133d4",
   "metadata": {},
   "outputs": [],
   "source": [
    "match_start = 2520"
   ]
  },
  {
   "cell_type": "markdown",
   "id": "6ba23fa2-3e64-4756-9e03-f0de45274a11",
   "metadata": {},
   "source": [
    "Hay un total de 4 exclusiones y 2 tiempos muertos en la primera parte, por tanto, se considera que dura 36 minutos.\n",
    "La segunda parte tiene un total de 5 exclusiones y 4 tiempos muertos, haciendo un total de 39 minutos.\n",
    "El descanso dura 10 minutos."
   ]
  },
  {
   "cell_type": "code",
   "execution_count": 25,
   "id": "ff99ad61-f119-4f03-bd0d-c881ba972860",
   "metadata": {},
   "outputs": [
    {
     "name": "stdout",
     "output_type": "stream",
     "text": [
      "Tiempo hasta el final de partido: 85 minutos, 5100 segundos\n"
     ]
    }
   ],
   "source": [
    "duration = 36 + 10 + 39\n",
    "print(f'Tiempo hasta el final de partido: {duration} minutos, {duration * 60} segundos')"
   ]
  },
  {
   "cell_type": "code",
   "execution_count": 27,
   "id": "fcf04a17-4625-4692-af07-634d5c6bf75d",
   "metadata": {},
   "outputs": [
    {
     "data": {
      "text/plain": [
       "7620"
      ]
     },
     "execution_count": 27,
     "metadata": {},
     "output_type": "execute_result"
    }
   ],
   "source": [
    "match_end = match_start + duration * 60\n",
    "match_end"
   ]
  },
  {
   "cell_type": "markdown",
   "id": "cd05fe79-1109-4be0-b4cd-1df71acead6e",
   "metadata": {},
   "source": [
    "## Se procede a obtener el nuevo conjunto de datos en el intervalo de tiempo marcado"
   ]
  },
  {
   "cell_type": "code",
   "execution_count": 29,
   "id": "31301c3f-b49d-430b-9b58-cbf4c52faf86",
   "metadata": {},
   "outputs": [
    {
     "data": {
      "text/html": [
       "<div>\n",
       "<style scoped>\n",
       "    .dataframe tbody tr th:only-of-type {\n",
       "        vertical-align: middle;\n",
       "    }\n",
       "\n",
       "    .dataframe tbody tr th {\n",
       "        vertical-align: top;\n",
       "    }\n",
       "\n",
       "    .dataframe thead th {\n",
       "        text-align: right;\n",
       "    }\n",
       "</style>\n",
       "<table border=\"1\" class=\"dataframe\">\n",
       "  <thead>\n",
       "    <tr style=\"text-align: right;\">\n",
       "      <th></th>\n",
       "      <th>index</th>\n",
       "      <th>seconds</th>\n",
       "      <th>date</th>\n",
       "      <th>activity_load_2d</th>\n",
       "      <th>activity_load_3d</th>\n",
       "    </tr>\n",
       "  </thead>\n",
       "  <tbody>\n",
       "    <tr>\n",
       "      <th>0</th>\n",
       "      <td>284274</td>\n",
       "      <td>2520.404</td>\n",
       "      <td>[2023-09-08 20:00:00 056]</td>\n",
       "      <td>0.0271</td>\n",
       "      <td>0.0341</td>\n",
       "    </tr>\n",
       "    <tr>\n",
       "      <th>1</th>\n",
       "      <td>284390</td>\n",
       "      <td>2521.404</td>\n",
       "      <td>[2023-09-08 20:00:01 056]</td>\n",
       "      <td>0.1677</td>\n",
       "      <td>0.1908</td>\n",
       "    </tr>\n",
       "    <tr>\n",
       "      <th>2</th>\n",
       "      <td>284505</td>\n",
       "      <td>2522.404</td>\n",
       "      <td>[2023-09-08 20:00:02 056]</td>\n",
       "      <td>0.0569</td>\n",
       "      <td>0.0672</td>\n",
       "    </tr>\n",
       "    <tr>\n",
       "      <th>3</th>\n",
       "      <td>284618</td>\n",
       "      <td>2523.404</td>\n",
       "      <td>[2023-09-08 20:00:03 056]</td>\n",
       "      <td>0.0925</td>\n",
       "      <td>0.1454</td>\n",
       "    </tr>\n",
       "    <tr>\n",
       "      <th>4</th>\n",
       "      <td>284731</td>\n",
       "      <td>2524.404</td>\n",
       "      <td>[2023-09-08 20:00:04 056]</td>\n",
       "      <td>0.1308</td>\n",
       "      <td>0.2314</td>\n",
       "    </tr>\n",
       "    <tr>\n",
       "      <th>...</th>\n",
       "      <td>...</td>\n",
       "      <td>...</td>\n",
       "      <td>...</td>\n",
       "      <td>...</td>\n",
       "      <td>...</td>\n",
       "    </tr>\n",
       "    <tr>\n",
       "      <th>5081</th>\n",
       "      <td>859136</td>\n",
       "      <td>7615.179</td>\n",
       "      <td>[2023-09-08 21:24:54 831]</td>\n",
       "      <td>0.0067</td>\n",
       "      <td>0.0095</td>\n",
       "    </tr>\n",
       "    <tr>\n",
       "      <th>5082</th>\n",
       "      <td>859250</td>\n",
       "      <td>7616.162</td>\n",
       "      <td>[2023-09-08 21:24:55 814]</td>\n",
       "      <td>0.0091</td>\n",
       "      <td>0.0147</td>\n",
       "    </tr>\n",
       "    <tr>\n",
       "      <th>5083</th>\n",
       "      <td>859362</td>\n",
       "      <td>7617.180</td>\n",
       "      <td>[2023-09-08 21:24:56 832]</td>\n",
       "      <td>0.0087</td>\n",
       "      <td>0.0131</td>\n",
       "    </tr>\n",
       "    <tr>\n",
       "      <th>5084</th>\n",
       "      <td>859478</td>\n",
       "      <td>7618.180</td>\n",
       "      <td>[2023-09-08 21:24:57 832]</td>\n",
       "      <td>0.0146</td>\n",
       "      <td>0.0190</td>\n",
       "    </tr>\n",
       "    <tr>\n",
       "      <th>5085</th>\n",
       "      <td>859591</td>\n",
       "      <td>7619.180</td>\n",
       "      <td>[2023-09-08 21:24:58 832]</td>\n",
       "      <td>0.0069</td>\n",
       "      <td>0.0102</td>\n",
       "    </tr>\n",
       "  </tbody>\n",
       "</table>\n",
       "<p>5086 rows × 5 columns</p>\n",
       "</div>"
      ],
      "text/plain": [
       "       index   seconds                       date  activity_load_2d  \\\n",
       "0     284274  2520.404  [2023-09-08 20:00:00 056]            0.0271   \n",
       "1     284390  2521.404  [2023-09-08 20:00:01 056]            0.1677   \n",
       "2     284505  2522.404  [2023-09-08 20:00:02 056]            0.0569   \n",
       "3     284618  2523.404  [2023-09-08 20:00:03 056]            0.0925   \n",
       "4     284731  2524.404  [2023-09-08 20:00:04 056]            0.1308   \n",
       "...      ...       ...                        ...               ...   \n",
       "5081  859136  7615.179  [2023-09-08 21:24:54 831]            0.0067   \n",
       "5082  859250  7616.162  [2023-09-08 21:24:55 814]            0.0091   \n",
       "5083  859362  7617.180  [2023-09-08 21:24:56 832]            0.0087   \n",
       "5084  859478  7618.180  [2023-09-08 21:24:57 832]            0.0146   \n",
       "5085  859591  7619.180  [2023-09-08 21:24:58 832]            0.0069   \n",
       "\n",
       "      activity_load_3d  \n",
       "0               0.0341  \n",
       "1               0.1908  \n",
       "2               0.0672  \n",
       "3               0.1454  \n",
       "4               0.2314  \n",
       "...                ...  \n",
       "5081            0.0095  \n",
       "5082            0.0147  \n",
       "5083            0.0131  \n",
       "5084            0.0190  \n",
       "5085            0.0102  \n",
       "\n",
       "[5086 rows x 5 columns]"
      ]
     },
     "execution_count": 29,
     "metadata": {},
     "output_type": "execute_result"
    }
   ],
   "source": [
    "activity_match = activity_load[(activity_load['seconds']>match_start) & (activity_load['seconds']<match_end)]\n",
    "activity_match.reset_index(inplace=True)\n",
    "activity_match"
   ]
  },
  {
   "cell_type": "markdown",
   "id": "b2f0e961-ed18-43bc-a876-9084f4721b68",
   "metadata": {},
   "source": [
    "De hr, tan solo se coge la mitad del dataset"
   ]
  },
  {
   "cell_type": "code",
   "execution_count": 30,
   "id": "aa3b1aa0-5f78-42a6-b1da-396fac8b47dd",
   "metadata": {},
   "outputs": [
    {
     "name": "stderr",
     "output_type": "stream",
     "text": [
      "/tmp/ipykernel_4526/3022938453.py:1: UserWarning: Boolean Series key will be reindexed to match DataFrame index.\n",
      "  hr_match = hr.iloc[hr.index % 2 == 0][(hr['seconds']>match_start) & (hr['seconds']<match_end)]\n"
     ]
    },
    {
     "data": {
      "text/html": [
       "<div>\n",
       "<style scoped>\n",
       "    .dataframe tbody tr th:only-of-type {\n",
       "        vertical-align: middle;\n",
       "    }\n",
       "\n",
       "    .dataframe tbody tr th {\n",
       "        vertical-align: top;\n",
       "    }\n",
       "\n",
       "    .dataframe thead th {\n",
       "        text-align: right;\n",
       "    }\n",
       "</style>\n",
       "<table border=\"1\" class=\"dataframe\">\n",
       "  <thead>\n",
       "    <tr style=\"text-align: right;\">\n",
       "      <th></th>\n",
       "      <th>index</th>\n",
       "      <th>seconds</th>\n",
       "      <th>date</th>\n",
       "      <th>hr</th>\n",
       "      <th>diff</th>\n",
       "    </tr>\n",
       "  </thead>\n",
       "  <tbody>\n",
       "    <tr>\n",
       "      <th>0</th>\n",
       "      <td>4878</td>\n",
       "      <td>2520.302</td>\n",
       "      <td>[2023-09-08 19:59:59 954]</td>\n",
       "      <td>131.0</td>\n",
       "      <td>0.500</td>\n",
       "    </tr>\n",
       "    <tr>\n",
       "      <th>1</th>\n",
       "      <td>4880</td>\n",
       "      <td>2521.302</td>\n",
       "      <td>[2023-09-08 20:00:00 954]</td>\n",
       "      <td>130.0</td>\n",
       "      <td>0.500</td>\n",
       "    </tr>\n",
       "    <tr>\n",
       "      <th>2</th>\n",
       "      <td>4882</td>\n",
       "      <td>2522.302</td>\n",
       "      <td>[2023-09-08 20:00:01 954]</td>\n",
       "      <td>130.0</td>\n",
       "      <td>0.500</td>\n",
       "    </tr>\n",
       "    <tr>\n",
       "      <th>3</th>\n",
       "      <td>4884</td>\n",
       "      <td>2523.302</td>\n",
       "      <td>[2023-09-08 20:00:02 954]</td>\n",
       "      <td>130.0</td>\n",
       "      <td>0.500</td>\n",
       "    </tr>\n",
       "    <tr>\n",
       "      <th>4</th>\n",
       "      <td>4886</td>\n",
       "      <td>2524.302</td>\n",
       "      <td>[2023-09-08 20:00:03 954]</td>\n",
       "      <td>130.0</td>\n",
       "      <td>0.500</td>\n",
       "    </tr>\n",
       "    <tr>\n",
       "      <th>...</th>\n",
       "      <td>...</td>\n",
       "      <td>...</td>\n",
       "      <td>...</td>\n",
       "      <td>...</td>\n",
       "      <td>...</td>\n",
       "    </tr>\n",
       "    <tr>\n",
       "      <th>5090</th>\n",
       "      <td>15058</td>\n",
       "      <td>7615.181</td>\n",
       "      <td>[2023-09-08 21:24:54 833]</td>\n",
       "      <td>81.0</td>\n",
       "      <td>0.499</td>\n",
       "    </tr>\n",
       "    <tr>\n",
       "      <th>5091</th>\n",
       "      <td>15060</td>\n",
       "      <td>7616.164</td>\n",
       "      <td>[2023-09-08 21:24:55 816]</td>\n",
       "      <td>81.0</td>\n",
       "      <td>0.501</td>\n",
       "    </tr>\n",
       "    <tr>\n",
       "      <th>5092</th>\n",
       "      <td>15062</td>\n",
       "      <td>7617.182</td>\n",
       "      <td>[2023-09-08 21:24:56 834]</td>\n",
       "      <td>81.0</td>\n",
       "      <td>0.499</td>\n",
       "    </tr>\n",
       "    <tr>\n",
       "      <th>5093</th>\n",
       "      <td>15064</td>\n",
       "      <td>7618.182</td>\n",
       "      <td>[2023-09-08 21:24:57 834]</td>\n",
       "      <td>81.0</td>\n",
       "      <td>0.499</td>\n",
       "    </tr>\n",
       "    <tr>\n",
       "      <th>5094</th>\n",
       "      <td>15066</td>\n",
       "      <td>7619.182</td>\n",
       "      <td>[2023-09-08 21:24:58 834]</td>\n",
       "      <td>81.0</td>\n",
       "      <td>0.499</td>\n",
       "    </tr>\n",
       "  </tbody>\n",
       "</table>\n",
       "<p>5095 rows × 5 columns</p>\n",
       "</div>"
      ],
      "text/plain": [
       "      index   seconds                       date     hr   diff\n",
       "0      4878  2520.302  [2023-09-08 19:59:59 954]  131.0  0.500\n",
       "1      4880  2521.302  [2023-09-08 20:00:00 954]  130.0  0.500\n",
       "2      4882  2522.302  [2023-09-08 20:00:01 954]  130.0  0.500\n",
       "3      4884  2523.302  [2023-09-08 20:00:02 954]  130.0  0.500\n",
       "4      4886  2524.302  [2023-09-08 20:00:03 954]  130.0  0.500\n",
       "...     ...       ...                        ...    ...    ...\n",
       "5090  15058  7615.181  [2023-09-08 21:24:54 833]   81.0  0.499\n",
       "5091  15060  7616.164  [2023-09-08 21:24:55 816]   81.0  0.501\n",
       "5092  15062  7617.182  [2023-09-08 21:24:56 834]   81.0  0.499\n",
       "5093  15064  7618.182  [2023-09-08 21:24:57 834]   81.0  0.499\n",
       "5094  15066  7619.182  [2023-09-08 21:24:58 834]   81.0  0.499\n",
       "\n",
       "[5095 rows x 5 columns]"
      ]
     },
     "execution_count": 30,
     "metadata": {},
     "output_type": "execute_result"
    }
   ],
   "source": [
    "hr_match = hr.iloc[hr.index % 2 == 0][(hr['seconds']>match_start) & (hr['seconds']<match_end)]\n",
    "hr_match.reset_index(inplace=True)\n",
    "hr_match"
   ]
  },
  {
   "cell_type": "code",
   "execution_count": 31,
   "id": "0497b9e3-f6a9-4781-9830-60e7637e4b0a",
   "metadata": {},
   "outputs": [],
   "source": [
    "hr_match['activity_load_2d'] = activity_match['activity_load_2d']"
   ]
  },
  {
   "cell_type": "code",
   "execution_count": 32,
   "id": "63a10208-0173-41bd-ab9f-b41508e27823",
   "metadata": {},
   "outputs": [],
   "source": [
    "hr_match['activity_load_3d'] = activity_match['activity_load_3d']"
   ]
  },
  {
   "cell_type": "code",
   "execution_count": 33,
   "id": "e16889f2-1ec8-46fc-853e-99e5a4eb9cb5",
   "metadata": {},
   "outputs": [
    {
     "data": {
      "text/html": [
       "<div>\n",
       "<style scoped>\n",
       "    .dataframe tbody tr th:only-of-type {\n",
       "        vertical-align: middle;\n",
       "    }\n",
       "\n",
       "    .dataframe tbody tr th {\n",
       "        vertical-align: top;\n",
       "    }\n",
       "\n",
       "    .dataframe thead th {\n",
       "        text-align: right;\n",
       "    }\n",
       "</style>\n",
       "<table border=\"1\" class=\"dataframe\">\n",
       "  <thead>\n",
       "    <tr style=\"text-align: right;\">\n",
       "      <th></th>\n",
       "      <th>index</th>\n",
       "      <th>seconds</th>\n",
       "      <th>date</th>\n",
       "      <th>hr</th>\n",
       "      <th>diff</th>\n",
       "      <th>activity_load_2d</th>\n",
       "      <th>activity_load_3d</th>\n",
       "    </tr>\n",
       "  </thead>\n",
       "  <tbody>\n",
       "    <tr>\n",
       "      <th>0</th>\n",
       "      <td>4878</td>\n",
       "      <td>2520.302</td>\n",
       "      <td>[2023-09-08 19:59:59 954]</td>\n",
       "      <td>131.0</td>\n",
       "      <td>0.500</td>\n",
       "      <td>0.0271</td>\n",
       "      <td>0.0341</td>\n",
       "    </tr>\n",
       "    <tr>\n",
       "      <th>1</th>\n",
       "      <td>4880</td>\n",
       "      <td>2521.302</td>\n",
       "      <td>[2023-09-08 20:00:00 954]</td>\n",
       "      <td>130.0</td>\n",
       "      <td>0.500</td>\n",
       "      <td>0.1677</td>\n",
       "      <td>0.1908</td>\n",
       "    </tr>\n",
       "    <tr>\n",
       "      <th>2</th>\n",
       "      <td>4882</td>\n",
       "      <td>2522.302</td>\n",
       "      <td>[2023-09-08 20:00:01 954]</td>\n",
       "      <td>130.0</td>\n",
       "      <td>0.500</td>\n",
       "      <td>0.0569</td>\n",
       "      <td>0.0672</td>\n",
       "    </tr>\n",
       "    <tr>\n",
       "      <th>3</th>\n",
       "      <td>4884</td>\n",
       "      <td>2523.302</td>\n",
       "      <td>[2023-09-08 20:00:02 954]</td>\n",
       "      <td>130.0</td>\n",
       "      <td>0.500</td>\n",
       "      <td>0.0925</td>\n",
       "      <td>0.1454</td>\n",
       "    </tr>\n",
       "    <tr>\n",
       "      <th>4</th>\n",
       "      <td>4886</td>\n",
       "      <td>2524.302</td>\n",
       "      <td>[2023-09-08 20:00:03 954]</td>\n",
       "      <td>130.0</td>\n",
       "      <td>0.500</td>\n",
       "      <td>0.1308</td>\n",
       "      <td>0.2314</td>\n",
       "    </tr>\n",
       "    <tr>\n",
       "      <th>...</th>\n",
       "      <td>...</td>\n",
       "      <td>...</td>\n",
       "      <td>...</td>\n",
       "      <td>...</td>\n",
       "      <td>...</td>\n",
       "      <td>...</td>\n",
       "      <td>...</td>\n",
       "    </tr>\n",
       "    <tr>\n",
       "      <th>5090</th>\n",
       "      <td>15058</td>\n",
       "      <td>7615.181</td>\n",
       "      <td>[2023-09-08 21:24:54 833]</td>\n",
       "      <td>81.0</td>\n",
       "      <td>0.499</td>\n",
       "      <td>NaN</td>\n",
       "      <td>NaN</td>\n",
       "    </tr>\n",
       "    <tr>\n",
       "      <th>5091</th>\n",
       "      <td>15060</td>\n",
       "      <td>7616.164</td>\n",
       "      <td>[2023-09-08 21:24:55 816]</td>\n",
       "      <td>81.0</td>\n",
       "      <td>0.501</td>\n",
       "      <td>NaN</td>\n",
       "      <td>NaN</td>\n",
       "    </tr>\n",
       "    <tr>\n",
       "      <th>5092</th>\n",
       "      <td>15062</td>\n",
       "      <td>7617.182</td>\n",
       "      <td>[2023-09-08 21:24:56 834]</td>\n",
       "      <td>81.0</td>\n",
       "      <td>0.499</td>\n",
       "      <td>NaN</td>\n",
       "      <td>NaN</td>\n",
       "    </tr>\n",
       "    <tr>\n",
       "      <th>5093</th>\n",
       "      <td>15064</td>\n",
       "      <td>7618.182</td>\n",
       "      <td>[2023-09-08 21:24:57 834]</td>\n",
       "      <td>81.0</td>\n",
       "      <td>0.499</td>\n",
       "      <td>NaN</td>\n",
       "      <td>NaN</td>\n",
       "    </tr>\n",
       "    <tr>\n",
       "      <th>5094</th>\n",
       "      <td>15066</td>\n",
       "      <td>7619.182</td>\n",
       "      <td>[2023-09-08 21:24:58 834]</td>\n",
       "      <td>81.0</td>\n",
       "      <td>0.499</td>\n",
       "      <td>NaN</td>\n",
       "      <td>NaN</td>\n",
       "    </tr>\n",
       "  </tbody>\n",
       "</table>\n",
       "<p>5095 rows × 7 columns</p>\n",
       "</div>"
      ],
      "text/plain": [
       "      index   seconds                       date     hr   diff  \\\n",
       "0      4878  2520.302  [2023-09-08 19:59:59 954]  131.0  0.500   \n",
       "1      4880  2521.302  [2023-09-08 20:00:00 954]  130.0  0.500   \n",
       "2      4882  2522.302  [2023-09-08 20:00:01 954]  130.0  0.500   \n",
       "3      4884  2523.302  [2023-09-08 20:00:02 954]  130.0  0.500   \n",
       "4      4886  2524.302  [2023-09-08 20:00:03 954]  130.0  0.500   \n",
       "...     ...       ...                        ...    ...    ...   \n",
       "5090  15058  7615.181  [2023-09-08 21:24:54 833]   81.0  0.499   \n",
       "5091  15060  7616.164  [2023-09-08 21:24:55 816]   81.0  0.501   \n",
       "5092  15062  7617.182  [2023-09-08 21:24:56 834]   81.0  0.499   \n",
       "5093  15064  7618.182  [2023-09-08 21:24:57 834]   81.0  0.499   \n",
       "5094  15066  7619.182  [2023-09-08 21:24:58 834]   81.0  0.499   \n",
       "\n",
       "      activity_load_2d  activity_load_3d  \n",
       "0               0.0271            0.0341  \n",
       "1               0.1677            0.1908  \n",
       "2               0.0569            0.0672  \n",
       "3               0.0925            0.1454  \n",
       "4               0.1308            0.2314  \n",
       "...                ...               ...  \n",
       "5090               NaN               NaN  \n",
       "5091               NaN               NaN  \n",
       "5092               NaN               NaN  \n",
       "5093               NaN               NaN  \n",
       "5094               NaN               NaN  \n",
       "\n",
       "[5095 rows x 7 columns]"
      ]
     },
     "execution_count": 33,
     "metadata": {},
     "output_type": "execute_result"
    }
   ],
   "source": [
    "hr_match"
   ]
  },
  {
   "cell_type": "code",
   "execution_count": 34,
   "id": "891490b8-54ad-4553-8592-37e4576e162d",
   "metadata": {},
   "outputs": [],
   "source": [
    "hr_match.drop(['index', 'diff'],axis=1, inplace=True)"
   ]
  },
  {
   "cell_type": "code",
   "execution_count": 35,
   "id": "b8f13879-89ad-4939-92de-acf23e9293cd",
   "metadata": {},
   "outputs": [
    {
     "data": {
      "text/html": [
       "<div>\n",
       "<style scoped>\n",
       "    .dataframe tbody tr th:only-of-type {\n",
       "        vertical-align: middle;\n",
       "    }\n",
       "\n",
       "    .dataframe tbody tr th {\n",
       "        vertical-align: top;\n",
       "    }\n",
       "\n",
       "    .dataframe thead th {\n",
       "        text-align: right;\n",
       "    }\n",
       "</style>\n",
       "<table border=\"1\" class=\"dataframe\">\n",
       "  <thead>\n",
       "    <tr style=\"text-align: right;\">\n",
       "      <th></th>\n",
       "      <th>seconds</th>\n",
       "      <th>date</th>\n",
       "      <th>hr</th>\n",
       "      <th>activity_load_2d</th>\n",
       "      <th>activity_load_3d</th>\n",
       "    </tr>\n",
       "  </thead>\n",
       "  <tbody>\n",
       "    <tr>\n",
       "      <th>0</th>\n",
       "      <td>2520.302</td>\n",
       "      <td>[2023-09-08 19:59:59 954]</td>\n",
       "      <td>131.0</td>\n",
       "      <td>0.0271</td>\n",
       "      <td>0.0341</td>\n",
       "    </tr>\n",
       "    <tr>\n",
       "      <th>1</th>\n",
       "      <td>2521.302</td>\n",
       "      <td>[2023-09-08 20:00:00 954]</td>\n",
       "      <td>130.0</td>\n",
       "      <td>0.1677</td>\n",
       "      <td>0.1908</td>\n",
       "    </tr>\n",
       "    <tr>\n",
       "      <th>2</th>\n",
       "      <td>2522.302</td>\n",
       "      <td>[2023-09-08 20:00:01 954]</td>\n",
       "      <td>130.0</td>\n",
       "      <td>0.0569</td>\n",
       "      <td>0.0672</td>\n",
       "    </tr>\n",
       "    <tr>\n",
       "      <th>3</th>\n",
       "      <td>2523.302</td>\n",
       "      <td>[2023-09-08 20:00:02 954]</td>\n",
       "      <td>130.0</td>\n",
       "      <td>0.0925</td>\n",
       "      <td>0.1454</td>\n",
       "    </tr>\n",
       "    <tr>\n",
       "      <th>4</th>\n",
       "      <td>2524.302</td>\n",
       "      <td>[2023-09-08 20:00:03 954]</td>\n",
       "      <td>130.0</td>\n",
       "      <td>0.1308</td>\n",
       "      <td>0.2314</td>\n",
       "    </tr>\n",
       "  </tbody>\n",
       "</table>\n",
       "</div>"
      ],
      "text/plain": [
       "    seconds                       date     hr  activity_load_2d  \\\n",
       "0  2520.302  [2023-09-08 19:59:59 954]  131.0            0.0271   \n",
       "1  2521.302  [2023-09-08 20:00:00 954]  130.0            0.1677   \n",
       "2  2522.302  [2023-09-08 20:00:01 954]  130.0            0.0569   \n",
       "3  2523.302  [2023-09-08 20:00:02 954]  130.0            0.0925   \n",
       "4  2524.302  [2023-09-08 20:00:03 954]  130.0            0.1308   \n",
       "\n",
       "   activity_load_3d  \n",
       "0            0.0341  \n",
       "1            0.1908  \n",
       "2            0.0672  \n",
       "3            0.1454  \n",
       "4            0.2314  "
      ]
     },
     "execution_count": 35,
     "metadata": {},
     "output_type": "execute_result"
    }
   ],
   "source": [
    "hr_match.head()"
   ]
  },
  {
   "cell_type": "code",
   "execution_count": 37,
   "id": "628d3c92-a5da-40a5-833c-7011714bbfe0",
   "metadata": {},
   "outputs": [],
   "source": [
    "hr_match.to_csv(f'../../../../datasets/study-players/{record_date}/{player_name}_match_attributes.csv')"
   ]
  },
  {
   "cell_type": "code",
   "execution_count": null,
   "id": "f767bac9-9eba-48c2-b4d2-6cf61f57fe13",
   "metadata": {},
   "outputs": [],
   "source": []
  }
 ],
 "metadata": {
  "kernelspec": {
   "display_name": "Python 3 (ipykernel)",
   "language": "python",
   "name": "python3"
  },
  "language_info": {
   "codemirror_mode": {
    "name": "ipython",
    "version": 3
   },
   "file_extension": ".py",
   "mimetype": "text/x-python",
   "name": "python",
   "nbconvert_exporter": "python",
   "pygments_lexer": "ipython3",
   "version": "3.9.2"
  }
 },
 "nbformat": 4,
 "nbformat_minor": 5
}
