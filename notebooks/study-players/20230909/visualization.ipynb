{
 "cells": [
  {
   "cell_type": "code",
   "execution_count": 1,
   "id": "7e6adf76-8f3d-4b51-b7cf-22e247c4245b",
   "metadata": {},
   "outputs": [],
   "source": [
    "import pandas as pd\n",
    "import matplotlib.pyplot as plt\n",
    "\n",
    "import matplotlib.pyplot as plt\n",
    "import numpy as np\n",
    "import matplotlib.patches as mpatches"
   ]
  },
  {
   "cell_type": "markdown",
   "id": "91de0df6-244c-492a-a5b4-bd4ada0f9d8d",
   "metadata": {},
   "source": [
    "## HR"
   ]
  },
  {
   "cell_type": "code",
   "execution_count": 2,
   "id": "2166eca2-7b75-4ddc-a8ff-a76dedf9cba6",
   "metadata": {},
   "outputs": [
    {
     "data": {
      "text/html": [
       "<div>\n",
       "<style scoped>\n",
       "    .dataframe tbody tr th:only-of-type {\n",
       "        vertical-align: middle;\n",
       "    }\n",
       "\n",
       "    .dataframe tbody tr th {\n",
       "        vertical-align: top;\n",
       "    }\n",
       "\n",
       "    .dataframe thead th {\n",
       "        text-align: right;\n",
       "    }\n",
       "</style>\n",
       "<table border=\"1\" class=\"dataframe\">\n",
       "  <thead>\n",
       "    <tr style=\"text-align: right;\">\n",
       "      <th></th>\n",
       "      <th>0</th>\n",
       "      <th>1</th>\n",
       "      <th>2</th>\n",
       "      <th>3</th>\n",
       "      <th>4</th>\n",
       "      <th>5</th>\n",
       "      <th>6</th>\n",
       "      <th>7</th>\n",
       "      <th>8</th>\n",
       "      <th>9</th>\n",
       "      <th>cluster</th>\n",
       "    </tr>\n",
       "  </thead>\n",
       "  <tbody>\n",
       "    <tr>\n",
       "      <th>0</th>\n",
       "      <td>80.0</td>\n",
       "      <td>80.0</td>\n",
       "      <td>80.0</td>\n",
       "      <td>81.0</td>\n",
       "      <td>81.0</td>\n",
       "      <td>82.0</td>\n",
       "      <td>82.0</td>\n",
       "      <td>83.0</td>\n",
       "      <td>83.0</td>\n",
       "      <td>84.0</td>\n",
       "      <td>1</td>\n",
       "    </tr>\n",
       "    <tr>\n",
       "      <th>0</th>\n",
       "      <td>82.0</td>\n",
       "      <td>82.0</td>\n",
       "      <td>83.0</td>\n",
       "      <td>83.0</td>\n",
       "      <td>84.0</td>\n",
       "      <td>84.0</td>\n",
       "      <td>85.0</td>\n",
       "      <td>86.0</td>\n",
       "      <td>88.0</td>\n",
       "      <td>89.0</td>\n",
       "      <td>1</td>\n",
       "    </tr>\n",
       "    <tr>\n",
       "      <th>0</th>\n",
       "      <td>84.0</td>\n",
       "      <td>85.0</td>\n",
       "      <td>86.0</td>\n",
       "      <td>88.0</td>\n",
       "      <td>89.0</td>\n",
       "      <td>90.0</td>\n",
       "      <td>90.0</td>\n",
       "      <td>91.0</td>\n",
       "      <td>91.0</td>\n",
       "      <td>92.0</td>\n",
       "      <td>1</td>\n",
       "    </tr>\n",
       "    <tr>\n",
       "      <th>0</th>\n",
       "      <td>90.0</td>\n",
       "      <td>90.0</td>\n",
       "      <td>91.0</td>\n",
       "      <td>91.0</td>\n",
       "      <td>92.0</td>\n",
       "      <td>92.0</td>\n",
       "      <td>92.0</td>\n",
       "      <td>91.0</td>\n",
       "      <td>91.0</td>\n",
       "      <td>92.0</td>\n",
       "      <td>1</td>\n",
       "    </tr>\n",
       "    <tr>\n",
       "      <th>0</th>\n",
       "      <td>92.0</td>\n",
       "      <td>92.0</td>\n",
       "      <td>91.0</td>\n",
       "      <td>91.0</td>\n",
       "      <td>92.0</td>\n",
       "      <td>92.0</td>\n",
       "      <td>92.0</td>\n",
       "      <td>93.0</td>\n",
       "      <td>94.0</td>\n",
       "      <td>96.0</td>\n",
       "      <td>1</td>\n",
       "    </tr>\n",
       "  </tbody>\n",
       "</table>\n",
       "</div>"
      ],
      "text/plain": [
       "      0     1     2     3     4     5     6     7     8     9  cluster\n",
       "0  80.0  80.0  80.0  81.0  81.0  82.0  82.0  83.0  83.0  84.0        1\n",
       "0  82.0  82.0  83.0  83.0  84.0  84.0  85.0  86.0  88.0  89.0        1\n",
       "0  84.0  85.0  86.0  88.0  89.0  90.0  90.0  91.0  91.0  92.0        1\n",
       "0  90.0  90.0  91.0  91.0  92.0  92.0  92.0  91.0  91.0  92.0        1\n",
       "0  92.0  92.0  91.0  91.0  92.0  92.0  92.0  93.0  94.0  96.0        1"
      ]
     },
     "execution_count": 2,
     "metadata": {},
     "output_type": "execute_result"
    }
   ],
   "source": [
    "hr_window_arrojeria = pd.read_csv(f'../../../datasets/study-players/20230909/clustering/arrojeria_esther_hr_windows_10_50_k_4_kmeans.csv',index_col=0)\n",
    "hr_window_arrojeria.head()"
   ]
  },
  {
   "cell_type": "code",
   "execution_count": 3,
   "id": "fc20fecd-6bca-4983-aa42-3e978367f45d",
   "metadata": {},
   "outputs": [],
   "source": [
    "window = 10 * 50/100"
   ]
  },
  {
   "cell_type": "code",
   "execution_count": 4,
   "id": "9518cad9-5dc0-4da8-bf11-f2c740e99af1",
   "metadata": {},
   "outputs": [],
   "source": [
    "match_start = 2527"
   ]
  },
  {
   "cell_type": "code",
   "execution_count": 5,
   "id": "d0579754-a8a5-4f83-9378-86ac7484c203",
   "metadata": {},
   "outputs": [],
   "source": [
    "match_end = 7807"
   ]
  },
  {
   "cell_type": "code",
   "execution_count": 6,
   "id": "e0df3d32-37e5-4fd5-9d8a-2c133bd7ecdd",
   "metadata": {},
   "outputs": [],
   "source": [
    "hr_window_arrojeria = hr_window_arrojeria.iloc[round(match_start/2.5):(round(match_end/2.5))]"
   ]
  },
  {
   "cell_type": "code",
   "execution_count": 11,
   "id": "e9b78974-d000-4667-86f9-1b6743d1f5be",
   "metadata": {},
   "outputs": [],
   "source": [
    "def show_graphic(dataset):\n",
    "    # Colores para cada número\n",
    "    colors = {1: 'blue', 2: 'green', 3: 'yellow', 4: 'red'}\n",
    "\n",
    "    # Crear un array con los colores correspondientes\n",
    "    colors_activity = [colors[i] for i in dataset['cluster']]\n",
    "\n",
    "    # Crear un array de la misma longitud que los datos pero con todos los elementos siendo 1\n",
    "    # Esto es para que la altura de todas las barras sea la misma\n",
    "    activity_heights = np.ones(len(dataset))\n",
    "\n",
    "    # Definir el tamaño de la figura\n",
    "    plt.figure(figsize=(20, 2))\n",
    "\n",
    "    # Crear la gráfica\n",
    "    plt.bar(range(len(dataset)), activity_heights, color=colors_activity, width=1)\n",
    "\n",
    "    # Quitar los ticks del eje x para que no se vean los números\n",
    "    plt.xticks([])\n",
    "    plt.yticks([])\n",
    "\n",
    "    # Crear la leyenda\n",
    "    legend = [mpatches.Patch(color=v, label=k) for k, v in colors.items()]\n",
    "    plt.legend(handles=legend)\n",
    "\n",
    "    # Mostrar la gráfica\n",
    "    plt.show()"
   ]
  },
  {
   "cell_type": "code",
   "execution_count": 12,
   "id": "1128fe0e-fc34-49de-9004-4802e472fee4",
   "metadata": {},
   "outputs": [
    {
     "data": {
      "image/png": "[encoded data removed]",
      "text/plain": [
       "<Figure size 1440x144 with 1 Axes>"
      ]
     },
     "metadata": {},
     "output_type": "display_data"
    }
   ],
   "source": [
    "show_graphic(hr_window_arrojeria)"
   ]
  },
  {
   "cell_type": "markdown",
   "id": "3108b25c-da8e-42e5-b958-c35f527167fa",
   "metadata": {},
   "source": [
    "En este partido, Arrojería ha apretado bastante más, sobre todo en la primera parte del partido, en la segund ha tenido menos intensidad pero al menos ha tenido algunos tramos de máxima intensidad."
   ]
  },
  {
   "cell_type": "code",
   "execution_count": null,
   "id": "cfb8d43f-6b44-4221-8fb3-fee57fc193c0",
   "metadata": {},
   "outputs": [],
   "source": []
  }
 ],
 "metadata": {
  "kernelspec": {
   "display_name": "Python 3 (ipykernel)",
   "language": "python",
   "name": "python3"
  },
  "language_info": {
   "codemirror_mode": {
    "name": "ipython",
    "version": 3
   },
   "file_extension": ".py",
   "mimetype": "text/x-python",
   "name": "python",
   "nbconvert_exporter": "python",
   "pygments_lexer": "ipython3",
   "version": "3.9.2"
  }
 },
 "nbformat": 4,
 "nbformat_minor": 5
}
