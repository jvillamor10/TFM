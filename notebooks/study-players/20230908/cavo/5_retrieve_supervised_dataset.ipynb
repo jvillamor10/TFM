{
 "cells": [
  {
   "cell_type": "code",
   "execution_count": 1,
   "id": "24b5095e-bab5-41f6-9ed7-c3100e5942df",
   "metadata": {},
   "outputs": [],
   "source": [
    "import pandas as pd"
   ]
  },
  {
   "cell_type": "code",
   "execution_count": 2,
   "id": "edba9301-117f-4cb9-aa1b-bfab69e08c18",
   "metadata": {},
   "outputs": [],
   "source": [
    "player_name = 'cavo_malena'"
   ]
  },
  {
   "cell_type": "code",
   "execution_count": 3,
   "id": "a0ce3d38-96aa-4b0e-9999-6e7f898582b5",
   "metadata": {},
   "outputs": [],
   "source": [
    "record_date = '20230908'"
   ]
  },
  {
   "cell_type": "code",
   "execution_count": 4,
   "id": "b6ad8789-f91f-40bf-a33b-8efb0481b503",
   "metadata": {},
   "outputs": [],
   "source": [
    "ACTIVITY_LOAD_DATASET_FILE_DIR = f'../../../../datasets/study-players/{record_date}/{player_name}_activity_load.csv'\n",
    "HR_DATASET_FILE_DIR = f'../../../../datasets/study-players/{record_date}/{player_name}_hr_without_gaps.csv'"
   ]
  },
  {
   "cell_type": "code",
   "execution_count": 5,
   "id": "20331893-b4f6-4dd5-8ba5-9bf66419ba0d",
   "metadata": {},
   "outputs": [
    {
     "data": {
      "text/html": [
       "<div>\n",
       "<style scoped>\n",
       "    .dataframe tbody tr th:only-of-type {\n",
       "        vertical-align: middle;\n",
       "    }\n",
       "\n",
       "    .dataframe tbody tr th {\n",
       "        vertical-align: top;\n",
       "    }\n",
       "\n",
       "    .dataframe thead th {\n",
       "        text-align: right;\n",
       "    }\n",
       "</style>\n",
       "<table border=\"1\" class=\"dataframe\">\n",
       "  <thead>\n",
       "    <tr style=\"text-align: right;\">\n",
       "      <th></th>\n",
       "      <th>seconds</th>\n",
       "      <th>date</th>\n",
       "      <th>hr</th>\n",
       "      <th>diff</th>\n",
       "    </tr>\n",
       "  </thead>\n",
       "  <tbody>\n",
       "    <tr>\n",
       "      <th>0</th>\n",
       "      <td>98.302</td>\n",
       "      <td>[2023-09-08 19:20:31 439]</td>\n",
       "      <td>80.0</td>\n",
       "      <td>NaN</td>\n",
       "    </tr>\n",
       "    <tr>\n",
       "      <th>1</th>\n",
       "      <td>98.802</td>\n",
       "      <td>[2023-09-08 19:20:31 939]</td>\n",
       "      <td>80.0</td>\n",
       "      <td>0.5</td>\n",
       "    </tr>\n",
       "    <tr>\n",
       "      <th>2</th>\n",
       "      <td>99.302</td>\n",
       "      <td>[2023-09-08 19:20:32 439]</td>\n",
       "      <td>81.0</td>\n",
       "      <td>0.5</td>\n",
       "    </tr>\n",
       "    <tr>\n",
       "      <th>3</th>\n",
       "      <td>99.802</td>\n",
       "      <td>[2023-09-08 19:20:32 939]</td>\n",
       "      <td>82.0</td>\n",
       "      <td>0.5</td>\n",
       "    </tr>\n",
       "    <tr>\n",
       "      <th>4</th>\n",
       "      <td>100.302</td>\n",
       "      <td>[2023-09-08 19:20:33 439]</td>\n",
       "      <td>84.0</td>\n",
       "      <td>0.5</td>\n",
       "    </tr>\n",
       "  </tbody>\n",
       "</table>\n",
       "</div>"
      ],
      "text/plain": [
       "   seconds                       date    hr  diff\n",
       "0   98.302  [2023-09-08 19:20:31 439]  80.0   NaN\n",
       "1   98.802  [2023-09-08 19:20:31 939]  80.0   0.5\n",
       "2   99.302  [2023-09-08 19:20:32 439]  81.0   0.5\n",
       "3   99.802  [2023-09-08 19:20:32 939]  82.0   0.5\n",
       "4  100.302  [2023-09-08 19:20:33 439]  84.0   0.5"
      ]
     },
     "execution_count": 5,
     "metadata": {},
     "output_type": "execute_result"
    }
   ],
   "source": [
    "hr = pd.read_csv(HR_DATASET_FILE_DIR,index_col=0)\n",
    "hr.head()"
   ]
  },
  {
   "cell_type": "code",
   "execution_count": 6,
   "id": "39e607fd-080b-4e63-aba4-9d5166cce03b",
   "metadata": {},
   "outputs": [
    {
     "data": {
      "text/html": [
       "<div>\n",
       "<style scoped>\n",
       "    .dataframe tbody tr th:only-of-type {\n",
       "        vertical-align: middle;\n",
       "    }\n",
       "\n",
       "    .dataframe tbody tr th {\n",
       "        vertical-align: top;\n",
       "    }\n",
       "\n",
       "    .dataframe thead th {\n",
       "        text-align: right;\n",
       "    }\n",
       "</style>\n",
       "<table border=\"1\" class=\"dataframe\">\n",
       "  <thead>\n",
       "    <tr style=\"text-align: right;\">\n",
       "      <th></th>\n",
       "      <th>seconds</th>\n",
       "      <th>date</th>\n",
       "      <th>activity_load_2d</th>\n",
       "      <th>activity_load_3d</th>\n",
       "    </tr>\n",
       "  </thead>\n",
       "  <tbody>\n",
       "    <tr>\n",
       "      <th>72</th>\n",
       "      <td>1.765</td>\n",
       "      <td>[2023-09-08 19:18:54 902]</td>\n",
       "      <td>0.0050</td>\n",
       "      <td>0.0055</td>\n",
       "    </tr>\n",
       "    <tr>\n",
       "      <th>181</th>\n",
       "      <td>2.765</td>\n",
       "      <td>[2023-09-08 19:18:55 902]</td>\n",
       "      <td>0.0019</td>\n",
       "      <td>0.0022</td>\n",
       "    </tr>\n",
       "    <tr>\n",
       "      <th>291</th>\n",
       "      <td>3.765</td>\n",
       "      <td>[2023-09-08 19:18:56 902]</td>\n",
       "      <td>0.0022</td>\n",
       "      <td>0.0025</td>\n",
       "    </tr>\n",
       "    <tr>\n",
       "      <th>402</th>\n",
       "      <td>4.765</td>\n",
       "      <td>[2023-09-08 19:18:57 902]</td>\n",
       "      <td>0.0020</td>\n",
       "      <td>0.0023</td>\n",
       "    </tr>\n",
       "    <tr>\n",
       "      <th>513</th>\n",
       "      <td>5.765</td>\n",
       "      <td>[2023-09-08 19:18:58 902]</td>\n",
       "      <td>0.0022</td>\n",
       "      <td>0.0025</td>\n",
       "    </tr>\n",
       "  </tbody>\n",
       "</table>\n",
       "</div>"
      ],
      "text/plain": [
       "     seconds                       date  activity_load_2d  activity_load_3d\n",
       "72     1.765  [2023-09-08 19:18:54 902]            0.0050            0.0055\n",
       "181    2.765  [2023-09-08 19:18:55 902]            0.0019            0.0022\n",
       "291    3.765  [2023-09-08 19:18:56 902]            0.0022            0.0025\n",
       "402    4.765  [2023-09-08 19:18:57 902]            0.0020            0.0023\n",
       "513    5.765  [2023-09-08 19:18:58 902]            0.0022            0.0025"
      ]
     },
     "execution_count": 6,
     "metadata": {},
     "output_type": "execute_result"
    }
   ],
   "source": [
    "activity_load = pd.read_csv(ACTIVITY_LOAD_DATASET_FILE_DIR,index_col=0)\n",
    "activity_load.head()"
   ]
  },
  {
   "cell_type": "markdown",
   "id": "6c541042-ae49-4ba8-a9e4-e14dd28370b0",
   "metadata": {},
   "source": [
    "Los datasets tienen distinto número de registros"
   ]
  },
  {
   "cell_type": "code",
   "execution_count": 7,
   "id": "738092aa-21bf-410b-9650-46508d321cb3",
   "metadata": {},
   "outputs": [
    {
     "name": "stdout",
     "output_type": "stream",
     "text": [
      "Número de registros de HR: 16918\n"
     ]
    }
   ],
   "source": [
    "print(f'Número de registros de HR: {len(hr)}')"
   ]
  },
  {
   "cell_type": "code",
   "execution_count": 8,
   "id": "964d3b76-ffa0-40fe-9a43-1ef8527c3cbf",
   "metadata": {},
   "outputs": [
    {
     "name": "stdout",
     "output_type": "stream",
     "text": [
      "Número de registros de ActivityLoad: 8536\n"
     ]
    }
   ],
   "source": [
    "print(f'Número de registros de ActivityLoad: {len(activity_load)}')"
   ]
  },
  {
   "cell_type": "markdown",
   "id": "919eab1d-a4f8-4ca0-8a08-123584d0d2fa",
   "metadata": {},
   "source": [
    "El número cuadra, es casi el doble."
   ]
  },
  {
   "cell_type": "markdown",
   "id": "f24ddcdd-c59a-4ca5-b11f-7be3dc3c835c",
   "metadata": {},
   "source": [
    "Coger los datos desde el inicio de partido"
   ]
  },
  {
   "cell_type": "markdown",
   "id": "27496805-dffe-445f-8ccf-cd67f1caae55",
   "metadata": {},
   "source": [
    "Hay que indicar cuando empieza el partido"
   ]
  },
  {
   "cell_type": "code",
   "execution_count": 9,
   "id": "34b61a54-db16-4a22-9a6c-4014f7e9c54d",
   "metadata": {},
   "outputs": [
    {
     "data": {
      "text/plain": [
       "[<matplotlib.lines.Line2D at 0x7f19d315f9d0>]"
      ]
     },
     "execution_count": 9,
     "metadata": {},
     "output_type": "execute_result"
    },
    {
     "data": {
      "image/png": "[encoded data removed]",
      "text/plain": [
       "<Figure size 432x288 with 1 Axes>"
      ]
     },
     "metadata": {
      "needs_background": "light"
     },
     "output_type": "display_data"
    }
   ],
   "source": [
    "import matplotlib.pyplot as plt\n",
    "\n",
    "x = hr['seconds']\n",
    "y = hr['hr']\n",
    "\n",
    "# Crear una figura y ejes\n",
    "fig, ax = plt.subplots()\n",
    "ax.plot(x, y, linestyle='-')"
   ]
  },
  {
   "cell_type": "markdown",
   "id": "5b1962b6-2814-4e53-a762-a74cafcb3177",
   "metadata": {},
   "source": [
    "## Obtener intervalo de partido"
   ]
  },
  {
   "cell_type": "markdown",
   "id": "8b4b6ef5-f0d4-4d9b-939b-7e152dbf8723",
   "metadata": {},
   "source": [
    "Se debe encontrar el inicio y el final del partido, se tiene cierta información de la página de la federación:\n",
    "\n",
    "https://www.rfebm.com/competiciones/competicion.php?seleccion=0&id=1019068&jornada=1&id_ambito=1"
   ]
  },
  {
   "cell_type": "markdown",
   "id": "0a423721-4456-4d83-a98f-37a6f5a9098c",
   "metadata": {},
   "source": [
    "El partido empieza a las 20:00"
   ]
  },
  {
   "cell_type": "code",
   "execution_count": 10,
   "id": "3eadfc5a-e835-451d-9909-493d57cf1200",
   "metadata": {},
   "outputs": [
    {
     "data": {
      "text/plain": [
       "seconds    float64\n",
       "date        object\n",
       "hr         float64\n",
       "diff       float64\n",
       "dtype: object"
      ]
     },
     "execution_count": 10,
     "metadata": {},
     "output_type": "execute_result"
    }
   ],
   "source": [
    "hr.dtypes"
   ]
  },
  {
   "cell_type": "code",
   "execution_count": 11,
   "id": "7d77a8fa-7d4f-43f5-b08e-dcfc5f39f89f",
   "metadata": {},
   "outputs": [],
   "source": [
    "hr['date'] = hr['date'].astype(str)"
   ]
  },
  {
   "cell_type": "code",
   "execution_count": 12,
   "id": "50dc12ba-358c-4a8d-8c62-0861a864af4d",
   "metadata": {},
   "outputs": [
    {
     "data": {
      "text/html": [
       "<div>\n",
       "<style scoped>\n",
       "    .dataframe tbody tr th:only-of-type {\n",
       "        vertical-align: middle;\n",
       "    }\n",
       "\n",
       "    .dataframe tbody tr th {\n",
       "        vertical-align: top;\n",
       "    }\n",
       "\n",
       "    .dataframe thead th {\n",
       "        text-align: right;\n",
       "    }\n",
       "</style>\n",
       "<table border=\"1\" class=\"dataframe\">\n",
       "  <thead>\n",
       "    <tr style=\"text-align: right;\">\n",
       "      <th></th>\n",
       "      <th>seconds</th>\n",
       "      <th>date</th>\n",
       "      <th>hr</th>\n",
       "      <th>diff</th>\n",
       "    </tr>\n",
       "  </thead>\n",
       "  <tbody>\n",
       "    <tr>\n",
       "      <th>4738</th>\n",
       "      <td>2467.302</td>\n",
       "      <td>[2023-09-08 20:00:00 439]</td>\n",
       "      <td>129.0</td>\n",
       "      <td>0.5</td>\n",
       "    </tr>\n",
       "    <tr>\n",
       "      <th>4739</th>\n",
       "      <td>2467.802</td>\n",
       "      <td>[2023-09-08 20:00:00 939]</td>\n",
       "      <td>129.0</td>\n",
       "      <td>0.5</td>\n",
       "    </tr>\n",
       "    <tr>\n",
       "      <th>4740</th>\n",
       "      <td>2468.302</td>\n",
       "      <td>[2023-09-08 20:00:01 439]</td>\n",
       "      <td>129.0</td>\n",
       "      <td>0.5</td>\n",
       "    </tr>\n",
       "    <tr>\n",
       "      <th>4741</th>\n",
       "      <td>2468.802</td>\n",
       "      <td>[2023-09-08 20:00:01 939]</td>\n",
       "      <td>129.0</td>\n",
       "      <td>0.5</td>\n",
       "    </tr>\n",
       "    <tr>\n",
       "      <th>4742</th>\n",
       "      <td>2469.302</td>\n",
       "      <td>[2023-09-08 20:00:02 439]</td>\n",
       "      <td>129.0</td>\n",
       "      <td>0.5</td>\n",
       "    </tr>\n",
       "    <tr>\n",
       "      <th>...</th>\n",
       "      <td>...</td>\n",
       "      <td>...</td>\n",
       "      <td>...</td>\n",
       "      <td>...</td>\n",
       "    </tr>\n",
       "    <tr>\n",
       "      <th>4853</th>\n",
       "      <td>2524.802</td>\n",
       "      <td>[2023-09-08 20:00:57 939]</td>\n",
       "      <td>121.0</td>\n",
       "      <td>0.5</td>\n",
       "    </tr>\n",
       "    <tr>\n",
       "      <th>4854</th>\n",
       "      <td>2525.302</td>\n",
       "      <td>[2023-09-08 20:00:58 439]</td>\n",
       "      <td>121.0</td>\n",
       "      <td>0.5</td>\n",
       "    </tr>\n",
       "    <tr>\n",
       "      <th>4855</th>\n",
       "      <td>2525.802</td>\n",
       "      <td>[2023-09-08 20:00:58 939]</td>\n",
       "      <td>121.0</td>\n",
       "      <td>0.5</td>\n",
       "    </tr>\n",
       "    <tr>\n",
       "      <th>4856</th>\n",
       "      <td>2526.302</td>\n",
       "      <td>[2023-09-08 20:00:59 439]</td>\n",
       "      <td>121.0</td>\n",
       "      <td>0.5</td>\n",
       "    </tr>\n",
       "    <tr>\n",
       "      <th>4857</th>\n",
       "      <td>2526.802</td>\n",
       "      <td>[2023-09-08 20:00:59 939]</td>\n",
       "      <td>121.0</td>\n",
       "      <td>0.5</td>\n",
       "    </tr>\n",
       "  </tbody>\n",
       "</table>\n",
       "<p>120 rows × 4 columns</p>\n",
       "</div>"
      ],
      "text/plain": [
       "       seconds                       date     hr  diff\n",
       "4738  2467.302  [2023-09-08 20:00:00 439]  129.0   0.5\n",
       "4739  2467.802  [2023-09-08 20:00:00 939]  129.0   0.5\n",
       "4740  2468.302  [2023-09-08 20:00:01 439]  129.0   0.5\n",
       "4741  2468.802  [2023-09-08 20:00:01 939]  129.0   0.5\n",
       "4742  2469.302  [2023-09-08 20:00:02 439]  129.0   0.5\n",
       "...        ...                        ...    ...   ...\n",
       "4853  2524.802  [2023-09-08 20:00:57 939]  121.0   0.5\n",
       "4854  2525.302  [2023-09-08 20:00:58 439]  121.0   0.5\n",
       "4855  2525.802  [2023-09-08 20:00:58 939]  121.0   0.5\n",
       "4856  2526.302  [2023-09-08 20:00:59 439]  121.0   0.5\n",
       "4857  2526.802  [2023-09-08 20:00:59 939]  121.0   0.5\n",
       "\n",
       "[120 rows x 4 columns]"
      ]
     },
     "execution_count": 12,
     "metadata": {},
     "output_type": "execute_result"
    }
   ],
   "source": [
    "hr[hr['date'].str.contains('20:00:')]"
   ]
  },
  {
   "cell_type": "markdown",
   "id": "4046c9df-ef3e-47b5-a3f8-bc4fd2068818",
   "metadata": {},
   "source": [
    "El partido empieza en el segundo 2520 apróximadamente."
   ]
  },
  {
   "cell_type": "code",
   "execution_count": 13,
   "id": "019618e8-5821-4686-bb2c-5d21257133d4",
   "metadata": {},
   "outputs": [],
   "source": [
    "match_start = 2520"
   ]
  },
  {
   "cell_type": "markdown",
   "id": "6ba23fa2-3e64-4756-9e03-f0de45274a11",
   "metadata": {},
   "source": [
    "Hay un total de 4 exclusiones y 2 tiempos muertos en la primera parte, por tanto, se considera que dura 36 minutos.\n",
    "La segunda parte tiene un total de 5 exclusiones y 4 tiempos muertos, haciendo un total de 39 minutos.\n",
    "El descanso dura 10 minutos."
   ]
  },
  {
   "cell_type": "code",
   "execution_count": 14,
   "id": "ff99ad61-f119-4f03-bd0d-c881ba972860",
   "metadata": {},
   "outputs": [
    {
     "name": "stdout",
     "output_type": "stream",
     "text": [
      "Tiempo hasta el final de partido: 85 minutos, 5100 segundos\n"
     ]
    }
   ],
   "source": [
    "duration = 36 + 10 + 39\n",
    "print(f'Tiempo hasta el final de partido: {duration} minutos, {duration * 60} segundos')"
   ]
  },
  {
   "cell_type": "code",
   "execution_count": 15,
   "id": "fcf04a17-4625-4692-af07-634d5c6bf75d",
   "metadata": {},
   "outputs": [
    {
     "data": {
      "text/plain": [
       "7620"
      ]
     },
     "execution_count": 15,
     "metadata": {},
     "output_type": "execute_result"
    }
   ],
   "source": [
    "match_end = match_start + duration * 60\n",
    "match_end"
   ]
  },
  {
   "cell_type": "markdown",
   "id": "cd05fe79-1109-4be0-b4cd-1df71acead6e",
   "metadata": {},
   "source": [
    "## Se procede a obtener el nuevo conjunto de datos en el intervalo de tiempo marcado"
   ]
  },
  {
   "cell_type": "code",
   "execution_count": 16,
   "id": "31301c3f-b49d-430b-9b58-cbf4c52faf86",
   "metadata": {},
   "outputs": [
    {
     "data": {
      "text/html": [
       "<div>\n",
       "<style scoped>\n",
       "    .dataframe tbody tr th:only-of-type {\n",
       "        vertical-align: middle;\n",
       "    }\n",
       "\n",
       "    .dataframe tbody tr th {\n",
       "        vertical-align: top;\n",
       "    }\n",
       "\n",
       "    .dataframe thead th {\n",
       "        text-align: right;\n",
       "    }\n",
       "</style>\n",
       "<table border=\"1\" class=\"dataframe\">\n",
       "  <thead>\n",
       "    <tr style=\"text-align: right;\">\n",
       "      <th></th>\n",
       "      <th>index</th>\n",
       "      <th>seconds</th>\n",
       "      <th>date</th>\n",
       "      <th>activity_load_2d</th>\n",
       "      <th>activity_load_3d</th>\n",
       "    </tr>\n",
       "  </thead>\n",
       "  <tbody>\n",
       "    <tr>\n",
       "      <th>0</th>\n",
       "      <td>287379</td>\n",
       "      <td>2520.376</td>\n",
       "      <td>[2023-09-08 20:00:53 513]</td>\n",
       "      <td>0.0142</td>\n",
       "      <td>0.0218</td>\n",
       "    </tr>\n",
       "    <tr>\n",
       "      <th>1</th>\n",
       "      <td>287495</td>\n",
       "      <td>2521.376</td>\n",
       "      <td>[2023-09-08 20:00:54 513]</td>\n",
       "      <td>0.0096</td>\n",
       "      <td>0.0137</td>\n",
       "    </tr>\n",
       "    <tr>\n",
       "      <th>2</th>\n",
       "      <td>287606</td>\n",
       "      <td>2522.376</td>\n",
       "      <td>[2023-09-08 20:00:55 513]</td>\n",
       "      <td>0.0112</td>\n",
       "      <td>0.0165</td>\n",
       "    </tr>\n",
       "    <tr>\n",
       "      <th>3</th>\n",
       "      <td>287721</td>\n",
       "      <td>2523.376</td>\n",
       "      <td>[2023-09-08 20:00:56 513]</td>\n",
       "      <td>0.0464</td>\n",
       "      <td>0.0589</td>\n",
       "    </tr>\n",
       "    <tr>\n",
       "      <th>4</th>\n",
       "      <td>287836</td>\n",
       "      <td>2524.376</td>\n",
       "      <td>[2023-09-08 20:00:57 513]</td>\n",
       "      <td>0.0381</td>\n",
       "      <td>0.0479</td>\n",
       "    </tr>\n",
       "    <tr>\n",
       "      <th>...</th>\n",
       "      <td>...</td>\n",
       "      <td>...</td>\n",
       "      <td>...</td>\n",
       "      <td>...</td>\n",
       "      <td>...</td>\n",
       "    </tr>\n",
       "    <tr>\n",
       "      <th>5082</th>\n",
       "      <td>869541</td>\n",
       "      <td>7615.951</td>\n",
       "      <td>[2023-09-08 21:25:49 088]</td>\n",
       "      <td>0.0086</td>\n",
       "      <td>0.0118</td>\n",
       "    </tr>\n",
       "    <tr>\n",
       "      <th>5083</th>\n",
       "      <td>869651</td>\n",
       "      <td>7616.952</td>\n",
       "      <td>[2023-09-08 21:25:50 089]</td>\n",
       "      <td>0.0132</td>\n",
       "      <td>0.0168</td>\n",
       "    </tr>\n",
       "    <tr>\n",
       "      <th>5084</th>\n",
       "      <td>869767</td>\n",
       "      <td>7617.949</td>\n",
       "      <td>[2023-09-08 21:25:51 086]</td>\n",
       "      <td>0.0227</td>\n",
       "      <td>0.0320</td>\n",
       "    </tr>\n",
       "    <tr>\n",
       "      <th>5085</th>\n",
       "      <td>869884</td>\n",
       "      <td>7618.951</td>\n",
       "      <td>[2023-09-08 21:25:52 088]</td>\n",
       "      <td>0.0109</td>\n",
       "      <td>0.0142</td>\n",
       "    </tr>\n",
       "    <tr>\n",
       "      <th>5086</th>\n",
       "      <td>869993</td>\n",
       "      <td>7619.950</td>\n",
       "      <td>[2023-09-08 21:25:53 087]</td>\n",
       "      <td>0.0086</td>\n",
       "      <td>0.0103</td>\n",
       "    </tr>\n",
       "  </tbody>\n",
       "</table>\n",
       "<p>5087 rows × 5 columns</p>\n",
       "</div>"
      ],
      "text/plain": [
       "       index   seconds                       date  activity_load_2d  \\\n",
       "0     287379  2520.376  [2023-09-08 20:00:53 513]            0.0142   \n",
       "1     287495  2521.376  [2023-09-08 20:00:54 513]            0.0096   \n",
       "2     287606  2522.376  [2023-09-08 20:00:55 513]            0.0112   \n",
       "3     287721  2523.376  [2023-09-08 20:00:56 513]            0.0464   \n",
       "4     287836  2524.376  [2023-09-08 20:00:57 513]            0.0381   \n",
       "...      ...       ...                        ...               ...   \n",
       "5082  869541  7615.951  [2023-09-08 21:25:49 088]            0.0086   \n",
       "5083  869651  7616.952  [2023-09-08 21:25:50 089]            0.0132   \n",
       "5084  869767  7617.949  [2023-09-08 21:25:51 086]            0.0227   \n",
       "5085  869884  7618.951  [2023-09-08 21:25:52 088]            0.0109   \n",
       "5086  869993  7619.950  [2023-09-08 21:25:53 087]            0.0086   \n",
       "\n",
       "      activity_load_3d  \n",
       "0               0.0218  \n",
       "1               0.0137  \n",
       "2               0.0165  \n",
       "3               0.0589  \n",
       "4               0.0479  \n",
       "...                ...  \n",
       "5082            0.0118  \n",
       "5083            0.0168  \n",
       "5084            0.0320  \n",
       "5085            0.0142  \n",
       "5086            0.0103  \n",
       "\n",
       "[5087 rows x 5 columns]"
      ]
     },
     "execution_count": 16,
     "metadata": {},
     "output_type": "execute_result"
    }
   ],
   "source": [
    "activity_match = activity_load[(activity_load['seconds']>match_start) & (activity_load['seconds']<match_end)]\n",
    "activity_match.reset_index(inplace=True)\n",
    "activity_match"
   ]
  },
  {
   "cell_type": "markdown",
   "id": "b2f0e961-ed18-43bc-a876-9084f4721b68",
   "metadata": {},
   "source": [
    "De hr, tan solo se coge la mitad del dataset"
   ]
  },
  {
   "cell_type": "code",
   "execution_count": 17,
   "id": "aa3b1aa0-5f78-42a6-b1da-396fac8b47dd",
   "metadata": {},
   "outputs": [
    {
     "name": "stderr",
     "output_type": "stream",
     "text": [
      "/tmp/ipykernel_6051/3022938453.py:1: UserWarning: Boolean Series key will be reindexed to match DataFrame index.\n",
      "  hr_match = hr.iloc[hr.index % 2 == 0][(hr['seconds']>match_start) & (hr['seconds']<match_end)]\n"
     ]
    },
    {
     "data": {
      "text/html": [
       "<div>\n",
       "<style scoped>\n",
       "    .dataframe tbody tr th:only-of-type {\n",
       "        vertical-align: middle;\n",
       "    }\n",
       "\n",
       "    .dataframe tbody tr th {\n",
       "        vertical-align: top;\n",
       "    }\n",
       "\n",
       "    .dataframe thead th {\n",
       "        text-align: right;\n",
       "    }\n",
       "</style>\n",
       "<table border=\"1\" class=\"dataframe\">\n",
       "  <thead>\n",
       "    <tr style=\"text-align: right;\">\n",
       "      <th></th>\n",
       "      <th>index</th>\n",
       "      <th>seconds</th>\n",
       "      <th>date</th>\n",
       "      <th>hr</th>\n",
       "      <th>diff</th>\n",
       "    </tr>\n",
       "  </thead>\n",
       "  <tbody>\n",
       "    <tr>\n",
       "      <th>0</th>\n",
       "      <td>4844</td>\n",
       "      <td>2520.302</td>\n",
       "      <td>[2023-09-08 20:00:53 439]</td>\n",
       "      <td>120.0</td>\n",
       "      <td>0.500</td>\n",
       "    </tr>\n",
       "    <tr>\n",
       "      <th>1</th>\n",
       "      <td>4846</td>\n",
       "      <td>2521.302</td>\n",
       "      <td>[2023-09-08 20:00:54 439]</td>\n",
       "      <td>121.0</td>\n",
       "      <td>0.500</td>\n",
       "    </tr>\n",
       "    <tr>\n",
       "      <th>2</th>\n",
       "      <td>4848</td>\n",
       "      <td>2522.302</td>\n",
       "      <td>[2023-09-08 20:00:55 439]</td>\n",
       "      <td>121.0</td>\n",
       "      <td>0.500</td>\n",
       "    </tr>\n",
       "    <tr>\n",
       "      <th>3</th>\n",
       "      <td>4850</td>\n",
       "      <td>2523.302</td>\n",
       "      <td>[2023-09-08 20:00:56 439]</td>\n",
       "      <td>121.0</td>\n",
       "      <td>0.500</td>\n",
       "    </tr>\n",
       "    <tr>\n",
       "      <th>4</th>\n",
       "      <td>4852</td>\n",
       "      <td>2524.302</td>\n",
       "      <td>[2023-09-08 20:00:57 439]</td>\n",
       "      <td>121.0</td>\n",
       "      <td>0.500</td>\n",
       "    </tr>\n",
       "    <tr>\n",
       "      <th>...</th>\n",
       "      <td>...</td>\n",
       "      <td>...</td>\n",
       "      <td>...</td>\n",
       "      <td>...</td>\n",
       "      <td>...</td>\n",
       "    </tr>\n",
       "    <tr>\n",
       "      <th>5095</th>\n",
       "      <td>15034</td>\n",
       "      <td>7615.484</td>\n",
       "      <td>[2023-09-08 21:25:48 621]</td>\n",
       "      <td>162.0</td>\n",
       "      <td>0.501</td>\n",
       "    </tr>\n",
       "    <tr>\n",
       "      <th>5096</th>\n",
       "      <td>15036</td>\n",
       "      <td>7616.482</td>\n",
       "      <td>[2023-09-08 21:25:49 619]</td>\n",
       "      <td>161.0</td>\n",
       "      <td>0.501</td>\n",
       "    </tr>\n",
       "    <tr>\n",
       "      <th>5097</th>\n",
       "      <td>15038</td>\n",
       "      <td>7617.483</td>\n",
       "      <td>[2023-09-08 21:25:50 620]</td>\n",
       "      <td>160.0</td>\n",
       "      <td>0.501</td>\n",
       "    </tr>\n",
       "    <tr>\n",
       "      <th>5098</th>\n",
       "      <td>15040</td>\n",
       "      <td>7618.480</td>\n",
       "      <td>[2023-09-08 21:25:51 617]</td>\n",
       "      <td>161.0</td>\n",
       "      <td>0.501</td>\n",
       "    </tr>\n",
       "    <tr>\n",
       "      <th>5099</th>\n",
       "      <td>15042</td>\n",
       "      <td>7619.482</td>\n",
       "      <td>[2023-09-08 21:25:52 619]</td>\n",
       "      <td>162.0</td>\n",
       "      <td>0.501</td>\n",
       "    </tr>\n",
       "  </tbody>\n",
       "</table>\n",
       "<p>5100 rows × 5 columns</p>\n",
       "</div>"
      ],
      "text/plain": [
       "      index   seconds                       date     hr   diff\n",
       "0      4844  2520.302  [2023-09-08 20:00:53 439]  120.0  0.500\n",
       "1      4846  2521.302  [2023-09-08 20:00:54 439]  121.0  0.500\n",
       "2      4848  2522.302  [2023-09-08 20:00:55 439]  121.0  0.500\n",
       "3      4850  2523.302  [2023-09-08 20:00:56 439]  121.0  0.500\n",
       "4      4852  2524.302  [2023-09-08 20:00:57 439]  121.0  0.500\n",
       "...     ...       ...                        ...    ...    ...\n",
       "5095  15034  7615.484  [2023-09-08 21:25:48 621]  162.0  0.501\n",
       "5096  15036  7616.482  [2023-09-08 21:25:49 619]  161.0  0.501\n",
       "5097  15038  7617.483  [2023-09-08 21:25:50 620]  160.0  0.501\n",
       "5098  15040  7618.480  [2023-09-08 21:25:51 617]  161.0  0.501\n",
       "5099  15042  7619.482  [2023-09-08 21:25:52 619]  162.0  0.501\n",
       "\n",
       "[5100 rows x 5 columns]"
      ]
     },
     "execution_count": 17,
     "metadata": {},
     "output_type": "execute_result"
    }
   ],
   "source": [
    "hr_match = hr.iloc[hr.index % 2 == 0][(hr['seconds']>match_start) & (hr['seconds']<match_end)]\n",
    "hr_match.reset_index(inplace=True)\n",
    "hr_match"
   ]
  },
  {
   "cell_type": "code",
   "execution_count": 18,
   "id": "0497b9e3-f6a9-4781-9830-60e7637e4b0a",
   "metadata": {},
   "outputs": [],
   "source": [
    "hr_match['activity_load_2d'] = activity_match['activity_load_2d']"
   ]
  },
  {
   "cell_type": "code",
   "execution_count": 19,
   "id": "63a10208-0173-41bd-ab9f-b41508e27823",
   "metadata": {},
   "outputs": [],
   "source": [
    "hr_match['activity_load_3d'] = activity_match['activity_load_3d']"
   ]
  },
  {
   "cell_type": "code",
   "execution_count": 20,
   "id": "e16889f2-1ec8-46fc-853e-99e5a4eb9cb5",
   "metadata": {},
   "outputs": [
    {
     "data": {
      "text/html": [
       "<div>\n",
       "<style scoped>\n",
       "    .dataframe tbody tr th:only-of-type {\n",
       "        vertical-align: middle;\n",
       "    }\n",
       "\n",
       "    .dataframe tbody tr th {\n",
       "        vertical-align: top;\n",
       "    }\n",
       "\n",
       "    .dataframe thead th {\n",
       "        text-align: right;\n",
       "    }\n",
       "</style>\n",
       "<table border=\"1\" class=\"dataframe\">\n",
       "  <thead>\n",
       "    <tr style=\"text-align: right;\">\n",
       "      <th></th>\n",
       "      <th>index</th>\n",
       "      <th>seconds</th>\n",
       "      <th>date</th>\n",
       "      <th>hr</th>\n",
       "      <th>diff</th>\n",
       "      <th>activity_load_2d</th>\n",
       "      <th>activity_load_3d</th>\n",
       "    </tr>\n",
       "  </thead>\n",
       "  <tbody>\n",
       "    <tr>\n",
       "      <th>0</th>\n",
       "      <td>4844</td>\n",
       "      <td>2520.302</td>\n",
       "      <td>[2023-09-08 20:00:53 439]</td>\n",
       "      <td>120.0</td>\n",
       "      <td>0.500</td>\n",
       "      <td>0.0142</td>\n",
       "      <td>0.0218</td>\n",
       "    </tr>\n",
       "    <tr>\n",
       "      <th>1</th>\n",
       "      <td>4846</td>\n",
       "      <td>2521.302</td>\n",
       "      <td>[2023-09-08 20:00:54 439]</td>\n",
       "      <td>121.0</td>\n",
       "      <td>0.500</td>\n",
       "      <td>0.0096</td>\n",
       "      <td>0.0137</td>\n",
       "    </tr>\n",
       "    <tr>\n",
       "      <th>2</th>\n",
       "      <td>4848</td>\n",
       "      <td>2522.302</td>\n",
       "      <td>[2023-09-08 20:00:55 439]</td>\n",
       "      <td>121.0</td>\n",
       "      <td>0.500</td>\n",
       "      <td>0.0112</td>\n",
       "      <td>0.0165</td>\n",
       "    </tr>\n",
       "    <tr>\n",
       "      <th>3</th>\n",
       "      <td>4850</td>\n",
       "      <td>2523.302</td>\n",
       "      <td>[2023-09-08 20:00:56 439]</td>\n",
       "      <td>121.0</td>\n",
       "      <td>0.500</td>\n",
       "      <td>0.0464</td>\n",
       "      <td>0.0589</td>\n",
       "    </tr>\n",
       "    <tr>\n",
       "      <th>4</th>\n",
       "      <td>4852</td>\n",
       "      <td>2524.302</td>\n",
       "      <td>[2023-09-08 20:00:57 439]</td>\n",
       "      <td>121.0</td>\n",
       "      <td>0.500</td>\n",
       "      <td>0.0381</td>\n",
       "      <td>0.0479</td>\n",
       "    </tr>\n",
       "    <tr>\n",
       "      <th>...</th>\n",
       "      <td>...</td>\n",
       "      <td>...</td>\n",
       "      <td>...</td>\n",
       "      <td>...</td>\n",
       "      <td>...</td>\n",
       "      <td>...</td>\n",
       "      <td>...</td>\n",
       "    </tr>\n",
       "    <tr>\n",
       "      <th>5095</th>\n",
       "      <td>15034</td>\n",
       "      <td>7615.484</td>\n",
       "      <td>[2023-09-08 21:25:48 621]</td>\n",
       "      <td>162.0</td>\n",
       "      <td>0.501</td>\n",
       "      <td>NaN</td>\n",
       "      <td>NaN</td>\n",
       "    </tr>\n",
       "    <tr>\n",
       "      <th>5096</th>\n",
       "      <td>15036</td>\n",
       "      <td>7616.482</td>\n",
       "      <td>[2023-09-08 21:25:49 619]</td>\n",
       "      <td>161.0</td>\n",
       "      <td>0.501</td>\n",
       "      <td>NaN</td>\n",
       "      <td>NaN</td>\n",
       "    </tr>\n",
       "    <tr>\n",
       "      <th>5097</th>\n",
       "      <td>15038</td>\n",
       "      <td>7617.483</td>\n",
       "      <td>[2023-09-08 21:25:50 620]</td>\n",
       "      <td>160.0</td>\n",
       "      <td>0.501</td>\n",
       "      <td>NaN</td>\n",
       "      <td>NaN</td>\n",
       "    </tr>\n",
       "    <tr>\n",
       "      <th>5098</th>\n",
       "      <td>15040</td>\n",
       "      <td>7618.480</td>\n",
       "      <td>[2023-09-08 21:25:51 617]</td>\n",
       "      <td>161.0</td>\n",
       "      <td>0.501</td>\n",
       "      <td>NaN</td>\n",
       "      <td>NaN</td>\n",
       "    </tr>\n",
       "    <tr>\n",
       "      <th>5099</th>\n",
       "      <td>15042</td>\n",
       "      <td>7619.482</td>\n",
       "      <td>[2023-09-08 21:25:52 619]</td>\n",
       "      <td>162.0</td>\n",
       "      <td>0.501</td>\n",
       "      <td>NaN</td>\n",
       "      <td>NaN</td>\n",
       "    </tr>\n",
       "  </tbody>\n",
       "</table>\n",
       "<p>5100 rows × 7 columns</p>\n",
       "</div>"
      ],
      "text/plain": [
       "      index   seconds                       date     hr   diff  \\\n",
       "0      4844  2520.302  [2023-09-08 20:00:53 439]  120.0  0.500   \n",
       "1      4846  2521.302  [2023-09-08 20:00:54 439]  121.0  0.500   \n",
       "2      4848  2522.302  [2023-09-08 20:00:55 439]  121.0  0.500   \n",
       "3      4850  2523.302  [2023-09-08 20:00:56 439]  121.0  0.500   \n",
       "4      4852  2524.302  [2023-09-08 20:00:57 439]  121.0  0.500   \n",
       "...     ...       ...                        ...    ...    ...   \n",
       "5095  15034  7615.484  [2023-09-08 21:25:48 621]  162.0  0.501   \n",
       "5096  15036  7616.482  [2023-09-08 21:25:49 619]  161.0  0.501   \n",
       "5097  15038  7617.483  [2023-09-08 21:25:50 620]  160.0  0.501   \n",
       "5098  15040  7618.480  [2023-09-08 21:25:51 617]  161.0  0.501   \n",
       "5099  15042  7619.482  [2023-09-08 21:25:52 619]  162.0  0.501   \n",
       "\n",
       "      activity_load_2d  activity_load_3d  \n",
       "0               0.0142            0.0218  \n",
       "1               0.0096            0.0137  \n",
       "2               0.0112            0.0165  \n",
       "3               0.0464            0.0589  \n",
       "4               0.0381            0.0479  \n",
       "...                ...               ...  \n",
       "5095               NaN               NaN  \n",
       "5096               NaN               NaN  \n",
       "5097               NaN               NaN  \n",
       "5098               NaN               NaN  \n",
       "5099               NaN               NaN  \n",
       "\n",
       "[5100 rows x 7 columns]"
      ]
     },
     "execution_count": 20,
     "metadata": {},
     "output_type": "execute_result"
    }
   ],
   "source": [
    "hr_match"
   ]
  },
  {
   "cell_type": "code",
   "execution_count": 21,
   "id": "891490b8-54ad-4553-8592-37e4576e162d",
   "metadata": {},
   "outputs": [],
   "source": [
    "hr_match.drop(['index', 'diff'],axis=1, inplace=True)"
   ]
  },
  {
   "cell_type": "code",
   "execution_count": 22,
   "id": "b8f13879-89ad-4939-92de-acf23e9293cd",
   "metadata": {},
   "outputs": [
    {
     "data": {
      "text/html": [
       "<div>\n",
       "<style scoped>\n",
       "    .dataframe tbody tr th:only-of-type {\n",
       "        vertical-align: middle;\n",
       "    }\n",
       "\n",
       "    .dataframe tbody tr th {\n",
       "        vertical-align: top;\n",
       "    }\n",
       "\n",
       "    .dataframe thead th {\n",
       "        text-align: right;\n",
       "    }\n",
       "</style>\n",
       "<table border=\"1\" class=\"dataframe\">\n",
       "  <thead>\n",
       "    <tr style=\"text-align: right;\">\n",
       "      <th></th>\n",
       "      <th>seconds</th>\n",
       "      <th>date</th>\n",
       "      <th>hr</th>\n",
       "      <th>activity_load_2d</th>\n",
       "      <th>activity_load_3d</th>\n",
       "    </tr>\n",
       "  </thead>\n",
       "  <tbody>\n",
       "    <tr>\n",
       "      <th>0</th>\n",
       "      <td>2520.302</td>\n",
       "      <td>[2023-09-08 20:00:53 439]</td>\n",
       "      <td>120.0</td>\n",
       "      <td>0.0142</td>\n",
       "      <td>0.0218</td>\n",
       "    </tr>\n",
       "    <tr>\n",
       "      <th>1</th>\n",
       "      <td>2521.302</td>\n",
       "      <td>[2023-09-08 20:00:54 439]</td>\n",
       "      <td>121.0</td>\n",
       "      <td>0.0096</td>\n",
       "      <td>0.0137</td>\n",
       "    </tr>\n",
       "    <tr>\n",
       "      <th>2</th>\n",
       "      <td>2522.302</td>\n",
       "      <td>[2023-09-08 20:00:55 439]</td>\n",
       "      <td>121.0</td>\n",
       "      <td>0.0112</td>\n",
       "      <td>0.0165</td>\n",
       "    </tr>\n",
       "    <tr>\n",
       "      <th>3</th>\n",
       "      <td>2523.302</td>\n",
       "      <td>[2023-09-08 20:00:56 439]</td>\n",
       "      <td>121.0</td>\n",
       "      <td>0.0464</td>\n",
       "      <td>0.0589</td>\n",
       "    </tr>\n",
       "    <tr>\n",
       "      <th>4</th>\n",
       "      <td>2524.302</td>\n",
       "      <td>[2023-09-08 20:00:57 439]</td>\n",
       "      <td>121.0</td>\n",
       "      <td>0.0381</td>\n",
       "      <td>0.0479</td>\n",
       "    </tr>\n",
       "  </tbody>\n",
       "</table>\n",
       "</div>"
      ],
      "text/plain": [
       "    seconds                       date     hr  activity_load_2d  \\\n",
       "0  2520.302  [2023-09-08 20:00:53 439]  120.0            0.0142   \n",
       "1  2521.302  [2023-09-08 20:00:54 439]  121.0            0.0096   \n",
       "2  2522.302  [2023-09-08 20:00:55 439]  121.0            0.0112   \n",
       "3  2523.302  [2023-09-08 20:00:56 439]  121.0            0.0464   \n",
       "4  2524.302  [2023-09-08 20:00:57 439]  121.0            0.0381   \n",
       "\n",
       "   activity_load_3d  \n",
       "0            0.0218  \n",
       "1            0.0137  \n",
       "2            0.0165  \n",
       "3            0.0589  \n",
       "4            0.0479  "
      ]
     },
     "execution_count": 22,
     "metadata": {},
     "output_type": "execute_result"
    }
   ],
   "source": [
    "hr_match.head()"
   ]
  },
  {
   "cell_type": "code",
   "execution_count": 23,
   "id": "628d3c92-a5da-40a5-833c-7011714bbfe0",
   "metadata": {},
   "outputs": [],
   "source": [
    "hr_match.to_csv(f'../../../../datasets/study-players/{record_date}/{player_name}_match_attributes.csv')"
   ]
  },
  {
   "cell_type": "code",
   "execution_count": null,
   "id": "f767bac9-9eba-48c2-b4d2-6cf61f57fe13",
   "metadata": {},
   "outputs": [],
   "source": []
  }
 ],
 "metadata": {
  "kernelspec": {
   "display_name": "Python 3 (ipykernel)",
   "language": "python",
   "name": "python3"
  },
  "language_info": {
   "codemirror_mode": {
    "name": "ipython",
    "version": 3
   },
   "file_extension": ".py",
   "mimetype": "text/x-python",
   "name": "python",
   "nbconvert_exporter": "python",
   "pygments_lexer": "ipython3",
   "version": "3.9.2"
  }
 },
 "nbformat": 4,
 "nbformat_minor": 5
}
