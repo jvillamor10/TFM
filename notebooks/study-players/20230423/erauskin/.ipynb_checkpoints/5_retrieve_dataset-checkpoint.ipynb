{
 "cells": [
  {
   "cell_type": "code",
   "execution_count": 2,
   "id": "24b5095e-bab5-41f6-9ed7-c3100e5942df",
   "metadata": {},
   "outputs": [],
   "source": [
    "import pandas as pd"
   ]
  },
  {
   "cell_type": "code",
   "execution_count": 3,
   "id": "edba9301-117f-4cb9-aa1b-bfab69e08c18",
   "metadata": {},
   "outputs": [],
   "source": [
    "player_name = 'erauskin_anne'"
   ]
  },
  {
   "cell_type": "code",
   "execution_count": 4,
   "id": "a0ce3d38-96aa-4b0e-9999-6e7f898582b5",
   "metadata": {},
   "outputs": [],
   "source": [
    "record_date = '20230423'"
   ]
  },
  {
   "cell_type": "code",
   "execution_count": 7,
   "id": "b6ad8789-f91f-40bf-a33b-8efb0481b503",
   "metadata": {},
   "outputs": [],
   "source": [
    "ACTIVITY_LOAD_DATASET_FILE_DIR = f'../../datasets/study-players/{record_date}/{player_name}_activity_load.csv'\n",
    "HR_DATASET_FILE_DIR = f'../../datasets/study-players/{record_date}/{player_name}_hr_without_gaps.csv'\n",
    "PLAYER_IS_ON_COURT_DATASET_FILE_DIR = f'../../datasets/study-players/{record_date}/{player_name}_is_on_court.csv'"
   ]
  },
  {
   "cell_type": "code",
   "execution_count": 8,
   "id": "20331893-b4f6-4dd5-8ba5-9bf66419ba0d",
   "metadata": {},
   "outputs": [
    {
     "data": {
      "text/html": [
       "<div>\n",
       "<style scoped>\n",
       "    .dataframe tbody tr th:only-of-type {\n",
       "        vertical-align: middle;\n",
       "    }\n",
       "\n",
       "    .dataframe tbody tr th {\n",
       "        vertical-align: top;\n",
       "    }\n",
       "\n",
       "    .dataframe thead th {\n",
       "        text-align: right;\n",
       "    }\n",
       "</style>\n",
       "<table border=\"1\" class=\"dataframe\">\n",
       "  <thead>\n",
       "    <tr style=\"text-align: right;\">\n",
       "      <th></th>\n",
       "      <th>seconds</th>\n",
       "      <th>date</th>\n",
       "      <th>hr</th>\n",
       "      <th>diff</th>\n",
       "    </tr>\n",
       "  </thead>\n",
       "  <tbody>\n",
       "    <tr>\n",
       "      <th>0</th>\n",
       "      <td>1045.302</td>\n",
       "      <td>[2023-04-23 18:27:39 551]</td>\n",
       "      <td>75.0</td>\n",
       "      <td>NaN</td>\n",
       "    </tr>\n",
       "    <tr>\n",
       "      <th>1</th>\n",
       "      <td>1045.802</td>\n",
       "      <td>[2023-04-23 18:27:40 051]</td>\n",
       "      <td>75.0</td>\n",
       "      <td>0.5</td>\n",
       "    </tr>\n",
       "    <tr>\n",
       "      <th>2</th>\n",
       "      <td>1046.302</td>\n",
       "      <td>[2023-04-23 18:27:40 551]</td>\n",
       "      <td>75.0</td>\n",
       "      <td>0.5</td>\n",
       "    </tr>\n",
       "    <tr>\n",
       "      <th>3</th>\n",
       "      <td>1046.802</td>\n",
       "      <td>[2023-04-23 18:27:41 051]</td>\n",
       "      <td>75.0</td>\n",
       "      <td>0.5</td>\n",
       "    </tr>\n",
       "    <tr>\n",
       "      <th>4</th>\n",
       "      <td>1047.302</td>\n",
       "      <td>[2023-04-23 18:27:41 551]</td>\n",
       "      <td>77.0</td>\n",
       "      <td>0.5</td>\n",
       "    </tr>\n",
       "  </tbody>\n",
       "</table>\n",
       "</div>"
      ],
      "text/plain": [
       "    seconds                       date    hr  diff\n",
       "0  1045.302  [2023-04-23 18:27:39 551]  75.0   NaN\n",
       "1  1045.802  [2023-04-23 18:27:40 051]  75.0   0.5\n",
       "2  1046.302  [2023-04-23 18:27:40 551]  75.0   0.5\n",
       "3  1046.802  [2023-04-23 18:27:41 051]  75.0   0.5\n",
       "4  1047.302  [2023-04-23 18:27:41 551]  77.0   0.5"
      ]
     },
     "execution_count": 8,
     "metadata": {},
     "output_type": "execute_result"
    }
   ],
   "source": [
    "hr = pd.read_csv(HR_DATASET_FILE_DIR,index_col=0)\n",
    "hr.head()"
   ]
  },
  {
   "cell_type": "code",
   "execution_count": 10,
   "id": "39e607fd-080b-4e63-aba4-9d5166cce03b",
   "metadata": {},
   "outputs": [
    {
     "data": {
      "text/html": [
       "<div>\n",
       "<style scoped>\n",
       "    .dataframe tbody tr th:only-of-type {\n",
       "        vertical-align: middle;\n",
       "    }\n",
       "\n",
       "    .dataframe tbody tr th {\n",
       "        vertical-align: top;\n",
       "    }\n",
       "\n",
       "    .dataframe thead th {\n",
       "        text-align: right;\n",
       "    }\n",
       "</style>\n",
       "<table border=\"1\" class=\"dataframe\">\n",
       "  <thead>\n",
       "    <tr style=\"text-align: right;\">\n",
       "      <th></th>\n",
       "      <th>Unnamed: 0</th>\n",
       "      <th>seconds</th>\n",
       "      <th>date</th>\n",
       "      <th>activity_load_2d</th>\n",
       "      <th>activity_load_3d</th>\n",
       "    </tr>\n",
       "  </thead>\n",
       "  <tbody>\n",
       "    <tr>\n",
       "      <th>0</th>\n",
       "      <td>116</td>\n",
       "      <td>1.709</td>\n",
       "      <td>[2023-04-23 18:10:15 958]</td>\n",
       "      <td>0.0447</td>\n",
       "      <td>0.0566</td>\n",
       "    </tr>\n",
       "    <tr>\n",
       "      <th>1</th>\n",
       "      <td>225</td>\n",
       "      <td>2.709</td>\n",
       "      <td>[2023-04-23 18:10:16 958]</td>\n",
       "      <td>0.0353</td>\n",
       "      <td>0.0427</td>\n",
       "    </tr>\n",
       "    <tr>\n",
       "      <th>2</th>\n",
       "      <td>336</td>\n",
       "      <td>3.709</td>\n",
       "      <td>[2023-04-23 18:10:17 958]</td>\n",
       "      <td>0.0433</td>\n",
       "      <td>0.0543</td>\n",
       "    </tr>\n",
       "    <tr>\n",
       "      <th>3</th>\n",
       "      <td>446</td>\n",
       "      <td>4.709</td>\n",
       "      <td>[2023-04-23 18:10:18 958]</td>\n",
       "      <td>0.0393</td>\n",
       "      <td>0.0495</td>\n",
       "    </tr>\n",
       "    <tr>\n",
       "      <th>4</th>\n",
       "      <td>553</td>\n",
       "      <td>5.709</td>\n",
       "      <td>[2023-04-23 18:10:19 958]</td>\n",
       "      <td>0.0253</td>\n",
       "      <td>0.0335</td>\n",
       "    </tr>\n",
       "  </tbody>\n",
       "</table>\n",
       "</div>"
      ],
      "text/plain": [
       "   Unnamed: 0  seconds                       date  activity_load_2d  \\\n",
       "0         116    1.709  [2023-04-23 18:10:15 958]            0.0447   \n",
       "1         225    2.709  [2023-04-23 18:10:16 958]            0.0353   \n",
       "2         336    3.709  [2023-04-23 18:10:17 958]            0.0433   \n",
       "3         446    4.709  [2023-04-23 18:10:18 958]            0.0393   \n",
       "4         553    5.709  [2023-04-23 18:10:19 958]            0.0253   \n",
       "\n",
       "   activity_load_3d  \n",
       "0            0.0566  \n",
       "1            0.0427  \n",
       "2            0.0543  \n",
       "3            0.0495  \n",
       "4            0.0335  "
      ]
     },
     "execution_count": 10,
     "metadata": {},
     "output_type": "execute_result"
    }
   ],
   "source": [
    "activity_load = pd.read_csv(ACTIVITY_LOAD_DATASET_FILE_DIR)\n",
    "activity_load.head()"
   ]
  },
  {
   "cell_type": "markdown",
   "id": "6c541042-ae49-4ba8-a9e4-e14dd28370b0",
   "metadata": {},
   "source": [
    "Los datasets tienen distinto número de registros"
   ]
  },
  {
   "cell_type": "code",
   "execution_count": 11,
   "id": "738092aa-21bf-410b-9650-46508d321cb3",
   "metadata": {},
   "outputs": [
    {
     "name": "stdout",
     "output_type": "stream",
     "text": [
      "Número de registros de HR: 19217\n"
     ]
    }
   ],
   "source": [
    "print(f'Número de registros de HR: {len(hr)}')"
   ]
  },
  {
   "cell_type": "code",
   "execution_count": 12,
   "id": "964d3b76-ffa0-40fe-9a43-1ef8527c3cbf",
   "metadata": {},
   "outputs": [
    {
     "name": "stdout",
     "output_type": "stream",
     "text": [
      "Número de registros de ActivityLoad: 10626\n"
     ]
    }
   ],
   "source": [
    "print(f'Número de registros de ActivityLoad: {len(activity_load)}')"
   ]
  },
  {
   "cell_type": "markdown",
   "id": "919eab1d-a4f8-4ca0-8a08-123584d0d2fa",
   "metadata": {},
   "source": [
    "El número cuadra, es casi el doble."
   ]
  },
  {
   "cell_type": "markdown",
   "id": "f24ddcdd-c59a-4ca5-b11f-7be3dc3c835c",
   "metadata": {},
   "source": [
    "Coger los datos desde el inicio de partido"
   ]
  },
  {
   "cell_type": "markdown",
   "id": "27496805-dffe-445f-8ccf-cd67f1caae55",
   "metadata": {},
   "source": [
    "Hay que indicar cuando empieza el partido"
   ]
  },
  {
   "cell_type": "code",
   "execution_count": 13,
   "id": "34b61a54-db16-4a22-9a6c-4014f7e9c54d",
   "metadata": {},
   "outputs": [
    {
     "data": {
      "text/plain": [
       "[<matplotlib.lines.Line2D at 0x7fcbf0b99ee0>]"
      ]
     },
     "execution_count": 13,
     "metadata": {},
     "output_type": "execute_result"
    },
    {
     "data": {
      "image/png": "[encoded data removed]",
      "text/plain": [
       "<Figure size 432x288 with 1 Axes>"
      ]
     },
     "metadata": {
      "needs_background": "light"
     },
     "output_type": "display_data"
    }
   ],
   "source": [
    "import matplotlib.pyplot as plt\n",
    "\n",
    "x = hr['seconds']\n",
    "y = hr['hr']\n",
    "\n",
    "# Crear una figura y ejes\n",
    "fig, ax = plt.subplots()\n",
    "ax.plot(x, y, linestyle='-')"
   ]
  },
  {
   "cell_type": "code",
   "execution_count": 14,
   "id": "019618e8-5821-4686-bb2c-5d21257133d4",
   "metadata": {},
   "outputs": [],
   "source": [
    "match_start = 2962"
   ]
  },
  {
   "cell_type": "code",
   "execution_count": 15,
   "id": "31301c3f-b49d-430b-9b58-cbf4c52faf86",
   "metadata": {},
   "outputs": [
    {
     "data": {
      "text/html": [
       "<div>\n",
       "<style scoped>\n",
       "    .dataframe tbody tr th:only-of-type {\n",
       "        vertical-align: middle;\n",
       "    }\n",
       "\n",
       "    .dataframe tbody tr th {\n",
       "        vertical-align: top;\n",
       "    }\n",
       "\n",
       "    .dataframe thead th {\n",
       "        text-align: right;\n",
       "    }\n",
       "</style>\n",
       "<table border=\"1\" class=\"dataframe\">\n",
       "  <thead>\n",
       "    <tr style=\"text-align: right;\">\n",
       "      <th></th>\n",
       "      <th>index</th>\n",
       "      <th>Unnamed: 0</th>\n",
       "      <th>seconds</th>\n",
       "      <th>date</th>\n",
       "      <th>activity_load_2d</th>\n",
       "      <th>activity_load_3d</th>\n",
       "    </tr>\n",
       "  </thead>\n",
       "  <tbody>\n",
       "    <tr>\n",
       "      <th>0</th>\n",
       "      <td>2953</td>\n",
       "      <td>332523</td>\n",
       "      <td>2962.456</td>\n",
       "      <td>[2023-04-23 18:59:36 705]</td>\n",
       "      <td>0.0160</td>\n",
       "      <td>0.0193</td>\n",
       "    </tr>\n",
       "    <tr>\n",
       "      <th>1</th>\n",
       "      <td>2954</td>\n",
       "      <td>332639</td>\n",
       "      <td>2963.456</td>\n",
       "      <td>[2023-04-23 18:59:37 705]</td>\n",
       "      <td>0.0144</td>\n",
       "      <td>0.0164</td>\n",
       "    </tr>\n",
       "    <tr>\n",
       "      <th>2</th>\n",
       "      <td>2955</td>\n",
       "      <td>332751</td>\n",
       "      <td>2964.456</td>\n",
       "      <td>[2023-04-23 18:59:38 705]</td>\n",
       "      <td>0.0105</td>\n",
       "      <td>0.0125</td>\n",
       "    </tr>\n",
       "    <tr>\n",
       "      <th>3</th>\n",
       "      <td>2956</td>\n",
       "      <td>332863</td>\n",
       "      <td>2965.456</td>\n",
       "      <td>[2023-04-23 18:59:39 705]</td>\n",
       "      <td>0.0076</td>\n",
       "      <td>0.0091</td>\n",
       "    </tr>\n",
       "    <tr>\n",
       "      <th>4</th>\n",
       "      <td>2957</td>\n",
       "      <td>332977</td>\n",
       "      <td>2966.456</td>\n",
       "      <td>[2023-04-23 18:59:40 705]</td>\n",
       "      <td>0.0066</td>\n",
       "      <td>0.0075</td>\n",
       "    </tr>\n",
       "    <tr>\n",
       "      <th>...</th>\n",
       "      <td>...</td>\n",
       "      <td>...</td>\n",
       "      <td>...</td>\n",
       "      <td>...</td>\n",
       "      <td>...</td>\n",
       "      <td>...</td>\n",
       "    </tr>\n",
       "    <tr>\n",
       "      <th>7668</th>\n",
       "      <td>10621</td>\n",
       "      <td>1202568</td>\n",
       "      <td>10650.791</td>\n",
       "      <td>[2023-04-23 21:07:45 040]</td>\n",
       "      <td>0.0821</td>\n",
       "      <td>0.1057</td>\n",
       "    </tr>\n",
       "    <tr>\n",
       "      <th>7669</th>\n",
       "      <td>10622</td>\n",
       "      <td>1202680</td>\n",
       "      <td>10651.791</td>\n",
       "      <td>[2023-04-23 21:07:46 040]</td>\n",
       "      <td>0.0603</td>\n",
       "      <td>0.0747</td>\n",
       "    </tr>\n",
       "    <tr>\n",
       "      <th>7670</th>\n",
       "      <td>10623</td>\n",
       "      <td>1202795</td>\n",
       "      <td>10652.791</td>\n",
       "      <td>[2023-04-23 21:07:47 040]</td>\n",
       "      <td>0.0257</td>\n",
       "      <td>0.0315</td>\n",
       "    </tr>\n",
       "    <tr>\n",
       "      <th>7671</th>\n",
       "      <td>10624</td>\n",
       "      <td>1202907</td>\n",
       "      <td>10653.791</td>\n",
       "      <td>[2023-04-23 21:07:48 040]</td>\n",
       "      <td>0.0150</td>\n",
       "      <td>0.0167</td>\n",
       "    </tr>\n",
       "    <tr>\n",
       "      <th>7672</th>\n",
       "      <td>10625</td>\n",
       "      <td>1203014</td>\n",
       "      <td>10654.791</td>\n",
       "      <td>[2023-04-23 21:07:49 040]</td>\n",
       "      <td>0.0134</td>\n",
       "      <td>0.0149</td>\n",
       "    </tr>\n",
       "  </tbody>\n",
       "</table>\n",
       "<p>7673 rows × 6 columns</p>\n",
       "</div>"
      ],
      "text/plain": [
       "      index  Unnamed: 0    seconds                       date  \\\n",
       "0      2953      332523   2962.456  [2023-04-23 18:59:36 705]   \n",
       "1      2954      332639   2963.456  [2023-04-23 18:59:37 705]   \n",
       "2      2955      332751   2964.456  [2023-04-23 18:59:38 705]   \n",
       "3      2956      332863   2965.456  [2023-04-23 18:59:39 705]   \n",
       "4      2957      332977   2966.456  [2023-04-23 18:59:40 705]   \n",
       "...     ...         ...        ...                        ...   \n",
       "7668  10621     1202568  10650.791  [2023-04-23 21:07:45 040]   \n",
       "7669  10622     1202680  10651.791  [2023-04-23 21:07:46 040]   \n",
       "7670  10623     1202795  10652.791  [2023-04-23 21:07:47 040]   \n",
       "7671  10624     1202907  10653.791  [2023-04-23 21:07:48 040]   \n",
       "7672  10625     1203014  10654.791  [2023-04-23 21:07:49 040]   \n",
       "\n",
       "      activity_load_2d  activity_load_3d  \n",
       "0               0.0160            0.0193  \n",
       "1               0.0144            0.0164  \n",
       "2               0.0105            0.0125  \n",
       "3               0.0076            0.0091  \n",
       "4               0.0066            0.0075  \n",
       "...                ...               ...  \n",
       "7668            0.0821            0.1057  \n",
       "7669            0.0603            0.0747  \n",
       "7670            0.0257            0.0315  \n",
       "7671            0.0150            0.0167  \n",
       "7672            0.0134            0.0149  \n",
       "\n",
       "[7673 rows x 6 columns]"
      ]
     },
     "execution_count": 15,
     "metadata": {},
     "output_type": "execute_result"
    }
   ],
   "source": [
    "activity_match = activity_load[activity_load['seconds']>match_start]\n",
    "activity_match.reset_index(inplace=True)\n",
    "activity_match"
   ]
  },
  {
   "cell_type": "markdown",
   "id": "b2f0e961-ed18-43bc-a876-9084f4721b68",
   "metadata": {},
   "source": [
    "De hr, tan solo se coge la mitad del dataset"
   ]
  },
  {
   "cell_type": "code",
   "execution_count": 16,
   "id": "aa3b1aa0-5f78-42a6-b1da-396fac8b47dd",
   "metadata": {},
   "outputs": [
    {
     "name": "stderr",
     "output_type": "stream",
     "text": [
      "/tmp/ipykernel_4814/955440834.py:1: UserWarning: Boolean Series key will be reindexed to match DataFrame index.\n",
      "  hr_match = hr.iloc[hr.index % 2 == 0][hr['seconds']>match_start]\n"
     ]
    },
    {
     "data": {
      "text/html": [
       "<div>\n",
       "<style scoped>\n",
       "    .dataframe tbody tr th:only-of-type {\n",
       "        vertical-align: middle;\n",
       "    }\n",
       "\n",
       "    .dataframe tbody tr th {\n",
       "        vertical-align: top;\n",
       "    }\n",
       "\n",
       "    .dataframe thead th {\n",
       "        text-align: right;\n",
       "    }\n",
       "</style>\n",
       "<table border=\"1\" class=\"dataframe\">\n",
       "  <thead>\n",
       "    <tr style=\"text-align: right;\">\n",
       "      <th></th>\n",
       "      <th>index</th>\n",
       "      <th>seconds</th>\n",
       "      <th>date</th>\n",
       "      <th>hr</th>\n",
       "      <th>diff</th>\n",
       "    </tr>\n",
       "  </thead>\n",
       "  <tbody>\n",
       "    <tr>\n",
       "      <th>0</th>\n",
       "      <td>3834</td>\n",
       "      <td>2962.302</td>\n",
       "      <td>[2023-04-23 18:59:36 551]</td>\n",
       "      <td>87.0</td>\n",
       "      <td>0.5</td>\n",
       "    </tr>\n",
       "    <tr>\n",
       "      <th>1</th>\n",
       "      <td>3836</td>\n",
       "      <td>2963.302</td>\n",
       "      <td>[2023-04-23 18:59:37 551]</td>\n",
       "      <td>86.0</td>\n",
       "      <td>0.5</td>\n",
       "    </tr>\n",
       "    <tr>\n",
       "      <th>2</th>\n",
       "      <td>3838</td>\n",
       "      <td>2964.302</td>\n",
       "      <td>[2023-04-23 18:59:38 551]</td>\n",
       "      <td>86.0</td>\n",
       "      <td>0.5</td>\n",
       "    </tr>\n",
       "    <tr>\n",
       "      <th>3</th>\n",
       "      <td>3840</td>\n",
       "      <td>2965.302</td>\n",
       "      <td>[2023-04-23 18:59:39 551]</td>\n",
       "      <td>85.0</td>\n",
       "      <td>0.5</td>\n",
       "    </tr>\n",
       "    <tr>\n",
       "      <th>4</th>\n",
       "      <td>3842</td>\n",
       "      <td>2966.302</td>\n",
       "      <td>[2023-04-23 18:59:40 551]</td>\n",
       "      <td>86.0</td>\n",
       "      <td>0.5</td>\n",
       "    </tr>\n",
       "    <tr>\n",
       "      <th>...</th>\n",
       "      <td>...</td>\n",
       "      <td>...</td>\n",
       "      <td>...</td>\n",
       "      <td>...</td>\n",
       "      <td>...</td>\n",
       "    </tr>\n",
       "    <tr>\n",
       "      <th>7690</th>\n",
       "      <td>1202344</td>\n",
       "      <td>10648.802</td>\n",
       "      <td>[2023-04-23 21:07:43 051]</td>\n",
       "      <td>83.0</td>\n",
       "      <td>0.5</td>\n",
       "    </tr>\n",
       "    <tr>\n",
       "      <th>7691</th>\n",
       "      <td>1202570</td>\n",
       "      <td>10650.802</td>\n",
       "      <td>[2023-04-23 21:07:45 051]</td>\n",
       "      <td>84.0</td>\n",
       "      <td>0.5</td>\n",
       "    </tr>\n",
       "    <tr>\n",
       "      <th>7692</th>\n",
       "      <td>1202624</td>\n",
       "      <td>10651.302</td>\n",
       "      <td>[2023-04-23 21:07:45 551]</td>\n",
       "      <td>84.0</td>\n",
       "      <td>0.5</td>\n",
       "    </tr>\n",
       "    <tr>\n",
       "      <th>7693</th>\n",
       "      <td>1202682</td>\n",
       "      <td>10651.802</td>\n",
       "      <td>[2023-04-23 21:07:46 051]</td>\n",
       "      <td>84.0</td>\n",
       "      <td>0.5</td>\n",
       "    </tr>\n",
       "    <tr>\n",
       "      <th>7694</th>\n",
       "      <td>1202852</td>\n",
       "      <td>10653.302</td>\n",
       "      <td>[2023-04-23 21:07:47 551]</td>\n",
       "      <td>84.0</td>\n",
       "      <td>0.5</td>\n",
       "    </tr>\n",
       "  </tbody>\n",
       "</table>\n",
       "<p>7695 rows × 5 columns</p>\n",
       "</div>"
      ],
      "text/plain": [
       "        index    seconds                       date    hr  diff\n",
       "0        3834   2962.302  [2023-04-23 18:59:36 551]  87.0   0.5\n",
       "1        3836   2963.302  [2023-04-23 18:59:37 551]  86.0   0.5\n",
       "2        3838   2964.302  [2023-04-23 18:59:38 551]  86.0   0.5\n",
       "3        3840   2965.302  [2023-04-23 18:59:39 551]  85.0   0.5\n",
       "4        3842   2966.302  [2023-04-23 18:59:40 551]  86.0   0.5\n",
       "...       ...        ...                        ...   ...   ...\n",
       "7690  1202344  10648.802  [2023-04-23 21:07:43 051]  83.0   0.5\n",
       "7691  1202570  10650.802  [2023-04-23 21:07:45 051]  84.0   0.5\n",
       "7692  1202624  10651.302  [2023-04-23 21:07:45 551]  84.0   0.5\n",
       "7693  1202682  10651.802  [2023-04-23 21:07:46 051]  84.0   0.5\n",
       "7694  1202852  10653.302  [2023-04-23 21:07:47 551]  84.0   0.5\n",
       "\n",
       "[7695 rows x 5 columns]"
      ]
     },
     "execution_count": 16,
     "metadata": {},
     "output_type": "execute_result"
    }
   ],
   "source": [
    "hr_match = hr.iloc[hr.index % 2 == 0][hr['seconds']>match_start]\n",
    "hr_match.reset_index(inplace=True)\n",
    "hr_match"
   ]
  },
  {
   "cell_type": "code",
   "execution_count": 17,
   "id": "0497b9e3-f6a9-4781-9830-60e7637e4b0a",
   "metadata": {},
   "outputs": [],
   "source": [
    "hr_match['activity_load_2d'] = activity_match['activity_load_2d']"
   ]
  },
  {
   "cell_type": "code",
   "execution_count": 18,
   "id": "63a10208-0173-41bd-ab9f-b41508e27823",
   "metadata": {},
   "outputs": [],
   "source": [
    "hr_match['activity_load_3d'] = activity_match['activity_load_3d']"
   ]
  },
  {
   "cell_type": "code",
   "execution_count": 19,
   "id": "e16889f2-1ec8-46fc-853e-99e5a4eb9cb5",
   "metadata": {},
   "outputs": [
    {
     "data": {
      "text/html": [
       "<div>\n",
       "<style scoped>\n",
       "    .dataframe tbody tr th:only-of-type {\n",
       "        vertical-align: middle;\n",
       "    }\n",
       "\n",
       "    .dataframe tbody tr th {\n",
       "        vertical-align: top;\n",
       "    }\n",
       "\n",
       "    .dataframe thead th {\n",
       "        text-align: right;\n",
       "    }\n",
       "</style>\n",
       "<table border=\"1\" class=\"dataframe\">\n",
       "  <thead>\n",
       "    <tr style=\"text-align: right;\">\n",
       "      <th></th>\n",
       "      <th>index</th>\n",
       "      <th>seconds</th>\n",
       "      <th>date</th>\n",
       "      <th>hr</th>\n",
       "      <th>diff</th>\n",
       "      <th>activity_load_2d</th>\n",
       "      <th>activity_load_3d</th>\n",
       "    </tr>\n",
       "  </thead>\n",
       "  <tbody>\n",
       "    <tr>\n",
       "      <th>0</th>\n",
       "      <td>3834</td>\n",
       "      <td>2962.302</td>\n",
       "      <td>[2023-04-23 18:59:36 551]</td>\n",
       "      <td>87.0</td>\n",
       "      <td>0.5</td>\n",
       "      <td>0.0160</td>\n",
       "      <td>0.0193</td>\n",
       "    </tr>\n",
       "    <tr>\n",
       "      <th>1</th>\n",
       "      <td>3836</td>\n",
       "      <td>2963.302</td>\n",
       "      <td>[2023-04-23 18:59:37 551]</td>\n",
       "      <td>86.0</td>\n",
       "      <td>0.5</td>\n",
       "      <td>0.0144</td>\n",
       "      <td>0.0164</td>\n",
       "    </tr>\n",
       "    <tr>\n",
       "      <th>2</th>\n",
       "      <td>3838</td>\n",
       "      <td>2964.302</td>\n",
       "      <td>[2023-04-23 18:59:38 551]</td>\n",
       "      <td>86.0</td>\n",
       "      <td>0.5</td>\n",
       "      <td>0.0105</td>\n",
       "      <td>0.0125</td>\n",
       "    </tr>\n",
       "    <tr>\n",
       "      <th>3</th>\n",
       "      <td>3840</td>\n",
       "      <td>2965.302</td>\n",
       "      <td>[2023-04-23 18:59:39 551]</td>\n",
       "      <td>85.0</td>\n",
       "      <td>0.5</td>\n",
       "      <td>0.0076</td>\n",
       "      <td>0.0091</td>\n",
       "    </tr>\n",
       "    <tr>\n",
       "      <th>4</th>\n",
       "      <td>3842</td>\n",
       "      <td>2966.302</td>\n",
       "      <td>[2023-04-23 18:59:40 551]</td>\n",
       "      <td>86.0</td>\n",
       "      <td>0.5</td>\n",
       "      <td>0.0066</td>\n",
       "      <td>0.0075</td>\n",
       "    </tr>\n",
       "    <tr>\n",
       "      <th>...</th>\n",
       "      <td>...</td>\n",
       "      <td>...</td>\n",
       "      <td>...</td>\n",
       "      <td>...</td>\n",
       "      <td>...</td>\n",
       "      <td>...</td>\n",
       "      <td>...</td>\n",
       "    </tr>\n",
       "    <tr>\n",
       "      <th>7690</th>\n",
       "      <td>1202344</td>\n",
       "      <td>10648.802</td>\n",
       "      <td>[2023-04-23 21:07:43 051]</td>\n",
       "      <td>83.0</td>\n",
       "      <td>0.5</td>\n",
       "      <td>NaN</td>\n",
       "      <td>NaN</td>\n",
       "    </tr>\n",
       "    <tr>\n",
       "      <th>7691</th>\n",
       "      <td>1202570</td>\n",
       "      <td>10650.802</td>\n",
       "      <td>[2023-04-23 21:07:45 051]</td>\n",
       "      <td>84.0</td>\n",
       "      <td>0.5</td>\n",
       "      <td>NaN</td>\n",
       "      <td>NaN</td>\n",
       "    </tr>\n",
       "    <tr>\n",
       "      <th>7692</th>\n",
       "      <td>1202624</td>\n",
       "      <td>10651.302</td>\n",
       "      <td>[2023-04-23 21:07:45 551]</td>\n",
       "      <td>84.0</td>\n",
       "      <td>0.5</td>\n",
       "      <td>NaN</td>\n",
       "      <td>NaN</td>\n",
       "    </tr>\n",
       "    <tr>\n",
       "      <th>7693</th>\n",
       "      <td>1202682</td>\n",
       "      <td>10651.802</td>\n",
       "      <td>[2023-04-23 21:07:46 051]</td>\n",
       "      <td>84.0</td>\n",
       "      <td>0.5</td>\n",
       "      <td>NaN</td>\n",
       "      <td>NaN</td>\n",
       "    </tr>\n",
       "    <tr>\n",
       "      <th>7694</th>\n",
       "      <td>1202852</td>\n",
       "      <td>10653.302</td>\n",
       "      <td>[2023-04-23 21:07:47 551]</td>\n",
       "      <td>84.0</td>\n",
       "      <td>0.5</td>\n",
       "      <td>NaN</td>\n",
       "      <td>NaN</td>\n",
       "    </tr>\n",
       "  </tbody>\n",
       "</table>\n",
       "<p>7695 rows × 7 columns</p>\n",
       "</div>"
      ],
      "text/plain": [
       "        index    seconds                       date    hr  diff  \\\n",
       "0        3834   2962.302  [2023-04-23 18:59:36 551]  87.0   0.5   \n",
       "1        3836   2963.302  [2023-04-23 18:59:37 551]  86.0   0.5   \n",
       "2        3838   2964.302  [2023-04-23 18:59:38 551]  86.0   0.5   \n",
       "3        3840   2965.302  [2023-04-23 18:59:39 551]  85.0   0.5   \n",
       "4        3842   2966.302  [2023-04-23 18:59:40 551]  86.0   0.5   \n",
       "...       ...        ...                        ...   ...   ...   \n",
       "7690  1202344  10648.802  [2023-04-23 21:07:43 051]  83.0   0.5   \n",
       "7691  1202570  10650.802  [2023-04-23 21:07:45 051]  84.0   0.5   \n",
       "7692  1202624  10651.302  [2023-04-23 21:07:45 551]  84.0   0.5   \n",
       "7693  1202682  10651.802  [2023-04-23 21:07:46 051]  84.0   0.5   \n",
       "7694  1202852  10653.302  [2023-04-23 21:07:47 551]  84.0   0.5   \n",
       "\n",
       "      activity_load_2d  activity_load_3d  \n",
       "0               0.0160            0.0193  \n",
       "1               0.0144            0.0164  \n",
       "2               0.0105            0.0125  \n",
       "3               0.0076            0.0091  \n",
       "4               0.0066            0.0075  \n",
       "...                ...               ...  \n",
       "7690               NaN               NaN  \n",
       "7691               NaN               NaN  \n",
       "7692               NaN               NaN  \n",
       "7693               NaN               NaN  \n",
       "7694               NaN               NaN  \n",
       "\n",
       "[7695 rows x 7 columns]"
      ]
     },
     "execution_count": 19,
     "metadata": {},
     "output_type": "execute_result"
    }
   ],
   "source": [
    "hr_match"
   ]
  },
  {
   "cell_type": "code",
   "execution_count": 21,
   "id": "891490b8-54ad-4553-8592-37e4576e162d",
   "metadata": {},
   "outputs": [],
   "source": [
    "hr_match.drop(['index', 'diff'],axis=1, inplace=True)"
   ]
  },
  {
   "cell_type": "code",
   "execution_count": 22,
   "id": "b8f13879-89ad-4939-92de-acf23e9293cd",
   "metadata": {},
   "outputs": [
    {
     "data": {
      "text/html": [
       "<div>\n",
       "<style scoped>\n",
       "    .dataframe tbody tr th:only-of-type {\n",
       "        vertical-align: middle;\n",
       "    }\n",
       "\n",
       "    .dataframe tbody tr th {\n",
       "        vertical-align: top;\n",
       "    }\n",
       "\n",
       "    .dataframe thead th {\n",
       "        text-align: right;\n",
       "    }\n",
       "</style>\n",
       "<table border=\"1\" class=\"dataframe\">\n",
       "  <thead>\n",
       "    <tr style=\"text-align: right;\">\n",
       "      <th></th>\n",
       "      <th>seconds</th>\n",
       "      <th>date</th>\n",
       "      <th>hr</th>\n",
       "      <th>activity_load_2d</th>\n",
       "      <th>activity_load_3d</th>\n",
       "    </tr>\n",
       "  </thead>\n",
       "  <tbody>\n",
       "    <tr>\n",
       "      <th>0</th>\n",
       "      <td>2962.302</td>\n",
       "      <td>[2023-04-23 18:59:36 551]</td>\n",
       "      <td>87.0</td>\n",
       "      <td>0.0160</td>\n",
       "      <td>0.0193</td>\n",
       "    </tr>\n",
       "    <tr>\n",
       "      <th>1</th>\n",
       "      <td>2963.302</td>\n",
       "      <td>[2023-04-23 18:59:37 551]</td>\n",
       "      <td>86.0</td>\n",
       "      <td>0.0144</td>\n",
       "      <td>0.0164</td>\n",
       "    </tr>\n",
       "    <tr>\n",
       "      <th>2</th>\n",
       "      <td>2964.302</td>\n",
       "      <td>[2023-04-23 18:59:38 551]</td>\n",
       "      <td>86.0</td>\n",
       "      <td>0.0105</td>\n",
       "      <td>0.0125</td>\n",
       "    </tr>\n",
       "    <tr>\n",
       "      <th>3</th>\n",
       "      <td>2965.302</td>\n",
       "      <td>[2023-04-23 18:59:39 551]</td>\n",
       "      <td>85.0</td>\n",
       "      <td>0.0076</td>\n",
       "      <td>0.0091</td>\n",
       "    </tr>\n",
       "    <tr>\n",
       "      <th>4</th>\n",
       "      <td>2966.302</td>\n",
       "      <td>[2023-04-23 18:59:40 551]</td>\n",
       "      <td>86.0</td>\n",
       "      <td>0.0066</td>\n",
       "      <td>0.0075</td>\n",
       "    </tr>\n",
       "  </tbody>\n",
       "</table>\n",
       "</div>"
      ],
      "text/plain": [
       "    seconds                       date    hr  activity_load_2d  \\\n",
       "0  2962.302  [2023-04-23 18:59:36 551]  87.0            0.0160   \n",
       "1  2963.302  [2023-04-23 18:59:37 551]  86.0            0.0144   \n",
       "2  2964.302  [2023-04-23 18:59:38 551]  86.0            0.0105   \n",
       "3  2965.302  [2023-04-23 18:59:39 551]  85.0            0.0076   \n",
       "4  2966.302  [2023-04-23 18:59:40 551]  86.0            0.0066   \n",
       "\n",
       "   activity_load_3d  \n",
       "0            0.0193  \n",
       "1            0.0164  \n",
       "2            0.0125  \n",
       "3            0.0091  \n",
       "4            0.0075  "
      ]
     },
     "execution_count": 22,
     "metadata": {},
     "output_type": "execute_result"
    }
   ],
   "source": [
    "hr_match.head()"
   ]
  },
  {
   "cell_type": "markdown",
   "id": "2efd2d68-7c3d-4ac4-bfc1-6f5f173e3540",
   "metadata": {},
   "source": [
    "Ahora hay que añadir la etiqueta de si está en pista o no"
   ]
  },
  {
   "cell_type": "code",
   "execution_count": 23,
   "id": "e7fc54b2-bb6b-4997-8b20-e848f5b401bb",
   "metadata": {},
   "outputs": [
    {
     "data": {
      "text/html": [
       "<div>\n",
       "<style scoped>\n",
       "    .dataframe tbody tr th:only-of-type {\n",
       "        vertical-align: middle;\n",
       "    }\n",
       "\n",
       "    .dataframe tbody tr th {\n",
       "        vertical-align: top;\n",
       "    }\n",
       "\n",
       "    .dataframe thead th {\n",
       "        text-align: right;\n",
       "    }\n",
       "</style>\n",
       "<table border=\"1\" class=\"dataframe\">\n",
       "  <thead>\n",
       "    <tr style=\"text-align: right;\">\n",
       "      <th></th>\n",
       "      <th>Start</th>\n",
       "      <th>End</th>\n",
       "      <th>Event</th>\n",
       "      <th>Is On Court</th>\n",
       "    </tr>\n",
       "  </thead>\n",
       "  <tbody>\n",
       "    <tr>\n",
       "      <th>0</th>\n",
       "      <td>0</td>\n",
       "      <td>0</td>\n",
       "      <td>FIRST_HALF_START</td>\n",
       "      <td>0</td>\n",
       "    </tr>\n",
       "    <tr>\n",
       "      <th>1</th>\n",
       "      <td>0</td>\n",
       "      <td>36</td>\n",
       "      <td>FOUL_RECEIVE</td>\n",
       "      <td>0</td>\n",
       "    </tr>\n",
       "    <tr>\n",
       "      <th>2</th>\n",
       "      <td>36</td>\n",
       "      <td>45</td>\n",
       "      <td>POST_OUT</td>\n",
       "      <td>0</td>\n",
       "    </tr>\n",
       "    <tr>\n",
       "      <th>3</th>\n",
       "      <td>45</td>\n",
       "      <td>55</td>\n",
       "      <td>LOST_BALL</td>\n",
       "      <td>0</td>\n",
       "    </tr>\n",
       "    <tr>\n",
       "      <th>4</th>\n",
       "      <td>55</td>\n",
       "      <td>84</td>\n",
       "      <td>FOUL_RECEIVE</td>\n",
       "      <td>0</td>\n",
       "    </tr>\n",
       "  </tbody>\n",
       "</table>\n",
       "</div>"
      ],
      "text/plain": [
       "    Start   End              Event  Is On Court\n",
       "0       0     0   FIRST_HALF_START            0\n",
       "1       0    36       FOUL_RECEIVE            0\n",
       "2      36    45           POST_OUT            0\n",
       "3      45    55          LOST_BALL            0\n",
       "4      55    84       FOUL_RECEIVE            0"
      ]
     },
     "execution_count": 23,
     "metadata": {},
     "output_type": "execute_result"
    }
   ],
   "source": [
    "player_is_on_court = pd.read_csv(PLAYER_IS_ON_COURT_DATASET_FILE_DIR,index_col=0)\n",
    "player_is_on_court.head()"
   ]
  },
  {
   "cell_type": "code",
   "execution_count": 24,
   "id": "491d8cb0-6f16-43e8-baff-acfa9503d340",
   "metadata": {},
   "outputs": [
    {
     "name": "stdout",
     "output_type": "stream",
     "text": [
      "5059\n"
     ]
    }
   ],
   "source": [
    "is_on_court_list = []\n",
    "for index, row in player_is_on_court.iterrows():\n",
    "    diff = row[' End'] - row[' Start']\n",
    "    value = row['Is On Court']\n",
    "    #if row[' Event'] == 'TIMEOUT' or row[' Event'] == ' 2_MIN':\n",
    "        #diff = 60\n",
    "        #value = 0\n",
    "        #print(str(value * diff))\n",
    "    list.extend(is_on_court_list,list(str(value) * diff))\n",
    "print(len(is_on_court_list))"
   ]
  },
  {
   "cell_type": "markdown",
   "id": "b4cf4827-5604-4b8a-87da-778cd6a1e6d0",
   "metadata": {},
   "source": [
    "Una vez se tiene esta lista, se debe introducir como etiqueta"
   ]
  },
  {
   "cell_type": "code",
   "execution_count": 25,
   "id": "ef316cfe-a885-4d9f-a3a4-712329d5fd8b",
   "metadata": {},
   "outputs": [],
   "source": [
    "values_to_complete = len(hr_match) - len(is_on_court_list)"
   ]
  },
  {
   "cell_type": "code",
   "execution_count": 26,
   "id": "1b103bb6-5eaa-4eef-b3ef-2a9d99fb0d57",
   "metadata": {},
   "outputs": [
    {
     "name": "stdout",
     "output_type": "stream",
     "text": [
      "Hay que añadir 2636 valores nulos\n"
     ]
    }
   ],
   "source": [
    "print(f'Hay que añadir {values_to_complete} valores nulos')"
   ]
  },
  {
   "cell_type": "code",
   "execution_count": 27,
   "id": "b1084122-7013-49af-b944-835523aacd9d",
   "metadata": {},
   "outputs": [],
   "source": [
    "for i in range(0,values_to_complete):\n",
    "    is_on_court_list.append(None)"
   ]
  },
  {
   "cell_type": "code",
   "execution_count": 28,
   "id": "4664d7d4-bc3d-4c29-8ad8-bb9ff3d31836",
   "metadata": {},
   "outputs": [],
   "source": [
    "hr_match['IsOnCourt'] = is_on_court_list"
   ]
  },
  {
   "cell_type": "code",
   "execution_count": 29,
   "id": "7e902dac-c915-405d-84d5-03fd5b1c40fc",
   "metadata": {},
   "outputs": [
    {
     "data": {
      "image/png": "[encoded data removed]",
      "text/plain": [
       "<Figure size 432x288 with 1 Axes>"
      ]
     },
     "metadata": {
      "needs_background": "light"
     },
     "output_type": "display_data"
    }
   ],
   "source": [
    "import matplotlib.pyplot as plt\n",
    "\n",
    "colores = {'0': 'red', '1': 'green', None: 'black'}\n",
    "x = hr_match['seconds']\n",
    "y = hr_match['hr']\n",
    "\n",
    "valores_convertidos = [colores[valor] for valor in hr_match['IsOnCourt']]\n",
    "\n",
    "# Crear una figura y ejes\n",
    "fig, ax = plt.subplots()\n",
    "\n",
    "# Initialize variables for segment plotting\n",
    "segment_start = 0\n",
    "current_color = valores_convertidos[0]\n",
    "\n",
    "# Iterate through the data to plot segments with different colors\n",
    "for i in range(1, len(x)):\n",
    "    if valores_convertidos[i] != current_color:\n",
    "        # Plot the current segment with the current color\n",
    "        ax.plot(x[segment_start:i], y[segment_start:i], linestyle='-', color=current_color)\n",
    "        \n",
    "        # Update the segment start and current color\n",
    "        segment_start = i\n",
    "        current_color = valores_convertidos[i]\n",
    "\n",
    "# Plot the last segment\n",
    "ax.plot(x[segment_start:], y[segment_start:], linestyle='-', color=current_color)\n",
    "\n",
    "plt.show()"
   ]
  },
  {
   "cell_type": "markdown",
   "id": "0a56fbfd-9094-48d5-922e-dbcb7e076a0a",
   "metadata": {},
   "source": [
    "# TODO: eliminar lo que no sea del partido. PARA MOSTRAR LOS DATOS DEL PARTIDO"
   ]
  },
  {
   "cell_type": "code",
   "execution_count": 30,
   "id": "628d3c92-a5da-40a5-833c-7011714bbfe0",
   "metadata": {},
   "outputs": [],
   "source": [
    "hr_match.to_csv(f'../../datasets/study-players/{record_date}/{player_name}_match_attributes.csv')"
   ]
  },
  {
   "cell_type": "code",
   "execution_count": null,
   "id": "f767bac9-9eba-48c2-b4d2-6cf61f57fe13",
   "metadata": {},
   "outputs": [],
   "source": []
  }
 ],
 "metadata": {
  "kernelspec": {
   "display_name": "Python 3 (ipykernel)",
   "language": "python",
   "name": "python3"
  },
  "language_info": {
   "codemirror_mode": {
    "name": "ipython",
    "version": 3
   },
   "file_extension": ".py",
   "mimetype": "text/x-python",
   "name": "python",
   "nbconvert_exporter": "python",
   "pygments_lexer": "ipython3",
   "version": "3.9.2"
  }
 },
 "nbformat": 4,
 "nbformat_minor": 5
}
