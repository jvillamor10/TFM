{
 "cells": [
  {
   "cell_type": "code",
   "execution_count": 1,
   "id": "3b0024a0-bdeb-408f-af17-df0e47f3fc20",
   "metadata": {},
   "outputs": [],
   "source": [
    "import pandas as pd\n",
    "\n",
    "from sklearn import datasets\n",
    "from sklearn import svm\n",
    "from sklearn.model_selection import train_test_split\n",
    "from sklearn.metrics import accuracy_score\n",
    "\n",
    "from sklearn.preprocessing import RobustScaler\n",
    "\n",
    "import pickle"
   ]
  },
  {
   "cell_type": "code",
   "execution_count": 2,
   "id": "fd950f3e-3c3a-4574-bf58-ba4352b5254b",
   "metadata": {},
   "outputs": [],
   "source": [
    "player_name = 'arrojeria_esther'"
   ]
  },
  {
   "cell_type": "code",
   "execution_count": 5,
   "id": "77397661-ee9a-4f72-af8f-776fadf5add7",
   "metadata": {},
   "outputs": [],
   "source": [
    "record_date = '20230909'"
   ]
  },
  {
   "cell_type": "code",
   "execution_count": 6,
   "id": "dd9b8af3-cb52-42f3-92a2-7d7db6450c1e",
   "metadata": {},
   "outputs": [
    {
     "data": {
      "text/html": [
       "<div>\n",
       "<style scoped>\n",
       "    .dataframe tbody tr th:only-of-type {\n",
       "        vertical-align: middle;\n",
       "    }\n",
       "\n",
       "    .dataframe tbody tr th {\n",
       "        vertical-align: top;\n",
       "    }\n",
       "\n",
       "    .dataframe thead th {\n",
       "        text-align: right;\n",
       "    }\n",
       "</style>\n",
       "<table border=\"1\" class=\"dataframe\">\n",
       "  <thead>\n",
       "    <tr style=\"text-align: right;\">\n",
       "      <th></th>\n",
       "      <th>seconds</th>\n",
       "      <th>date</th>\n",
       "      <th>hr</th>\n",
       "      <th>activity_load_2d</th>\n",
       "      <th>activity_load_3d</th>\n",
       "    </tr>\n",
       "  </thead>\n",
       "  <tbody>\n",
       "    <tr>\n",
       "      <th>0</th>\n",
       "      <td>2527.565</td>\n",
       "      <td>[2023-09-09 21:00:00 527]</td>\n",
       "      <td>141.0</td>\n",
       "      <td>0.0076</td>\n",
       "      <td>0.0102</td>\n",
       "    </tr>\n",
       "    <tr>\n",
       "      <th>1</th>\n",
       "      <td>2528.565</td>\n",
       "      <td>[2023-09-09 21:00:01 527]</td>\n",
       "      <td>140.0</td>\n",
       "      <td>0.0089</td>\n",
       "      <td>0.0113</td>\n",
       "    </tr>\n",
       "    <tr>\n",
       "      <th>2</th>\n",
       "      <td>2529.565</td>\n",
       "      <td>[2023-09-09 21:00:02 527]</td>\n",
       "      <td>139.0</td>\n",
       "      <td>0.0197</td>\n",
       "      <td>0.0273</td>\n",
       "    </tr>\n",
       "    <tr>\n",
       "      <th>3</th>\n",
       "      <td>2530.566</td>\n",
       "      <td>[2023-09-09 21:00:03 528]</td>\n",
       "      <td>139.0</td>\n",
       "      <td>0.0128</td>\n",
       "      <td>0.0170</td>\n",
       "    </tr>\n",
       "    <tr>\n",
       "      <th>4</th>\n",
       "      <td>2531.566</td>\n",
       "      <td>[2023-09-09 21:00:04 528]</td>\n",
       "      <td>138.0</td>\n",
       "      <td>0.0081</td>\n",
       "      <td>0.0105</td>\n",
       "    </tr>\n",
       "    <tr>\n",
       "      <th>...</th>\n",
       "      <td>...</td>\n",
       "      <td>...</td>\n",
       "      <td>...</td>\n",
       "      <td>...</td>\n",
       "      <td>...</td>\n",
       "    </tr>\n",
       "    <tr>\n",
       "      <th>5265</th>\n",
       "      <td>7802.495</td>\n",
       "      <td>[2023-09-09 22:27:55 457]</td>\n",
       "      <td>93.0</td>\n",
       "      <td>0.0066</td>\n",
       "      <td>0.0080</td>\n",
       "    </tr>\n",
       "    <tr>\n",
       "      <th>5266</th>\n",
       "      <td>7803.495</td>\n",
       "      <td>[2023-09-09 22:27:56 457]</td>\n",
       "      <td>92.0</td>\n",
       "      <td>NaN</td>\n",
       "      <td>NaN</td>\n",
       "    </tr>\n",
       "    <tr>\n",
       "      <th>5267</th>\n",
       "      <td>7804.495</td>\n",
       "      <td>[2023-09-09 22:27:57 457]</td>\n",
       "      <td>92.0</td>\n",
       "      <td>NaN</td>\n",
       "      <td>NaN</td>\n",
       "    </tr>\n",
       "    <tr>\n",
       "      <th>5268</th>\n",
       "      <td>7805.436</td>\n",
       "      <td>[2023-09-09 22:27:58 398]</td>\n",
       "      <td>92.0</td>\n",
       "      <td>NaN</td>\n",
       "      <td>NaN</td>\n",
       "    </tr>\n",
       "    <tr>\n",
       "      <th>5269</th>\n",
       "      <td>7806.478</td>\n",
       "      <td>[2023-09-09 22:27:59 440]</td>\n",
       "      <td>92.0</td>\n",
       "      <td>NaN</td>\n",
       "      <td>NaN</td>\n",
       "    </tr>\n",
       "  </tbody>\n",
       "</table>\n",
       "<p>5270 rows × 5 columns</p>\n",
       "</div>"
      ],
      "text/plain": [
       "       seconds                       date     hr  activity_load_2d  \\\n",
       "0     2527.565  [2023-09-09 21:00:00 527]  141.0            0.0076   \n",
       "1     2528.565  [2023-09-09 21:00:01 527]  140.0            0.0089   \n",
       "2     2529.565  [2023-09-09 21:00:02 527]  139.0            0.0197   \n",
       "3     2530.566  [2023-09-09 21:00:03 528]  139.0            0.0128   \n",
       "4     2531.566  [2023-09-09 21:00:04 528]  138.0            0.0081   \n",
       "...        ...                        ...    ...               ...   \n",
       "5265  7802.495  [2023-09-09 22:27:55 457]   93.0            0.0066   \n",
       "5266  7803.495  [2023-09-09 22:27:56 457]   92.0               NaN   \n",
       "5267  7804.495  [2023-09-09 22:27:57 457]   92.0               NaN   \n",
       "5268  7805.436  [2023-09-09 22:27:58 398]   92.0               NaN   \n",
       "5269  7806.478  [2023-09-09 22:27:59 440]   92.0               NaN   \n",
       "\n",
       "      activity_load_3d  \n",
       "0               0.0102  \n",
       "1               0.0113  \n",
       "2               0.0273  \n",
       "3               0.0170  \n",
       "4               0.0105  \n",
       "...                ...  \n",
       "5265            0.0080  \n",
       "5266               NaN  \n",
       "5267               NaN  \n",
       "5268               NaN  \n",
       "5269               NaN  \n",
       "\n",
       "[5270 rows x 5 columns]"
      ]
     },
     "execution_count": 6,
     "metadata": {},
     "output_type": "execute_result"
    }
   ],
   "source": [
    "match = pd.read_csv(f'../../../../datasets/study-players/{record_date}/{player_name}_match_attributes.csv',index_col=0)\n",
    "match"
   ]
  },
  {
   "cell_type": "code",
   "execution_count": 7,
   "id": "669ce5f8-e602-4b95-998d-e3973435d060",
   "metadata": {},
   "outputs": [],
   "source": [
    "match = match[~match['activity_load_3d'].isnull()]"
   ]
  },
  {
   "cell_type": "code",
   "execution_count": 8,
   "id": "d2610af3-cd19-4d6d-af51-6ac67ed93b4e",
   "metadata": {},
   "outputs": [],
   "source": [
    "# normalizar los datos con robust scaler\n",
    "scaler = RobustScaler()\n",
    "match_rs = scaler.fit_transform(match.drop(['seconds','date'],axis=1))"
   ]
  },
  {
   "cell_type": "code",
   "execution_count": 9,
   "id": "cdc3e90f-bf30-42b8-8e29-f0d47b91ddae",
   "metadata": {},
   "outputs": [],
   "source": [
    "# cargar el modelo con pickle\n",
    "file = open('../../../../modelos/supervised/rf_model.pickle', 'rb')\n",
    "rf = pickle.load(file)\n",
    "file.close()"
   ]
  },
  {
   "cell_type": "code",
   "execution_count": 10,
   "id": "d938937f-f572-4031-8730-70ba8c3ad836",
   "metadata": {},
   "outputs": [
    {
     "name": "stderr",
     "output_type": "stream",
     "text": [
      "/home/jvillamor10/.local/lib/python3.9/site-packages/sklearn/base.py:450: UserWarning: X does not have valid feature names, but RandomForestClassifier was fitted with feature names\n",
      "  warnings.warn(\n"
     ]
    }
   ],
   "source": [
    "# hacer el predict\n",
    "y_pred = rf.predict(match_rs)"
   ]
  },
  {
   "cell_type": "code",
   "execution_count": 11,
   "id": "bbc102a5-53c6-4af9-a0f1-602743af1397",
   "metadata": {},
   "outputs": [
    {
     "data": {
      "image/png": "[encoded data removed]",
      "text/plain": [
       "<Figure size 432x288 with 1 Axes>"
      ]
     },
     "metadata": {
      "needs_background": "light"
     },
     "output_type": "display_data"
    }
   ],
   "source": [
    "# mostrar gráfico\n",
    "import matplotlib.pyplot as plt\n",
    "\n",
    "colores = {0: 'red', 1: 'green', None: 'black'}\n",
    "x = match['seconds']\n",
    "y = match['hr']\n",
    "\n",
    "valores_convertidos = [colores[valor] for valor in y_pred]\n",
    "\n",
    "# Crear una figura y ejes\n",
    "fig, ax = plt.subplots()\n",
    "\n",
    "# Initialize variables for segment plotting\n",
    "segment_start = 0\n",
    "current_color = valores_convertidos[0]\n",
    "\n",
    "# Iterate through the data to plot segments with different colors\n",
    "for i in range(1, len(x)):\n",
    "    if valores_convertidos[i] != current_color:\n",
    "        # Plot the current segment with the current color\n",
    "        ax.plot(x[segment_start:i], y[segment_start:i], linestyle='-', color=current_color)\n",
    "        \n",
    "        # Update the segment start and current color\n",
    "        segment_start = i\n",
    "        current_color = valores_convertidos[i]\n",
    "\n",
    "# Plot the last segment\n",
    "ax.plot(x[segment_start:], y[segment_start:], linestyle='-', color=current_color)\n",
    "\n",
    "plt.show()"
   ]
  },
  {
   "cell_type": "code",
   "execution_count": null,
   "id": "ab6e4afa-7e6c-4452-946a-fe1a4ffa2dee",
   "metadata": {},
   "outputs": [],
   "source": []
  }
 ],
 "metadata": {
  "kernelspec": {
   "display_name": "Python 3 (ipykernel)",
   "language": "python",
   "name": "python3"
  },
  "language_info": {
   "codemirror_mode": {
    "name": "ipython",
    "version": 3
   },
   "file_extension": ".py",
   "mimetype": "text/x-python",
   "name": "python",
   "nbconvert_exporter": "python",
   "pygments_lexer": "ipython3",
   "version": "3.9.2"
  }
 },
 "nbformat": 4,
 "nbformat_minor": 5
}
