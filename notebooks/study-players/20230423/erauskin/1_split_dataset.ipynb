{
 "cells": [
  {
   "cell_type": "code",
   "execution_count": 1,
   "id": "c153de9e-d8ac-47c9-87cb-c00c9aeaadce",
   "metadata": {},
   "outputs": [],
   "source": [
    "import pandas as pd"
   ]
  },
  {
   "cell_type": "code",
   "execution_count": 5,
   "id": "b860016b-42d1-424f-b068-8c2af1ccb04c",
   "metadata": {},
   "outputs": [],
   "source": [
    "ORIGINAL_DATA_FILE_DIR = '../../datasets/original-data/Exported Data_202304231610_Erauskin, Anne.csv'"
   ]
  },
  {
   "cell_type": "markdown",
   "id": "7c9becfe-f478-4f49-8b3b-7d1d9c6e7eb7",
   "metadata": {},
   "source": [
    "Las primeras 6 filas es información de la captura de datos"
   ]
  },
  {
   "cell_type": "code",
   "execution_count": 6,
   "id": "9c2ccd45-e678-4411-8634-350fb581e04e",
   "metadata": {},
   "outputs": [],
   "source": [
    "with open(ORIGINAL_DATA_FILE_DIR, 'r') as file:\n",
    "    # Lee todas las líneas del archivo en una lista\n",
    "    lines = file.readlines()"
   ]
  },
  {
   "cell_type": "code",
   "execution_count": 7,
   "id": "a24cd4f0-e2f7-4ee9-825d-ef4857e22b7a",
   "metadata": {},
   "outputs": [
    {
     "data": {
      "text/plain": [
       "['\\ufeffExported Sensor Data, Version 2\\n',\n",
       " 'Start Time: ,[2023-04-23 18:10:14 249],Erauskin  Anne\\n',\n",
       " '\\n',\n",
       " 'Type,Name,Start Time,End Time\\n',\n",
       " 'Trim,Session,[2023-04-23 18:20:00 000],[2023-04-23 20:30:38 360]\\n',\n",
       " '\\n']"
      ]
     },
     "execution_count": 7,
     "metadata": {},
     "output_type": "execute_result"
    }
   ],
   "source": [
    "lines[:6]"
   ]
  },
  {
   "cell_type": "markdown",
   "id": "8e65afb4-fb5d-43cf-a5f1-2d333c3458c6",
   "metadata": {},
   "source": [
    "Inicio de la captura, nombre de la jugadora, tipo, nombre, inicio y fin"
   ]
  },
  {
   "cell_type": "code",
   "execution_count": 8,
   "id": "c04eeba8-d11b-48d6-90a8-02d08d5c8e88",
   "metadata": {},
   "outputs": [],
   "source": [
    "player_name = 'euraskin_anne'"
   ]
  },
  {
   "cell_type": "code",
   "execution_count": 9,
   "id": "5472f12d-dc32-430b-af61-08d44004e3ea",
   "metadata": {},
   "outputs": [],
   "source": [
    "record_date = '20230423'"
   ]
  },
  {
   "cell_type": "code",
   "execution_count": 10,
   "id": "9214d4b4-a21b-49ae-a813-575e50a50178",
   "metadata": {},
   "outputs": [
    {
     "name": "stderr",
     "output_type": "stream",
     "text": [
      "/home/jvillamor10/.local/lib/python3.9/site-packages/IPython/core/interactiveshell.py:3251: DtypeWarning: Columns (4,11) have mixed types.Specify dtype option on import or set low_memory=False.\n",
      "  exec(code_obj, self.user_global_ns, self.user_ns)\n"
     ]
    },
    {
     "data": {
      "text/html": [
       "<div>\n",
       "<style scoped>\n",
       "    .dataframe tbody tr th:only-of-type {\n",
       "        vertical-align: middle;\n",
       "    }\n",
       "\n",
       "    .dataframe tbody tr th {\n",
       "        vertical-align: top;\n",
       "    }\n",
       "\n",
       "    .dataframe thead th {\n",
       "        text-align: right;\n",
       "    }\n",
       "</style>\n",
       "<table border=\"1\" class=\"dataframe\">\n",
       "  <thead>\n",
       "    <tr style=\"text-align: right;\">\n",
       "      <th></th>\n",
       "      <th>Seconds from Start</th>\n",
       "      <th>Date Time</th>\n",
       "      <th>Speed (km/h)</th>\n",
       "      <th>HR (bpm)</th>\n",
       "      <th>Core Temperature °C</th>\n",
       "      <th>X accelerometer (Sideways)</th>\n",
       "      <th>Y accelerometer (Forward)</th>\n",
       "      <th>Z accelerometer (Vertical)</th>\n",
       "      <th>Raw RR (ms)</th>\n",
       "      <th>Filtered RR (ms)</th>\n",
       "      <th>Difference</th>\n",
       "      <th>HR RMSSD</th>\n",
       "      <th>ActivityLoad 2D</th>\n",
       "      <th>ActivityLoad 3D</th>\n",
       "    </tr>\n",
       "  </thead>\n",
       "  <tbody>\n",
       "    <tr>\n",
       "      <th>0</th>\n",
       "      <td>0,602</td>\n",
       "      <td>[2023-04-23 18:10:14 851]</td>\n",
       "      <td>0</td>\n",
       "      <td>NaN</td>\n",
       "      <td>NaN</td>\n",
       "      <td>NaN</td>\n",
       "      <td>NaN</td>\n",
       "      <td>NaN</td>\n",
       "      <td>NaN</td>\n",
       "      <td>NaN</td>\n",
       "      <td>NaN</td>\n",
       "      <td>NaN</td>\n",
       "      <td>NaN</td>\n",
       "      <td>NaN</td>\n",
       "    </tr>\n",
       "    <tr>\n",
       "      <th>1</th>\n",
       "      <td>0,668</td>\n",
       "      <td>[2023-04-23 18:10:14 917]</td>\n",
       "      <td>NaN</td>\n",
       "      <td>NaN</td>\n",
       "      <td>NaN</td>\n",
       "      <td>-4,5938</td>\n",
       "      <td>8,575</td>\n",
       "      <td>-9,1975</td>\n",
       "      <td>NaN</td>\n",
       "      <td>NaN</td>\n",
       "      <td>NaN</td>\n",
       "      <td>NaN</td>\n",
       "      <td>NaN</td>\n",
       "      <td>NaN</td>\n",
       "    </tr>\n",
       "    <tr>\n",
       "      <th>2</th>\n",
       "      <td>0,678</td>\n",
       "      <td>[2023-04-23 18:10:14 927]</td>\n",
       "      <td>NaN</td>\n",
       "      <td>NaN</td>\n",
       "      <td>NaN</td>\n",
       "      <td>-5,0531</td>\n",
       "      <td>9,6469</td>\n",
       "      <td>-9,3506</td>\n",
       "      <td>NaN</td>\n",
       "      <td>NaN</td>\n",
       "      <td>NaN</td>\n",
       "      <td>NaN</td>\n",
       "      <td>NaN</td>\n",
       "      <td>NaN</td>\n",
       "    </tr>\n",
       "    <tr>\n",
       "      <th>3</th>\n",
       "      <td>0,688</td>\n",
       "      <td>[2023-04-23 18:10:14 937]</td>\n",
       "      <td>NaN</td>\n",
       "      <td>NaN</td>\n",
       "      <td>NaN</td>\n",
       "      <td>-3,675</td>\n",
       "      <td>9,3406</td>\n",
       "      <td>-9,6569</td>\n",
       "      <td>NaN</td>\n",
       "      <td>NaN</td>\n",
       "      <td>NaN</td>\n",
       "      <td>NaN</td>\n",
       "      <td>NaN</td>\n",
       "      <td>NaN</td>\n",
       "    </tr>\n",
       "    <tr>\n",
       "      <th>4</th>\n",
       "      <td>0,697</td>\n",
       "      <td>[2023-04-23 18:10:14 946]</td>\n",
       "      <td>NaN</td>\n",
       "      <td>NaN</td>\n",
       "      <td>NaN</td>\n",
       "      <td>-2,7563</td>\n",
       "      <td>9,1875</td>\n",
       "      <td>-10,2694</td>\n",
       "      <td>NaN</td>\n",
       "      <td>NaN</td>\n",
       "      <td>NaN</td>\n",
       "      <td>NaN</td>\n",
       "      <td>NaN</td>\n",
       "      <td>NaN</td>\n",
       "    </tr>\n",
       "  </tbody>\n",
       "</table>\n",
       "</div>"
      ],
      "text/plain": [
       "  Seconds from Start                  Date Time Speed (km/h)  HR (bpm)  \\\n",
       "0              0,602  [2023-04-23 18:10:14 851]            0       NaN   \n",
       "1              0,668  [2023-04-23 18:10:14 917]          NaN       NaN   \n",
       "2              0,678  [2023-04-23 18:10:14 927]          NaN       NaN   \n",
       "3              0,688  [2023-04-23 18:10:14 937]          NaN       NaN   \n",
       "4              0,697  [2023-04-23 18:10:14 946]          NaN       NaN   \n",
       "\n",
       "  Core Temperature °C X accelerometer (Sideways) Y accelerometer (Forward)  \\\n",
       "0                 NaN                        NaN                       NaN   \n",
       "1                 NaN                    -4,5938                     8,575   \n",
       "2                 NaN                    -5,0531                    9,6469   \n",
       "3                 NaN                     -3,675                    9,3406   \n",
       "4                 NaN                    -2,7563                    9,1875   \n",
       "\n",
       "  Z accelerometer (Vertical)  Raw RR (ms)  Filtered RR (ms)  Difference  \\\n",
       "0                        NaN          NaN               NaN         NaN   \n",
       "1                    -9,1975          NaN               NaN         NaN   \n",
       "2                    -9,3506          NaN               NaN         NaN   \n",
       "3                    -9,6569          NaN               NaN         NaN   \n",
       "4                   -10,2694          NaN               NaN         NaN   \n",
       "\n",
       "  HR RMSSD ActivityLoad 2D ActivityLoad 3D  \n",
       "0      NaN             NaN             NaN  \n",
       "1      NaN             NaN             NaN  \n",
       "2      NaN             NaN             NaN  \n",
       "3      NaN             NaN             NaN  \n",
       "4      NaN             NaN             NaN  "
      ]
     },
     "execution_count": 10,
     "metadata": {},
     "output_type": "execute_result"
    }
   ],
   "source": [
    "df = pd.read_csv(ORIGINAL_DATA_FILE_DIR,skiprows=6)\n",
    "df.head()"
   ]
  },
  {
   "cell_type": "markdown",
   "id": "52bcb337-3ad6-431d-bc34-bd9ca024eb99",
   "metadata": {},
   "source": [
    "Debemos obtener la información relevante:\n",
    "* Seconds from Start\n",
    "* Date Time\n",
    "* HR (bpm)\n",
    "* ActivityLoad 2D\n",
    "* ActivityLoad 3D"
   ]
  },
  {
   "cell_type": "code",
   "execution_count": 11,
   "id": "fbf9ea16-4dee-49d8-881a-68500f993ae0",
   "metadata": {},
   "outputs": [
    {
     "data": {
      "text/html": [
       "<div>\n",
       "<style scoped>\n",
       "    .dataframe tbody tr th:only-of-type {\n",
       "        vertical-align: middle;\n",
       "    }\n",
       "\n",
       "    .dataframe tbody tr th {\n",
       "        vertical-align: top;\n",
       "    }\n",
       "\n",
       "    .dataframe thead th {\n",
       "        text-align: right;\n",
       "    }\n",
       "</style>\n",
       "<table border=\"1\" class=\"dataframe\">\n",
       "  <thead>\n",
       "    <tr style=\"text-align: right;\">\n",
       "      <th></th>\n",
       "      <th>Seconds from Start</th>\n",
       "      <th>Date Time</th>\n",
       "      <th>HR (bpm)</th>\n",
       "    </tr>\n",
       "  </thead>\n",
       "  <tbody>\n",
       "    <tr>\n",
       "      <th>114586</th>\n",
       "      <td>1045,302</td>\n",
       "      <td>[2023-04-23 18:27:39 551]</td>\n",
       "      <td>75.0</td>\n",
       "    </tr>\n",
       "    <tr>\n",
       "      <th>114646</th>\n",
       "      <td>1045,802</td>\n",
       "      <td>[2023-04-23 18:27:40 051]</td>\n",
       "      <td>75.0</td>\n",
       "    </tr>\n",
       "    <tr>\n",
       "      <th>114703</th>\n",
       "      <td>1046,302</td>\n",
       "      <td>[2023-04-23 18:27:40 551]</td>\n",
       "      <td>75.0</td>\n",
       "    </tr>\n",
       "    <tr>\n",
       "      <th>114761</th>\n",
       "      <td>1046,802</td>\n",
       "      <td>[2023-04-23 18:27:41 051]</td>\n",
       "      <td>75.0</td>\n",
       "    </tr>\n",
       "    <tr>\n",
       "      <th>114817</th>\n",
       "      <td>1047,302</td>\n",
       "      <td>[2023-04-23 18:27:41 551]</td>\n",
       "      <td>77.0</td>\n",
       "    </tr>\n",
       "    <tr>\n",
       "      <th>...</th>\n",
       "      <td>...</td>\n",
       "      <td>...</td>\n",
       "      <td>...</td>\n",
       "    </tr>\n",
       "    <tr>\n",
       "      <th>1202682</th>\n",
       "      <td>10651,802</td>\n",
       "      <td>[2023-04-23 21:07:46 051]</td>\n",
       "      <td>84.0</td>\n",
       "    </tr>\n",
       "    <tr>\n",
       "      <th>1202739</th>\n",
       "      <td>10652,302</td>\n",
       "      <td>[2023-04-23 21:07:46 551]</td>\n",
       "      <td>84.0</td>\n",
       "    </tr>\n",
       "    <tr>\n",
       "      <th>1202797</th>\n",
       "      <td>10652,802</td>\n",
       "      <td>[2023-04-23 21:07:47 051]</td>\n",
       "      <td>84.0</td>\n",
       "    </tr>\n",
       "    <tr>\n",
       "      <th>1202852</th>\n",
       "      <td>10653,302</td>\n",
       "      <td>[2023-04-23 21:07:47 551]</td>\n",
       "      <td>84.0</td>\n",
       "    </tr>\n",
       "    <tr>\n",
       "      <th>1202909</th>\n",
       "      <td>10653,802</td>\n",
       "      <td>[2023-04-23 21:07:48 051]</td>\n",
       "      <td>84.0</td>\n",
       "    </tr>\n",
       "  </tbody>\n",
       "</table>\n",
       "<p>18165 rows × 3 columns</p>\n",
       "</div>"
      ],
      "text/plain": [
       "        Seconds from Start                  Date Time  HR (bpm)\n",
       "114586            1045,302  [2023-04-23 18:27:39 551]      75.0\n",
       "114646            1045,802  [2023-04-23 18:27:40 051]      75.0\n",
       "114703            1046,302  [2023-04-23 18:27:40 551]      75.0\n",
       "114761            1046,802  [2023-04-23 18:27:41 051]      75.0\n",
       "114817            1047,302  [2023-04-23 18:27:41 551]      77.0\n",
       "...                    ...                        ...       ...\n",
       "1202682          10651,802  [2023-04-23 21:07:46 051]      84.0\n",
       "1202739          10652,302  [2023-04-23 21:07:46 551]      84.0\n",
       "1202797          10652,802  [2023-04-23 21:07:47 051]      84.0\n",
       "1202852          10653,302  [2023-04-23 21:07:47 551]      84.0\n",
       "1202909          10653,802  [2023-04-23 21:07:48 051]      84.0\n",
       "\n",
       "[18165 rows x 3 columns]"
      ]
     },
     "execution_count": 11,
     "metadata": {},
     "output_type": "execute_result"
    }
   ],
   "source": [
    "hr = df[~df['HR (bpm)'].isnull()][['Seconds from Start', 'Date Time', 'HR (bpm)']]\n",
    "hr"
   ]
  },
  {
   "cell_type": "markdown",
   "id": "a42cbe6e-eee6-4264-a3c8-7d2ba1786b73",
   "metadata": {},
   "source": [
    "Se cambia el nombre de las variables"
   ]
  },
  {
   "cell_type": "code",
   "execution_count": 12,
   "id": "8b73d71a-f788-4777-b1d9-16a5505e95e2",
   "metadata": {},
   "outputs": [],
   "source": [
    "hr.columns = ['seconds', 'date', 'hr']"
   ]
  },
  {
   "cell_type": "code",
   "execution_count": 13,
   "id": "b8e4385c-bbf3-4410-ad88-4f77ddb6e4a1",
   "metadata": {},
   "outputs": [
    {
     "data": {
      "text/plain": [
       "Index(['seconds', 'date', 'hr'], dtype='object')"
      ]
     },
     "execution_count": 13,
     "metadata": {},
     "output_type": "execute_result"
    }
   ],
   "source": [
    "hr.columns "
   ]
  },
  {
   "cell_type": "markdown",
   "id": "4944adfc-47c5-479e-8f5d-4aa719cfdc5d",
   "metadata": {},
   "source": [
    "Se guarda el conjunto de datos resultante"
   ]
  },
  {
   "cell_type": "code",
   "execution_count": 14,
   "id": "24a21b11-ff8f-43c5-bbf5-6bc5408d3bdf",
   "metadata": {},
   "outputs": [
    {
     "name": "stdout",
     "output_type": "stream",
     "text": [
      "euraskin_anne_hr.csv\n"
     ]
    }
   ],
   "source": [
    "FILE_NAME = f'{player_name}_hr.csv'\n",
    "print(FILE_NAME)"
   ]
  },
  {
   "cell_type": "code",
   "execution_count": 15,
   "id": "203e6f64-8228-4a1e-9fba-76e76cc5187e",
   "metadata": {},
   "outputs": [],
   "source": [
    "hr.to_csv(f'../../datasets/study-players/{record_date}/{FILE_NAME}')"
   ]
  },
  {
   "cell_type": "markdown",
   "id": "9f21784d-2224-4e97-ac65-b6ab81da3080",
   "metadata": {},
   "source": [
    "Ahora hay que obtener la carga de actividad"
   ]
  },
  {
   "cell_type": "code",
   "execution_count": 16,
   "id": "6ae06f41-7d9d-4ffc-ac10-853be155e6bd",
   "metadata": {},
   "outputs": [
    {
     "data": {
      "text/html": [
       "<div>\n",
       "<style scoped>\n",
       "    .dataframe tbody tr th:only-of-type {\n",
       "        vertical-align: middle;\n",
       "    }\n",
       "\n",
       "    .dataframe tbody tr th {\n",
       "        vertical-align: top;\n",
       "    }\n",
       "\n",
       "    .dataframe thead th {\n",
       "        text-align: right;\n",
       "    }\n",
       "</style>\n",
       "<table border=\"1\" class=\"dataframe\">\n",
       "  <thead>\n",
       "    <tr style=\"text-align: right;\">\n",
       "      <th></th>\n",
       "      <th>Seconds from Start</th>\n",
       "      <th>Date Time</th>\n",
       "      <th>ActivityLoad 2D</th>\n",
       "      <th>ActivityLoad 3D</th>\n",
       "    </tr>\n",
       "  </thead>\n",
       "  <tbody>\n",
       "    <tr>\n",
       "      <th>116</th>\n",
       "      <td>1,709</td>\n",
       "      <td>[2023-04-23 18:10:15 958]</td>\n",
       "      <td>0,0447</td>\n",
       "      <td>0,0566</td>\n",
       "    </tr>\n",
       "    <tr>\n",
       "      <th>225</th>\n",
       "      <td>2,709</td>\n",
       "      <td>[2023-04-23 18:10:16 958]</td>\n",
       "      <td>0,0353</td>\n",
       "      <td>0,0427</td>\n",
       "    </tr>\n",
       "    <tr>\n",
       "      <th>336</th>\n",
       "      <td>3,709</td>\n",
       "      <td>[2023-04-23 18:10:17 958]</td>\n",
       "      <td>0,0433</td>\n",
       "      <td>0,0543</td>\n",
       "    </tr>\n",
       "    <tr>\n",
       "      <th>446</th>\n",
       "      <td>4,709</td>\n",
       "      <td>[2023-04-23 18:10:18 958]</td>\n",
       "      <td>0,0393</td>\n",
       "      <td>0,0495</td>\n",
       "    </tr>\n",
       "    <tr>\n",
       "      <th>553</th>\n",
       "      <td>5,709</td>\n",
       "      <td>[2023-04-23 18:10:19 958]</td>\n",
       "      <td>0,0253</td>\n",
       "      <td>0,0335</td>\n",
       "    </tr>\n",
       "    <tr>\n",
       "      <th>...</th>\n",
       "      <td>...</td>\n",
       "      <td>...</td>\n",
       "      <td>...</td>\n",
       "      <td>...</td>\n",
       "    </tr>\n",
       "    <tr>\n",
       "      <th>1202568</th>\n",
       "      <td>10650,791</td>\n",
       "      <td>[2023-04-23 21:07:45 040]</td>\n",
       "      <td>0,0821</td>\n",
       "      <td>0,1057</td>\n",
       "    </tr>\n",
       "    <tr>\n",
       "      <th>1202680</th>\n",
       "      <td>10651,791</td>\n",
       "      <td>[2023-04-23 21:07:46 040]</td>\n",
       "      <td>0,0603</td>\n",
       "      <td>0,0747</td>\n",
       "    </tr>\n",
       "    <tr>\n",
       "      <th>1202795</th>\n",
       "      <td>10652,791</td>\n",
       "      <td>[2023-04-23 21:07:47 040]</td>\n",
       "      <td>0,0257</td>\n",
       "      <td>0,0315</td>\n",
       "    </tr>\n",
       "    <tr>\n",
       "      <th>1202907</th>\n",
       "      <td>10653,791</td>\n",
       "      <td>[2023-04-23 21:07:48 040]</td>\n",
       "      <td>0,015</td>\n",
       "      <td>0,0167</td>\n",
       "    </tr>\n",
       "    <tr>\n",
       "      <th>1203014</th>\n",
       "      <td>10654,791</td>\n",
       "      <td>[2023-04-23 21:07:49 040]</td>\n",
       "      <td>0,0134</td>\n",
       "      <td>0,0149</td>\n",
       "    </tr>\n",
       "  </tbody>\n",
       "</table>\n",
       "<p>10626 rows × 4 columns</p>\n",
       "</div>"
      ],
      "text/plain": [
       "        Seconds from Start                  Date Time ActivityLoad 2D  \\\n",
       "116                  1,709  [2023-04-23 18:10:15 958]          0,0447   \n",
       "225                  2,709  [2023-04-23 18:10:16 958]          0,0353   \n",
       "336                  3,709  [2023-04-23 18:10:17 958]          0,0433   \n",
       "446                  4,709  [2023-04-23 18:10:18 958]          0,0393   \n",
       "553                  5,709  [2023-04-23 18:10:19 958]          0,0253   \n",
       "...                    ...                        ...             ...   \n",
       "1202568          10650,791  [2023-04-23 21:07:45 040]          0,0821   \n",
       "1202680          10651,791  [2023-04-23 21:07:46 040]          0,0603   \n",
       "1202795          10652,791  [2023-04-23 21:07:47 040]          0,0257   \n",
       "1202907          10653,791  [2023-04-23 21:07:48 040]           0,015   \n",
       "1203014          10654,791  [2023-04-23 21:07:49 040]          0,0134   \n",
       "\n",
       "        ActivityLoad 3D  \n",
       "116              0,0566  \n",
       "225              0,0427  \n",
       "336              0,0543  \n",
       "446              0,0495  \n",
       "553              0,0335  \n",
       "...                 ...  \n",
       "1202568          0,1057  \n",
       "1202680          0,0747  \n",
       "1202795          0,0315  \n",
       "1202907          0,0167  \n",
       "1203014          0,0149  \n",
       "\n",
       "[10626 rows x 4 columns]"
      ]
     },
     "execution_count": 16,
     "metadata": {},
     "output_type": "execute_result"
    }
   ],
   "source": [
    "activity = df[~df['ActivityLoad 2D'].isnull() & ~df['ActivityLoad 3D'].isnull()][['Seconds from Start', 'Date Time', 'ActivityLoad 2D', 'ActivityLoad 3D']]\n",
    "activity"
   ]
  },
  {
   "cell_type": "markdown",
   "id": "748c489d-e560-4e91-a3d3-c5e1ea31897d",
   "metadata": {},
   "source": [
    "Se cambia el nombre de las variables"
   ]
  },
  {
   "cell_type": "code",
   "execution_count": 17,
   "id": "fec0d9eb-dfc2-4e3a-9bba-f85ec7f4755d",
   "metadata": {},
   "outputs": [],
   "source": [
    "activity.columns = ['seconds', 'date', 'activity_load_2d','activity_load_3d']"
   ]
  },
  {
   "cell_type": "code",
   "execution_count": 18,
   "id": "439b3765-3fca-473f-8629-e21d4e30fbb6",
   "metadata": {},
   "outputs": [
    {
     "data": {
      "text/plain": [
       "Index(['seconds', 'date', 'activity_load_2d', 'activity_load_3d'], dtype='object')"
      ]
     },
     "execution_count": 18,
     "metadata": {},
     "output_type": "execute_result"
    }
   ],
   "source": [
    "activity.columns"
   ]
  },
  {
   "cell_type": "markdown",
   "id": "b8341d2c-d720-4b23-bfeb-f10925fd8bbd",
   "metadata": {},
   "source": [
    "Se guarda el conjunto de datos resultante"
   ]
  },
  {
   "cell_type": "code",
   "execution_count": 19,
   "id": "d8753bf2-7539-479a-842c-371720e74b33",
   "metadata": {},
   "outputs": [
    {
     "name": "stdout",
     "output_type": "stream",
     "text": [
      "euraskin_anne_activity_load.csv\n"
     ]
    }
   ],
   "source": [
    "FILE_NAME = f'{player_name}_activity_load.csv'\n",
    "print(FILE_NAME)"
   ]
  },
  {
   "cell_type": "code",
   "execution_count": 20,
   "id": "a4b0a62a-cfa7-4a90-a07a-dd5c6f86ff38",
   "metadata": {},
   "outputs": [],
   "source": [
    "activity.to_csv(f'../../datasets/study-players/{record_date}/{FILE_NAME}')"
   ]
  },
  {
   "cell_type": "code",
   "execution_count": null,
   "id": "606ab72c-4c51-4195-8d2f-c72c11ee7a67",
   "metadata": {},
   "outputs": [],
   "source": []
  }
 ],
 "metadata": {
  "kernelspec": {
   "display_name": "Python 3 (ipykernel)",
   "language": "python",
   "name": "python3"
  },
  "language_info": {
   "codemirror_mode": {
    "name": "ipython",
    "version": 3
   },
   "file_extension": ".py",
   "mimetype": "text/x-python",
   "name": "python",
   "nbconvert_exporter": "python",
   "pygments_lexer": "ipython3",
   "version": "3.9.2"
  }
 },
 "nbformat": 4,
 "nbformat_minor": 5
}
