{
 "cells": [
  {
   "cell_type": "markdown",
   "id": "7182cfea-3ce8-4b26-b22b-404e8e61058d",
   "metadata": {},
   "source": [
    "# Cuaderno para estudiar las posibles gráficas que se pueden mostrar finalmente cuando se haya realizado el clustering"
   ]
  },
  {
   "cell_type": "code",
   "execution_count": 9,
   "id": "76dda143-91c6-4cf8-88fe-197b6f3e41e2",
   "metadata": {},
   "outputs": [],
   "source": [
    "import pandas as pd\n",
    "import matplotlib.pyplot as plt\n",
    "import numpy as np\n",
    "import matplotlib.patches as mpatches"
   ]
  },
  {
   "cell_type": "code",
   "execution_count": 2,
   "id": "d24a1c1b-7a2a-4834-a8eb-7936227550e9",
   "metadata": {},
   "outputs": [
    {
     "data": {
      "text/html": [
       "<div>\n",
       "<style scoped>\n",
       "    .dataframe tbody tr th:only-of-type {\n",
       "        vertical-align: middle;\n",
       "    }\n",
       "\n",
       "    .dataframe tbody tr th {\n",
       "        vertical-align: top;\n",
       "    }\n",
       "\n",
       "    .dataframe thead th {\n",
       "        text-align: right;\n",
       "    }\n",
       "</style>\n",
       "<table border=\"1\" class=\"dataframe\">\n",
       "  <thead>\n",
       "    <tr style=\"text-align: right;\">\n",
       "      <th></th>\n",
       "      <th>0</th>\n",
       "      <th>1</th>\n",
       "      <th>2</th>\n",
       "      <th>3</th>\n",
       "      <th>4</th>\n",
       "      <th>5</th>\n",
       "      <th>6</th>\n",
       "      <th>7</th>\n",
       "      <th>8</th>\n",
       "      <th>9</th>\n",
       "      <th>cluster</th>\n",
       "    </tr>\n",
       "  </thead>\n",
       "  <tbody>\n",
       "    <tr>\n",
       "      <th>0</th>\n",
       "      <td>75.0</td>\n",
       "      <td>75.0</td>\n",
       "      <td>75.0</td>\n",
       "      <td>75.0</td>\n",
       "      <td>75.0</td>\n",
       "      <td>75.0</td>\n",
       "      <td>75.0</td>\n",
       "      <td>75.0</td>\n",
       "      <td>76.0</td>\n",
       "      <td>76.0</td>\n",
       "      <td>1</td>\n",
       "    </tr>\n",
       "    <tr>\n",
       "      <th>0</th>\n",
       "      <td>75.0</td>\n",
       "      <td>75.0</td>\n",
       "      <td>75.0</td>\n",
       "      <td>76.0</td>\n",
       "      <td>76.0</td>\n",
       "      <td>77.0</td>\n",
       "      <td>77.0</td>\n",
       "      <td>77.0</td>\n",
       "      <td>77.0</td>\n",
       "      <td>77.0</td>\n",
       "      <td>1</td>\n",
       "    </tr>\n",
       "    <tr>\n",
       "      <th>0</th>\n",
       "      <td>77.0</td>\n",
       "      <td>77.0</td>\n",
       "      <td>77.0</td>\n",
       "      <td>77.0</td>\n",
       "      <td>77.0</td>\n",
       "      <td>77.0</td>\n",
       "      <td>77.0</td>\n",
       "      <td>78.0</td>\n",
       "      <td>78.0</td>\n",
       "      <td>78.0</td>\n",
       "      <td>1</td>\n",
       "    </tr>\n",
       "    <tr>\n",
       "      <th>0</th>\n",
       "      <td>77.0</td>\n",
       "      <td>77.0</td>\n",
       "      <td>78.0</td>\n",
       "      <td>78.0</td>\n",
       "      <td>78.0</td>\n",
       "      <td>78.0</td>\n",
       "      <td>78.0</td>\n",
       "      <td>78.0</td>\n",
       "      <td>78.0</td>\n",
       "      <td>78.0</td>\n",
       "      <td>1</td>\n",
       "    </tr>\n",
       "    <tr>\n",
       "      <th>0</th>\n",
       "      <td>78.0</td>\n",
       "      <td>78.0</td>\n",
       "      <td>78.0</td>\n",
       "      <td>78.0</td>\n",
       "      <td>78.0</td>\n",
       "      <td>78.0</td>\n",
       "      <td>78.0</td>\n",
       "      <td>78.0</td>\n",
       "      <td>78.0</td>\n",
       "      <td>78.0</td>\n",
       "      <td>1</td>\n",
       "    </tr>\n",
       "  </tbody>\n",
       "</table>\n",
       "</div>"
      ],
      "text/plain": [
       "      0     1     2     3     4     5     6     7     8     9  cluster\n",
       "0  75.0  75.0  75.0  75.0  75.0  75.0  75.0  75.0  76.0  76.0        1\n",
       "0  75.0  75.0  75.0  76.0  76.0  77.0  77.0  77.0  77.0  77.0        1\n",
       "0  77.0  77.0  77.0  77.0  77.0  77.0  77.0  78.0  78.0  78.0        1\n",
       "0  77.0  77.0  78.0  78.0  78.0  78.0  78.0  78.0  78.0  78.0        1\n",
       "0  78.0  78.0  78.0  78.0  78.0  78.0  78.0  78.0  78.0  78.0        1"
      ]
     },
     "execution_count": 2,
     "metadata": {},
     "output_type": "execute_result"
    }
   ],
   "source": [
    "hr_window = pd.read_csv('../../datasets/hr-study/windows_10_50_k_4.csv',index_col=0)\n",
    "hr_window.head()"
   ]
  },
  {
   "cell_type": "markdown",
   "id": "f624b441-617d-4ffa-815d-6e6a0e48f920",
   "metadata": {},
   "source": [
    "Se van a mostrar un par de gráficos, para ver cuál puede ser mejor para mostrar como salida"
   ]
  },
  {
   "cell_type": "code",
   "execution_count": 3,
   "id": "26596d76-7612-415a-a8ad-ee0ced7f6271",
   "metadata": {},
   "outputs": [
    {
     "data": {
      "text/plain": [
       "[<matplotlib.lines.Line2D at 0x7f06a5152190>]"
      ]
     },
     "execution_count": 3,
     "metadata": {},
     "output_type": "execute_result"
    },
    {
     "data": {
      "image/png": "[encoded data removed]",
      "text/plain": [
       "<Figure size 1080x504 with 1 Axes>"
      ]
     },
     "metadata": {
      "needs_background": "light"
     },
     "output_type": "display_data"
    }
   ],
   "source": [
    "plt.figure(figsize=(15,7))\n",
    "plt.plot(range(0,len(hr_window)),hr_window['cluster'])"
   ]
  },
  {
   "cell_type": "markdown",
   "id": "170838b4-b701-4944-aa5c-7aa4ca1543ce",
   "metadata": {},
   "source": [
    "Puede mostrar como va avanzando, pero no convence visualmente"
   ]
  },
  {
   "cell_type": "code",
   "execution_count": 4,
   "id": "b1a02e17-d81d-4719-9bcd-b608e7468c77",
   "metadata": {},
   "outputs": [],
   "source": [
    "colors_dict = {\n",
    "    1:'b',\n",
    "    2:'g',\n",
    "    3:'y',\n",
    "    4:'r'\n",
    "}"
   ]
  },
  {
   "cell_type": "code",
   "execution_count": 5,
   "id": "1e73dfb6-3764-4d66-9093-4f58397635a2",
   "metadata": {},
   "outputs": [],
   "source": [
    "colors = [colors_dict[w] for w in hr_window['cluster']]"
   ]
  },
  {
   "cell_type": "code",
   "execution_count": 6,
   "id": "35239289-f129-4e15-bafb-b7168a2e8836",
   "metadata": {},
   "outputs": [
    {
     "data": {
      "image/png": "[encoded data removed]",
      "text/plain": [
       "<Figure size 1080x504 with 1 Axes>"
      ]
     },
     "metadata": {
      "needs_background": "light"
     },
     "output_type": "display_data"
    }
   ],
   "source": [
    "plt.figure(figsize=(15,7))\n",
    "plt.plot(range(0,len(hr_window)),hr_window['cluster'], color='gray')\n",
    "plt.scatter(x=range(0,len(hr_window)),y=hr_window['cluster'], marker='o', c=colors)\n",
    "\n",
    "plt.show()"
   ]
  },
  {
   "cell_type": "markdown",
   "id": "266b4646-c0f2-4d13-abea-f52a33ce4da8",
   "metadata": {},
   "source": [
    "Mejor con colores, pero sigue siendo algo lioso"
   ]
  },
  {
   "cell_type": "code",
   "execution_count": 31,
   "id": "1ccb8431-3389-4575-a028-5231e2d1e4d5",
   "metadata": {},
   "outputs": [
    {
     "data": {
      "text/plain": [
       "<BarContainer object of 4336 artists>"
      ]
     },
     "execution_count": 31,
     "metadata": {},
     "output_type": "execute_result"
    },
    {
     "data": {
      "image/png": "[encoded data removed]",
      "text/plain": [
       "<Figure size 1080x504 with 1 Axes>"
      ]
     },
     "metadata": {
      "needs_background": "light"
     },
     "output_type": "display_data"
    }
   ],
   "source": [
    "plt.figure(figsize=(15,7))\n",
    "plt.bar(range(0,len(hr_window)),hr_window['cluster'])"
   ]
  },
  {
   "cell_type": "markdown",
   "id": "914ed4e4-7f41-476a-a1ef-18f83c242bd4",
   "metadata": {},
   "source": [
    "Falta más colorido"
   ]
  },
  {
   "cell_type": "code",
   "execution_count": 7,
   "id": "d7e83a02-7841-4577-a97e-6784748a8f2e",
   "metadata": {},
   "outputs": [],
   "source": [
    "def show_graphic(dataset):\n",
    "    # Colores para cada número\n",
    "    colors = {1: 'blue', 2: 'green', 3: 'yellow', 4: 'red'}\n",
    "\n",
    "    # Crear un array con los colores correspondientes\n",
    "    colors_activity = [colors[i] for i in dataset['cluster']]\n",
    "\n",
    "    # Crear un array de la misma longitud que los datos pero con todos los elementos siendo 1\n",
    "    # Esto es para que la altura de todas las barras sea la misma\n",
    "    activity_heights = np.ones(len(dataset))\n",
    "\n",
    "    # Definir el tamaño de la figura\n",
    "    plt.figure(figsize=(20, 2))\n",
    "\n",
    "    # Crear la gráfica\n",
    "    plt.bar(range(len(dataset)), activity_heights, color=colors_activity, width=1)\n",
    "\n",
    "    # Quitar los ticks del eje x para que no se vean los números\n",
    "    plt.xticks([])\n",
    "    plt.yticks([])\n",
    "\n",
    "    # Crear la leyenda\n",
    "    legend = [mpatches.Patch(color=v, label=k) for k, v in colors.items()]\n",
    "    plt.legend(handles=legend)\n",
    "\n",
    "    # Mostrar la gráfica\n",
    "    plt.show()"
   ]
  },
  {
   "cell_type": "code",
   "execution_count": 10,
   "id": "72aa65a3-502c-4e50-b0b0-c08dff09722e",
   "metadata": {},
   "outputs": [
    {
     "data": {
      "image/png": "[encoded data removed]",
      "text/plain": [
       "<Figure size 1440x144 with 1 Axes>"
      ]
     },
     "metadata": {},
     "output_type": "display_data"
    }
   ],
   "source": [
    "show_graphic(hr_window)"
   ]
  },
  {
   "cell_type": "markdown",
   "id": "5ac8088a-835b-4992-88af-1de81ad8df45",
   "metadata": {},
   "source": [
    "Gráfico muy representativo y sencillo, con los colores y el eje x se va viendo como va cambiando el valor del cluster."
   ]
  },
  {
   "cell_type": "code",
   "execution_count": null,
   "id": "1fd834e9-1b17-4378-87e7-f35bb961c81b",
   "metadata": {},
   "outputs": [],
   "source": []
  }
 ],
 "metadata": {
  "kernelspec": {
   "display_name": "Python 3 (ipykernel)",
   "language": "python",
   "name": "python3"
  },
  "language_info": {
   "codemirror_mode": {
    "name": "ipython",
    "version": 3
   },
   "file_extension": ".py",
   "mimetype": "text/x-python",
   "name": "python",
   "nbconvert_exporter": "python",
   "pygments_lexer": "ipython3",
   "version": "3.9.2"
  }
 },
 "nbformat": 4,
 "nbformat_minor": 5
}
