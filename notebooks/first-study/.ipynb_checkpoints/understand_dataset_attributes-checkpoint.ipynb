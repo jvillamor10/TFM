{
 "cells": [
  {
   "cell_type": "markdown",
   "id": "0b9cacc7-3fee-4121-92ef-c928ac2dc64f",
   "metadata": {},
   "source": [
    "# Cuaderno en el que se van a estudiar las variables del conjunto de datos del dispositivo inercial"
   ]
  },
  {
   "cell_type": "code",
   "execution_count": 1,
   "id": "32365db8-d4a1-46cb-acb8-92c9e670ddd2",
   "metadata": {},
   "outputs": [],
   "source": [
    "import pandas as pd"
   ]
  },
  {
   "cell_type": "code",
   "execution_count": 2,
   "id": "9d1ffe3e-79fa-4ad0-bed3-f5e64db277b3",
   "metadata": {},
   "outputs": [
    {
     "data": {
      "text/html": [
       "<div>\n",
       "<style scoped>\n",
       "    .dataframe tbody tr th:only-of-type {\n",
       "        vertical-align: middle;\n",
       "    }\n",
       "\n",
       "    .dataframe tbody tr th {\n",
       "        vertical-align: top;\n",
       "    }\n",
       "\n",
       "    .dataframe thead th {\n",
       "        text-align: right;\n",
       "    }\n",
       "</style>\n",
       "<table border=\"1\" class=\"dataframe\">\n",
       "  <thead>\n",
       "    <tr style=\"text-align: right;\">\n",
       "      <th></th>\n",
       "      <th>Seconds from Start</th>\n",
       "      <th>Date Time</th>\n",
       "      <th>Speed (km/h)</th>\n",
       "      <th>HR (bpm)</th>\n",
       "      <th>Core Temperature °C</th>\n",
       "      <th>X accelerometer (Sideways)</th>\n",
       "      <th>Y accelerometer (Forward)</th>\n",
       "      <th>Z accelerometer (Vertical)</th>\n",
       "      <th>Raw RR (ms)</th>\n",
       "      <th>Filtered RR (ms)</th>\n",
       "      <th>Difference</th>\n",
       "      <th>HR RMSSD</th>\n",
       "      <th>ActivityLoad 2D</th>\n",
       "      <th>ActivityLoad 3D</th>\n",
       "    </tr>\n",
       "  </thead>\n",
       "  <tbody>\n",
       "    <tr>\n",
       "      <th>0</th>\n",
       "      <td>1,003</td>\n",
       "      <td>[2023-04-23 18:10:38 770]</td>\n",
       "      <td>0</td>\n",
       "      <td>NaN</td>\n",
       "      <td>NaN</td>\n",
       "      <td>NaN</td>\n",
       "      <td>NaN</td>\n",
       "      <td>NaN</td>\n",
       "      <td>NaN</td>\n",
       "      <td>NaN</td>\n",
       "      <td>NaN</td>\n",
       "      <td>NaN</td>\n",
       "      <td>NaN</td>\n",
       "      <td>NaN</td>\n",
       "    </tr>\n",
       "    <tr>\n",
       "      <th>1</th>\n",
       "      <td>1,101</td>\n",
       "      <td>[2023-04-23 18:10:38 868]</td>\n",
       "      <td>NaN</td>\n",
       "      <td>NaN</td>\n",
       "      <td>NaN</td>\n",
       "      <td>-11,3313</td>\n",
       "      <td>-3,5219</td>\n",
       "      <td>-23,8975</td>\n",
       "      <td>NaN</td>\n",
       "      <td>NaN</td>\n",
       "      <td>NaN</td>\n",
       "      <td>NaN</td>\n",
       "      <td>NaN</td>\n",
       "      <td>NaN</td>\n",
       "    </tr>\n",
       "    <tr>\n",
       "      <th>2</th>\n",
       "      <td>1,104</td>\n",
       "      <td>[2023-04-23 18:10:38 871]</td>\n",
       "      <td>0</td>\n",
       "      <td>NaN</td>\n",
       "      <td>NaN</td>\n",
       "      <td>NaN</td>\n",
       "      <td>NaN</td>\n",
       "      <td>NaN</td>\n",
       "      <td>NaN</td>\n",
       "      <td>NaN</td>\n",
       "      <td>NaN</td>\n",
       "      <td>NaN</td>\n",
       "      <td>NaN</td>\n",
       "      <td>NaN</td>\n",
       "    </tr>\n",
       "    <tr>\n",
       "      <th>3</th>\n",
       "      <td>1,110</td>\n",
       "      <td>[2023-04-23 18:10:38 877]</td>\n",
       "      <td>NaN</td>\n",
       "      <td>NaN</td>\n",
       "      <td>NaN</td>\n",
       "      <td>-14,0875</td>\n",
       "      <td>-1,5312</td>\n",
       "      <td>-24,6631</td>\n",
       "      <td>NaN</td>\n",
       "      <td>NaN</td>\n",
       "      <td>NaN</td>\n",
       "      <td>NaN</td>\n",
       "      <td>NaN</td>\n",
       "      <td>NaN</td>\n",
       "    </tr>\n",
       "    <tr>\n",
       "      <th>4</th>\n",
       "      <td>1,120</td>\n",
       "      <td>[2023-04-23 18:10:38 887]</td>\n",
       "      <td>NaN</td>\n",
       "      <td>NaN</td>\n",
       "      <td>NaN</td>\n",
       "      <td>-12,0969</td>\n",
       "      <td>-0,7656</td>\n",
       "      <td>-25,5819</td>\n",
       "      <td>NaN</td>\n",
       "      <td>NaN</td>\n",
       "      <td>NaN</td>\n",
       "      <td>NaN</td>\n",
       "      <td>NaN</td>\n",
       "      <td>NaN</td>\n",
       "    </tr>\n",
       "  </tbody>\n",
       "</table>\n",
       "</div>"
      ],
      "text/plain": [
       "  Seconds from Start                  Date Time Speed (km/h)  HR (bpm)  \\\n",
       "0              1,003  [2023-04-23 18:10:38 770]            0       NaN   \n",
       "1              1,101  [2023-04-23 18:10:38 868]          NaN       NaN   \n",
       "2              1,104  [2023-04-23 18:10:38 871]            0       NaN   \n",
       "3              1,110  [2023-04-23 18:10:38 877]          NaN       NaN   \n",
       "4              1,120  [2023-04-23 18:10:38 887]          NaN       NaN   \n",
       "\n",
       "  Core Temperature °C X accelerometer (Sideways) Y accelerometer (Forward)  \\\n",
       "0                 NaN                        NaN                       NaN   \n",
       "1                 NaN                   -11,3313                   -3,5219   \n",
       "2                 NaN                        NaN                       NaN   \n",
       "3                 NaN                   -14,0875                   -1,5312   \n",
       "4                 NaN                   -12,0969                   -0,7656   \n",
       "\n",
       "  Z accelerometer (Vertical)  Raw RR (ms)  Filtered RR (ms)  Difference  \\\n",
       "0                        NaN          NaN               NaN         NaN   \n",
       "1                   -23,8975          NaN               NaN         NaN   \n",
       "2                        NaN          NaN               NaN         NaN   \n",
       "3                   -24,6631          NaN               NaN         NaN   \n",
       "4                   -25,5819          NaN               NaN         NaN   \n",
       "\n",
       "  HR RMSSD ActivityLoad 2D ActivityLoad 3D  \n",
       "0      NaN             NaN             NaN  \n",
       "1      NaN             NaN             NaN  \n",
       "2      NaN             NaN             NaN  \n",
       "3      NaN             NaN             NaN  \n",
       "4      NaN             NaN             NaN  "
      ]
     },
     "execution_count": 2,
     "metadata": {},
     "output_type": "execute_result"
    }
   ],
   "source": [
    "df = pd.read_csv('../../datasets/original-data/Exported Data_202304231610.csv')\n",
    "df.head()"
   ]
  },
  {
   "cell_type": "code",
   "execution_count": 3,
   "id": "39ed2cd5-ebcd-4e1b-8db0-70e921b1a658",
   "metadata": {},
   "outputs": [
    {
     "data": {
      "text/plain": [
       "Seconds from Start             object\n",
       "Date Time                      object\n",
       "Speed (km/h)                   object\n",
       "HR (bpm)                      float64\n",
       "Core Temperature °C            object\n",
       "X accelerometer (Sideways)     object\n",
       "Y accelerometer (Forward)      object\n",
       "Z accelerometer (Vertical)     object\n",
       "Raw RR (ms)                   float64\n",
       "Filtered RR (ms)              float64\n",
       "Difference                    float64\n",
       "HR RMSSD                       object\n",
       "ActivityLoad 2D                object\n",
       "ActivityLoad 3D                object\n",
       "dtype: object"
      ]
     },
     "execution_count": 3,
     "metadata": {},
     "output_type": "execute_result"
    }
   ],
   "source": [
    "df.dtypes"
   ]
  },
  {
   "cell_type": "markdown",
   "id": "4dbdb26d-4fdb-4982-845b-b61a5e6cbfaa",
   "metadata": {},
   "source": [
    "### Campo 'Seconds from Start'"
   ]
  },
  {
   "cell_type": "code",
   "execution_count": 4,
   "id": "b5086213-dce2-42f9-8220-166173f928d2",
   "metadata": {},
   "outputs": [
    {
     "data": {
      "text/plain": [
       "False"
      ]
     },
     "execution_count": 4,
     "metadata": {},
     "output_type": "execute_result"
    }
   ],
   "source": [
    "df['Seconds from Start'].isnull().any()"
   ]
  },
  {
   "cell_type": "code",
   "execution_count": 5,
   "id": "e9b88aa7-1b27-48db-bcc3-ea1885d31202",
   "metadata": {},
   "outputs": [
    {
     "name": "stdout",
     "output_type": "stream",
     "text": [
      "Valor mínimo: 1,003 s\n"
     ]
    }
   ],
   "source": [
    "min_value = df['Seconds from Start'].min()\n",
    "print(f'Valor mínimo: {min_value} s')"
   ]
  },
  {
   "cell_type": "code",
   "execution_count": 6,
   "id": "ebaa5d11-6573-4dbd-8d05-fb3915b4cf7c",
   "metadata": {},
   "outputs": [
    {
     "name": "stdout",
     "output_type": "stream",
     "text": [
      "Valor máximo: 9999,995 s\n"
     ]
    }
   ],
   "source": [
    "max_value = df['Seconds from Start'].max()\n",
    "print(f'Valor máximo: {max_value} s')"
   ]
  },
  {
   "cell_type": "markdown",
   "id": "799a826f-a63a-4bf7-8798-0c20326a5710",
   "metadata": {},
   "source": [
    "Todos los registros van informados, representa el segundo en el que se captura el dato"
   ]
  },
  {
   "cell_type": "markdown",
   "id": "68218221-a949-4104-a51a-3ed1eb60294a",
   "metadata": {},
   "source": [
    "### Campo 'Date Time'"
   ]
  },
  {
   "cell_type": "code",
   "execution_count": 14,
   "id": "e374e832-7788-4410-ba08-b449d0019e8b",
   "metadata": {},
   "outputs": [
    {
     "data": {
      "text/plain": [
       "False"
      ]
     },
     "execution_count": 14,
     "metadata": {},
     "output_type": "execute_result"
    }
   ],
   "source": [
    "df['Date Time'].isnull().any()"
   ]
  },
  {
   "cell_type": "markdown",
   "id": "a9ff79b8-4fc8-4d67-b1d3-5f6858744a28",
   "metadata": {},
   "source": [
    "Todos los registros van informado, representa la fecha en la que se capturó el dato, en horas, minutos, segundos y milisegundos."
   ]
  },
  {
   "cell_type": "markdown",
   "id": "f1ab0d12-757d-4902-9ac7-1dc721eb2c36",
   "metadata": {},
   "source": [
    "### Campo 'Speed (km/h)'"
   ]
  },
  {
   "cell_type": "code",
   "execution_count": 15,
   "id": "ba1a1deb-fb47-4809-b2c0-b708ec28b24a",
   "metadata": {},
   "outputs": [
    {
     "data": {
      "text/plain": [
       "True"
      ]
     },
     "execution_count": 15,
     "metadata": {},
     "output_type": "execute_result"
    }
   ],
   "source": [
    "df['Speed (km/h)'].isnull().any()"
   ]
  },
  {
   "cell_type": "markdown",
   "id": "7263c0cb-4b0e-4aa6-8d66-132d8b0bc029",
   "metadata": {},
   "source": [
    "Existen valores nulos"
   ]
  },
  {
   "cell_type": "code",
   "execution_count": 17,
   "id": "4394bb61-f03d-43c7-bf42-cf52c22c592b",
   "metadata": {},
   "outputs": [],
   "source": [
    "new_df = df[df['Speed (km/h)'].notnull()][['Seconds from Start','Speed (km/h)']]"
   ]
  },
  {
   "cell_type": "code",
   "execution_count": 23,
   "id": "1b1fd543-ffc1-438b-b343-d2c0947e9f17",
   "metadata": {},
   "outputs": [],
   "source": [
    "def convert_comma_to_point(value):\n",
    "    if isinstance(value, str):\n",
    "        return value.replace(',','.')\n",
    "    return value"
   ]
  },
  {
   "cell_type": "code",
   "execution_count": 24,
   "id": "15895b85-1054-40c6-869d-07377fe8c3d0",
   "metadata": {},
   "outputs": [],
   "source": [
    "column_name = 'Speed (km/h)'\n",
    "new_df[column_name] = new_df[column_name].apply(lambda x: convert_comma_to_point(x))\n",
    "new_df[column_name] = new_df[column_name].apply(pd.to_numeric)"
   ]
  },
  {
   "cell_type": "code",
   "execution_count": 25,
   "id": "d6056ac7-6566-4c32-b615-9b72f32b3d9e",
   "metadata": {},
   "outputs": [
    {
     "name": "stdout",
     "output_type": "stream",
     "text": [
      "Valor mínimo 0.0 km/h\n"
     ]
    }
   ],
   "source": [
    "min_value = new_df['Speed (km/h)'].min()\n",
    "print(f'Valor mínimo {min_value} km/h')"
   ]
  },
  {
   "cell_type": "code",
   "execution_count": 30,
   "id": "ac5f671d-bbce-4ca0-875a-b1d9819459a7",
   "metadata": {},
   "outputs": [
    {
     "name": "stdout",
     "output_type": "stream",
     "text": [
      "Valor máximo 29.196 km/h\n"
     ]
    }
   ],
   "source": [
    "max_value = new_df['Speed (km/h)'].max()\n",
    "print(f'Valor máximo {max_value} km/h')"
   ]
  },
  {
   "cell_type": "code",
   "execution_count": 36,
   "id": "59646720-8414-4026-a4ab-61ba631fd043",
   "metadata": {},
   "outputs": [],
   "source": [
    "column_name = 'Seconds from Start'\n",
    "new_df[column_name] = new_df[column_name].apply(lambda x: convert_comma_to_point(x))\n",
    "new_df[column_name] = new_df[column_name].apply(pd.to_numeric)"
   ]
  },
  {
   "cell_type": "code",
   "execution_count": 39,
   "id": "f946e852-0c8f-4efa-8aca-6f04d7b3a00f",
   "metadata": {},
   "outputs": [
    {
     "data": {
      "text/plain": [
       "0.09899999999970532"
      ]
     },
     "execution_count": 39,
     "metadata": {},
     "output_type": "execute_result"
    }
   ],
   "source": [
    "new_df['Seconds from Start'].diff().min()"
   ]
  },
  {
   "cell_type": "code",
   "execution_count": 40,
   "id": "00dd7fb6-f034-49fa-9739-de90e4242318",
   "metadata": {},
   "outputs": [
    {
     "data": {
      "text/plain": [
       "0.10100000000056752"
      ]
     },
     "execution_count": 40,
     "metadata": {},
     "output_type": "execute_result"
    }
   ],
   "source": [
    "new_df['Seconds from Start'].diff().max()"
   ]
  },
  {
   "cell_type": "code",
   "execution_count": 45,
   "id": "bc851c87-2cc5-4606-8c70-3d8feda689f3",
   "metadata": {},
   "outputs": [],
   "source": [
    "new_df['diff'] = new_df['Seconds from Start'].diff()"
   ]
  },
  {
   "cell_type": "code",
   "execution_count": 47,
   "id": "6253052a-7b0f-49b2-958e-3300ec626959",
   "metadata": {},
   "outputs": [
    {
     "data": {
      "text/plain": [
       "0.09899999999970532"
      ]
     },
     "execution_count": 47,
     "metadata": {},
     "output_type": "execute_result"
    }
   ],
   "source": [
    "new_df['diff'].min()"
   ]
  },
  {
   "cell_type": "code",
   "execution_count": 48,
   "id": "0f74c41f-3ea2-4728-911a-adbce151e510",
   "metadata": {},
   "outputs": [
    {
     "data": {
      "text/plain": [
       "0.10100000000056752"
      ]
     },
     "execution_count": 48,
     "metadata": {},
     "output_type": "execute_result"
    }
   ],
   "source": [
    "new_df['diff'].max()"
   ]
  },
  {
   "cell_type": "code",
   "execution_count": 49,
   "id": "6d60dfd0-195e-40e6-a3bd-0ac44fa9a639",
   "metadata": {},
   "outputs": [
    {
     "data": {
      "text/plain": [
       "0.10000000911485629"
      ]
     },
     "execution_count": 49,
     "metadata": {},
     "output_type": "execute_result"
    }
   ],
   "source": [
    "new_df['diff'].mean()"
   ]
  },
  {
   "cell_type": "code",
   "execution_count": 46,
   "id": "48fd403f-e76a-4489-a689-4e98fe8d9e17",
   "metadata": {},
   "outputs": [
    {
     "data": {
      "text/plain": [
       "<AxesSubplot:>"
      ]
     },
     "execution_count": 46,
     "metadata": {},
     "output_type": "execute_result"
    },
    {
     "data": {
      "image/png": "[encoded data removed]",
      "text/plain": [
       "<Figure size 432x288 with 1 Axes>"
      ]
     },
     "metadata": {
      "needs_background": "light"
     },
     "output_type": "display_data"
    }
   ],
   "source": [
    "new_df.boxplot('diff')"
   ]
  },
  {
   "cell_type": "markdown",
   "id": "080597a1-aa2c-4fc2-bec1-f21d8ac569d6",
   "metadata": {},
   "source": [
    "Representa la velocidad. Se recoge cada 0,1 segundos."
   ]
  },
  {
   "cell_type": "markdown",
   "id": "86eaf962-9464-401b-8163-d732ae025a11",
   "metadata": {},
   "source": [
    "### HR (bpm)"
   ]
  },
  {
   "cell_type": "code",
   "execution_count": 68,
   "id": "18782812-d97f-425c-bcb8-b3da0604c139",
   "metadata": {},
   "outputs": [
    {
     "data": {
      "text/plain": [
       "True"
      ]
     },
     "execution_count": 68,
     "metadata": {},
     "output_type": "execute_result"
    }
   ],
   "source": [
    "df['HR (bpm)'].isnull().any()"
   ]
  },
  {
   "cell_type": "markdown",
   "id": "a008e1ef-59e6-4a72-83e1-fda9b607343f",
   "metadata": {},
   "source": [
    "Existen valores nulos"
   ]
  },
  {
   "cell_type": "code",
   "execution_count": 69,
   "id": "2130ba02-7f65-4ea7-8007-5bc232269a57",
   "metadata": {},
   "outputs": [
    {
     "data": {
      "text/html": [
       "<div>\n",
       "<style scoped>\n",
       "    .dataframe tbody tr th:only-of-type {\n",
       "        vertical-align: middle;\n",
       "    }\n",
       "\n",
       "    .dataframe tbody tr th {\n",
       "        vertical-align: top;\n",
       "    }\n",
       "\n",
       "    .dataframe thead th {\n",
       "        text-align: right;\n",
       "    }\n",
       "</style>\n",
       "<table border=\"1\" class=\"dataframe\">\n",
       "  <thead>\n",
       "    <tr style=\"text-align: right;\">\n",
       "      <th></th>\n",
       "      <th>Seconds from Start</th>\n",
       "      <th>HR (bpm)</th>\n",
       "    </tr>\n",
       "  </thead>\n",
       "  <tbody>\n",
       "    <tr>\n",
       "      <th>13739</th>\n",
       "      <td>126,304</td>\n",
       "      <td>75.0</td>\n",
       "    </tr>\n",
       "    <tr>\n",
       "      <th>13795</th>\n",
       "      <td>126,804</td>\n",
       "      <td>75.0</td>\n",
       "    </tr>\n",
       "    <tr>\n",
       "      <th>13853</th>\n",
       "      <td>127,304</td>\n",
       "      <td>75.0</td>\n",
       "    </tr>\n",
       "    <tr>\n",
       "      <th>13908</th>\n",
       "      <td>127,804</td>\n",
       "      <td>75.0</td>\n",
       "    </tr>\n",
       "    <tr>\n",
       "      <th>13962</th>\n",
       "      <td>128,304</td>\n",
       "      <td>75.0</td>\n",
       "    </tr>\n",
       "  </tbody>\n",
       "</table>\n",
       "</div>"
      ],
      "text/plain": [
       "      Seconds from Start  HR (bpm)\n",
       "13739            126,304      75.0\n",
       "13795            126,804      75.0\n",
       "13853            127,304      75.0\n",
       "13908            127,804      75.0\n",
       "13962            128,304      75.0"
      ]
     },
     "execution_count": 69,
     "metadata": {},
     "output_type": "execute_result"
    }
   ],
   "source": [
    "new_df = df[df['HR (bpm)'].notnull()][['Seconds from Start','HR (bpm)']]\n",
    "new_df.head()"
   ]
  },
  {
   "cell_type": "code",
   "execution_count": 70,
   "id": "2e12b87e-63e0-4b57-8c63-691e866bdfb8",
   "metadata": {},
   "outputs": [],
   "source": [
    "column_name = 'HR (bpm)'"
   ]
  },
  {
   "cell_type": "code",
   "execution_count": 71,
   "id": "5c966e56-023f-4156-84c7-35359ded9dc9",
   "metadata": {},
   "outputs": [],
   "source": [
    "new_df[column_name] = new_df[column_name].apply(lambda x: convert_comma_to_point(x))\n",
    "new_df[column_name] = new_df[column_name].apply(pd.to_numeric)"
   ]
  },
  {
   "cell_type": "code",
   "execution_count": 72,
   "id": "e09523c9-3625-49de-b603-c0b0fdf21bb5",
   "metadata": {},
   "outputs": [
    {
     "name": "stdout",
     "output_type": "stream",
     "text": [
      "Valor mínimo 53.0 pulsaciones por minuto\n"
     ]
    }
   ],
   "source": [
    "min_value = new_df[column_name].min()\n",
    "print(f'Valor mínimo {min_value} pulsaciones por minuto')"
   ]
  },
  {
   "cell_type": "code",
   "execution_count": 73,
   "id": "14c529e7-9113-41d7-894a-afe7a69d07ac",
   "metadata": {},
   "outputs": [
    {
     "name": "stdout",
     "output_type": "stream",
     "text": [
      "Valor máximo 191.0 pulsaciones por minuto\n"
     ]
    }
   ],
   "source": [
    "max_value = new_df[column_name].max()\n",
    "print(f'Valor máximo {max_value} pulsaciones por minuto')"
   ]
  },
  {
   "cell_type": "code",
   "execution_count": 75,
   "id": "05600601-6dbb-4e8e-81b7-c3bcb2e43a1f",
   "metadata": {},
   "outputs": [],
   "source": [
    "column_name = 'Seconds from Start'\n",
    "new_df[column_name] = new_df[column_name].apply(lambda x: convert_comma_to_point(x))\n",
    "new_df[column_name] = new_df[column_name].apply(pd.to_numeric)"
   ]
  },
  {
   "cell_type": "code",
   "execution_count": 76,
   "id": "60b8d9d8-ee3c-488d-a172-1df23a2620ae",
   "metadata": {},
   "outputs": [],
   "source": [
    "new_df['diff'] = new_df['Seconds from Start'].diff()"
   ]
  },
  {
   "cell_type": "code",
   "execution_count": 79,
   "id": "dcfc85ef-fd90-4197-b0b3-936d132dd193",
   "metadata": {},
   "outputs": [
    {
     "data": {
      "text/plain": [
       "0.5"
      ]
     },
     "execution_count": 79,
     "metadata": {},
     "output_type": "execute_result"
    }
   ],
   "source": [
    "new_df['diff'].median()"
   ]
  },
  {
   "cell_type": "markdown",
   "id": "2f940009-8bee-49c5-ab35-c37dd2e5aeac",
   "metadata": {},
   "source": [
    "Representa el ritmo cardíaco. Se captura cada 0,5 segundos."
   ]
  },
  {
   "cell_type": "markdown",
   "id": "084fa4c2-402f-4eb3-8f43-85e09157400b",
   "metadata": {},
   "source": [
    "### Core Temperature ºC"
   ]
  },
  {
   "cell_type": "code",
   "execution_count": 83,
   "id": "a1e41a0d-2815-4216-8081-b8422e89daa1",
   "metadata": {},
   "outputs": [],
   "source": [
    "column_name = 'Core Temperature °C'"
   ]
  },
  {
   "cell_type": "code",
   "execution_count": 84,
   "id": "6059c34e-c4fe-40ca-a586-a811069af8dd",
   "metadata": {},
   "outputs": [
    {
     "data": {
      "text/plain": [
       "True"
      ]
     },
     "execution_count": 84,
     "metadata": {},
     "output_type": "execute_result"
    }
   ],
   "source": [
    "df[column_name].isnull().any()"
   ]
  },
  {
   "cell_type": "markdown",
   "id": "e7c50499-5ff6-46bc-a001-188ae32049ba",
   "metadata": {},
   "source": [
    "Hay valores nulos"
   ]
  },
  {
   "cell_type": "code",
   "execution_count": 85,
   "id": "7c58ddfa-712b-4663-9c42-cf2b496927cc",
   "metadata": {},
   "outputs": [
    {
     "data": {
      "text/html": [
       "<div>\n",
       "<style scoped>\n",
       "    .dataframe tbody tr th:only-of-type {\n",
       "        vertical-align: middle;\n",
       "    }\n",
       "\n",
       "    .dataframe tbody tr th {\n",
       "        vertical-align: top;\n",
       "    }\n",
       "\n",
       "    .dataframe thead th {\n",
       "        text-align: right;\n",
       "    }\n",
       "</style>\n",
       "<table border=\"1\" class=\"dataframe\">\n",
       "  <thead>\n",
       "    <tr style=\"text-align: right;\">\n",
       "      <th></th>\n",
       "      <th>Seconds from Start</th>\n",
       "      <th>Core Temperature °C</th>\n",
       "    </tr>\n",
       "  </thead>\n",
       "  <tbody>\n",
       "    <tr>\n",
       "      <th>13356</th>\n",
       "      <td>122.906</td>\n",
       "      <td>36,9</td>\n",
       "    </tr>\n",
       "    <tr>\n",
       "      <th>13357</th>\n",
       "      <td>122.908</td>\n",
       "      <td>0</td>\n",
       "    </tr>\n",
       "    <tr>\n",
       "      <th>20232</th>\n",
       "      <td>184.300</td>\n",
       "      <td>36,9</td>\n",
       "    </tr>\n",
       "    <tr>\n",
       "      <th>27053</th>\n",
       "      <td>245.468</td>\n",
       "      <td>36,9</td>\n",
       "    </tr>\n",
       "    <tr>\n",
       "      <th>33913</th>\n",
       "      <td>307.286</td>\n",
       "      <td>36,9</td>\n",
       "    </tr>\n",
       "  </tbody>\n",
       "</table>\n",
       "</div>"
      ],
      "text/plain": [
       "       Seconds from Start Core Temperature °C\n",
       "13356             122.906                36,9\n",
       "13357             122.908                   0\n",
       "20232             184.300                36,9\n",
       "27053             245.468                36,9\n",
       "33913             307.286                36,9"
      ]
     },
     "execution_count": 85,
     "metadata": {},
     "output_type": "execute_result"
    }
   ],
   "source": [
    "new_df = df[df[column_name].notnull()][['Seconds from Start',column_name]]\n",
    "new_df.head()"
   ]
  },
  {
   "cell_type": "code",
   "execution_count": 87,
   "id": "74dce5ca-963d-4db3-9b3e-59fc5a0aa508",
   "metadata": {},
   "outputs": [],
   "source": [
    "new_df[column_name] = new_df[column_name].apply(lambda x: convert_comma_to_point(x))\n",
    "new_df[column_name] = new_df[column_name].apply(pd.to_numeric)"
   ]
  },
  {
   "cell_type": "code",
   "execution_count": 88,
   "id": "22e5a7a0-9180-41ce-be99-b551b30661a1",
   "metadata": {},
   "outputs": [
    {
     "data": {
      "text/html": [
       "<div>\n",
       "<style scoped>\n",
       "    .dataframe tbody tr th:only-of-type {\n",
       "        vertical-align: middle;\n",
       "    }\n",
       "\n",
       "    .dataframe tbody tr th {\n",
       "        vertical-align: top;\n",
       "    }\n",
       "\n",
       "    .dataframe thead th {\n",
       "        text-align: right;\n",
       "    }\n",
       "</style>\n",
       "<table border=\"1\" class=\"dataframe\">\n",
       "  <thead>\n",
       "    <tr style=\"text-align: right;\">\n",
       "      <th></th>\n",
       "      <th>Seconds from Start</th>\n",
       "      <th>Core Temperature °C</th>\n",
       "    </tr>\n",
       "  </thead>\n",
       "  <tbody>\n",
       "    <tr>\n",
       "      <th>count</th>\n",
       "      <td>178.000000</td>\n",
       "      <td>178.000000</td>\n",
       "    </tr>\n",
       "    <tr>\n",
       "      <th>mean</th>\n",
       "      <td>5499.099365</td>\n",
       "      <td>37.673034</td>\n",
       "    </tr>\n",
       "    <tr>\n",
       "      <th>std</th>\n",
       "      <td>3165.305585</td>\n",
       "      <td>2.883570</td>\n",
       "    </tr>\n",
       "    <tr>\n",
       "      <th>min</th>\n",
       "      <td>122.906000</td>\n",
       "      <td>0.000000</td>\n",
       "    </tr>\n",
       "    <tr>\n",
       "      <th>25%</th>\n",
       "      <td>2780.026250</td>\n",
       "      <td>37.600000</td>\n",
       "    </tr>\n",
       "    <tr>\n",
       "      <th>50%</th>\n",
       "      <td>5498.769000</td>\n",
       "      <td>38.100000</td>\n",
       "    </tr>\n",
       "    <tr>\n",
       "      <th>75%</th>\n",
       "      <td>8217.514500</td>\n",
       "      <td>38.300000</td>\n",
       "    </tr>\n",
       "    <tr>\n",
       "      <th>max</th>\n",
       "      <td>10936.149000</td>\n",
       "      <td>38.500000</td>\n",
       "    </tr>\n",
       "  </tbody>\n",
       "</table>\n",
       "</div>"
      ],
      "text/plain": [
       "       Seconds from Start  Core Temperature °C\n",
       "count          178.000000           178.000000\n",
       "mean          5499.099365            37.673034\n",
       "std           3165.305585             2.883570\n",
       "min            122.906000             0.000000\n",
       "25%           2780.026250            37.600000\n",
       "50%           5498.769000            38.100000\n",
       "75%           8217.514500            38.300000\n",
       "max          10936.149000            38.500000"
      ]
     },
     "execution_count": 88,
     "metadata": {},
     "output_type": "execute_result"
    }
   ],
   "source": [
    "new_df.describe()"
   ]
  },
  {
   "cell_type": "code",
   "execution_count": 89,
   "id": "731f1633-7f60-4887-87b4-b0a4f7dae3e7",
   "metadata": {},
   "outputs": [],
   "source": [
    "new_df['diff'] = new_df['Seconds from Start'].diff()"
   ]
  },
  {
   "cell_type": "code",
   "execution_count": 91,
   "id": "511925f9-a193-4c18-b496-41df709971ba",
   "metadata": {},
   "outputs": [
    {
     "data": {
      "text/plain": [
       "61.09176836158191"
      ]
     },
     "execution_count": 91,
     "metadata": {},
     "output_type": "execute_result"
    }
   ],
   "source": [
    "new_df['diff'].mean()"
   ]
  },
  {
   "cell_type": "markdown",
   "id": "5b698d37-3f86-4695-af5f-8d89473f152c",
   "metadata": {},
   "source": [
    "Representa la temperatura estimada del atleta. Se recoge la información cada minuto"
   ]
  },
  {
   "cell_type": "markdown",
   "id": "98981eb9-5450-4c6e-8290-6925fb6a6a6b",
   "metadata": {
    "tags": []
   },
   "source": [
    "### X accelerometer (Sideways)"
   ]
  },
  {
   "cell_type": "code",
   "execution_count": 92,
   "id": "96497e5b-3916-4295-a0b7-4d1fbb583d58",
   "metadata": {},
   "outputs": [],
   "source": [
    "column_name = 'X accelerometer (Sideways)'"
   ]
  },
  {
   "cell_type": "code",
   "execution_count": 93,
   "id": "b4eb2390-f59d-4307-89ee-d4602b59d3cc",
   "metadata": {},
   "outputs": [
    {
     "data": {
      "text/plain": [
       "True"
      ]
     },
     "execution_count": 93,
     "metadata": {},
     "output_type": "execute_result"
    }
   ],
   "source": [
    "df[column_name].isnull().any()"
   ]
  },
  {
   "cell_type": "code",
   "execution_count": 94,
   "id": "5f2b6666-4a91-4e22-9061-078b0596cd2d",
   "metadata": {},
   "outputs": [
    {
     "data": {
      "text/html": [
       "<div>\n",
       "<style scoped>\n",
       "    .dataframe tbody tr th:only-of-type {\n",
       "        vertical-align: middle;\n",
       "    }\n",
       "\n",
       "    .dataframe tbody tr th {\n",
       "        vertical-align: top;\n",
       "    }\n",
       "\n",
       "    .dataframe thead th {\n",
       "        text-align: right;\n",
       "    }\n",
       "</style>\n",
       "<table border=\"1\" class=\"dataframe\">\n",
       "  <thead>\n",
       "    <tr style=\"text-align: right;\">\n",
       "      <th></th>\n",
       "      <th>Seconds from Start</th>\n",
       "      <th>X accelerometer (Sideways)</th>\n",
       "    </tr>\n",
       "  </thead>\n",
       "  <tbody>\n",
       "    <tr>\n",
       "      <th>1</th>\n",
       "      <td>1.101</td>\n",
       "      <td>-11,3313</td>\n",
       "    </tr>\n",
       "    <tr>\n",
       "      <th>3</th>\n",
       "      <td>1.110</td>\n",
       "      <td>-14,0875</td>\n",
       "    </tr>\n",
       "    <tr>\n",
       "      <th>4</th>\n",
       "      <td>1.120</td>\n",
       "      <td>-12,0969</td>\n",
       "    </tr>\n",
       "    <tr>\n",
       "      <th>5</th>\n",
       "      <td>1.130</td>\n",
       "      <td>-10,5656</td>\n",
       "    </tr>\n",
       "    <tr>\n",
       "      <th>6</th>\n",
       "      <td>1.140</td>\n",
       "      <td>-7,6562</td>\n",
       "    </tr>\n",
       "  </tbody>\n",
       "</table>\n",
       "</div>"
      ],
      "text/plain": [
       "   Seconds from Start X accelerometer (Sideways)\n",
       "1               1.101                   -11,3313\n",
       "3               1.110                   -14,0875\n",
       "4               1.120                   -12,0969\n",
       "5               1.130                   -10,5656\n",
       "6               1.140                    -7,6562"
      ]
     },
     "execution_count": 94,
     "metadata": {},
     "output_type": "execute_result"
    }
   ],
   "source": [
    "new_df = df[df[column_name].notnull()][['Seconds from Start',column_name]]\n",
    "new_df.head()"
   ]
  },
  {
   "cell_type": "code",
   "execution_count": 95,
   "id": "9e97613c-a7b7-43a0-9bd3-bc1577eaf5aa",
   "metadata": {},
   "outputs": [],
   "source": [
    "new_df[column_name] = new_df[column_name].apply(lambda x: convert_comma_to_point(x))\n",
    "new_df[column_name] = new_df[column_name].apply(pd.to_numeric)"
   ]
  },
  {
   "cell_type": "code",
   "execution_count": 96,
   "id": "5562aa0d-2b4c-432e-9a45-146eeb7f266d",
   "metadata": {},
   "outputs": [
    {
     "data": {
      "text/html": [
       "<div>\n",
       "<style scoped>\n",
       "    .dataframe tbody tr th:only-of-type {\n",
       "        vertical-align: middle;\n",
       "    }\n",
       "\n",
       "    .dataframe tbody tr th {\n",
       "        vertical-align: top;\n",
       "    }\n",
       "\n",
       "    .dataframe thead th {\n",
       "        text-align: right;\n",
       "    }\n",
       "</style>\n",
       "<table border=\"1\" class=\"dataframe\">\n",
       "  <thead>\n",
       "    <tr style=\"text-align: right;\">\n",
       "      <th></th>\n",
       "      <th>Seconds from Start</th>\n",
       "      <th>X accelerometer (Sideways)</th>\n",
       "    </tr>\n",
       "  </thead>\n",
       "  <tbody>\n",
       "    <tr>\n",
       "      <th>count</th>\n",
       "      <td>1.087287e+06</td>\n",
       "      <td>1.087287e+06</td>\n",
       "    </tr>\n",
       "    <tr>\n",
       "      <th>mean</th>\n",
       "      <td>5.486689e+03</td>\n",
       "      <td>-2.799510e-01</td>\n",
       "    </tr>\n",
       "    <tr>\n",
       "      <th>std</th>\n",
       "      <td>3.167034e+03</td>\n",
       "      <td>2.994083e+00</td>\n",
       "    </tr>\n",
       "    <tr>\n",
       "      <th>min</th>\n",
       "      <td>1.101000e+00</td>\n",
       "      <td>-7.840000e+01</td>\n",
       "    </tr>\n",
       "    <tr>\n",
       "      <th>25%</th>\n",
       "      <td>2.743921e+03</td>\n",
       "      <td>-1.531200e+00</td>\n",
       "    </tr>\n",
       "    <tr>\n",
       "      <th>50%</th>\n",
       "      <td>5.486595e+03</td>\n",
       "      <td>-3.063000e-01</td>\n",
       "    </tr>\n",
       "    <tr>\n",
       "      <th>75%</th>\n",
       "      <td>8.229496e+03</td>\n",
       "      <td>9.188000e-01</td>\n",
       "    </tr>\n",
       "    <tr>\n",
       "      <th>max</th>\n",
       "      <td>1.097224e+04</td>\n",
       "      <td>7.824690e+01</td>\n",
       "    </tr>\n",
       "  </tbody>\n",
       "</table>\n",
       "</div>"
      ],
      "text/plain": [
       "       Seconds from Start  X accelerometer (Sideways)\n",
       "count        1.087287e+06                1.087287e+06\n",
       "mean         5.486689e+03               -2.799510e-01\n",
       "std          3.167034e+03                2.994083e+00\n",
       "min          1.101000e+00               -7.840000e+01\n",
       "25%          2.743921e+03               -1.531200e+00\n",
       "50%          5.486595e+03               -3.063000e-01\n",
       "75%          8.229496e+03                9.188000e-01\n",
       "max          1.097224e+04                7.824690e+01"
      ]
     },
     "execution_count": 96,
     "metadata": {},
     "output_type": "execute_result"
    }
   ],
   "source": [
    "new_df.describe()"
   ]
  },
  {
   "cell_type": "code",
   "execution_count": 97,
   "id": "ce9606e8-fafa-4d58-a260-3c511091b247",
   "metadata": {},
   "outputs": [],
   "source": [
    "new_df['diff'] = new_df['Seconds from Start'].diff()"
   ]
  },
  {
   "cell_type": "code",
   "execution_count": 98,
   "id": "1233bfe6-ca8c-4800-87a4-b62b2cea200d",
   "metadata": {},
   "outputs": [
    {
     "data": {
      "text/plain": [
       "0.010090388361479867"
      ]
     },
     "execution_count": 98,
     "metadata": {},
     "output_type": "execute_result"
    }
   ],
   "source": [
    "new_df['diff'].mean()"
   ]
  },
  {
   "cell_type": "markdown",
   "id": "dc330823-bee9-4d7b-ac38-1f00edbe07b9",
   "metadata": {},
   "source": [
    "Número decimal que representa el movimiento de los ejes de izquierda y derecha. Se recoge la información cada 0,01 segundos."
   ]
  },
  {
   "cell_type": "markdown",
   "id": "18645b17-6bb6-44f9-ad5d-a94ef23403eb",
   "metadata": {
    "tags": []
   },
   "source": [
    "### Y accelerometer (Forward)"
   ]
  },
  {
   "cell_type": "code",
   "execution_count": 100,
   "id": "a9d915f0-5c1a-4015-ba5d-d2d63acfe56f",
   "metadata": {},
   "outputs": [],
   "source": [
    "column_name = 'Y accelerometer (Forward)'"
   ]
  },
  {
   "cell_type": "code",
   "execution_count": 101,
   "id": "b83ae136-3315-49d4-9e9d-15a792fed68f",
   "metadata": {},
   "outputs": [
    {
     "data": {
      "text/plain": [
       "True"
      ]
     },
     "execution_count": 101,
     "metadata": {},
     "output_type": "execute_result"
    }
   ],
   "source": [
    "df[column_name].isnull().any()"
   ]
  },
  {
   "cell_type": "code",
   "execution_count": 102,
   "id": "b0a0feeb-c4b2-48db-932e-47aa1b4264b4",
   "metadata": {},
   "outputs": [
    {
     "data": {
      "text/html": [
       "<div>\n",
       "<style scoped>\n",
       "    .dataframe tbody tr th:only-of-type {\n",
       "        vertical-align: middle;\n",
       "    }\n",
       "\n",
       "    .dataframe tbody tr th {\n",
       "        vertical-align: top;\n",
       "    }\n",
       "\n",
       "    .dataframe thead th {\n",
       "        text-align: right;\n",
       "    }\n",
       "</style>\n",
       "<table border=\"1\" class=\"dataframe\">\n",
       "  <thead>\n",
       "    <tr style=\"text-align: right;\">\n",
       "      <th></th>\n",
       "      <th>Seconds from Start</th>\n",
       "      <th>Y accelerometer (Forward)</th>\n",
       "    </tr>\n",
       "  </thead>\n",
       "  <tbody>\n",
       "    <tr>\n",
       "      <th>1</th>\n",
       "      <td>1.101</td>\n",
       "      <td>-3,5219</td>\n",
       "    </tr>\n",
       "    <tr>\n",
       "      <th>3</th>\n",
       "      <td>1.110</td>\n",
       "      <td>-1,5312</td>\n",
       "    </tr>\n",
       "    <tr>\n",
       "      <th>4</th>\n",
       "      <td>1.120</td>\n",
       "      <td>-0,7656</td>\n",
       "    </tr>\n",
       "    <tr>\n",
       "      <th>5</th>\n",
       "      <td>1.130</td>\n",
       "      <td>-1,9906</td>\n",
       "    </tr>\n",
       "    <tr>\n",
       "      <th>6</th>\n",
       "      <td>1.140</td>\n",
       "      <td>-1,6844</td>\n",
       "    </tr>\n",
       "  </tbody>\n",
       "</table>\n",
       "</div>"
      ],
      "text/plain": [
       "   Seconds from Start Y accelerometer (Forward)\n",
       "1               1.101                   -3,5219\n",
       "3               1.110                   -1,5312\n",
       "4               1.120                   -0,7656\n",
       "5               1.130                   -1,9906\n",
       "6               1.140                   -1,6844"
      ]
     },
     "execution_count": 102,
     "metadata": {},
     "output_type": "execute_result"
    }
   ],
   "source": [
    "new_df = df[df[column_name].notnull()][['Seconds from Start',column_name]]\n",
    "new_df.head()"
   ]
  },
  {
   "cell_type": "code",
   "execution_count": 103,
   "id": "cbfe403c-85ae-4d2d-9168-c5a2659f6982",
   "metadata": {},
   "outputs": [],
   "source": [
    "new_df[column_name] = new_df[column_name].apply(lambda x: convert_comma_to_point(x))\n",
    "new_df[column_name] = new_df[column_name].apply(pd.to_numeric)"
   ]
  },
  {
   "cell_type": "code",
   "execution_count": 104,
   "id": "31e516f7-683b-40d5-8c08-86846a6a7c9b",
   "metadata": {},
   "outputs": [
    {
     "data": {
      "text/html": [
       "<div>\n",
       "<style scoped>\n",
       "    .dataframe tbody tr th:only-of-type {\n",
       "        vertical-align: middle;\n",
       "    }\n",
       "\n",
       "    .dataframe tbody tr th {\n",
       "        vertical-align: top;\n",
       "    }\n",
       "\n",
       "    .dataframe thead th {\n",
       "        text-align: right;\n",
       "    }\n",
       "</style>\n",
       "<table border=\"1\" class=\"dataframe\">\n",
       "  <thead>\n",
       "    <tr style=\"text-align: right;\">\n",
       "      <th></th>\n",
       "      <th>Seconds from Start</th>\n",
       "      <th>Y accelerometer (Forward)</th>\n",
       "    </tr>\n",
       "  </thead>\n",
       "  <tbody>\n",
       "    <tr>\n",
       "      <th>count</th>\n",
       "      <td>1.087287e+06</td>\n",
       "      <td>1.087287e+06</td>\n",
       "    </tr>\n",
       "    <tr>\n",
       "      <th>mean</th>\n",
       "      <td>5.486689e+03</td>\n",
       "      <td>-4.042446e+00</td>\n",
       "    </tr>\n",
       "    <tr>\n",
       "      <th>std</th>\n",
       "      <td>3.167034e+03</td>\n",
       "      <td>3.658353e+00</td>\n",
       "    </tr>\n",
       "    <tr>\n",
       "      <th>min</th>\n",
       "      <td>1.101000e+00</td>\n",
       "      <td>-7.840000e+01</td>\n",
       "    </tr>\n",
       "    <tr>\n",
       "      <th>25%</th>\n",
       "      <td>2.743921e+03</td>\n",
       "      <td>-6.278100e+00</td>\n",
       "    </tr>\n",
       "    <tr>\n",
       "      <th>50%</th>\n",
       "      <td>5.486595e+03</td>\n",
       "      <td>-3.215600e+00</td>\n",
       "    </tr>\n",
       "    <tr>\n",
       "      <th>75%</th>\n",
       "      <td>8.229496e+03</td>\n",
       "      <td>-1.990600e+00</td>\n",
       "    </tr>\n",
       "    <tr>\n",
       "      <th>max</th>\n",
       "      <td>1.097224e+04</td>\n",
       "      <td>7.824690e+01</td>\n",
       "    </tr>\n",
       "  </tbody>\n",
       "</table>\n",
       "</div>"
      ],
      "text/plain": [
       "       Seconds from Start  Y accelerometer (Forward)\n",
       "count        1.087287e+06               1.087287e+06\n",
       "mean         5.486689e+03              -4.042446e+00\n",
       "std          3.167034e+03               3.658353e+00\n",
       "min          1.101000e+00              -7.840000e+01\n",
       "25%          2.743921e+03              -6.278100e+00\n",
       "50%          5.486595e+03              -3.215600e+00\n",
       "75%          8.229496e+03              -1.990600e+00\n",
       "max          1.097224e+04               7.824690e+01"
      ]
     },
     "execution_count": 104,
     "metadata": {},
     "output_type": "execute_result"
    }
   ],
   "source": [
    "new_df.describe()"
   ]
  },
  {
   "cell_type": "code",
   "execution_count": 105,
   "id": "a077150d-327c-4c04-b701-c1d6fc4aec8c",
   "metadata": {},
   "outputs": [],
   "source": [
    "new_df['diff'] = new_df['Seconds from Start'].diff()"
   ]
  },
  {
   "cell_type": "code",
   "execution_count": 106,
   "id": "65f2efe9-a3e9-457b-ba83-e543added973",
   "metadata": {},
   "outputs": [
    {
     "data": {
      "text/plain": [
       "0.010090388361479867"
      ]
     },
     "execution_count": 106,
     "metadata": {},
     "output_type": "execute_result"
    }
   ],
   "source": [
    "new_df['diff'].mean()"
   ]
  },
  {
   "cell_type": "markdown",
   "id": "73525224-6774-4111-9c81-30f06bc682f0",
   "metadata": {},
   "source": [
    "Número decimal que representa el movimiento de los ejes de hacia adelante y hacia atrás. Se recoge la información cada 0,01 segundos."
   ]
  },
  {
   "cell_type": "markdown",
   "id": "d30d8548-90fd-4613-b9f0-e56612a2ad6a",
   "metadata": {},
   "source": [
    "### Z accelerometer (Vertical)"
   ]
  },
  {
   "cell_type": "code",
   "execution_count": 109,
   "id": "a7439406-64a9-4fb1-bfe2-c1a66a6d5d3e",
   "metadata": {},
   "outputs": [],
   "source": [
    "column_name = 'Z accelerometer (Vertical)'"
   ]
  },
  {
   "cell_type": "code",
   "execution_count": 110,
   "id": "ca1f12b6-abe1-464c-bb9f-4a0c642709f5",
   "metadata": {},
   "outputs": [
    {
     "data": {
      "text/plain": [
       "True"
      ]
     },
     "execution_count": 110,
     "metadata": {},
     "output_type": "execute_result"
    }
   ],
   "source": [
    "df[column_name].isnull().any()"
   ]
  },
  {
   "cell_type": "code",
   "execution_count": 111,
   "id": "0fc206a1-9267-4987-a70d-cd4434f18e66",
   "metadata": {},
   "outputs": [
    {
     "data": {
      "text/html": [
       "<div>\n",
       "<style scoped>\n",
       "    .dataframe tbody tr th:only-of-type {\n",
       "        vertical-align: middle;\n",
       "    }\n",
       "\n",
       "    .dataframe tbody tr th {\n",
       "        vertical-align: top;\n",
       "    }\n",
       "\n",
       "    .dataframe thead th {\n",
       "        text-align: right;\n",
       "    }\n",
       "</style>\n",
       "<table border=\"1\" class=\"dataframe\">\n",
       "  <thead>\n",
       "    <tr style=\"text-align: right;\">\n",
       "      <th></th>\n",
       "      <th>Seconds from Start</th>\n",
       "      <th>Z accelerometer (Vertical)</th>\n",
       "    </tr>\n",
       "  </thead>\n",
       "  <tbody>\n",
       "    <tr>\n",
       "      <th>1</th>\n",
       "      <td>1.101</td>\n",
       "      <td>-23,8975</td>\n",
       "    </tr>\n",
       "    <tr>\n",
       "      <th>3</th>\n",
       "      <td>1.110</td>\n",
       "      <td>-24,6631</td>\n",
       "    </tr>\n",
       "    <tr>\n",
       "      <th>4</th>\n",
       "      <td>1.120</td>\n",
       "      <td>-25,5819</td>\n",
       "    </tr>\n",
       "    <tr>\n",
       "      <th>5</th>\n",
       "      <td>1.130</td>\n",
       "      <td>-22,2131</td>\n",
       "    </tr>\n",
       "    <tr>\n",
       "      <th>6</th>\n",
       "      <td>1.140</td>\n",
       "      <td>-18,5381</td>\n",
       "    </tr>\n",
       "  </tbody>\n",
       "</table>\n",
       "</div>"
      ],
      "text/plain": [
       "   Seconds from Start Z accelerometer (Vertical)\n",
       "1               1.101                   -23,8975\n",
       "3               1.110                   -24,6631\n",
       "4               1.120                   -25,5819\n",
       "5               1.130                   -22,2131\n",
       "6               1.140                   -18,5381"
      ]
     },
     "execution_count": 111,
     "metadata": {},
     "output_type": "execute_result"
    }
   ],
   "source": [
    "new_df = df[df[column_name].notnull()][['Seconds from Start',column_name]]\n",
    "new_df.head()"
   ]
  },
  {
   "cell_type": "code",
   "execution_count": 112,
   "id": "7a1000e9-9d27-466f-8986-227c552e8d7a",
   "metadata": {},
   "outputs": [],
   "source": [
    "new_df[column_name] = new_df[column_name].apply(lambda x: convert_comma_to_point(x))\n",
    "new_df[column_name] = new_df[column_name].apply(pd.to_numeric)"
   ]
  },
  {
   "cell_type": "code",
   "execution_count": 113,
   "id": "c8822ebd-9692-4202-b248-23e324d24ea8",
   "metadata": {},
   "outputs": [
    {
     "data": {
      "text/html": [
       "<div>\n",
       "<style scoped>\n",
       "    .dataframe tbody tr th:only-of-type {\n",
       "        vertical-align: middle;\n",
       "    }\n",
       "\n",
       "    .dataframe tbody tr th {\n",
       "        vertical-align: top;\n",
       "    }\n",
       "\n",
       "    .dataframe thead th {\n",
       "        text-align: right;\n",
       "    }\n",
       "</style>\n",
       "<table border=\"1\" class=\"dataframe\">\n",
       "  <thead>\n",
       "    <tr style=\"text-align: right;\">\n",
       "      <th></th>\n",
       "      <th>Seconds from Start</th>\n",
       "      <th>Z accelerometer (Vertical)</th>\n",
       "    </tr>\n",
       "  </thead>\n",
       "  <tbody>\n",
       "    <tr>\n",
       "      <th>count</th>\n",
       "      <td>1.087287e+06</td>\n",
       "      <td>1.087287e+06</td>\n",
       "    </tr>\n",
       "    <tr>\n",
       "      <th>mean</th>\n",
       "      <td>5.486689e+03</td>\n",
       "      <td>-2.159005e+00</td>\n",
       "    </tr>\n",
       "    <tr>\n",
       "      <th>std</th>\n",
       "      <td>3.167034e+03</td>\n",
       "      <td>5.084685e+00</td>\n",
       "    </tr>\n",
       "    <tr>\n",
       "      <th>min</th>\n",
       "      <td>1.101000e+00</td>\n",
       "      <td>-8.591310e+01</td>\n",
       "    </tr>\n",
       "    <tr>\n",
       "      <th>25%</th>\n",
       "      <td>2.743921e+03</td>\n",
       "      <td>-3.838100e+00</td>\n",
       "    </tr>\n",
       "    <tr>\n",
       "      <th>50%</th>\n",
       "      <td>5.486595e+03</td>\n",
       "      <td>-1.235001e+00</td>\n",
       "    </tr>\n",
       "    <tr>\n",
       "      <th>75%</th>\n",
       "      <td>8.229496e+03</td>\n",
       "      <td>-3.162003e-01</td>\n",
       "    </tr>\n",
       "    <tr>\n",
       "      <th>max</th>\n",
       "      <td>1.097224e+04</td>\n",
       "      <td>6.843690e+01</td>\n",
       "    </tr>\n",
       "  </tbody>\n",
       "</table>\n",
       "</div>"
      ],
      "text/plain": [
       "       Seconds from Start  Z accelerometer (Vertical)\n",
       "count        1.087287e+06                1.087287e+06\n",
       "mean         5.486689e+03               -2.159005e+00\n",
       "std          3.167034e+03                5.084685e+00\n",
       "min          1.101000e+00               -8.591310e+01\n",
       "25%          2.743921e+03               -3.838100e+00\n",
       "50%          5.486595e+03               -1.235001e+00\n",
       "75%          8.229496e+03               -3.162003e-01\n",
       "max          1.097224e+04                6.843690e+01"
      ]
     },
     "execution_count": 113,
     "metadata": {},
     "output_type": "execute_result"
    }
   ],
   "source": [
    "new_df.describe()"
   ]
  },
  {
   "cell_type": "code",
   "execution_count": 114,
   "id": "47672b34-4e94-4571-afd5-60473351056d",
   "metadata": {},
   "outputs": [],
   "source": [
    "new_df['diff'] = new_df['Seconds from Start'].diff()"
   ]
  },
  {
   "cell_type": "code",
   "execution_count": 115,
   "id": "1fc6eb49-ed3a-4079-aa70-a29863dc19e0",
   "metadata": {},
   "outputs": [
    {
     "data": {
      "text/plain": [
       "0.010090388361479867"
      ]
     },
     "execution_count": 115,
     "metadata": {},
     "output_type": "execute_result"
    }
   ],
   "source": [
    "new_df['diff'].mean()"
   ]
  },
  {
   "cell_type": "markdown",
   "id": "8d8918a6-e354-4b9a-8525-956c4a88137d",
   "metadata": {},
   "source": [
    "Número decimal que representa el movimiento de los ejes verticales, de salto. Se recoge la información cada 0,01 segundos."
   ]
  },
  {
   "cell_type": "markdown",
   "id": "5b4d3dc3-64f9-41a5-bfbf-1578c89ccdfb",
   "metadata": {},
   "source": [
    "### Raw RR (ms)"
   ]
  },
  {
   "cell_type": "code",
   "execution_count": 116,
   "id": "d79c7573-0ca0-4f35-979e-66943dd8130c",
   "metadata": {},
   "outputs": [],
   "source": [
    "column_name = 'Raw RR (ms)'"
   ]
  },
  {
   "cell_type": "code",
   "execution_count": 117,
   "id": "57c1c6ae-a2ca-4fcc-b3bc-3ea232921d35",
   "metadata": {},
   "outputs": [
    {
     "data": {
      "text/plain": [
       "True"
      ]
     },
     "execution_count": 117,
     "metadata": {},
     "output_type": "execute_result"
    }
   ],
   "source": [
    "df[column_name].isnull().any()"
   ]
  },
  {
   "cell_type": "code",
   "execution_count": 118,
   "id": "b59c7d54-94cc-4edd-8987-5a5422edfdca",
   "metadata": {},
   "outputs": [
    {
     "data": {
      "text/html": [
       "<div>\n",
       "<style scoped>\n",
       "    .dataframe tbody tr th:only-of-type {\n",
       "        vertical-align: middle;\n",
       "    }\n",
       "\n",
       "    .dataframe tbody tr th {\n",
       "        vertical-align: top;\n",
       "    }\n",
       "\n",
       "    .dataframe thead th {\n",
       "        text-align: right;\n",
       "    }\n",
       "</style>\n",
       "<table border=\"1\" class=\"dataframe\">\n",
       "  <thead>\n",
       "    <tr style=\"text-align: right;\">\n",
       "      <th></th>\n",
       "      <th>Seconds from Start</th>\n",
       "      <th>Raw RR (ms)</th>\n",
       "    </tr>\n",
       "  </thead>\n",
       "  <tbody>\n",
       "    <tr>\n",
       "      <th>12524</th>\n",
       "      <td>115.486</td>\n",
       "      <td>799.0</td>\n",
       "    </tr>\n",
       "    <tr>\n",
       "      <th>12608</th>\n",
       "      <td>116.285</td>\n",
       "      <td>927.0</td>\n",
       "    </tr>\n",
       "    <tr>\n",
       "      <th>12712</th>\n",
       "      <td>117.212</td>\n",
       "      <td>323.0</td>\n",
       "    </tr>\n",
       "    <tr>\n",
       "      <th>12748</th>\n",
       "      <td>117.535</td>\n",
       "      <td>676.0</td>\n",
       "    </tr>\n",
       "    <tr>\n",
       "      <th>12826</th>\n",
       "      <td>118.211</td>\n",
       "      <td>443.0</td>\n",
       "    </tr>\n",
       "  </tbody>\n",
       "</table>\n",
       "</div>"
      ],
      "text/plain": [
       "       Seconds from Start  Raw RR (ms)\n",
       "12524             115.486        799.0\n",
       "12608             116.285        927.0\n",
       "12712             117.212        323.0\n",
       "12748             117.535        676.0\n",
       "12826             118.211        443.0"
      ]
     },
     "execution_count": 118,
     "metadata": {},
     "output_type": "execute_result"
    }
   ],
   "source": [
    "new_df = df[df[column_name].notnull()][['Seconds from Start',column_name]]\n",
    "new_df.head()"
   ]
  },
  {
   "cell_type": "code",
   "execution_count": 119,
   "id": "f1e1c1c0-19fb-476d-b4a9-5daca0ab1deb",
   "metadata": {},
   "outputs": [],
   "source": [
    "new_df[column_name] = new_df[column_name].apply(lambda x: convert_comma_to_point(x))\n",
    "new_df[column_name] = new_df[column_name].apply(pd.to_numeric)"
   ]
  },
  {
   "cell_type": "code",
   "execution_count": 120,
   "id": "6e8afa0e-ad78-4ec1-8f01-2a36336ceee5",
   "metadata": {},
   "outputs": [
    {
     "data": {
      "text/html": [
       "<div>\n",
       "<style scoped>\n",
       "    .dataframe tbody tr th:only-of-type {\n",
       "        vertical-align: middle;\n",
       "    }\n",
       "\n",
       "    .dataframe tbody tr th {\n",
       "        vertical-align: top;\n",
       "    }\n",
       "\n",
       "    .dataframe thead th {\n",
       "        text-align: right;\n",
       "    }\n",
       "</style>\n",
       "<table border=\"1\" class=\"dataframe\">\n",
       "  <thead>\n",
       "    <tr style=\"text-align: right;\">\n",
       "      <th></th>\n",
       "      <th>Seconds from Start</th>\n",
       "      <th>Raw RR (ms)</th>\n",
       "    </tr>\n",
       "  </thead>\n",
       "  <tbody>\n",
       "    <tr>\n",
       "      <th>count</th>\n",
       "      <td>19988.000000</td>\n",
       "      <td>19988.000000</td>\n",
       "    </tr>\n",
       "    <tr>\n",
       "      <th>mean</th>\n",
       "      <td>5705.099806</td>\n",
       "      <td>503.259306</td>\n",
       "    </tr>\n",
       "    <tr>\n",
       "      <th>std</th>\n",
       "      <td>2934.776532</td>\n",
       "      <td>390.146031</td>\n",
       "    </tr>\n",
       "    <tr>\n",
       "      <th>min</th>\n",
       "      <td>115.486000</td>\n",
       "      <td>250.000000</td>\n",
       "    </tr>\n",
       "    <tr>\n",
       "      <th>25%</th>\n",
       "      <td>3145.557000</td>\n",
       "      <td>350.000000</td>\n",
       "    </tr>\n",
       "    <tr>\n",
       "      <th>50%</th>\n",
       "      <td>5672.332500</td>\n",
       "      <td>449.000000</td>\n",
       "    </tr>\n",
       "    <tr>\n",
       "      <th>75%</th>\n",
       "      <td>8229.147250</td>\n",
       "      <td>569.000000</td>\n",
       "    </tr>\n",
       "    <tr>\n",
       "      <th>max</th>\n",
       "      <td>10965.006000</td>\n",
       "      <td>18936.000000</td>\n",
       "    </tr>\n",
       "  </tbody>\n",
       "</table>\n",
       "</div>"
      ],
      "text/plain": [
       "       Seconds from Start   Raw RR (ms)\n",
       "count        19988.000000  19988.000000\n",
       "mean          5705.099806    503.259306\n",
       "std           2934.776532    390.146031\n",
       "min            115.486000    250.000000\n",
       "25%           3145.557000    350.000000\n",
       "50%           5672.332500    449.000000\n",
       "75%           8229.147250    569.000000\n",
       "max          10965.006000  18936.000000"
      ]
     },
     "execution_count": 120,
     "metadata": {},
     "output_type": "execute_result"
    }
   ],
   "source": [
    "new_df.describe()"
   ]
  },
  {
   "cell_type": "code",
   "execution_count": 121,
   "id": "86dc3386-1893-4955-931e-af1914b0485f",
   "metadata": {},
   "outputs": [],
   "source": [
    "new_df['diff'] = new_df['Seconds from Start'].diff()"
   ]
  },
  {
   "cell_type": "code",
   "execution_count": 124,
   "id": "1b36542b-1043-4e24-bf8d-6bd139165163",
   "metadata": {},
   "outputs": [
    {
     "data": {
      "text/plain": [
       "count    19987.000000\n",
       "mean         0.542829\n",
       "std          0.897299\n",
       "min          0.005000\n",
       "25%          0.349000\n",
       "50%          0.449000\n",
       "75%          0.570000\n",
       "max         44.472000\n",
       "Name: diff, dtype: float64"
      ]
     },
     "execution_count": 124,
     "metadata": {},
     "output_type": "execute_result"
    }
   ],
   "source": [
    "new_df['diff'].describe()"
   ]
  },
  {
   "cell_type": "markdown",
   "id": "a429769f-129a-46da-80ef-8603d18b0e77",
   "metadata": {},
   "source": [
    "Representa el intervalo entre dos laditos de corazón sucesivos en milisegundos. Se captura cada 0,5 segundos."
   ]
  },
  {
   "cell_type": "markdown",
   "id": "01187286-d660-4cc5-90df-7497ba61b90d",
   "metadata": {},
   "source": [
    "### Filtered RR (ms)"
   ]
  },
  {
   "cell_type": "code",
   "execution_count": 137,
   "id": "5656e784-630d-471c-ac46-e374cc542b2f",
   "metadata": {},
   "outputs": [],
   "source": [
    "column_name = 'Filtered RR (ms)'"
   ]
  },
  {
   "cell_type": "code",
   "execution_count": 138,
   "id": "049a5915-8658-4d10-90f2-a42429e8f2ad",
   "metadata": {},
   "outputs": [
    {
     "data": {
      "text/plain": [
       "True"
      ]
     },
     "execution_count": 138,
     "metadata": {},
     "output_type": "execute_result"
    }
   ],
   "source": [
    "df[column_name].isnull().any()"
   ]
  },
  {
   "cell_type": "code",
   "execution_count": 139,
   "id": "f45354a0-fecf-4dfe-ac2e-fc3faf8c7a98",
   "metadata": {},
   "outputs": [
    {
     "data": {
      "text/html": [
       "<div>\n",
       "<style scoped>\n",
       "    .dataframe tbody tr th:only-of-type {\n",
       "        vertical-align: middle;\n",
       "    }\n",
       "\n",
       "    .dataframe tbody tr th {\n",
       "        vertical-align: top;\n",
       "    }\n",
       "\n",
       "    .dataframe thead th {\n",
       "        text-align: right;\n",
       "    }\n",
       "</style>\n",
       "<table border=\"1\" class=\"dataframe\">\n",
       "  <thead>\n",
       "    <tr style=\"text-align: right;\">\n",
       "      <th></th>\n",
       "      <th>Seconds from Start</th>\n",
       "      <th>Filtered RR (ms)</th>\n",
       "    </tr>\n",
       "  </thead>\n",
       "  <tbody>\n",
       "    <tr>\n",
       "      <th>12524</th>\n",
       "      <td>115.486</td>\n",
       "      <td>799.0</td>\n",
       "    </tr>\n",
       "    <tr>\n",
       "      <th>12608</th>\n",
       "      <td>116.285</td>\n",
       "      <td>927.0</td>\n",
       "    </tr>\n",
       "    <tr>\n",
       "      <th>12712</th>\n",
       "      <td>117.212</td>\n",
       "      <td>773.0</td>\n",
       "    </tr>\n",
       "    <tr>\n",
       "      <th>12799</th>\n",
       "      <td>117.985</td>\n",
       "      <td>676.0</td>\n",
       "    </tr>\n",
       "    <tr>\n",
       "      <th>12877</th>\n",
       "      <td>118.661</td>\n",
       "      <td>785.0</td>\n",
       "    </tr>\n",
       "  </tbody>\n",
       "</table>\n",
       "</div>"
      ],
      "text/plain": [
       "       Seconds from Start  Filtered RR (ms)\n",
       "12524             115.486             799.0\n",
       "12608             116.285             927.0\n",
       "12712             117.212             773.0\n",
       "12799             117.985             676.0\n",
       "12877             118.661             785.0"
      ]
     },
     "execution_count": 139,
     "metadata": {},
     "output_type": "execute_result"
    }
   ],
   "source": [
    "new_df = df[df[column_name].notnull()][['Seconds from Start',column_name]]\n",
    "new_df.head()"
   ]
  },
  {
   "cell_type": "code",
   "execution_count": 140,
   "id": "c0eadc92-19ec-4ad2-9dc8-3371835f5682",
   "metadata": {},
   "outputs": [],
   "source": [
    "new_df[column_name] = new_df[column_name].apply(lambda x: convert_comma_to_point(x))\n",
    "new_df[column_name] = new_df[column_name].apply(pd.to_numeric)"
   ]
  },
  {
   "cell_type": "code",
   "execution_count": 141,
   "id": "43e4e7f6-aec8-4b4f-9af1-d4da5e813ecb",
   "metadata": {},
   "outputs": [
    {
     "data": {
      "text/html": [
       "<div>\n",
       "<style scoped>\n",
       "    .dataframe tbody tr th:only-of-type {\n",
       "        vertical-align: middle;\n",
       "    }\n",
       "\n",
       "    .dataframe tbody tr th {\n",
       "        vertical-align: top;\n",
       "    }\n",
       "\n",
       "    .dataframe thead th {\n",
       "        text-align: right;\n",
       "    }\n",
       "</style>\n",
       "<table border=\"1\" class=\"dataframe\">\n",
       "  <thead>\n",
       "    <tr style=\"text-align: right;\">\n",
       "      <th></th>\n",
       "      <th>Seconds from Start</th>\n",
       "      <th>Filtered RR (ms)</th>\n",
       "    </tr>\n",
       "  </thead>\n",
       "  <tbody>\n",
       "    <tr>\n",
       "      <th>count</th>\n",
       "      <td>19988.000000</td>\n",
       "      <td>19988.000000</td>\n",
       "    </tr>\n",
       "    <tr>\n",
       "      <th>mean</th>\n",
       "      <td>5704.278918</td>\n",
       "      <td>501.016610</td>\n",
       "    </tr>\n",
       "    <tr>\n",
       "      <th>std</th>\n",
       "      <td>2934.245288</td>\n",
       "      <td>131.066767</td>\n",
       "    </tr>\n",
       "    <tr>\n",
       "      <th>min</th>\n",
       "      <td>115.486000</td>\n",
       "      <td>273.000000</td>\n",
       "    </tr>\n",
       "    <tr>\n",
       "      <th>25%</th>\n",
       "      <td>3153.661500</td>\n",
       "      <td>411.000000</td>\n",
       "    </tr>\n",
       "    <tr>\n",
       "      <th>50%</th>\n",
       "      <td>5676.264000</td>\n",
       "      <td>478.000000</td>\n",
       "    </tr>\n",
       "    <tr>\n",
       "      <th>75%</th>\n",
       "      <td>8230.119250</td>\n",
       "      <td>555.000000</td>\n",
       "    </tr>\n",
       "    <tr>\n",
       "      <th>max</th>\n",
       "      <td>10967.765000</td>\n",
       "      <td>1238.000000</td>\n",
       "    </tr>\n",
       "  </tbody>\n",
       "</table>\n",
       "</div>"
      ],
      "text/plain": [
       "       Seconds from Start  Filtered RR (ms)\n",
       "count        19988.000000      19988.000000\n",
       "mean          5704.278918        501.016610\n",
       "std           2934.245288        131.066767\n",
       "min            115.486000        273.000000\n",
       "25%           3153.661500        411.000000\n",
       "50%           5676.264000        478.000000\n",
       "75%           8230.119250        555.000000\n",
       "max          10967.765000       1238.000000"
      ]
     },
     "execution_count": 141,
     "metadata": {},
     "output_type": "execute_result"
    }
   ],
   "source": [
    "new_df.describe()"
   ]
  },
  {
   "cell_type": "code",
   "execution_count": 142,
   "id": "6a54bc98-a910-46df-ada0-e2acf84f668d",
   "metadata": {},
   "outputs": [],
   "source": [
    "new_df['diff'] = new_df['Seconds from Start'].diff()"
   ]
  },
  {
   "cell_type": "code",
   "execution_count": 131,
   "id": "03ae0f18-1032-4514-8157-d553e10aba15",
   "metadata": {},
   "outputs": [
    {
     "data": {
      "text/plain": [
       "count    19987.000000\n",
       "mean         0.542829\n",
       "std          0.897299\n",
       "min          0.005000\n",
       "25%          0.349000\n",
       "50%          0.449000\n",
       "75%          0.570000\n",
       "max         44.472000\n",
       "Name: diff, dtype: float64"
      ]
     },
     "execution_count": 131,
     "metadata": {},
     "output_type": "execute_result"
    }
   ],
   "source": [
    "new_df['diff'].describe()"
   ]
  },
  {
   "cell_type": "markdown",
   "id": "053fcf03-7d96-4ee9-8b0d-c6dc16e24a40",
   "metadata": {},
   "source": [
    "Estimación del rr por el dispositivo. Se mide cada 0,5 segundos."
   ]
  },
  {
   "cell_type": "markdown",
   "id": "f25a568d-1827-4c85-b6a5-eea20527d4f6",
   "metadata": {},
   "source": [
    "### HR RMSSD "
   ]
  },
  {
   "cell_type": "code",
   "execution_count": 144,
   "id": "9b0906d6-4d31-4b5c-adba-c42274550f1d",
   "metadata": {},
   "outputs": [],
   "source": [
    "column_name = 'HR RMSSD'"
   ]
  },
  {
   "cell_type": "code",
   "execution_count": 145,
   "id": "f8ed4cd2-a2a2-48ce-aea8-1ff1982bdaa5",
   "metadata": {},
   "outputs": [
    {
     "data": {
      "text/plain": [
       "True"
      ]
     },
     "execution_count": 145,
     "metadata": {},
     "output_type": "execute_result"
    }
   ],
   "source": [
    "df[column_name].isnull().any()"
   ]
  },
  {
   "cell_type": "code",
   "execution_count": 146,
   "id": "191b6727-5375-43eb-8afa-4e764ae873c9",
   "metadata": {},
   "outputs": [
    {
     "data": {
      "text/html": [
       "<div>\n",
       "<style scoped>\n",
       "    .dataframe tbody tr th:only-of-type {\n",
       "        vertical-align: middle;\n",
       "    }\n",
       "\n",
       "    .dataframe tbody tr th {\n",
       "        vertical-align: top;\n",
       "    }\n",
       "\n",
       "    .dataframe thead th {\n",
       "        text-align: right;\n",
       "    }\n",
       "</style>\n",
       "<table border=\"1\" class=\"dataframe\">\n",
       "  <thead>\n",
       "    <tr style=\"text-align: right;\">\n",
       "      <th></th>\n",
       "      <th>Seconds from Start</th>\n",
       "      <th>HR RMSSD</th>\n",
       "    </tr>\n",
       "  </thead>\n",
       "  <tbody>\n",
       "    <tr>\n",
       "      <th>12523</th>\n",
       "      <td>115.486</td>\n",
       "      <td>86,9</td>\n",
       "    </tr>\n",
       "    <tr>\n",
       "      <th>17242</th>\n",
       "      <td>157.482</td>\n",
       "      <td>121,8</td>\n",
       "    </tr>\n",
       "    <tr>\n",
       "      <th>24486</th>\n",
       "      <td>222.475</td>\n",
       "      <td>116,9</td>\n",
       "    </tr>\n",
       "    <tr>\n",
       "      <th>32170</th>\n",
       "      <td>291.465</td>\n",
       "      <td>99,2</td>\n",
       "    </tr>\n",
       "    <tr>\n",
       "      <th>48049</th>\n",
       "      <td>435.448</td>\n",
       "      <td>117,8</td>\n",
       "    </tr>\n",
       "  </tbody>\n",
       "</table>\n",
       "</div>"
      ],
      "text/plain": [
       "       Seconds from Start HR RMSSD\n",
       "12523             115.486     86,9\n",
       "17242             157.482    121,8\n",
       "24486             222.475    116,9\n",
       "32170             291.465     99,2\n",
       "48049             435.448    117,8"
      ]
     },
     "execution_count": 146,
     "metadata": {},
     "output_type": "execute_result"
    }
   ],
   "source": [
    "new_df = df[df[column_name].notnull()][['Seconds from Start',column_name]]\n",
    "new_df.head()"
   ]
  },
  {
   "cell_type": "code",
   "execution_count": 147,
   "id": "727f9b8f-0519-4683-a5c1-f63c6759a74a",
   "metadata": {},
   "outputs": [],
   "source": [
    "new_df[column_name] = new_df[column_name].apply(lambda x: convert_comma_to_point(x))\n",
    "new_df[column_name] = new_df[column_name].apply(pd.to_numeric)"
   ]
  },
  {
   "cell_type": "code",
   "execution_count": 148,
   "id": "98ab05ac-fb1e-47f4-ab2d-88d58f74880d",
   "metadata": {},
   "outputs": [
    {
     "data": {
      "text/html": [
       "<div>\n",
       "<style scoped>\n",
       "    .dataframe tbody tr th:only-of-type {\n",
       "        vertical-align: middle;\n",
       "    }\n",
       "\n",
       "    .dataframe tbody tr th {\n",
       "        vertical-align: top;\n",
       "    }\n",
       "\n",
       "    .dataframe thead th {\n",
       "        text-align: right;\n",
       "    }\n",
       "</style>\n",
       "<table border=\"1\" class=\"dataframe\">\n",
       "  <thead>\n",
       "    <tr style=\"text-align: right;\">\n",
       "      <th></th>\n",
       "      <th>Seconds from Start</th>\n",
       "      <th>HR RMSSD</th>\n",
       "    </tr>\n",
       "  </thead>\n",
       "  <tbody>\n",
       "    <tr>\n",
       "      <th>count</th>\n",
       "      <td>334.000000</td>\n",
       "      <td>334.000000</td>\n",
       "    </tr>\n",
       "    <tr>\n",
       "      <th>mean</th>\n",
       "      <td>5703.202051</td>\n",
       "      <td>65.057784</td>\n",
       "    </tr>\n",
       "    <tr>\n",
       "      <th>std</th>\n",
       "      <td>2948.483773</td>\n",
       "      <td>19.152409</td>\n",
       "    </tr>\n",
       "    <tr>\n",
       "      <th>min</th>\n",
       "      <td>115.486000</td>\n",
       "      <td>21.400000</td>\n",
       "    </tr>\n",
       "    <tr>\n",
       "      <th>25%</th>\n",
       "      <td>3145.131250</td>\n",
       "      <td>53.500000</td>\n",
       "    </tr>\n",
       "    <tr>\n",
       "      <th>50%</th>\n",
       "      <td>5678.579500</td>\n",
       "      <td>62.350000</td>\n",
       "    </tr>\n",
       "    <tr>\n",
       "      <th>75%</th>\n",
       "      <td>8227.778750</td>\n",
       "      <td>73.775000</td>\n",
       "    </tr>\n",
       "    <tr>\n",
       "      <th>max</th>\n",
       "      <td>10963.260000</td>\n",
       "      <td>192.100000</td>\n",
       "    </tr>\n",
       "  </tbody>\n",
       "</table>\n",
       "</div>"
      ],
      "text/plain": [
       "       Seconds from Start    HR RMSSD\n",
       "count          334.000000  334.000000\n",
       "mean          5703.202051   65.057784\n",
       "std           2948.483773   19.152409\n",
       "min            115.486000   21.400000\n",
       "25%           3145.131250   53.500000\n",
       "50%           5678.579500   62.350000\n",
       "75%           8227.778750   73.775000\n",
       "max          10963.260000  192.100000"
      ]
     },
     "execution_count": 148,
     "metadata": {},
     "output_type": "execute_result"
    }
   ],
   "source": [
    "new_df.describe()"
   ]
  },
  {
   "cell_type": "code",
   "execution_count": 149,
   "id": "b06a5830-21fd-47b7-a49d-695c4ad9e896",
   "metadata": {},
   "outputs": [],
   "source": [
    "new_df['diff'] = new_df['Seconds from Start'].diff()"
   ]
  },
  {
   "cell_type": "code",
   "execution_count": 150,
   "id": "42891108-a2ac-47a6-8a70-e9d8f5b3ee38",
   "metadata": {},
   "outputs": [
    {
     "data": {
      "text/plain": [
       "count    333.000000\n",
       "mean      32.575898\n",
       "std       14.609933\n",
       "min       21.691000\n",
       "25%       25.997000\n",
       "50%       28.996000\n",
       "75%       32.996000\n",
       "max      143.983000\n",
       "Name: diff, dtype: float64"
      ]
     },
     "execution_count": 150,
     "metadata": {},
     "output_type": "execute_result"
    }
   ],
   "source": [
    "new_df['diff'].describe()"
   ]
  },
  {
   "cell_type": "markdown",
   "id": "b7ac47c0-2cd0-4b43-9333-5822b98744f2",
   "metadata": {},
   "source": [
    "Recoge la variabilidad de la frecuencia. Se calcula cada 30 segundos."
   ]
  },
  {
   "cell_type": "markdown",
   "id": "9a5e060c-b1e0-4ae9-a26a-98102eb8c6d9",
   "metadata": {
    "tags": []
   },
   "source": [
    "### ActivityLoad 2D"
   ]
  },
  {
   "cell_type": "code",
   "execution_count": 158,
   "id": "8c9aa8c1-9d9d-46f2-bb36-715c70b05479",
   "metadata": {},
   "outputs": [],
   "source": [
    "column_name = 'ActivityLoad 2D'"
   ]
  },
  {
   "cell_type": "code",
   "execution_count": 159,
   "id": "7a732346-c9e9-4ccc-99c1-4f6c26b0233f",
   "metadata": {},
   "outputs": [
    {
     "data": {
      "text/plain": [
       "True"
      ]
     },
     "execution_count": 159,
     "metadata": {},
     "output_type": "execute_result"
    }
   ],
   "source": [
    "df[column_name].isnull().any()"
   ]
  },
  {
   "cell_type": "code",
   "execution_count": 160,
   "id": "6b41efca-0b5c-4fbf-b2af-9da10d49aa32",
   "metadata": {},
   "outputs": [
    {
     "data": {
      "text/html": [
       "<div>\n",
       "<style scoped>\n",
       "    .dataframe tbody tr th:only-of-type {\n",
       "        vertical-align: middle;\n",
       "    }\n",
       "\n",
       "    .dataframe tbody tr th {\n",
       "        vertical-align: top;\n",
       "    }\n",
       "\n",
       "    .dataframe thead th {\n",
       "        text-align: right;\n",
       "    }\n",
       "</style>\n",
       "<table border=\"1\" class=\"dataframe\">\n",
       "  <thead>\n",
       "    <tr style=\"text-align: right;\">\n",
       "      <th></th>\n",
       "      <th>Seconds from Start</th>\n",
       "      <th>ActivityLoad 2D</th>\n",
       "    </tr>\n",
       "  </thead>\n",
       "  <tbody>\n",
       "    <tr>\n",
       "      <th>78</th>\n",
       "      <td>1.802</td>\n",
       "      <td>0,0683</td>\n",
       "    </tr>\n",
       "    <tr>\n",
       "      <th>184</th>\n",
       "      <td>2.802</td>\n",
       "      <td>0,085</td>\n",
       "    </tr>\n",
       "    <tr>\n",
       "      <th>295</th>\n",
       "      <td>3.802</td>\n",
       "      <td>0,0588</td>\n",
       "    </tr>\n",
       "    <tr>\n",
       "      <th>406</th>\n",
       "      <td>4.802</td>\n",
       "      <td>0,0267</td>\n",
       "    </tr>\n",
       "    <tr>\n",
       "      <th>517</th>\n",
       "      <td>5.802</td>\n",
       "      <td>0,0489</td>\n",
       "    </tr>\n",
       "  </tbody>\n",
       "</table>\n",
       "</div>"
      ],
      "text/plain": [
       "     Seconds from Start ActivityLoad 2D\n",
       "78                1.802          0,0683\n",
       "184               2.802           0,085\n",
       "295               3.802          0,0588\n",
       "406               4.802          0,0267\n",
       "517               5.802          0,0489"
      ]
     },
     "execution_count": 160,
     "metadata": {},
     "output_type": "execute_result"
    }
   ],
   "source": [
    "new_df = df[df[column_name].notnull()][['Seconds from Start',column_name]]\n",
    "new_df.head()"
   ]
  },
  {
   "cell_type": "code",
   "execution_count": 161,
   "id": "97d20ceb-4b02-4d1f-b9de-dac82883b650",
   "metadata": {},
   "outputs": [],
   "source": [
    "new_df[column_name] = new_df[column_name].apply(lambda x: convert_comma_to_point(x))\n",
    "new_df[column_name] = new_df[column_name].apply(pd.to_numeric)"
   ]
  },
  {
   "cell_type": "code",
   "execution_count": 162,
   "id": "571b085f-d2b4-4b2b-82f3-2463c10772a6",
   "metadata": {},
   "outputs": [
    {
     "data": {
      "text/html": [
       "<div>\n",
       "<style scoped>\n",
       "    .dataframe tbody tr th:only-of-type {\n",
       "        vertical-align: middle;\n",
       "    }\n",
       "\n",
       "    .dataframe tbody tr th {\n",
       "        vertical-align: top;\n",
       "    }\n",
       "\n",
       "    .dataframe thead th {\n",
       "        text-align: right;\n",
       "    }\n",
       "</style>\n",
       "<table border=\"1\" class=\"dataframe\">\n",
       "  <thead>\n",
       "    <tr style=\"text-align: right;\">\n",
       "      <th></th>\n",
       "      <th>Seconds from Start</th>\n",
       "      <th>ActivityLoad 2D</th>\n",
       "    </tr>\n",
       "  </thead>\n",
       "  <tbody>\n",
       "    <tr>\n",
       "      <th>count</th>\n",
       "      <td>10942.000000</td>\n",
       "      <td>10942.000000</td>\n",
       "    </tr>\n",
       "    <tr>\n",
       "      <th>mean</th>\n",
       "      <td>5486.694905</td>\n",
       "      <td>0.023958</td>\n",
       "    </tr>\n",
       "    <tr>\n",
       "      <th>std</th>\n",
       "      <td>3167.185111</td>\n",
       "      <td>0.035977</td>\n",
       "    </tr>\n",
       "    <tr>\n",
       "      <th>min</th>\n",
       "      <td>1.802000</td>\n",
       "      <td>0.001600</td>\n",
       "    </tr>\n",
       "    <tr>\n",
       "      <th>25%</th>\n",
       "      <td>2744.151000</td>\n",
       "      <td>0.005500</td>\n",
       "    </tr>\n",
       "    <tr>\n",
       "      <th>50%</th>\n",
       "      <td>5486.664000</td>\n",
       "      <td>0.010600</td>\n",
       "    </tr>\n",
       "    <tr>\n",
       "      <th>75%</th>\n",
       "      <td>8229.177000</td>\n",
       "      <td>0.023300</td>\n",
       "    </tr>\n",
       "    <tr>\n",
       "      <th>max</th>\n",
       "      <td>10971.689000</td>\n",
       "      <td>0.636300</td>\n",
       "    </tr>\n",
       "  </tbody>\n",
       "</table>\n",
       "</div>"
      ],
      "text/plain": [
       "       Seconds from Start  ActivityLoad 2D\n",
       "count        10942.000000     10942.000000\n",
       "mean          5486.694905         0.023958\n",
       "std           3167.185111         0.035977\n",
       "min              1.802000         0.001600\n",
       "25%           2744.151000         0.005500\n",
       "50%           5486.664000         0.010600\n",
       "75%           8229.177000         0.023300\n",
       "max          10971.689000         0.636300"
      ]
     },
     "execution_count": 162,
     "metadata": {},
     "output_type": "execute_result"
    }
   ],
   "source": [
    "new_df.describe()"
   ]
  },
  {
   "cell_type": "code",
   "execution_count": 163,
   "id": "c00cde5b-c4e7-4886-bdec-1ded10132801",
   "metadata": {},
   "outputs": [],
   "source": [
    "new_df['diff'] = new_df['Seconds from Start'].diff()"
   ]
  },
  {
   "cell_type": "code",
   "execution_count": 164,
   "id": "b067416d-260f-40fe-a0ea-607fac946767",
   "metadata": {},
   "outputs": [
    {
     "data": {
      "text/plain": [
       "count    10941.000000\n",
       "mean         1.002640\n",
       "std          0.020473\n",
       "min          1.000000\n",
       "25%          1.000000\n",
       "50%          1.000000\n",
       "75%          1.000000\n",
       "max          1.163000\n",
       "Name: diff, dtype: float64"
      ]
     },
     "execution_count": 164,
     "metadata": {},
     "output_type": "execute_result"
    }
   ],
   "source": [
    "new_df['diff'].describe()"
   ]
  },
  {
   "cell_type": "markdown",
   "id": "be851b55-1d8d-4d81-879d-f1e89398dab9",
   "metadata": {},
   "source": [
    "Variable propia de vx sport, indica la carga de actividad en los ejes x e y. Se recoge cada 1 segundos."
   ]
  },
  {
   "cell_type": "markdown",
   "id": "b699dcb9-05e2-463f-8e04-eb0ca30803bf",
   "metadata": {
    "tags": []
   },
   "source": [
    "### ActivityLoad 3D"
   ]
  },
  {
   "cell_type": "code",
   "execution_count": 165,
   "id": "a4c35bec-17d2-4b3a-b8ae-c732ceb6e4af",
   "metadata": {},
   "outputs": [],
   "source": [
    "column_name = 'ActivityLoad 3D'"
   ]
  },
  {
   "cell_type": "code",
   "execution_count": 166,
   "id": "d63020ce-b997-452b-b365-6534f4f851ea",
   "metadata": {},
   "outputs": [
    {
     "data": {
      "text/plain": [
       "True"
      ]
     },
     "execution_count": 166,
     "metadata": {},
     "output_type": "execute_result"
    }
   ],
   "source": [
    "df[column_name].isnull().any()"
   ]
  },
  {
   "cell_type": "code",
   "execution_count": 167,
   "id": "952e1bd1-0eb1-4e2c-a09d-e6cd627ae0e1",
   "metadata": {},
   "outputs": [
    {
     "data": {
      "text/html": [
       "<div>\n",
       "<style scoped>\n",
       "    .dataframe tbody tr th:only-of-type {\n",
       "        vertical-align: middle;\n",
       "    }\n",
       "\n",
       "    .dataframe tbody tr th {\n",
       "        vertical-align: top;\n",
       "    }\n",
       "\n",
       "    .dataframe thead th {\n",
       "        text-align: right;\n",
       "    }\n",
       "</style>\n",
       "<table border=\"1\" class=\"dataframe\">\n",
       "  <thead>\n",
       "    <tr style=\"text-align: right;\">\n",
       "      <th></th>\n",
       "      <th>Seconds from Start</th>\n",
       "      <th>ActivityLoad 3D</th>\n",
       "    </tr>\n",
       "  </thead>\n",
       "  <tbody>\n",
       "    <tr>\n",
       "      <th>78</th>\n",
       "      <td>1.802</td>\n",
       "      <td>0,0928</td>\n",
       "    </tr>\n",
       "    <tr>\n",
       "      <th>184</th>\n",
       "      <td>2.802</td>\n",
       "      <td>0,1123</td>\n",
       "    </tr>\n",
       "    <tr>\n",
       "      <th>295</th>\n",
       "      <td>3.802</td>\n",
       "      <td>0,071</td>\n",
       "    </tr>\n",
       "    <tr>\n",
       "      <th>406</th>\n",
       "      <td>4.802</td>\n",
       "      <td>0,0356</td>\n",
       "    </tr>\n",
       "    <tr>\n",
       "      <th>517</th>\n",
       "      <td>5.802</td>\n",
       "      <td>0,0677</td>\n",
       "    </tr>\n",
       "  </tbody>\n",
       "</table>\n",
       "</div>"
      ],
      "text/plain": [
       "     Seconds from Start ActivityLoad 3D\n",
       "78                1.802          0,0928\n",
       "184               2.802          0,1123\n",
       "295               3.802           0,071\n",
       "406               4.802          0,0356\n",
       "517               5.802          0,0677"
      ]
     },
     "execution_count": 167,
     "metadata": {},
     "output_type": "execute_result"
    }
   ],
   "source": [
    "new_df = df[df[column_name].notnull()][['Seconds from Start',column_name]]\n",
    "new_df.head()"
   ]
  },
  {
   "cell_type": "code",
   "execution_count": 168,
   "id": "55a23f5f-a125-4460-b71b-f64de19da6dd",
   "metadata": {},
   "outputs": [],
   "source": [
    "new_df[column_name] = new_df[column_name].apply(lambda x: convert_comma_to_point(x))\n",
    "new_df[column_name] = new_df[column_name].apply(pd.to_numeric)"
   ]
  },
  {
   "cell_type": "code",
   "execution_count": 169,
   "id": "2dba0e4c-a4b7-4802-afa2-90f99a6b2d8f",
   "metadata": {},
   "outputs": [
    {
     "data": {
      "text/html": [
       "<div>\n",
       "<style scoped>\n",
       "    .dataframe tbody tr th:only-of-type {\n",
       "        vertical-align: middle;\n",
       "    }\n",
       "\n",
       "    .dataframe tbody tr th {\n",
       "        vertical-align: top;\n",
       "    }\n",
       "\n",
       "    .dataframe thead th {\n",
       "        text-align: right;\n",
       "    }\n",
       "</style>\n",
       "<table border=\"1\" class=\"dataframe\">\n",
       "  <thead>\n",
       "    <tr style=\"text-align: right;\">\n",
       "      <th></th>\n",
       "      <th>Seconds from Start</th>\n",
       "      <th>ActivityLoad 3D</th>\n",
       "    </tr>\n",
       "  </thead>\n",
       "  <tbody>\n",
       "    <tr>\n",
       "      <th>count</th>\n",
       "      <td>10942.000000</td>\n",
       "      <td>10942.000000</td>\n",
       "    </tr>\n",
       "    <tr>\n",
       "      <th>mean</th>\n",
       "      <td>5486.694905</td>\n",
       "      <td>0.035805</td>\n",
       "    </tr>\n",
       "    <tr>\n",
       "      <th>std</th>\n",
       "      <td>3167.185111</td>\n",
       "      <td>0.054928</td>\n",
       "    </tr>\n",
       "    <tr>\n",
       "      <th>min</th>\n",
       "      <td>1.802000</td>\n",
       "      <td>0.002100</td>\n",
       "    </tr>\n",
       "    <tr>\n",
       "      <th>25%</th>\n",
       "      <td>2744.151000</td>\n",
       "      <td>0.007200</td>\n",
       "    </tr>\n",
       "    <tr>\n",
       "      <th>50%</th>\n",
       "      <td>5486.664000</td>\n",
       "      <td>0.014700</td>\n",
       "    </tr>\n",
       "    <tr>\n",
       "      <th>75%</th>\n",
       "      <td>8229.177000</td>\n",
       "      <td>0.032200</td>\n",
       "    </tr>\n",
       "    <tr>\n",
       "      <th>max</th>\n",
       "      <td>10971.689000</td>\n",
       "      <td>0.871300</td>\n",
       "    </tr>\n",
       "  </tbody>\n",
       "</table>\n",
       "</div>"
      ],
      "text/plain": [
       "       Seconds from Start  ActivityLoad 3D\n",
       "count        10942.000000     10942.000000\n",
       "mean          5486.694905         0.035805\n",
       "std           3167.185111         0.054928\n",
       "min              1.802000         0.002100\n",
       "25%           2744.151000         0.007200\n",
       "50%           5486.664000         0.014700\n",
       "75%           8229.177000         0.032200\n",
       "max          10971.689000         0.871300"
      ]
     },
     "execution_count": 169,
     "metadata": {},
     "output_type": "execute_result"
    }
   ],
   "source": [
    "new_df.describe()"
   ]
  },
  {
   "cell_type": "code",
   "execution_count": 170,
   "id": "df83bd68-e23b-4aaa-8d2f-cb1ecb679d50",
   "metadata": {},
   "outputs": [],
   "source": [
    "new_df['diff'] = new_df['Seconds from Start'].diff()"
   ]
  },
  {
   "cell_type": "code",
   "execution_count": 171,
   "id": "cdb3e4f3-7013-4f92-b65f-530b2f08def4",
   "metadata": {},
   "outputs": [
    {
     "data": {
      "text/plain": [
       "count    10941.000000\n",
       "mean         1.002640\n",
       "std          0.020473\n",
       "min          1.000000\n",
       "25%          1.000000\n",
       "50%          1.000000\n",
       "75%          1.000000\n",
       "max          1.163000\n",
       "Name: diff, dtype: float64"
      ]
     },
     "execution_count": 171,
     "metadata": {},
     "output_type": "execute_result"
    }
   ],
   "source": [
    "new_df['diff'].describe()"
   ]
  },
  {
   "cell_type": "markdown",
   "id": "77922985-bbe3-4035-b699-e4f744b53a8f",
   "metadata": {},
   "source": [
    "Variable propia de vx sport, indica la carga de actividad en los ejes x, y y z. Se recoge cada 1 segundos."
   ]
  }
 ],
 "metadata": {
  "kernelspec": {
   "display_name": "Python 3 (ipykernel)",
   "language": "python",
   "name": "python3"
  },
  "language_info": {
   "codemirror_mode": {
    "name": "ipython",
    "version": 3
   },
   "file_extension": ".py",
   "mimetype": "text/x-python",
   "name": "python",
   "nbconvert_exporter": "python",
   "pygments_lexer": "ipython3",
   "version": "3.9.2"
  }
 },
 "nbformat": 4,
 "nbformat_minor": 5
}
