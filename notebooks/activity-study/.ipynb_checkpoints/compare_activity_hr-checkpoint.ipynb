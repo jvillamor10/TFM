{
 "cells": [
  {
   "cell_type": "markdown",
   "id": "1820e3c3-e3a6-43d3-be83-bbce2f1b7597",
   "metadata": {},
   "source": [
    "# Comparaciones de resultados de clustering de Activity y Heart Rate"
   ]
  },
  {
   "cell_type": "code",
   "execution_count": 1,
   "id": "3760d253-fef7-44f8-8849-8f2d95755f65",
   "metadata": {},
   "outputs": [],
   "source": [
    "import pandas as pd\n",
    "import matplotlib.pyplot as plt\n",
    "import numpy as np\n",
    "import matplotlib.patches as mpatches"
   ]
  },
  {
   "cell_type": "code",
   "execution_count": 2,
   "id": "333316a0-db5d-499e-b475-fa29d621482c",
   "metadata": {},
   "outputs": [
    {
     "data": {
      "text/html": [
       "<div>\n",
       "<style scoped>\n",
       "    .dataframe tbody tr th:only-of-type {\n",
       "        vertical-align: middle;\n",
       "    }\n",
       "\n",
       "    .dataframe tbody tr th {\n",
       "        vertical-align: top;\n",
       "    }\n",
       "\n",
       "    .dataframe thead th {\n",
       "        text-align: right;\n",
       "    }\n",
       "</style>\n",
       "<table border=\"1\" class=\"dataframe\">\n",
       "  <thead>\n",
       "    <tr style=\"text-align: right;\">\n",
       "      <th></th>\n",
       "      <th>0</th>\n",
       "      <th>1</th>\n",
       "      <th>2</th>\n",
       "      <th>3</th>\n",
       "      <th>4</th>\n",
       "      <th>5</th>\n",
       "      <th>6</th>\n",
       "      <th>7</th>\n",
       "      <th>8</th>\n",
       "      <th>9</th>\n",
       "      <th>cluster</th>\n",
       "    </tr>\n",
       "  </thead>\n",
       "  <tbody>\n",
       "    <tr>\n",
       "      <th>0</th>\n",
       "      <td>75.0</td>\n",
       "      <td>75.0</td>\n",
       "      <td>75.0</td>\n",
       "      <td>75.0</td>\n",
       "      <td>75.0</td>\n",
       "      <td>75.0</td>\n",
       "      <td>75.0</td>\n",
       "      <td>75.0</td>\n",
       "      <td>76.0</td>\n",
       "      <td>76.0</td>\n",
       "      <td>1</td>\n",
       "    </tr>\n",
       "    <tr>\n",
       "      <th>0</th>\n",
       "      <td>75.0</td>\n",
       "      <td>75.0</td>\n",
       "      <td>75.0</td>\n",
       "      <td>76.0</td>\n",
       "      <td>76.0</td>\n",
       "      <td>77.0</td>\n",
       "      <td>77.0</td>\n",
       "      <td>77.0</td>\n",
       "      <td>77.0</td>\n",
       "      <td>77.0</td>\n",
       "      <td>1</td>\n",
       "    </tr>\n",
       "    <tr>\n",
       "      <th>0</th>\n",
       "      <td>77.0</td>\n",
       "      <td>77.0</td>\n",
       "      <td>77.0</td>\n",
       "      <td>77.0</td>\n",
       "      <td>77.0</td>\n",
       "      <td>77.0</td>\n",
       "      <td>77.0</td>\n",
       "      <td>78.0</td>\n",
       "      <td>78.0</td>\n",
       "      <td>78.0</td>\n",
       "      <td>1</td>\n",
       "    </tr>\n",
       "    <tr>\n",
       "      <th>0</th>\n",
       "      <td>77.0</td>\n",
       "      <td>77.0</td>\n",
       "      <td>78.0</td>\n",
       "      <td>78.0</td>\n",
       "      <td>78.0</td>\n",
       "      <td>78.0</td>\n",
       "      <td>78.0</td>\n",
       "      <td>78.0</td>\n",
       "      <td>78.0</td>\n",
       "      <td>78.0</td>\n",
       "      <td>1</td>\n",
       "    </tr>\n",
       "    <tr>\n",
       "      <th>0</th>\n",
       "      <td>78.0</td>\n",
       "      <td>78.0</td>\n",
       "      <td>78.0</td>\n",
       "      <td>78.0</td>\n",
       "      <td>78.0</td>\n",
       "      <td>78.0</td>\n",
       "      <td>78.0</td>\n",
       "      <td>78.0</td>\n",
       "      <td>78.0</td>\n",
       "      <td>78.0</td>\n",
       "      <td>1</td>\n",
       "    </tr>\n",
       "  </tbody>\n",
       "</table>\n",
       "</div>"
      ],
      "text/plain": [
       "      0     1     2     3     4     5     6     7     8     9  cluster\n",
       "0  75.0  75.0  75.0  75.0  75.0  75.0  75.0  75.0  76.0  76.0        1\n",
       "0  75.0  75.0  75.0  76.0  76.0  77.0  77.0  77.0  77.0  77.0        1\n",
       "0  77.0  77.0  77.0  77.0  77.0  77.0  77.0  78.0  78.0  78.0        1\n",
       "0  77.0  77.0  78.0  78.0  78.0  78.0  78.0  78.0  78.0  78.0        1\n",
       "0  78.0  78.0  78.0  78.0  78.0  78.0  78.0  78.0  78.0  78.0        1"
      ]
     },
     "execution_count": 2,
     "metadata": {},
     "output_type": "execute_result"
    }
   ],
   "source": [
    "hr_window = pd.read_csv('../../datasets/hr-study/windows_10_50_k_4.csv',index_col=0)\n",
    "hr_window.head()"
   ]
  },
  {
   "cell_type": "code",
   "execution_count": 3,
   "id": "72fd357f-0052-4b6a-9c52-883b8510fbbc",
   "metadata": {},
   "outputs": [
    {
     "data": {
      "text/html": [
       "<div>\n",
       "<style scoped>\n",
       "    .dataframe tbody tr th:only-of-type {\n",
       "        vertical-align: middle;\n",
       "    }\n",
       "\n",
       "    .dataframe tbody tr th {\n",
       "        vertical-align: top;\n",
       "    }\n",
       "\n",
       "    .dataframe thead th {\n",
       "        text-align: right;\n",
       "    }\n",
       "</style>\n",
       "<table border=\"1\" class=\"dataframe\">\n",
       "  <thead>\n",
       "    <tr style=\"text-align: right;\">\n",
       "      <th></th>\n",
       "      <th>0</th>\n",
       "      <th>1</th>\n",
       "      <th>2</th>\n",
       "      <th>3</th>\n",
       "      <th>4</th>\n",
       "      <th>cluster</th>\n",
       "    </tr>\n",
       "  </thead>\n",
       "  <tbody>\n",
       "    <tr>\n",
       "      <th>0</th>\n",
       "      <td>0.0928</td>\n",
       "      <td>0.1123</td>\n",
       "      <td>0.0710</td>\n",
       "      <td>0.0356</td>\n",
       "      <td>0.0677</td>\n",
       "      <td>3</td>\n",
       "    </tr>\n",
       "    <tr>\n",
       "      <th>0</th>\n",
       "      <td>0.0710</td>\n",
       "      <td>0.0356</td>\n",
       "      <td>0.0677</td>\n",
       "      <td>0.0642</td>\n",
       "      <td>0.0918</td>\n",
       "      <td>3</td>\n",
       "    </tr>\n",
       "    <tr>\n",
       "      <th>0</th>\n",
       "      <td>0.0677</td>\n",
       "      <td>0.0642</td>\n",
       "      <td>0.0918</td>\n",
       "      <td>0.0757</td>\n",
       "      <td>0.0892</td>\n",
       "      <td>3</td>\n",
       "    </tr>\n",
       "    <tr>\n",
       "      <th>0</th>\n",
       "      <td>0.0918</td>\n",
       "      <td>0.0757</td>\n",
       "      <td>0.0892</td>\n",
       "      <td>0.0786</td>\n",
       "      <td>0.1129</td>\n",
       "      <td>3</td>\n",
       "    </tr>\n",
       "    <tr>\n",
       "      <th>0</th>\n",
       "      <td>0.0892</td>\n",
       "      <td>0.0786</td>\n",
       "      <td>0.1129</td>\n",
       "      <td>0.1232</td>\n",
       "      <td>0.1197</td>\n",
       "      <td>3</td>\n",
       "    </tr>\n",
       "  </tbody>\n",
       "</table>\n",
       "</div>"
      ],
      "text/plain": [
       "        0       1       2       3       4  cluster\n",
       "0  0.0928  0.1123  0.0710  0.0356  0.0677        3\n",
       "0  0.0710  0.0356  0.0677  0.0642  0.0918        3\n",
       "0  0.0677  0.0642  0.0918  0.0757  0.0892        3\n",
       "0  0.0918  0.0757  0.0892  0.0786  0.1129        3\n",
       "0  0.0892  0.0786  0.1129  0.1232  0.1197        3"
      ]
     },
     "execution_count": 3,
     "metadata": {},
     "output_type": "execute_result"
    }
   ],
   "source": [
    "al3d_window = pd.read_csv('../../datasets/activity-study/windows_5_60_al3d_k_4.csv',index_col=0)\n",
    "al3d_window.head()"
   ]
  },
  {
   "cell_type": "code",
   "execution_count": 4,
   "id": "c99441ec-445b-4bed-8c66-c5ae4c5e47a8",
   "metadata": {},
   "outputs": [
    {
     "data": {
      "text/html": [
       "<div>\n",
       "<style scoped>\n",
       "    .dataframe tbody tr th:only-of-type {\n",
       "        vertical-align: middle;\n",
       "    }\n",
       "\n",
       "    .dataframe tbody tr th {\n",
       "        vertical-align: top;\n",
       "    }\n",
       "\n",
       "    .dataframe thead th {\n",
       "        text-align: right;\n",
       "    }\n",
       "</style>\n",
       "<table border=\"1\" class=\"dataframe\">\n",
       "  <thead>\n",
       "    <tr style=\"text-align: right;\">\n",
       "      <th></th>\n",
       "      <th>0</th>\n",
       "      <th>1</th>\n",
       "      <th>2</th>\n",
       "      <th>3</th>\n",
       "      <th>4</th>\n",
       "      <th>cluster</th>\n",
       "    </tr>\n",
       "  </thead>\n",
       "  <tbody>\n",
       "    <tr>\n",
       "      <th>0</th>\n",
       "      <td>0.0683</td>\n",
       "      <td>0.0850</td>\n",
       "      <td>0.0588</td>\n",
       "      <td>0.0267</td>\n",
       "      <td>0.0489</td>\n",
       "      <td>3</td>\n",
       "    </tr>\n",
       "    <tr>\n",
       "      <th>0</th>\n",
       "      <td>0.0588</td>\n",
       "      <td>0.0267</td>\n",
       "      <td>0.0489</td>\n",
       "      <td>0.0453</td>\n",
       "      <td>0.0633</td>\n",
       "      <td>3</td>\n",
       "    </tr>\n",
       "    <tr>\n",
       "      <th>0</th>\n",
       "      <td>0.0489</td>\n",
       "      <td>0.0453</td>\n",
       "      <td>0.0633</td>\n",
       "      <td>0.0538</td>\n",
       "      <td>0.0725</td>\n",
       "      <td>3</td>\n",
       "    </tr>\n",
       "    <tr>\n",
       "      <th>0</th>\n",
       "      <td>0.0633</td>\n",
       "      <td>0.0538</td>\n",
       "      <td>0.0725</td>\n",
       "      <td>0.0637</td>\n",
       "      <td>0.0904</td>\n",
       "      <td>3</td>\n",
       "    </tr>\n",
       "    <tr>\n",
       "      <th>0</th>\n",
       "      <td>0.0725</td>\n",
       "      <td>0.0637</td>\n",
       "      <td>0.0904</td>\n",
       "      <td>0.1078</td>\n",
       "      <td>0.0950</td>\n",
       "      <td>3</td>\n",
       "    </tr>\n",
       "  </tbody>\n",
       "</table>\n",
       "</div>"
      ],
      "text/plain": [
       "        0       1       2       3       4  cluster\n",
       "0  0.0683  0.0850  0.0588  0.0267  0.0489        3\n",
       "0  0.0588  0.0267  0.0489  0.0453  0.0633        3\n",
       "0  0.0489  0.0453  0.0633  0.0538  0.0725        3\n",
       "0  0.0633  0.0538  0.0725  0.0637  0.0904        3\n",
       "0  0.0725  0.0637  0.0904  0.1078  0.0950        3"
      ]
     },
     "execution_count": 4,
     "metadata": {},
     "output_type": "execute_result"
    }
   ],
   "source": [
    "al2d_window = pd.read_csv('../../datasets/activity-study/windows_5_60_al2d_k_4.csv',index_col=0)\n",
    "al2d_window.head()"
   ]
  },
  {
   "cell_type": "markdown",
   "id": "3c664a4d-392d-4336-9975-07368b863a6e",
   "metadata": {},
   "source": [
    "Se fija el inicio y el fin del partido"
   ]
  },
  {
   "cell_type": "code",
   "execution_count": 5,
   "id": "a966b44b-4dd3-486d-b4d6-36b5389d409a",
   "metadata": {},
   "outputs": [],
   "source": [
    "match_start = 3262"
   ]
  },
  {
   "cell_type": "code",
   "execution_count": 6,
   "id": "b8835a89-aeab-4b86-b962-af6ed9e59efb",
   "metadata": {},
   "outputs": [],
   "source": [
    "match_end = 8126"
   ]
  },
  {
   "cell_type": "markdown",
   "id": "c3e917b4-1348-40ee-8be1-a17ced0dcd35",
   "metadata": {},
   "source": [
    "Se debe dividir por 2.5, para poder obtener el registro de la ventana de ese segundo exacto"
   ]
  },
  {
   "cell_type": "code",
   "execution_count": 7,
   "id": "76b8c9eb-173b-431a-9175-4082b0a2fce8",
   "metadata": {},
   "outputs": [],
   "source": [
    "hr_window = hr_window.iloc[round(match_start/2.5):(round(match_end/2.5))]"
   ]
  },
  {
   "cell_type": "markdown",
   "id": "5712b5a3-2f98-4d34-8fd0-30ad7fc62376",
   "metadata": {},
   "source": [
    "Se debe dividir por 5 por el registro de la ventana"
   ]
  },
  {
   "cell_type": "code",
   "execution_count": 8,
   "id": "b35f5986-e7cf-4c6f-b24a-97da8e40df5d",
   "metadata": {},
   "outputs": [],
   "source": [
    "al2d_window = al2d_window.iloc[round(match_start/5):(round(match_end/5))]"
   ]
  },
  {
   "cell_type": "code",
   "execution_count": 9,
   "id": "a10ac4b2-8bf6-4d11-a7de-d0083398220d",
   "metadata": {},
   "outputs": [],
   "source": [
    "al3d_window = al3d_window.iloc[round(match_start/5):(round(match_end/5))]"
   ]
  },
  {
   "cell_type": "code",
   "execution_count": 12,
   "id": "f42c462f-6af1-4238-867c-20a6a7c81922",
   "metadata": {},
   "outputs": [],
   "source": [
    "def show_graphic(dataset):\n",
    "    # Colores para cada número\n",
    "    colors = {1: 'blue', 2: 'green', 3: 'yellow', 4: 'red'}\n",
    "\n",
    "    # Crear un array con los colores correspondientes\n",
    "    colors_activity = [colors[i] for i in dataset['cluster']]\n",
    "\n",
    "    # Crear un array de la misma longitud que los datos pero con todos los elementos siendo 1\n",
    "    # Esto es para que la altura de todas las barras sea la misma\n",
    "    activity_heights = np.ones(len(dataset))\n",
    "\n",
    "    # Definir el tamaño de la figura\n",
    "    plt.figure(figsize=(20, 2))\n",
    "\n",
    "    # Crear la gráfica\n",
    "    plt.bar(range(len(dataset)), activity_heights, color=colors_activity, width=1)\n",
    "\n",
    "    # Quitar los ticks del eje x para que no se vean los números\n",
    "    plt.xticks([])\n",
    "    plt.yticks([])\n",
    "\n",
    "    # Crear la leyenda\n",
    "    legend = [mpatches.Patch(color=v, label=k) for k, v in colors.items()]\n",
    "    plt.legend(handles=legend)\n",
    "\n",
    "    # Mostrar la gráfica\n",
    "    plt.show()"
   ]
  },
  {
   "cell_type": "code",
   "execution_count": 13,
   "id": "44dca8cd-4590-420c-b19c-0a9451bcfc8b",
   "metadata": {},
   "outputs": [
    {
     "data": {
      "image/png": "[encoded data removed]",
      "text/plain": [
       "<Figure size 1440x144 with 1 Axes>"
      ]
     },
     "metadata": {},
     "output_type": "display_data"
    }
   ],
   "source": [
    "show_graphic(hr_window)"
   ]
  },
  {
   "cell_type": "code",
   "execution_count": 14,
   "id": "066a7387-3f21-436a-a877-6a7c42751afe",
   "metadata": {},
   "outputs": [
    {
     "data": {
      "image/png": "[encoded data removed]",
      "text/plain": [
       "<Figure size 1440x144 with 1 Axes>"
      ]
     },
     "metadata": {},
     "output_type": "display_data"
    }
   ],
   "source": [
    "show_graphic(al3d_window)"
   ]
  },
  {
   "cell_type": "code",
   "execution_count": 15,
   "id": "37fb3c8f-0ee1-46b5-b8d5-1f9217fde251",
   "metadata": {},
   "outputs": [
    {
     "data": {
      "image/png": "[encoded data removed]",
      "text/plain": [
       "<Figure size 1440x144 with 1 Axes>"
      ]
     },
     "metadata": {},
     "output_type": "display_data"
    }
   ],
   "source": [
    "show_graphic(al2d_window)"
   ]
  }
 ],
 "metadata": {
  "kernelspec": {
   "display_name": "Python 3 (ipykernel)",
   "language": "python",
   "name": "python3"
  },
  "language_info": {
   "codemirror_mode": {
    "name": "ipython",
    "version": 3
   },
   "file_extension": ".py",
   "mimetype": "text/x-python",
   "name": "python",
   "nbconvert_exporter": "python",
   "pygments_lexer": "ipython3",
   "version": "3.9.2"
  }
 },
 "nbformat": 4,
 "nbformat_minor": 5
}
