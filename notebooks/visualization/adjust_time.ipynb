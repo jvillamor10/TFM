{
 "cells": [
  {
   "cell_type": "code",
   "execution_count": null,
   "id": "53d1c530-4f56-4395-b3d4-5af95240e68f",
   "metadata": {},
   "outputs": [],
   "source": [
    "import pandas as pd"
   ]
  },
  {
   "cell_type": "code",
   "execution_count": null,
   "id": "d5d34978-e958-4044-ade4-a06ab60eec93",
   "metadata": {},
   "outputs": [],
   "source": [
    "PLAY_BY_PLAY_FILE = '../../datasets/play-by-play/is_player_on_court.csv'\n",
    "#HR_FILE = '../../datasets/first-study/hr.csv'\n",
    "HR_FILE = '../../datasets/hr-study/hr_without_gaps.csv'"
   ]
  },
  {
   "cell_type": "code",
   "execution_count": null,
   "id": "ccbde131-efce-4bdc-9586-4b027789ca73",
   "metadata": {},
   "outputs": [],
   "source": [
    "is_player_on_court = pd.read_csv(PLAY_BY_PLAY_FILE,index_col=0)"
   ]
  },
  {
   "cell_type": "code",
   "execution_count": null,
   "id": "d1c9b495-3455-4ddb-9a49-9ef4899b2d0c",
   "metadata": {},
   "outputs": [
    {
     "data": {
      "text/html": [
       "<div>\n",
       "<style scoped>\n",
       "    .dataframe tbody tr th:only-of-type {\n",
       "        vertical-align: middle;\n",
       "    }\n",
       "\n",
       "    .dataframe tbody tr th {\n",
       "        vertical-align: top;\n",
       "    }\n",
       "\n",
       "    .dataframe thead th {\n",
       "        text-align: right;\n",
       "    }\n",
       "</style>\n",
       "<table border=\"1\" class=\"dataframe\">\n",
       "  <thead>\n",
       "    <tr style=\"text-align: right;\">\n",
       "      <th></th>\n",
       "      <th>Start</th>\n",
       "      <th>End</th>\n",
       "      <th>Is On Court</th>\n",
       "    </tr>\n",
       "  </thead>\n",
       "  <tbody>\n",
       "    <tr>\n",
       "      <th>0</th>\n",
       "      <td>00:00:00</td>\n",
       "      <td>00:00:00</td>\n",
       "      <td>0</td>\n",
       "    </tr>\n",
       "    <tr>\n",
       "      <th>1</th>\n",
       "      <td>00:00:00</td>\n",
       "      <td>00:00:36</td>\n",
       "      <td>0</td>\n",
       "    </tr>\n",
       "    <tr>\n",
       "      <th>2</th>\n",
       "      <td>00:00:36</td>\n",
       "      <td>00:00:45</td>\n",
       "      <td>0</td>\n",
       "    </tr>\n",
       "    <tr>\n",
       "      <th>3</th>\n",
       "      <td>00:00:45</td>\n",
       "      <td>00:00:55</td>\n",
       "      <td>0</td>\n",
       "    </tr>\n",
       "    <tr>\n",
       "      <th>4</th>\n",
       "      <td>00:00:55</td>\n",
       "      <td>00:01:24</td>\n",
       "      <td>0</td>\n",
       "    </tr>\n",
       "  </tbody>\n",
       "</table>\n",
       "</div>"
      ],
      "text/plain": [
       "       Start        End  Is On Court\n",
       "0   00:00:00   00:00:00            0\n",
       "1   00:00:00   00:00:36            0\n",
       "2   00:00:36   00:00:45            0\n",
       "3   00:00:45   00:00:55            0\n",
       "4   00:00:55   00:01:24            0"
      ]
     },
     "execution_count": 5,
     "metadata": {},
     "output_type": "execute_result"
    }
   ],
   "source": [
    "is_player_on_court.head()"
   ]
  },
  {
   "cell_type": "code",
   "execution_count": null,
   "id": "4899364f-ac0e-4b78-8c06-f683c9edc09c",
   "metadata": {},
   "outputs": [
    {
     "data": {
      "text/html": [
       "<div>\n",
       "<style scoped>\n",
       "    .dataframe tbody tr th:only-of-type {\n",
       "        vertical-align: middle;\n",
       "    }\n",
       "\n",
       "    .dataframe tbody tr th {\n",
       "        vertical-align: top;\n",
       "    }\n",
       "\n",
       "    .dataframe thead th {\n",
       "        text-align: right;\n",
       "    }\n",
       "</style>\n",
       "<table border=\"1\" class=\"dataframe\">\n",
       "  <thead>\n",
       "    <tr style=\"text-align: right;\">\n",
       "      <th></th>\n",
       "      <th>Unnamed: 0</th>\n",
       "      <th>seconds</th>\n",
       "      <th>date</th>\n",
       "      <th>hr</th>\n",
       "      <th>diff</th>\n",
       "      <th>gap</th>\n",
       "    </tr>\n",
       "  </thead>\n",
       "  <tbody>\n",
       "    <tr>\n",
       "      <th>0</th>\n",
       "      <td>0</td>\n",
       "      <td>126.304</td>\n",
       "      <td>2023-04-23 18:10:38.770</td>\n",
       "      <td>75.0</td>\n",
       "      <td>NaN</td>\n",
       "      <td>0.0</td>\n",
       "    </tr>\n",
       "    <tr>\n",
       "      <th>1</th>\n",
       "      <td>1</td>\n",
       "      <td>126.804</td>\n",
       "      <td>2023-04-23 18:10:38.770</td>\n",
       "      <td>75.0</td>\n",
       "      <td>0.5</td>\n",
       "      <td>0.0</td>\n",
       "    </tr>\n",
       "    <tr>\n",
       "      <th>2</th>\n",
       "      <td>2</td>\n",
       "      <td>127.304</td>\n",
       "      <td>2023-04-23 18:10:38.770</td>\n",
       "      <td>75.0</td>\n",
       "      <td>0.5</td>\n",
       "      <td>0.0</td>\n",
       "    </tr>\n",
       "    <tr>\n",
       "      <th>3</th>\n",
       "      <td>3</td>\n",
       "      <td>127.804</td>\n",
       "      <td>2023-04-23 18:10:38.770</td>\n",
       "      <td>75.0</td>\n",
       "      <td>0.5</td>\n",
       "      <td>0.0</td>\n",
       "    </tr>\n",
       "    <tr>\n",
       "      <th>4</th>\n",
       "      <td>4</td>\n",
       "      <td>128.304</td>\n",
       "      <td>2023-04-23 18:10:38.770</td>\n",
       "      <td>75.0</td>\n",
       "      <td>0.5</td>\n",
       "      <td>0.0</td>\n",
       "    </tr>\n",
       "  </tbody>\n",
       "</table>\n",
       "</div>"
      ],
      "text/plain": [
       "   Unnamed: 0  seconds                     date    hr  diff  gap\n",
       "0           0  126.304  2023-04-23 18:10:38.770  75.0   NaN  0.0\n",
       "1           1  126.804  2023-04-23 18:10:38.770  75.0   0.5  0.0\n",
       "2           2  127.304  2023-04-23 18:10:38.770  75.0   0.5  0.0\n",
       "3           3  127.804  2023-04-23 18:10:38.770  75.0   0.5  0.0\n",
       "4           4  128.304  2023-04-23 18:10:38.770  75.0   0.5  0.0"
      ]
     },
     "execution_count": 6,
     "metadata": {},
     "output_type": "execute_result"
    }
   ],
   "source": [
    "hr = pd.read_csv(HR_FILE)\n",
    "hr.head()"
   ]
  },
  {
   "cell_type": "code",
   "execution_count": null,
   "id": "08f24b8a-cfc4-4bea-aa2c-7077404ce947",
   "metadata": {},
   "outputs": [
    {
     "data": {
      "text/plain": [
       "<AxesSubplot:>"
      ]
     },
     "execution_count": 7,
     "metadata": {},
     "output_type": "execute_result"
    },
    {
     "data": {
      "image/png": "[encoded data removed]",
      "text/plain": [
       "<Figure size 432x288 with 1 Axes>"
      ]
     },
     "metadata": {
      "needs_background": "light"
     },
     "output_type": "display_data"
    }
   ],
   "source": [
    "hr.plot(y='hr')"
   ]
  },
  {
   "cell_type": "markdown",
   "id": "796672f3-6864-4e0d-b169-7fc3ba7ee91b",
   "metadata": {},
   "source": [
    "Información importante, el partido empieza a las 19:00: https://www.rfebm.com/competiciones/competicion.php?seleccion=0&id_categoria=200012&id_competicion=204527&id=1016064&id_temp=2223&id_territorial=9999&id_ambito=1#"
   ]
  },
  {
   "cell_type": "code",
   "execution_count": null,
   "id": "70173bb4-2dd1-4dae-90d4-14e603e0c532",
   "metadata": {},
   "outputs": [
    {
     "data": {
      "text/plain": [
       "93.96666666666667"
      ]
     },
     "execution_count": 8,
     "metadata": {},
     "output_type": "execute_result"
    }
   ],
   "source": [
    "(8600 -2962)/60"
   ]
  },
  {
   "cell_type": "code",
   "execution_count": 11,
   "id": "4e0a02e1-c7f7-4c16-9112-1a206a33a510",
   "metadata": {},
   "outputs": [
    {
     "data": {
      "image/png": "[encoded data removed]",
      "text/plain": [
       "<Figure size 432x288 with 1 Axes>"
      ]
     },
     "metadata": {
      "needs_background": "light"
     },
     "output_type": "display_data"
    }
   ],
   "source": [
    "import matplotlib.pyplot as plt\n",
    "\n",
    "x = hr['seconds']\n",
    "y = hr['hr']\n",
    "\n",
    "# Crear una figura y ejes\n",
    "fig, ax = plt.subplots()\n",
    "\n",
    "# Dibujar el gráfico de barras\n",
    "ax.plot(x, y, linestyle='-')\n",
    "ax.axvline(x=2962, color='y', linestyle='--', label='Vertical Line at x=2')\n",
    "ax.axvline(x=3562, color='r', linestyle='--', label='Vertical Line at x=2')\n",
    "ax.axvline(x=5002, color='r', linestyle='--', label='Vertical Line at x=2')\n",
    "ax.axvline(x=5902, color='r', linestyle='--', label='Vertical Line at x=2') # cambiar descanso\n",
    "ax.axvline(x=5902 + 12 * 60, color='r', linestyle='--', label='Vertical Line at x=2')\n",
    "ax.axvline(x=5902 + 12 * 60 + 13 * 60, color='r', linestyle='--', label='Vertical Line at x=2')\n",
    "ax.axvline(x=5902 + 12 * 60 + 13 * 60 +11 *60, color='r', linestyle='--', label='Vertical Line at x=2') # fin de partido\n",
    "ax.axvline(x=8600, color='y', linestyle='--', label='Vertical Line at x=2') # fin de partido\n",
    "\n",
    "plt.show()"
   ]
  },
  {
   "cell_type": "markdown",
   "id": "d4638349-f8f6-42a5-89fd-69cb2fee11f6",
   "metadata": {},
   "source": [
    "El partido empieza en el segundo 2962.\n",
    "La primera parte acaba en el segundo 5002.\n",
    "La segunda parte empieza en el segundo 5902."
   ]
  }
 ],
 "metadata": {
  "kernelspec": {
   "display_name": "Python 3 (ipykernel)",
   "language": "python",
   "name": "python3"
  },
  "language_info": {
   "codemirror_mode": {
    "name": "ipython",
    "version": 3
   },
   "file_extension": ".py",
   "mimetype": "text/x-python",
   "name": "python",
   "nbconvert_exporter": "python",
   "pygments_lexer": "ipython3",
   "version": "3.9.2"
  }
 },
 "nbformat": 4,
 "nbformat_minor": 5
}
