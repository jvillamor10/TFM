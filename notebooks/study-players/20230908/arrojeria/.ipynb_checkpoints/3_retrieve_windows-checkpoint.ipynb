{
 "cells": [
  {
   "cell_type": "code",
   "execution_count": 1,
   "id": "c58da552-68bc-4e72-8aff-110cfc1a9dc4",
   "metadata": {},
   "outputs": [],
   "source": [
    "import pandas as pd"
   ]
  },
  {
   "cell_type": "code",
   "execution_count": 2,
   "id": "6653c9d5-45f0-43b2-9b10-5a371a397f1d",
   "metadata": {},
   "outputs": [],
   "source": [
    "record_date = '20230908'"
   ]
  },
  {
   "cell_type": "code",
   "execution_count": 3,
   "id": "6997eaa1-5a21-443f-8794-f35701a200ea",
   "metadata": {},
   "outputs": [],
   "source": [
    "player_name = 'arrojeria_esther'"
   ]
  },
  {
   "cell_type": "code",
   "execution_count": 4,
   "id": "365f3a21-f648-4890-8417-fe5908b5ea7f",
   "metadata": {},
   "outputs": [],
   "source": [
    "PLAYER_HR_FILE_DIR = f'../../../../datasets/study-players/{record_date}/{player_name}_hr_without_gaps.csv'\n",
    "PLAYER_ACTIVITY_FILE_DIR = f'../../../../datasets/study-players/{record_date}/{player_name}_activity_load.csv'"
   ]
  },
  {
   "cell_type": "code",
   "execution_count": 5,
   "id": "366c6632-fbf9-4134-94b1-bec71c1d9d0d",
   "metadata": {},
   "outputs": [],
   "source": [
    "hr = pd.read_csv(PLAYER_HR_FILE_DIR,index_col=0)\n",
    "activity_load = pd.read_csv(PLAYER_ACTIVITY_FILE_DIR,index_col=0)"
   ]
  },
  {
   "cell_type": "code",
   "execution_count": 6,
   "id": "beaeb63f-4cb1-4017-9973-182de86dedaa",
   "metadata": {},
   "outputs": [
    {
     "data": {
      "text/html": [
       "<div>\n",
       "<style scoped>\n",
       "    .dataframe tbody tr th:only-of-type {\n",
       "        vertical-align: middle;\n",
       "    }\n",
       "\n",
       "    .dataframe tbody tr th {\n",
       "        vertical-align: top;\n",
       "    }\n",
       "\n",
       "    .dataframe thead th {\n",
       "        text-align: right;\n",
       "    }\n",
       "</style>\n",
       "<table border=\"1\" class=\"dataframe\">\n",
       "  <thead>\n",
       "    <tr style=\"text-align: right;\">\n",
       "      <th></th>\n",
       "      <th>seconds</th>\n",
       "      <th>date</th>\n",
       "      <th>hr</th>\n",
       "      <th>diff</th>\n",
       "    </tr>\n",
       "  </thead>\n",
       "  <tbody>\n",
       "    <tr>\n",
       "      <th>0</th>\n",
       "      <td>80.802</td>\n",
       "      <td>[2023-09-08 19:19:20 454]</td>\n",
       "      <td>74.0</td>\n",
       "      <td>NaN</td>\n",
       "    </tr>\n",
       "    <tr>\n",
       "      <th>1</th>\n",
       "      <td>81.302</td>\n",
       "      <td>[2023-09-08 19:19:20 954]</td>\n",
       "      <td>74.0</td>\n",
       "      <td>0.5</td>\n",
       "    </tr>\n",
       "    <tr>\n",
       "      <th>2</th>\n",
       "      <td>81.802</td>\n",
       "      <td>[2023-09-08 19:19:21 454]</td>\n",
       "      <td>74.0</td>\n",
       "      <td>0.5</td>\n",
       "    </tr>\n",
       "    <tr>\n",
       "      <th>3</th>\n",
       "      <td>82.302</td>\n",
       "      <td>[2023-09-08 19:19:21 954]</td>\n",
       "      <td>75.0</td>\n",
       "      <td>0.5</td>\n",
       "    </tr>\n",
       "    <tr>\n",
       "      <th>4</th>\n",
       "      <td>82.802</td>\n",
       "      <td>[2023-09-08 19:19:22 454]</td>\n",
       "      <td>75.0</td>\n",
       "      <td>0.5</td>\n",
       "    </tr>\n",
       "  </tbody>\n",
       "</table>\n",
       "</div>"
      ],
      "text/plain": [
       "   seconds                       date    hr  diff\n",
       "0   80.802  [2023-09-08 19:19:20 454]  74.0   NaN\n",
       "1   81.302  [2023-09-08 19:19:20 954]  74.0   0.5\n",
       "2   81.802  [2023-09-08 19:19:21 454]  74.0   0.5\n",
       "3   82.302  [2023-09-08 19:19:21 954]  75.0   0.5\n",
       "4   82.802  [2023-09-08 19:19:22 454]  75.0   0.5"
      ]
     },
     "execution_count": 6,
     "metadata": {},
     "output_type": "execute_result"
    }
   ],
   "source": [
    "hr.head()"
   ]
  },
  {
   "cell_type": "code",
   "execution_count": 7,
   "id": "d53e7c6c-0510-4969-be7a-d52a95c34291",
   "metadata": {},
   "outputs": [
    {
     "data": {
      "text/html": [
       "<div>\n",
       "<style scoped>\n",
       "    .dataframe tbody tr th:only-of-type {\n",
       "        vertical-align: middle;\n",
       "    }\n",
       "\n",
       "    .dataframe tbody tr th {\n",
       "        vertical-align: top;\n",
       "    }\n",
       "\n",
       "    .dataframe thead th {\n",
       "        text-align: right;\n",
       "    }\n",
       "</style>\n",
       "<table border=\"1\" class=\"dataframe\">\n",
       "  <thead>\n",
       "    <tr style=\"text-align: right;\">\n",
       "      <th></th>\n",
       "      <th>seconds</th>\n",
       "      <th>date</th>\n",
       "      <th>activity_load_2d</th>\n",
       "      <th>activity_load_3d</th>\n",
       "    </tr>\n",
       "  </thead>\n",
       "  <tbody>\n",
       "    <tr>\n",
       "      <th>79</th>\n",
       "      <td>1.79</td>\n",
       "      <td>[2023-09-08 19:18:01 442]</td>\n",
       "      <td>0.0088</td>\n",
       "      <td>0.0097</td>\n",
       "    </tr>\n",
       "    <tr>\n",
       "      <th>185</th>\n",
       "      <td>2.79</td>\n",
       "      <td>[2023-09-08 19:18:02 442]</td>\n",
       "      <td>0.0018</td>\n",
       "      <td>0.0025</td>\n",
       "    </tr>\n",
       "    <tr>\n",
       "      <th>295</th>\n",
       "      <td>3.79</td>\n",
       "      <td>[2023-09-08 19:18:03 442]</td>\n",
       "      <td>0.0018</td>\n",
       "      <td>0.0029</td>\n",
       "    </tr>\n",
       "    <tr>\n",
       "      <th>406</th>\n",
       "      <td>4.79</td>\n",
       "      <td>[2023-09-08 19:18:04 442]</td>\n",
       "      <td>0.0042</td>\n",
       "      <td>0.0051</td>\n",
       "    </tr>\n",
       "    <tr>\n",
       "      <th>517</th>\n",
       "      <td>5.79</td>\n",
       "      <td>[2023-09-08 19:18:05 442]</td>\n",
       "      <td>0.0031</td>\n",
       "      <td>0.0041</td>\n",
       "    </tr>\n",
       "  </tbody>\n",
       "</table>\n",
       "</div>"
      ],
      "text/plain": [
       "     seconds                       date  activity_load_2d  activity_load_3d\n",
       "79      1.79  [2023-09-08 19:18:01 442]            0.0088            0.0097\n",
       "185     2.79  [2023-09-08 19:18:02 442]            0.0018            0.0025\n",
       "295     3.79  [2023-09-08 19:18:03 442]            0.0018            0.0029\n",
       "406     4.79  [2023-09-08 19:18:04 442]            0.0042            0.0051\n",
       "517     5.79  [2023-09-08 19:18:05 442]            0.0031            0.0041"
      ]
     },
     "execution_count": 7,
     "metadata": {},
     "output_type": "execute_result"
    }
   ],
   "source": [
    "activity_load.head()"
   ]
  },
  {
   "cell_type": "markdown",
   "id": "b3baf374-48ab-49cd-b995-367a4324c3b7",
   "metadata": {},
   "source": [
    "### OBTENCIÓN DE VENTANAS DE HR"
   ]
  },
  {
   "cell_type": "code",
   "execution_count": 8,
   "id": "1c3fc98a-1ff0-4a62-9d38-e2da9958a6e4",
   "metadata": {},
   "outputs": [
    {
     "name": "stdout",
     "output_type": "stream",
     "text": [
      "Número de registros: 18265\n"
     ]
    }
   ],
   "source": [
    "print(f'Número de registros: {len(hr)}')"
   ]
  },
  {
   "cell_type": "markdown",
   "id": "ab5cfb41-f2b9-4b7d-b446-9adb69fc04d1",
   "metadata": {},
   "source": [
    "Se fijan los valores para la obtención de ventanas"
   ]
  },
  {
   "cell_type": "code",
   "execution_count": 9,
   "id": "c7cd25d3-b24a-45ef-b1cb-108d20e7e143",
   "metadata": {},
   "outputs": [],
   "source": [
    "window_size = 10\n",
    "overlap = 0.5"
   ]
  },
  {
   "cell_type": "markdown",
   "id": "cda42913-42e5-49a1-a968-258572acb6f5",
   "metadata": {},
   "source": [
    "Se crea el dataframe en el que se van a guardar las ventanas"
   ]
  },
  {
   "cell_type": "code",
   "execution_count": 10,
   "id": "56a1d099-4f89-49e1-bb20-72ea03c74faf",
   "metadata": {},
   "outputs": [],
   "source": [
    "window = pd.DataFrame()"
   ]
  },
  {
   "cell_type": "markdown",
   "id": "f4a89476-b228-43df-b4af-91b70fed316b",
   "metadata": {},
   "source": [
    "Se coge cada registro con un intervalo del tamaño de la ventana multiplicado por el solapamiento"
   ]
  },
  {
   "cell_type": "code",
   "execution_count": 11,
   "id": "95f80076-d7e4-46bf-949a-014f8516deae",
   "metadata": {},
   "outputs": [],
   "source": [
    "for i in range(0,len(hr), int(window_size*(1-overlap))):\n",
    "    window = window.append([hr.iloc[i:i+window_size]['hr'].values])"
   ]
  },
  {
   "cell_type": "code",
   "execution_count": 12,
   "id": "37543b7b-971a-4308-9b52-3c1fe6db5560",
   "metadata": {},
   "outputs": [
    {
     "data": {
      "text/html": [
       "<div>\n",
       "<style scoped>\n",
       "    .dataframe tbody tr th:only-of-type {\n",
       "        vertical-align: middle;\n",
       "    }\n",
       "\n",
       "    .dataframe tbody tr th {\n",
       "        vertical-align: top;\n",
       "    }\n",
       "\n",
       "    .dataframe thead th {\n",
       "        text-align: right;\n",
       "    }\n",
       "</style>\n",
       "<table border=\"1\" class=\"dataframe\">\n",
       "  <thead>\n",
       "    <tr style=\"text-align: right;\">\n",
       "      <th></th>\n",
       "      <th>0</th>\n",
       "      <th>1</th>\n",
       "      <th>2</th>\n",
       "      <th>3</th>\n",
       "      <th>4</th>\n",
       "      <th>5</th>\n",
       "      <th>6</th>\n",
       "      <th>7</th>\n",
       "      <th>8</th>\n",
       "      <th>9</th>\n",
       "    </tr>\n",
       "  </thead>\n",
       "  <tbody>\n",
       "    <tr>\n",
       "      <th>0</th>\n",
       "      <td>74.0</td>\n",
       "      <td>74.0</td>\n",
       "      <td>74.0</td>\n",
       "      <td>75.0</td>\n",
       "      <td>75.0</td>\n",
       "      <td>75.0</td>\n",
       "      <td>74.0</td>\n",
       "      <td>74.0</td>\n",
       "      <td>73.0</td>\n",
       "      <td>73.0</td>\n",
       "    </tr>\n",
       "    <tr>\n",
       "      <th>0</th>\n",
       "      <td>75.0</td>\n",
       "      <td>74.0</td>\n",
       "      <td>74.0</td>\n",
       "      <td>73.0</td>\n",
       "      <td>73.0</td>\n",
       "      <td>73.0</td>\n",
       "      <td>73.0</td>\n",
       "      <td>73.0</td>\n",
       "      <td>73.0</td>\n",
       "      <td>73.0</td>\n",
       "    </tr>\n",
       "    <tr>\n",
       "      <th>0</th>\n",
       "      <td>73.0</td>\n",
       "      <td>73.0</td>\n",
       "      <td>73.0</td>\n",
       "      <td>73.0</td>\n",
       "      <td>73.0</td>\n",
       "      <td>73.0</td>\n",
       "      <td>73.0</td>\n",
       "      <td>73.0</td>\n",
       "      <td>73.0</td>\n",
       "      <td>73.0</td>\n",
       "    </tr>\n",
       "    <tr>\n",
       "      <th>0</th>\n",
       "      <td>73.0</td>\n",
       "      <td>73.0</td>\n",
       "      <td>73.0</td>\n",
       "      <td>73.0</td>\n",
       "      <td>73.0</td>\n",
       "      <td>73.0</td>\n",
       "      <td>73.0</td>\n",
       "      <td>73.0</td>\n",
       "      <td>73.0</td>\n",
       "      <td>73.0</td>\n",
       "    </tr>\n",
       "    <tr>\n",
       "      <th>0</th>\n",
       "      <td>73.0</td>\n",
       "      <td>73.0</td>\n",
       "      <td>73.0</td>\n",
       "      <td>73.0</td>\n",
       "      <td>73.0</td>\n",
       "      <td>73.0</td>\n",
       "      <td>73.0</td>\n",
       "      <td>73.0</td>\n",
       "      <td>73.0</td>\n",
       "      <td>73.0</td>\n",
       "    </tr>\n",
       "    <tr>\n",
       "      <th>...</th>\n",
       "      <td>...</td>\n",
       "      <td>...</td>\n",
       "      <td>...</td>\n",
       "      <td>...</td>\n",
       "      <td>...</td>\n",
       "      <td>...</td>\n",
       "      <td>...</td>\n",
       "      <td>...</td>\n",
       "      <td>...</td>\n",
       "      <td>...</td>\n",
       "    </tr>\n",
       "    <tr>\n",
       "      <th>0</th>\n",
       "      <td>121.0</td>\n",
       "      <td>120.0</td>\n",
       "      <td>119.0</td>\n",
       "      <td>118.0</td>\n",
       "      <td>118.0</td>\n",
       "      <td>117.0</td>\n",
       "      <td>117.0</td>\n",
       "      <td>117.0</td>\n",
       "      <td>117.0</td>\n",
       "      <td>117.0</td>\n",
       "    </tr>\n",
       "    <tr>\n",
       "      <th>0</th>\n",
       "      <td>117.0</td>\n",
       "      <td>117.0</td>\n",
       "      <td>117.0</td>\n",
       "      <td>117.0</td>\n",
       "      <td>117.0</td>\n",
       "      <td>117.0</td>\n",
       "      <td>117.0</td>\n",
       "      <td>117.0</td>\n",
       "      <td>117.0</td>\n",
       "      <td>117.0</td>\n",
       "    </tr>\n",
       "    <tr>\n",
       "      <th>0</th>\n",
       "      <td>117.0</td>\n",
       "      <td>117.0</td>\n",
       "      <td>117.0</td>\n",
       "      <td>117.0</td>\n",
       "      <td>117.0</td>\n",
       "      <td>117.0</td>\n",
       "      <td>117.0</td>\n",
       "      <td>117.0</td>\n",
       "      <td>117.0</td>\n",
       "      <td>118.0</td>\n",
       "    </tr>\n",
       "    <tr>\n",
       "      <th>0</th>\n",
       "      <td>117.0</td>\n",
       "      <td>117.0</td>\n",
       "      <td>117.0</td>\n",
       "      <td>117.0</td>\n",
       "      <td>118.0</td>\n",
       "      <td>118.0</td>\n",
       "      <td>118.0</td>\n",
       "      <td>118.0</td>\n",
       "      <td>118.0</td>\n",
       "      <td>118.0</td>\n",
       "    </tr>\n",
       "    <tr>\n",
       "      <th>0</th>\n",
       "      <td>118.0</td>\n",
       "      <td>118.0</td>\n",
       "      <td>118.0</td>\n",
       "      <td>118.0</td>\n",
       "      <td>118.0</td>\n",
       "      <td>NaN</td>\n",
       "      <td>NaN</td>\n",
       "      <td>NaN</td>\n",
       "      <td>NaN</td>\n",
       "      <td>NaN</td>\n",
       "    </tr>\n",
       "  </tbody>\n",
       "</table>\n",
       "<p>3653 rows × 10 columns</p>\n",
       "</div>"
      ],
      "text/plain": [
       "        0      1      2      3      4      5      6      7      8      9\n",
       "0    74.0   74.0   74.0   75.0   75.0   75.0   74.0   74.0   73.0   73.0\n",
       "0    75.0   74.0   74.0   73.0   73.0   73.0   73.0   73.0   73.0   73.0\n",
       "0    73.0   73.0   73.0   73.0   73.0   73.0   73.0   73.0   73.0   73.0\n",
       "0    73.0   73.0   73.0   73.0   73.0   73.0   73.0   73.0   73.0   73.0\n",
       "0    73.0   73.0   73.0   73.0   73.0   73.0   73.0   73.0   73.0   73.0\n",
       "..    ...    ...    ...    ...    ...    ...    ...    ...    ...    ...\n",
       "0   121.0  120.0  119.0  118.0  118.0  117.0  117.0  117.0  117.0  117.0\n",
       "0   117.0  117.0  117.0  117.0  117.0  117.0  117.0  117.0  117.0  117.0\n",
       "0   117.0  117.0  117.0  117.0  117.0  117.0  117.0  117.0  117.0  118.0\n",
       "0   117.0  117.0  117.0  117.0  118.0  118.0  118.0  118.0  118.0  118.0\n",
       "0   118.0  118.0  118.0  118.0  118.0    NaN    NaN    NaN    NaN    NaN\n",
       "\n",
       "[3653 rows x 10 columns]"
      ]
     },
     "execution_count": 12,
     "metadata": {},
     "output_type": "execute_result"
    }
   ],
   "source": [
    "window"
   ]
  },
  {
   "cell_type": "code",
   "execution_count": 13,
   "id": "cf399c49-c786-475c-b719-51c801c7914d",
   "metadata": {},
   "outputs": [],
   "source": [
    "window.to_csv(f'../../../../datasets/study-players/{record_date}/clustering/{player_name}_hr_windows_10_50.csv')"
   ]
  },
  {
   "cell_type": "markdown",
   "id": "5d7b047c-434f-4207-a306-0dbc9fcd0d24",
   "metadata": {},
   "source": [
    "### OBTENCIÓN DE VENTANAS DE ACTIVITYLOAD"
   ]
  },
  {
   "cell_type": "code",
   "execution_count": 14,
   "id": "c9b791e4-3213-41f5-8d94-31e4d40f06b3",
   "metadata": {},
   "outputs": [
    {
     "name": "stdout",
     "output_type": "stream",
     "text": [
      "Número de registros: 9195\n"
     ]
    }
   ],
   "source": [
    "print(f'Número de registros: {len(activity_load)}')"
   ]
  },
  {
   "cell_type": "markdown",
   "id": "db3c4ab3-c925-4ea6-8c9c-27534ca0b89f",
   "metadata": {},
   "source": [
    "Se fijan los valores"
   ]
  },
  {
   "cell_type": "code",
   "execution_count": 15,
   "id": "91323443-369f-497c-b4cd-c2336bb73b83",
   "metadata": {},
   "outputs": [],
   "source": [
    "window_size = 5\n",
    "overlap = 0.6"
   ]
  },
  {
   "cell_type": "markdown",
   "id": "1bacf04f-4e23-4ab5-a9ce-9d18852375e6",
   "metadata": {},
   "source": [
    "En este caso, se va a utilizar el mismo porcentaje de solapamiento, pero un tamaño de ventana menor. Esto no es por algo trivial, si no por tener algo heterógeneo: el tamaño de ventana del ritmo cardíaco era de 10, recogiendo un total de 10 datos en un lapso de tiempo de 5 segundos, ya que se recogía el heart rate cada 0.5 segundos. En este caso, se recogen los activity load cada 1 segundo, por tanto, en el mismo periodo de tiempo, se recogerán tan solo 5 datos."
   ]
  },
  {
   "cell_type": "markdown",
   "id": "2bfe975f-0c01-4953-82b6-e09d6cb0bfc8",
   "metadata": {},
   "source": [
    "Se crea el dataframe en el que se van a guardar las ventanas"
   ]
  },
  {
   "cell_type": "code",
   "execution_count": 16,
   "id": "16f57d01-3e21-44f8-973e-59060534dfbe",
   "metadata": {},
   "outputs": [],
   "source": [
    "window = pd.DataFrame()"
   ]
  },
  {
   "cell_type": "markdown",
   "id": "ccdccc8d-17f5-46e8-b62d-74058ca5190c",
   "metadata": {},
   "source": [
    "Primero con ActivityLoad 2D"
   ]
  },
  {
   "cell_type": "code",
   "execution_count": 17,
   "id": "82d85084-0be3-4cf9-9583-6d65cf2e5943",
   "metadata": {},
   "outputs": [],
   "source": [
    "for i in range(0,len(activity_load), int(window_size*(1-overlap))):\n",
    "    window = window.append([activity_load.iloc[i:i+window_size]['activity_load_2d'].values])"
   ]
  },
  {
   "cell_type": "code",
   "execution_count": 18,
   "id": "f127aadb-649f-46b9-9a1c-e8247a13fb3e",
   "metadata": {},
   "outputs": [
    {
     "data": {
      "text/html": [
       "<div>\n",
       "<style scoped>\n",
       "    .dataframe tbody tr th:only-of-type {\n",
       "        vertical-align: middle;\n",
       "    }\n",
       "\n",
       "    .dataframe tbody tr th {\n",
       "        vertical-align: top;\n",
       "    }\n",
       "\n",
       "    .dataframe thead th {\n",
       "        text-align: right;\n",
       "    }\n",
       "</style>\n",
       "<table border=\"1\" class=\"dataframe\">\n",
       "  <thead>\n",
       "    <tr style=\"text-align: right;\">\n",
       "      <th></th>\n",
       "      <th>0</th>\n",
       "      <th>1</th>\n",
       "      <th>2</th>\n",
       "      <th>3</th>\n",
       "      <th>4</th>\n",
       "    </tr>\n",
       "  </thead>\n",
       "  <tbody>\n",
       "    <tr>\n",
       "      <th>0</th>\n",
       "      <td>0.0088</td>\n",
       "      <td>0.0018</td>\n",
       "      <td>0.0018</td>\n",
       "      <td>0.0042</td>\n",
       "      <td>0.0031</td>\n",
       "    </tr>\n",
       "    <tr>\n",
       "      <th>0</th>\n",
       "      <td>0.0018</td>\n",
       "      <td>0.0042</td>\n",
       "      <td>0.0031</td>\n",
       "      <td>0.0021</td>\n",
       "      <td>0.0017</td>\n",
       "    </tr>\n",
       "    <tr>\n",
       "      <th>0</th>\n",
       "      <td>0.0031</td>\n",
       "      <td>0.0021</td>\n",
       "      <td>0.0017</td>\n",
       "      <td>0.0040</td>\n",
       "      <td>0.0017</td>\n",
       "    </tr>\n",
       "    <tr>\n",
       "      <th>0</th>\n",
       "      <td>0.0017</td>\n",
       "      <td>0.0040</td>\n",
       "      <td>0.0017</td>\n",
       "      <td>0.0019</td>\n",
       "      <td>0.0020</td>\n",
       "    </tr>\n",
       "    <tr>\n",
       "      <th>0</th>\n",
       "      <td>0.0017</td>\n",
       "      <td>0.0019</td>\n",
       "      <td>0.0020</td>\n",
       "      <td>0.0020</td>\n",
       "      <td>0.0028</td>\n",
       "    </tr>\n",
       "    <tr>\n",
       "      <th>...</th>\n",
       "      <td>...</td>\n",
       "      <td>...</td>\n",
       "      <td>...</td>\n",
       "      <td>...</td>\n",
       "      <td>...</td>\n",
       "    </tr>\n",
       "    <tr>\n",
       "      <th>0</th>\n",
       "      <td>0.0751</td>\n",
       "      <td>0.1145</td>\n",
       "      <td>0.1988</td>\n",
       "      <td>0.0963</td>\n",
       "      <td>0.0629</td>\n",
       "    </tr>\n",
       "    <tr>\n",
       "      <th>0</th>\n",
       "      <td>0.1988</td>\n",
       "      <td>0.0963</td>\n",
       "      <td>0.0629</td>\n",
       "      <td>0.0625</td>\n",
       "      <td>0.1106</td>\n",
       "    </tr>\n",
       "    <tr>\n",
       "      <th>0</th>\n",
       "      <td>0.0629</td>\n",
       "      <td>0.0625</td>\n",
       "      <td>0.1106</td>\n",
       "      <td>0.0215</td>\n",
       "      <td>0.0116</td>\n",
       "    </tr>\n",
       "    <tr>\n",
       "      <th>0</th>\n",
       "      <td>0.1106</td>\n",
       "      <td>0.0215</td>\n",
       "      <td>0.0116</td>\n",
       "      <td>NaN</td>\n",
       "      <td>NaN</td>\n",
       "    </tr>\n",
       "    <tr>\n",
       "      <th>0</th>\n",
       "      <td>0.0116</td>\n",
       "      <td>NaN</td>\n",
       "      <td>NaN</td>\n",
       "      <td>NaN</td>\n",
       "      <td>NaN</td>\n",
       "    </tr>\n",
       "  </tbody>\n",
       "</table>\n",
       "<p>4598 rows × 5 columns</p>\n",
       "</div>"
      ],
      "text/plain": [
       "         0       1       2       3       4\n",
       "0   0.0088  0.0018  0.0018  0.0042  0.0031\n",
       "0   0.0018  0.0042  0.0031  0.0021  0.0017\n",
       "0   0.0031  0.0021  0.0017  0.0040  0.0017\n",
       "0   0.0017  0.0040  0.0017  0.0019  0.0020\n",
       "0   0.0017  0.0019  0.0020  0.0020  0.0028\n",
       "..     ...     ...     ...     ...     ...\n",
       "0   0.0751  0.1145  0.1988  0.0963  0.0629\n",
       "0   0.1988  0.0963  0.0629  0.0625  0.1106\n",
       "0   0.0629  0.0625  0.1106  0.0215  0.0116\n",
       "0   0.1106  0.0215  0.0116     NaN     NaN\n",
       "0   0.0116     NaN     NaN     NaN     NaN\n",
       "\n",
       "[4598 rows x 5 columns]"
      ]
     },
     "execution_count": 18,
     "metadata": {},
     "output_type": "execute_result"
    }
   ],
   "source": [
    "window"
   ]
  },
  {
   "cell_type": "code",
   "execution_count": 19,
   "id": "4f01199f-c0e7-4f7a-b646-129791b1cb54",
   "metadata": {},
   "outputs": [],
   "source": [
    "window.to_csv(f'../../../../datasets/study-players/{record_date}/clustering/{player_name}_al2d_windows_10_60.csv')"
   ]
  },
  {
   "cell_type": "markdown",
   "id": "eecf957f-db6a-4182-8a0d-cd51f367c448",
   "metadata": {},
   "source": [
    "Después con ActivityLoad 3D"
   ]
  },
  {
   "cell_type": "code",
   "execution_count": 20,
   "id": "81188b5f-8519-4279-9699-5758d3fb992d",
   "metadata": {},
   "outputs": [],
   "source": [
    "window = pd.DataFrame()"
   ]
  },
  {
   "cell_type": "code",
   "execution_count": 21,
   "id": "d1f45438-4fc8-4c88-9072-fe516efd20b3",
   "metadata": {},
   "outputs": [],
   "source": [
    "for i in range(0,len(activity_load), int(window_size*(1-overlap))):\n",
    "    window = window.append([activity_load.iloc[i:i+window_size]['activity_load_3d'].values])"
   ]
  },
  {
   "cell_type": "code",
   "execution_count": 22,
   "id": "f59c64c7-03e7-48bc-85d1-9cff6268f3e3",
   "metadata": {},
   "outputs": [
    {
     "data": {
      "text/html": [
       "<div>\n",
       "<style scoped>\n",
       "    .dataframe tbody tr th:only-of-type {\n",
       "        vertical-align: middle;\n",
       "    }\n",
       "\n",
       "    .dataframe tbody tr th {\n",
       "        vertical-align: top;\n",
       "    }\n",
       "\n",
       "    .dataframe thead th {\n",
       "        text-align: right;\n",
       "    }\n",
       "</style>\n",
       "<table border=\"1\" class=\"dataframe\">\n",
       "  <thead>\n",
       "    <tr style=\"text-align: right;\">\n",
       "      <th></th>\n",
       "      <th>0</th>\n",
       "      <th>1</th>\n",
       "      <th>2</th>\n",
       "      <th>3</th>\n",
       "      <th>4</th>\n",
       "    </tr>\n",
       "  </thead>\n",
       "  <tbody>\n",
       "    <tr>\n",
       "      <th>0</th>\n",
       "      <td>0.0097</td>\n",
       "      <td>0.0025</td>\n",
       "      <td>0.0029</td>\n",
       "      <td>0.0051</td>\n",
       "      <td>0.0041</td>\n",
       "    </tr>\n",
       "    <tr>\n",
       "      <th>0</th>\n",
       "      <td>0.0029</td>\n",
       "      <td>0.0051</td>\n",
       "      <td>0.0041</td>\n",
       "      <td>0.0031</td>\n",
       "      <td>0.0027</td>\n",
       "    </tr>\n",
       "    <tr>\n",
       "      <th>0</th>\n",
       "      <td>0.0041</td>\n",
       "      <td>0.0031</td>\n",
       "      <td>0.0027</td>\n",
       "      <td>0.0050</td>\n",
       "      <td>0.0026</td>\n",
       "    </tr>\n",
       "    <tr>\n",
       "      <th>0</th>\n",
       "      <td>0.0027</td>\n",
       "      <td>0.0050</td>\n",
       "      <td>0.0026</td>\n",
       "      <td>0.0030</td>\n",
       "      <td>0.0028</td>\n",
       "    </tr>\n",
       "    <tr>\n",
       "      <th>0</th>\n",
       "      <td>0.0026</td>\n",
       "      <td>0.0030</td>\n",
       "      <td>0.0028</td>\n",
       "      <td>0.0028</td>\n",
       "      <td>0.0035</td>\n",
       "    </tr>\n",
       "    <tr>\n",
       "      <th>...</th>\n",
       "      <td>...</td>\n",
       "      <td>...</td>\n",
       "      <td>...</td>\n",
       "      <td>...</td>\n",
       "      <td>...</td>\n",
       "    </tr>\n",
       "    <tr>\n",
       "      <th>0</th>\n",
       "      <td>0.1065</td>\n",
       "      <td>0.1684</td>\n",
       "      <td>0.2310</td>\n",
       "      <td>0.1151</td>\n",
       "      <td>0.0877</td>\n",
       "    </tr>\n",
       "    <tr>\n",
       "      <th>0</th>\n",
       "      <td>0.2310</td>\n",
       "      <td>0.1151</td>\n",
       "      <td>0.0877</td>\n",
       "      <td>0.0701</td>\n",
       "      <td>0.1324</td>\n",
       "    </tr>\n",
       "    <tr>\n",
       "      <th>0</th>\n",
       "      <td>0.0877</td>\n",
       "      <td>0.0701</td>\n",
       "      <td>0.1324</td>\n",
       "      <td>0.0240</td>\n",
       "      <td>0.0131</td>\n",
       "    </tr>\n",
       "    <tr>\n",
       "      <th>0</th>\n",
       "      <td>0.1324</td>\n",
       "      <td>0.0240</td>\n",
       "      <td>0.0131</td>\n",
       "      <td>NaN</td>\n",
       "      <td>NaN</td>\n",
       "    </tr>\n",
       "    <tr>\n",
       "      <th>0</th>\n",
       "      <td>0.0131</td>\n",
       "      <td>NaN</td>\n",
       "      <td>NaN</td>\n",
       "      <td>NaN</td>\n",
       "      <td>NaN</td>\n",
       "    </tr>\n",
       "  </tbody>\n",
       "</table>\n",
       "<p>4598 rows × 5 columns</p>\n",
       "</div>"
      ],
      "text/plain": [
       "         0       1       2       3       4\n",
       "0   0.0097  0.0025  0.0029  0.0051  0.0041\n",
       "0   0.0029  0.0051  0.0041  0.0031  0.0027\n",
       "0   0.0041  0.0031  0.0027  0.0050  0.0026\n",
       "0   0.0027  0.0050  0.0026  0.0030  0.0028\n",
       "0   0.0026  0.0030  0.0028  0.0028  0.0035\n",
       "..     ...     ...     ...     ...     ...\n",
       "0   0.1065  0.1684  0.2310  0.1151  0.0877\n",
       "0   0.2310  0.1151  0.0877  0.0701  0.1324\n",
       "0   0.0877  0.0701  0.1324  0.0240  0.0131\n",
       "0   0.1324  0.0240  0.0131     NaN     NaN\n",
       "0   0.0131     NaN     NaN     NaN     NaN\n",
       "\n",
       "[4598 rows x 5 columns]"
      ]
     },
     "execution_count": 22,
     "metadata": {},
     "output_type": "execute_result"
    }
   ],
   "source": [
    "window"
   ]
  },
  {
   "cell_type": "code",
   "execution_count": 23,
   "id": "9cf518f6-1937-44bc-bfd6-964db7a06581",
   "metadata": {},
   "outputs": [],
   "source": [
    "window.to_csv(f'../../../../datasets/study-players/{record_date}/clustering/{player_name}_al3d_windows_10_60.csv')"
   ]
  },
  {
   "cell_type": "code",
   "execution_count": null,
   "id": "71fa2f46-0e35-4674-be41-56395951ce4d",
   "metadata": {},
   "outputs": [],
   "source": []
  }
 ],
 "metadata": {
  "kernelspec": {
   "display_name": "Python 3 (ipykernel)",
   "language": "python",
   "name": "python3"
  },
  "language_info": {
   "codemirror_mode": {
    "name": "ipython",
    "version": 3
   },
   "file_extension": ".py",
   "mimetype": "text/x-python",
   "name": "python",
   "nbconvert_exporter": "python",
   "pygments_lexer": "ipython3",
   "version": "3.9.2"
  }
 },
 "nbformat": 4,
 "nbformat_minor": 5
}
