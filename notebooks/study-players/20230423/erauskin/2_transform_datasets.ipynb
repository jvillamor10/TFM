{
 "cells": [
  {
   "cell_type": "code",
   "execution_count": 1,
   "id": "7f826731-5fa5-435c-a3e2-55bceaa2dbb9",
   "metadata": {},
   "outputs": [],
   "source": [
    "import pandas as pd\n",
    "import matplotlib.pyplot as plt\n",
    "import numpy as np"
   ]
  },
  {
   "cell_type": "markdown",
   "id": "489167aa-8d37-448c-886d-d7286481ee45",
   "metadata": {},
   "source": [
    "Se ajustan los valores *record_date* y *player_name*"
   ]
  },
  {
   "cell_type": "code",
   "execution_count": 2,
   "id": "d016c773-f69a-416f-a0e7-e2024d5789b5",
   "metadata": {},
   "outputs": [],
   "source": [
    "record_date = '20230423'"
   ]
  },
  {
   "cell_type": "code",
   "execution_count": 3,
   "id": "a7d7c611-3c14-4fb8-b709-d67e2f44f362",
   "metadata": {},
   "outputs": [],
   "source": [
    "player_name = 'euraskin_anne'"
   ]
  },
  {
   "cell_type": "code",
   "execution_count": 42,
   "id": "cb1d346a-33e2-4eb9-a721-338a9f596a82",
   "metadata": {},
   "outputs": [],
   "source": [
    "PLAYER_HR_FILE_DIR = f'../../datasets/study-players/{record_date}/{player_name}_hr.csv'"
   ]
  },
  {
   "cell_type": "code",
   "execution_count": 46,
   "id": "b2124411-f8be-40ca-b488-c89953f8c1ab",
   "metadata": {},
   "outputs": [
    {
     "data": {
      "text/html": [
       "<div>\n",
       "<style scoped>\n",
       "    .dataframe tbody tr th:only-of-type {\n",
       "        vertical-align: middle;\n",
       "    }\n",
       "\n",
       "    .dataframe tbody tr th {\n",
       "        vertical-align: top;\n",
       "    }\n",
       "\n",
       "    .dataframe thead th {\n",
       "        text-align: right;\n",
       "    }\n",
       "</style>\n",
       "<table border=\"1\" class=\"dataframe\">\n",
       "  <thead>\n",
       "    <tr style=\"text-align: right;\">\n",
       "      <th></th>\n",
       "      <th>seconds</th>\n",
       "      <th>date</th>\n",
       "      <th>hr</th>\n",
       "    </tr>\n",
       "  </thead>\n",
       "  <tbody>\n",
       "    <tr>\n",
       "      <th>114586</th>\n",
       "      <td>1045,302</td>\n",
       "      <td>[2023-04-23 18:27:39 551]</td>\n",
       "      <td>75.0</td>\n",
       "    </tr>\n",
       "    <tr>\n",
       "      <th>114646</th>\n",
       "      <td>1045,802</td>\n",
       "      <td>[2023-04-23 18:27:40 051]</td>\n",
       "      <td>75.0</td>\n",
       "    </tr>\n",
       "    <tr>\n",
       "      <th>114703</th>\n",
       "      <td>1046,302</td>\n",
       "      <td>[2023-04-23 18:27:40 551]</td>\n",
       "      <td>75.0</td>\n",
       "    </tr>\n",
       "    <tr>\n",
       "      <th>114761</th>\n",
       "      <td>1046,802</td>\n",
       "      <td>[2023-04-23 18:27:41 051]</td>\n",
       "      <td>75.0</td>\n",
       "    </tr>\n",
       "    <tr>\n",
       "      <th>114817</th>\n",
       "      <td>1047,302</td>\n",
       "      <td>[2023-04-23 18:27:41 551]</td>\n",
       "      <td>77.0</td>\n",
       "    </tr>\n",
       "  </tbody>\n",
       "</table>\n",
       "</div>"
      ],
      "text/plain": [
       "         seconds                       date    hr\n",
       "114586  1045,302  [2023-04-23 18:27:39 551]  75.0\n",
       "114646  1045,802  [2023-04-23 18:27:40 051]  75.0\n",
       "114703  1046,302  [2023-04-23 18:27:40 551]  75.0\n",
       "114761  1046,802  [2023-04-23 18:27:41 051]  75.0\n",
       "114817  1047,302  [2023-04-23 18:27:41 551]  77.0"
      ]
     },
     "execution_count": 46,
     "metadata": {},
     "output_type": "execute_result"
    }
   ],
   "source": [
    "hr = pd.read_csv(PLAYER_HR_FILE_DIR,index_col=0)\n",
    "hr.head()"
   ]
  },
  {
   "cell_type": "code",
   "execution_count": 50,
   "id": "27df794e-523f-4a8f-9cdd-ef0347d454d5",
   "metadata": {},
   "outputs": [
    {
     "data": {
      "text/plain": [
       "seconds     object\n",
       "date        object\n",
       "hr         float64\n",
       "dtype: object"
      ]
     },
     "execution_count": 50,
     "metadata": {},
     "output_type": "execute_result"
    }
   ],
   "source": [
    "hr.dtypes"
   ]
  },
  {
   "cell_type": "markdown",
   "id": "4ce4ccba-2ef6-4366-9e06-076a0131a2f0",
   "metadata": {},
   "source": [
    "Se convierte el valor de seconds a un valor númerico"
   ]
  },
  {
   "cell_type": "code",
   "execution_count": 11,
   "id": "f2e7f0d1-a38e-44b9-9c8d-0494d8729eab",
   "metadata": {},
   "outputs": [],
   "source": [
    "def convert_comma_to_point(value):\n",
    "    if isinstance(value, str):\n",
    "        return value.replace(',','.')\n",
    "    return value"
   ]
  },
  {
   "cell_type": "code",
   "execution_count": 56,
   "id": "d4a4a426-973b-4ad5-8723-959cc78b302d",
   "metadata": {},
   "outputs": [],
   "source": [
    "hr['seconds'] = hr['seconds'].apply(lambda x: convert_comma_to_point(x))\n",
    "hr['seconds'] = hr['seconds'].apply(pd.to_numeric)"
   ]
  },
  {
   "cell_type": "markdown",
   "id": "fd95c497-43ac-4e4b-b7db-8cdf26e359d6",
   "metadata": {},
   "source": [
    "Se hace un pequeño estudio"
   ]
  },
  {
   "cell_type": "code",
   "execution_count": 57,
   "id": "8e89151a-e142-420a-b89e-e137d13baf55",
   "metadata": {},
   "outputs": [
    {
     "data": {
      "text/plain": [
       "<AxesSubplot:>"
      ]
     },
     "execution_count": 57,
     "metadata": {},
     "output_type": "execute_result"
    },
    {
     "data": {
      "image/png": "[encoded data removed]",
      "text/plain": [
       "<Figure size 432x288 with 1 Axes>"
      ]
     },
     "metadata": {
      "needs_background": "light"
     },
     "output_type": "display_data"
    }
   ],
   "source": [
    "hr.plot(y='hr')"
   ]
  },
  {
   "cell_type": "code",
   "execution_count": 58,
   "id": "1cb95cf5-09c2-49f3-8a01-56d107adaaa4",
   "metadata": {},
   "outputs": [
    {
     "name": "stdout",
     "output_type": "stream",
     "text": [
      "Valor mínimo 1045.302\n",
      "Valor máximo 10653.802\n"
     ]
    }
   ],
   "source": [
    "min_seconds = hr['seconds'].min()\n",
    "max_seconds = hr['seconds'].max()\n",
    "\n",
    "print(f\"Valor mínimo {min_seconds}\")\n",
    "print(f\"Valor máximo {max_seconds}\")"
   ]
  },
  {
   "cell_type": "code",
   "execution_count": 59,
   "id": "9ba404d9-fd5b-4133-9d78-128a9cc68fed",
   "metadata": {},
   "outputs": [
    {
     "name": "stdout",
     "output_type": "stream",
     "text": [
      "Minutos totales: 160.14166666666668 minutos\n",
      "Horas totales: 2.669027777777778 horas\n"
     ]
    }
   ],
   "source": [
    "minutes = (max_seconds - min_seconds) / 60\n",
    "hours = minutes / 60\n",
    "print(f\"Minutos totales: {minutes} minutos\")\n",
    "print(f\"Horas totales: {hours} horas\")"
   ]
  },
  {
   "cell_type": "markdown",
   "id": "2e15ab2c-5ac2-4de7-9a77-9395b221bd7f",
   "metadata": {},
   "source": [
    "La frecuencia de la variable HR es de 0.5 segundos, es decir, cada medio segundo, se recoge el ritmo cardíaco de la jugada. Se va a comprobar que esto se cumple."
   ]
  },
  {
   "cell_type": "code",
   "execution_count": 60,
   "id": "1be727d7-54b4-49c0-ba64-ac5f24d44fcd",
   "metadata": {},
   "outputs": [
    {
     "data": {
      "text/plain": [
       "114586     NaN\n",
       "114646     0.5\n",
       "114703     0.5\n",
       "114761     0.5\n",
       "114817     0.5\n",
       "          ... \n",
       "1202682    0.5\n",
       "1202739    0.5\n",
       "1202797    0.5\n",
       "1202852    0.5\n",
       "1202909    0.5\n",
       "Name: seconds, Length: 18165, dtype: float64"
      ]
     },
     "execution_count": 60,
     "metadata": {},
     "output_type": "execute_result"
    }
   ],
   "source": [
    "hr['seconds'].diff()"
   ]
  },
  {
   "cell_type": "code",
   "execution_count": 61,
   "id": "2d014307-001f-4201-bd15-1b03c0b8fa57",
   "metadata": {},
   "outputs": [
    {
     "data": {
      "text/plain": [
       "array([ nan,  0.5,  5. ,  3.5,  2.5,  4. ,  1. ,  2. ,  3. ,  1.5,  4.5,\n",
       "        0.5,  8.5,  6. ,  8. , 10.5,  0.5, 15.5,  5.5,  9.5,  6.5,  7. ,\n",
       "       11.5, 14.5, 13.5,  7.5])"
      ]
     },
     "execution_count": 61,
     "metadata": {},
     "output_type": "execute_result"
    }
   ],
   "source": [
    "hr['seconds'].diff().unique()"
   ]
  },
  {
   "cell_type": "code",
   "execution_count": 62,
   "id": "edfdfa20-99a9-424e-aafc-fb053f83cab6",
   "metadata": {},
   "outputs": [],
   "source": [
    "hr['diff'] = hr['seconds'].diff()"
   ]
  },
  {
   "cell_type": "code",
   "execution_count": null,
   "id": "0bb331e3-4b6f-48bb-ab7d-219f01b47218",
   "metadata": {},
   "outputs": [],
   "source": [
    "hr.pivot_table(columns=['diff'], aggfunc='size')"
   ]
  },
  {
   "cell_type": "markdown",
   "id": "751e3cf0-1866-4b00-8073-66ef820b2b05",
   "metadata": {},
   "source": [
    "Se interpolan los datos"
   ]
  },
  {
   "cell_type": "code",
   "execution_count": 65,
   "id": "2f8b4fed-5d85-4fd0-8fa6-b63bf9a34caa",
   "metadata": {},
   "outputs": [],
   "source": [
    "new_df = pd.DataFrame()"
   ]
  },
  {
   "cell_type": "code",
   "execution_count": 66,
   "id": "0888798b-bb16-40e1-95cd-6ad1489ade8e",
   "metadata": {},
   "outputs": [],
   "source": [
    "last = hr.iloc[0]\n",
    "for i in range(1, hr.shape[0]):\n",
    "    new_df = new_df.append(last)\n",
    "    # si valor actual tiene diff mayor que 0.5, generar números\n",
    "    \n",
    "    if hr.iloc[i]['diff'] > 0.5:\n",
    "        seconds = last['seconds']\n",
    "        value = (hr.iloc[i]['hr'] + last['hr'])/ 2\n",
    "        #print(hr.iloc[i]['hr'], last['hr'], value)\n",
    "        #print(last, hr.iloc[i])\n",
    "        for x in range(0, int(hr.iloc[i]['diff']/0.5) -1):\n",
    "            \n",
    "            seconds = seconds + 0.5\n",
    "            new_df = new_df.append({'seconds': seconds, 'date': None, 'hr': value},ignore_index=True)\n",
    "    last = hr.iloc[i]\n"
   ]
  },
  {
   "cell_type": "code",
   "execution_count": 67,
   "id": "ab5d7d73-9771-4eaf-bca3-365c0c32b1e8",
   "metadata": {},
   "outputs": [
    {
     "data": {
      "text/html": [
       "<div>\n",
       "<style scoped>\n",
       "    .dataframe tbody tr th:only-of-type {\n",
       "        vertical-align: middle;\n",
       "    }\n",
       "\n",
       "    .dataframe tbody tr th {\n",
       "        vertical-align: top;\n",
       "    }\n",
       "\n",
       "    .dataframe thead th {\n",
       "        text-align: right;\n",
       "    }\n",
       "</style>\n",
       "<table border=\"1\" class=\"dataframe\">\n",
       "  <thead>\n",
       "    <tr style=\"text-align: right;\">\n",
       "      <th></th>\n",
       "      <th>seconds</th>\n",
       "      <th>date</th>\n",
       "      <th>hr</th>\n",
       "      <th>diff</th>\n",
       "    </tr>\n",
       "  </thead>\n",
       "  <tbody>\n",
       "    <tr>\n",
       "      <th>0</th>\n",
       "      <td>1045.302</td>\n",
       "      <td>[2023-04-23 18:27:39 551]</td>\n",
       "      <td>75.0</td>\n",
       "      <td>NaN</td>\n",
       "    </tr>\n",
       "    <tr>\n",
       "      <th>1</th>\n",
       "      <td>1045.802</td>\n",
       "      <td>[2023-04-23 18:27:40 051]</td>\n",
       "      <td>75.0</td>\n",
       "      <td>0.5</td>\n",
       "    </tr>\n",
       "    <tr>\n",
       "      <th>2</th>\n",
       "      <td>1046.302</td>\n",
       "      <td>[2023-04-23 18:27:40 551]</td>\n",
       "      <td>75.0</td>\n",
       "      <td>0.5</td>\n",
       "    </tr>\n",
       "    <tr>\n",
       "      <th>3</th>\n",
       "      <td>1046.802</td>\n",
       "      <td>[2023-04-23 18:27:41 051]</td>\n",
       "      <td>75.0</td>\n",
       "      <td>0.5</td>\n",
       "    </tr>\n",
       "    <tr>\n",
       "      <th>4</th>\n",
       "      <td>1047.302</td>\n",
       "      <td>[2023-04-23 18:27:41 551]</td>\n",
       "      <td>77.0</td>\n",
       "      <td>0.5</td>\n",
       "    </tr>\n",
       "    <tr>\n",
       "      <th>...</th>\n",
       "      <td>...</td>\n",
       "      <td>...</td>\n",
       "      <td>...</td>\n",
       "      <td>...</td>\n",
       "    </tr>\n",
       "    <tr>\n",
       "      <th>1202624</th>\n",
       "      <td>10651.302</td>\n",
       "      <td>[2023-04-23 21:07:45 551]</td>\n",
       "      <td>84.0</td>\n",
       "      <td>0.5</td>\n",
       "    </tr>\n",
       "    <tr>\n",
       "      <th>1202682</th>\n",
       "      <td>10651.802</td>\n",
       "      <td>[2023-04-23 21:07:46 051]</td>\n",
       "      <td>84.0</td>\n",
       "      <td>0.5</td>\n",
       "    </tr>\n",
       "    <tr>\n",
       "      <th>1202739</th>\n",
       "      <td>10652.302</td>\n",
       "      <td>[2023-04-23 21:07:46 551]</td>\n",
       "      <td>84.0</td>\n",
       "      <td>0.5</td>\n",
       "    </tr>\n",
       "    <tr>\n",
       "      <th>1202797</th>\n",
       "      <td>10652.802</td>\n",
       "      <td>[2023-04-23 21:07:47 051]</td>\n",
       "      <td>84.0</td>\n",
       "      <td>0.5</td>\n",
       "    </tr>\n",
       "    <tr>\n",
       "      <th>1202852</th>\n",
       "      <td>10653.302</td>\n",
       "      <td>[2023-04-23 21:07:47 551]</td>\n",
       "      <td>84.0</td>\n",
       "      <td>0.5</td>\n",
       "    </tr>\n",
       "  </tbody>\n",
       "</table>\n",
       "<p>19217 rows × 4 columns</p>\n",
       "</div>"
      ],
      "text/plain": [
       "           seconds                       date    hr  diff\n",
       "0         1045.302  [2023-04-23 18:27:39 551]  75.0   NaN\n",
       "1         1045.802  [2023-04-23 18:27:40 051]  75.0   0.5\n",
       "2         1046.302  [2023-04-23 18:27:40 551]  75.0   0.5\n",
       "3         1046.802  [2023-04-23 18:27:41 051]  75.0   0.5\n",
       "4         1047.302  [2023-04-23 18:27:41 551]  77.0   0.5\n",
       "...            ...                        ...   ...   ...\n",
       "1202624  10651.302  [2023-04-23 21:07:45 551]  84.0   0.5\n",
       "1202682  10651.802  [2023-04-23 21:07:46 051]  84.0   0.5\n",
       "1202739  10652.302  [2023-04-23 21:07:46 551]  84.0   0.5\n",
       "1202797  10652.802  [2023-04-23 21:07:47 051]  84.0   0.5\n",
       "1202852  10653.302  [2023-04-23 21:07:47 551]  84.0   0.5\n",
       "\n",
       "[19217 rows x 4 columns]"
      ]
     },
     "execution_count": 67,
     "metadata": {},
     "output_type": "execute_result"
    }
   ],
   "source": [
    "new_df"
   ]
  },
  {
   "cell_type": "code",
   "execution_count": null,
   "id": "242b429a-4792-4bb8-8e36-5275ba2f00d8",
   "metadata": {},
   "outputs": [],
   "source": [
    "new_df.to_csv(f'../../datasets/study-players/{record_date}/{player_name}_hr_without_gaps.csv')"
   ]
  },
  {
   "cell_type": "markdown",
   "id": "8a76ba6e-45db-4b03-be43-387a6e4b6111",
   "metadata": {},
   "source": [
    "# Ahora hacer lo mismo con activity"
   ]
  },
  {
   "cell_type": "code",
   "execution_count": 5,
   "id": "c88b6e0d-5886-41ba-b6ef-f5a9b2a299c6",
   "metadata": {},
   "outputs": [],
   "source": [
    "PLAYER_ACTIVITY_FILE_DIR = f'../../datasets/study-players/{record_date}/{player_name}_activity_load.csv'"
   ]
  },
  {
   "cell_type": "code",
   "execution_count": 7,
   "id": "4ad89904-0da1-4e01-b5cc-3c68ebe9d50a",
   "metadata": {},
   "outputs": [
    {
     "data": {
      "text/html": [
       "<div>\n",
       "<style scoped>\n",
       "    .dataframe tbody tr th:only-of-type {\n",
       "        vertical-align: middle;\n",
       "    }\n",
       "\n",
       "    .dataframe tbody tr th {\n",
       "        vertical-align: top;\n",
       "    }\n",
       "\n",
       "    .dataframe thead th {\n",
       "        text-align: right;\n",
       "    }\n",
       "</style>\n",
       "<table border=\"1\" class=\"dataframe\">\n",
       "  <thead>\n",
       "    <tr style=\"text-align: right;\">\n",
       "      <th></th>\n",
       "      <th>seconds</th>\n",
       "      <th>date</th>\n",
       "      <th>activity_load_2d</th>\n",
       "      <th>activity_load_3d</th>\n",
       "    </tr>\n",
       "  </thead>\n",
       "  <tbody>\n",
       "    <tr>\n",
       "      <th>116</th>\n",
       "      <td>1,709</td>\n",
       "      <td>[2023-04-23 18:10:15 958]</td>\n",
       "      <td>0,0447</td>\n",
       "      <td>0,0566</td>\n",
       "    </tr>\n",
       "    <tr>\n",
       "      <th>225</th>\n",
       "      <td>2,709</td>\n",
       "      <td>[2023-04-23 18:10:16 958]</td>\n",
       "      <td>0,0353</td>\n",
       "      <td>0,0427</td>\n",
       "    </tr>\n",
       "    <tr>\n",
       "      <th>336</th>\n",
       "      <td>3,709</td>\n",
       "      <td>[2023-04-23 18:10:17 958]</td>\n",
       "      <td>0,0433</td>\n",
       "      <td>0,0543</td>\n",
       "    </tr>\n",
       "    <tr>\n",
       "      <th>446</th>\n",
       "      <td>4,709</td>\n",
       "      <td>[2023-04-23 18:10:18 958]</td>\n",
       "      <td>0,0393</td>\n",
       "      <td>0,0495</td>\n",
       "    </tr>\n",
       "    <tr>\n",
       "      <th>553</th>\n",
       "      <td>5,709</td>\n",
       "      <td>[2023-04-23 18:10:19 958]</td>\n",
       "      <td>0,0253</td>\n",
       "      <td>0,0335</td>\n",
       "    </tr>\n",
       "  </tbody>\n",
       "</table>\n",
       "</div>"
      ],
      "text/plain": [
       "    seconds                       date activity_load_2d activity_load_3d\n",
       "116   1,709  [2023-04-23 18:10:15 958]           0,0447           0,0566\n",
       "225   2,709  [2023-04-23 18:10:16 958]           0,0353           0,0427\n",
       "336   3,709  [2023-04-23 18:10:17 958]           0,0433           0,0543\n",
       "446   4,709  [2023-04-23 18:10:18 958]           0,0393           0,0495\n",
       "553   5,709  [2023-04-23 18:10:19 958]           0,0253           0,0335"
      ]
     },
     "execution_count": 7,
     "metadata": {},
     "output_type": "execute_result"
    }
   ],
   "source": [
    "activity_load = pd.read_csv(PLAYER_ACTIVITY_FILE_DIR,index_col=0)\n",
    "activity_load.head()"
   ]
  },
  {
   "cell_type": "markdown",
   "id": "b95db4ea-70f3-4979-be11-f7b53cf3ea6c",
   "metadata": {},
   "source": [
    "Se debe cambiar los valores numéricos a las cargas de actividad y a los segundos"
   ]
  },
  {
   "cell_type": "code",
   "execution_count": 12,
   "id": "6ec3a468-91b1-4ac0-ad7a-bfc21e79f10b",
   "metadata": {},
   "outputs": [],
   "source": [
    "activity_load['seconds'] = activity_load['seconds'].apply(lambda x: convert_comma_to_point(x))\n",
    "activity_load['seconds'] = activity_load['seconds'].apply(pd.to_numeric)"
   ]
  },
  {
   "cell_type": "code",
   "execution_count": 17,
   "id": "91739de1-3885-4663-a430-99c3106a6e2e",
   "metadata": {},
   "outputs": [],
   "source": [
    "activity_load['activity_load_2d'] = activity_load['activity_load_2d'].apply(lambda x: convert_comma_to_point(x))\n",
    "activity_load['activity_load_2d'] = activity_load['activity_load_2d'].apply(pd.to_numeric)"
   ]
  },
  {
   "cell_type": "code",
   "execution_count": 13,
   "id": "92a66a54-0113-4b06-b575-89a7859c551c",
   "metadata": {},
   "outputs": [],
   "source": [
    "activity_load['activity_load_3d'] = activity_load['activity_load_3d'].apply(lambda x: convert_comma_to_point(x))\n",
    "activity_load['activity_load_3d'] = activity_load['activity_load_3d'].apply(pd.to_numeric)"
   ]
  },
  {
   "cell_type": "code",
   "execution_count": 18,
   "id": "a389c373-bead-4835-b84b-ff32e3d2442d",
   "metadata": {},
   "outputs": [
    {
     "data": {
      "text/plain": [
       "seconds             float64\n",
       "date                 object\n",
       "activity_load_2d    float64\n",
       "activity_load_3d    float64\n",
       "dtype: object"
      ]
     },
     "execution_count": 18,
     "metadata": {},
     "output_type": "execute_result"
    }
   ],
   "source": [
    "activity_load.dtypes"
   ]
  },
  {
   "cell_type": "markdown",
   "id": "83477613-a932-4574-8766-ceb16d903bc3",
   "metadata": {},
   "source": [
    "Se muestran unos gráficos"
   ]
  },
  {
   "cell_type": "code",
   "execution_count": 20,
   "id": "935931c3-e593-4d8b-a013-3d1d1db5d756",
   "metadata": {},
   "outputs": [
    {
     "data": {
      "text/plain": [
       "<AxesSubplot:>"
      ]
     },
     "execution_count": 20,
     "metadata": {},
     "output_type": "execute_result"
    },
    {
     "data": {
      "image/png": "[encoded data removed]",
      "text/plain": [
       "<Figure size 432x288 with 1 Axes>"
      ]
     },
     "metadata": {
      "needs_background": "light"
     },
     "output_type": "display_data"
    }
   ],
   "source": [
    "activity_load.plot(y='activity_load_2d')"
   ]
  },
  {
   "cell_type": "code",
   "execution_count": 21,
   "id": "5656b2c8-72a0-4ae0-87cb-7a3d5c6b354a",
   "metadata": {},
   "outputs": [
    {
     "data": {
      "text/plain": [
       "<AxesSubplot:>"
      ]
     },
     "execution_count": 21,
     "metadata": {},
     "output_type": "execute_result"
    },
    {
     "data": {
      "image/png": "[encoded data removed]",
      "text/plain": [
       "<Figure size 432x288 with 1 Axes>"
      ]
     },
     "metadata": {
      "needs_background": "light"
     },
     "output_type": "display_data"
    }
   ],
   "source": [
    "activity_load.plot(y='activity_load_3d')"
   ]
  },
  {
   "cell_type": "code",
   "execution_count": 22,
   "id": "fcd1a337-9d33-44e9-94ff-3fb982986c39",
   "metadata": {},
   "outputs": [
    {
     "name": "stdout",
     "output_type": "stream",
     "text": [
      "Valor mínimo 1.709\n",
      "Valor máximo 10654.791\n"
     ]
    }
   ],
   "source": [
    "min_seconds = activity_load['seconds'].min()\n",
    "max_seconds = activity_load['seconds'].max()\n",
    "\n",
    "print(f\"Valor mínimo {min_seconds}\")\n",
    "print(f\"Valor máximo {max_seconds}\")"
   ]
  },
  {
   "cell_type": "code",
   "execution_count": 23,
   "id": "f7855877-d929-4355-9b26-ad85c02cfe8e",
   "metadata": {},
   "outputs": [
    {
     "name": "stdout",
     "output_type": "stream",
     "text": [
      "Minutos totales: 177.55136666666664 minutos\n",
      "Horas totales: 2.9591894444444438 horas\n"
     ]
    }
   ],
   "source": [
    "minutes = (max_seconds - min_seconds) / 60\n",
    "hours = minutes / 60\n",
    "print(f\"Minutos totales: {minutes} minutos\")\n",
    "print(f\"Horas totales: {hours} horas\")"
   ]
  },
  {
   "cell_type": "markdown",
   "id": "f3f4b0e4-805e-48df-8bdf-5e41507d4b93",
   "metadata": {},
   "source": [
    "Se cuenta con más info de la carga de actividad"
   ]
  },
  {
   "cell_type": "markdown",
   "id": "89567676-04b1-4727-bfb0-af7b389c9890",
   "metadata": {},
   "source": [
    "Se comprueban los gaps, frecuencia de un segundoactivity_load['seconds'].diff()"
   ]
  },
  {
   "cell_type": "code",
   "execution_count": 24,
   "id": "812dff1c-47c3-4b21-9267-171934fd0e2a",
   "metadata": {},
   "outputs": [
    {
     "data": {
      "text/plain": [
       "116        NaN\n",
       "225        1.0\n",
       "336        1.0\n",
       "446        1.0\n",
       "553        1.0\n",
       "          ... \n",
       "1202568    1.0\n",
       "1202680    1.0\n",
       "1202795    1.0\n",
       "1202907    1.0\n",
       "1203014    1.0\n",
       "Name: seconds, Length: 10626, dtype: float64"
      ]
     },
     "execution_count": 24,
     "metadata": {},
     "output_type": "execute_result"
    }
   ],
   "source": [
    "activity_load['seconds'].diff()"
   ]
  },
  {
   "cell_type": "code",
   "execution_count": 25,
   "id": "67ae720b-79ec-4e53-8941-062fd55a7545",
   "metadata": {},
   "outputs": [
    {
     "data": {
      "text/plain": [
       "array([  nan, 1.   , 1.   , 1.   , 1.161, 1.   , 1.162, 1.   , 1.161,\n",
       "       1.162, 1.   , 1.162, 1.161, 1.16 , 1.   , 1.161, 1.161, 1.162,\n",
       "       1.   , 1.162, 1.16 , 1.16 , 1.163, 1.163, 1.162, 1.161, 1.16 ,\n",
       "       1.   , 1.162, 1.173, 1.15 , 1.163])"
      ]
     },
     "execution_count": 25,
     "metadata": {},
     "output_type": "execute_result"
    }
   ],
   "source": [
    "activity_load['seconds'].diff().unique()"
   ]
  },
  {
   "cell_type": "markdown",
   "id": "b6f6ce43-a736-494e-9bdd-f42eb6c2c1e9",
   "metadata": {},
   "source": [
    "No hay gaps significativos, no hay que hacer cambios, se guarda el dataset."
   ]
  },
  {
   "cell_type": "code",
   "execution_count": 26,
   "id": "a792d629-2121-4838-b49e-2ba0bbd117b5",
   "metadata": {},
   "outputs": [],
   "source": [
    "activity_load.to_csv(f'../../datasets/study-players/{record_date}/{player_name}_activity_load.csv')"
   ]
  },
  {
   "cell_type": "code",
   "execution_count": null,
   "id": "c8f34f38-2877-4146-adc7-e36fd1329a92",
   "metadata": {},
   "outputs": [],
   "source": []
  }
 ],
 "metadata": {
  "kernelspec": {
   "display_name": "Python 3 (ipykernel)",
   "language": "python",
   "name": "python3"
  },
  "language_info": {
   "codemirror_mode": {
    "name": "ipython",
    "version": 3
   },
   "file_extension": ".py",
   "mimetype": "text/x-python",
   "name": "python",
   "nbconvert_exporter": "python",
   "pygments_lexer": "ipython3",
   "version": "3.9.2"
  }
 },
 "nbformat": 4,
 "nbformat_minor": 5
}
