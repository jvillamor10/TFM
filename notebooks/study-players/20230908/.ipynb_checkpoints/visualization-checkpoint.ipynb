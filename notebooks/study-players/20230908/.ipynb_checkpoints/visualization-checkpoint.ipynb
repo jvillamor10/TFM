{
 "cells": [
  {
   "cell_type": "code",
   "execution_count": 1,
   "id": "7e6adf76-8f3d-4b51-b7cf-22e247c4245b",
   "metadata": {},
   "outputs": [],
   "source": [
    "import pandas as pd\n",
    "import matplotlib.pyplot as plt\n",
    "\n",
    "import matplotlib.pyplot as plt\n",
    "import numpy as np\n",
    "import matplotlib.patches as mpatches"
   ]
  },
  {
   "cell_type": "markdown",
   "id": "91de0df6-244c-492a-a5b4-bd4ada0f9d8d",
   "metadata": {},
   "source": [
    "## HR"
   ]
  },
  {
   "cell_type": "code",
   "execution_count": 13,
   "id": "2166eca2-7b75-4ddc-a8ff-a76dedf9cba6",
   "metadata": {},
   "outputs": [
    {
     "data": {
      "text/html": [
       "<div>\n",
       "<style scoped>\n",
       "    .dataframe tbody tr th:only-of-type {\n",
       "        vertical-align: middle;\n",
       "    }\n",
       "\n",
       "    .dataframe tbody tr th {\n",
       "        vertical-align: top;\n",
       "    }\n",
       "\n",
       "    .dataframe thead th {\n",
       "        text-align: right;\n",
       "    }\n",
       "</style>\n",
       "<table border=\"1\" class=\"dataframe\">\n",
       "  <thead>\n",
       "    <tr style=\"text-align: right;\">\n",
       "      <th></th>\n",
       "      <th>0</th>\n",
       "      <th>1</th>\n",
       "      <th>2</th>\n",
       "      <th>3</th>\n",
       "      <th>4</th>\n",
       "      <th>5</th>\n",
       "      <th>6</th>\n",
       "      <th>7</th>\n",
       "      <th>8</th>\n",
       "      <th>9</th>\n",
       "      <th>cluster</th>\n",
       "    </tr>\n",
       "  </thead>\n",
       "  <tbody>\n",
       "    <tr>\n",
       "      <th>0</th>\n",
       "      <td>74.0</td>\n",
       "      <td>74.0</td>\n",
       "      <td>74.0</td>\n",
       "      <td>75.0</td>\n",
       "      <td>75.0</td>\n",
       "      <td>75.0</td>\n",
       "      <td>74.0</td>\n",
       "      <td>74.0</td>\n",
       "      <td>73.0</td>\n",
       "      <td>73.0</td>\n",
       "      <td>1</td>\n",
       "    </tr>\n",
       "    <tr>\n",
       "      <th>0</th>\n",
       "      <td>75.0</td>\n",
       "      <td>74.0</td>\n",
       "      <td>74.0</td>\n",
       "      <td>73.0</td>\n",
       "      <td>73.0</td>\n",
       "      <td>73.0</td>\n",
       "      <td>73.0</td>\n",
       "      <td>73.0</td>\n",
       "      <td>73.0</td>\n",
       "      <td>73.0</td>\n",
       "      <td>1</td>\n",
       "    </tr>\n",
       "    <tr>\n",
       "      <th>0</th>\n",
       "      <td>73.0</td>\n",
       "      <td>73.0</td>\n",
       "      <td>73.0</td>\n",
       "      <td>73.0</td>\n",
       "      <td>73.0</td>\n",
       "      <td>73.0</td>\n",
       "      <td>73.0</td>\n",
       "      <td>73.0</td>\n",
       "      <td>73.0</td>\n",
       "      <td>73.0</td>\n",
       "      <td>1</td>\n",
       "    </tr>\n",
       "    <tr>\n",
       "      <th>0</th>\n",
       "      <td>73.0</td>\n",
       "      <td>73.0</td>\n",
       "      <td>73.0</td>\n",
       "      <td>73.0</td>\n",
       "      <td>73.0</td>\n",
       "      <td>73.0</td>\n",
       "      <td>73.0</td>\n",
       "      <td>73.0</td>\n",
       "      <td>73.0</td>\n",
       "      <td>73.0</td>\n",
       "      <td>1</td>\n",
       "    </tr>\n",
       "    <tr>\n",
       "      <th>0</th>\n",
       "      <td>73.0</td>\n",
       "      <td>73.0</td>\n",
       "      <td>73.0</td>\n",
       "      <td>73.0</td>\n",
       "      <td>73.0</td>\n",
       "      <td>73.0</td>\n",
       "      <td>73.0</td>\n",
       "      <td>73.0</td>\n",
       "      <td>73.0</td>\n",
       "      <td>73.0</td>\n",
       "      <td>1</td>\n",
       "    </tr>\n",
       "  </tbody>\n",
       "</table>\n",
       "</div>"
      ],
      "text/plain": [
       "      0     1     2     3     4     5     6     7     8     9  cluster\n",
       "0  74.0  74.0  74.0  75.0  75.0  75.0  74.0  74.0  73.0  73.0        1\n",
       "0  75.0  74.0  74.0  73.0  73.0  73.0  73.0  73.0  73.0  73.0        1\n",
       "0  73.0  73.0  73.0  73.0  73.0  73.0  73.0  73.0  73.0  73.0        1\n",
       "0  73.0  73.0  73.0  73.0  73.0  73.0  73.0  73.0  73.0  73.0        1\n",
       "0  73.0  73.0  73.0  73.0  73.0  73.0  73.0  73.0  73.0  73.0        1"
      ]
     },
     "execution_count": 13,
     "metadata": {},
     "output_type": "execute_result"
    }
   ],
   "source": [
    "hr_window_arrojeria = pd.read_csv(f'../../../datasets/study-players/20230908/clustering/arrojeria_esther_hr_windows_10_50_k_4_kmeans.csv',index_col=0)\n",
    "hr_window_arrojeria.head()"
   ]
  },
  {
   "cell_type": "code",
   "execution_count": 14,
   "id": "52372ea9-43f0-4d46-a904-9d883ea60f11",
   "metadata": {},
   "outputs": [
    {
     "data": {
      "text/html": [
       "<div>\n",
       "<style scoped>\n",
       "    .dataframe tbody tr th:only-of-type {\n",
       "        vertical-align: middle;\n",
       "    }\n",
       "\n",
       "    .dataframe tbody tr th {\n",
       "        vertical-align: top;\n",
       "    }\n",
       "\n",
       "    .dataframe thead th {\n",
       "        text-align: right;\n",
       "    }\n",
       "</style>\n",
       "<table border=\"1\" class=\"dataframe\">\n",
       "  <thead>\n",
       "    <tr style=\"text-align: right;\">\n",
       "      <th></th>\n",
       "      <th>0</th>\n",
       "      <th>1</th>\n",
       "      <th>2</th>\n",
       "      <th>3</th>\n",
       "      <th>4</th>\n",
       "      <th>5</th>\n",
       "      <th>6</th>\n",
       "      <th>7</th>\n",
       "      <th>8</th>\n",
       "      <th>9</th>\n",
       "      <th>cluster</th>\n",
       "    </tr>\n",
       "  </thead>\n",
       "  <tbody>\n",
       "    <tr>\n",
       "      <th>0</th>\n",
       "      <td>80.0</td>\n",
       "      <td>80.0</td>\n",
       "      <td>81.0</td>\n",
       "      <td>82.0</td>\n",
       "      <td>84.0</td>\n",
       "      <td>84.0</td>\n",
       "      <td>86.0</td>\n",
       "      <td>86.0</td>\n",
       "      <td>88.0</td>\n",
       "      <td>88.0</td>\n",
       "      <td>1</td>\n",
       "    </tr>\n",
       "    <tr>\n",
       "      <th>0</th>\n",
       "      <td>84.0</td>\n",
       "      <td>86.0</td>\n",
       "      <td>86.0</td>\n",
       "      <td>88.0</td>\n",
       "      <td>88.0</td>\n",
       "      <td>89.0</td>\n",
       "      <td>88.0</td>\n",
       "      <td>88.0</td>\n",
       "      <td>89.0</td>\n",
       "      <td>89.0</td>\n",
       "      <td>1</td>\n",
       "    </tr>\n",
       "    <tr>\n",
       "      <th>0</th>\n",
       "      <td>89.0</td>\n",
       "      <td>88.0</td>\n",
       "      <td>88.0</td>\n",
       "      <td>89.0</td>\n",
       "      <td>89.0</td>\n",
       "      <td>89.0</td>\n",
       "      <td>89.0</td>\n",
       "      <td>88.0</td>\n",
       "      <td>88.0</td>\n",
       "      <td>88.0</td>\n",
       "      <td>1</td>\n",
       "    </tr>\n",
       "    <tr>\n",
       "      <th>0</th>\n",
       "      <td>89.0</td>\n",
       "      <td>89.0</td>\n",
       "      <td>88.0</td>\n",
       "      <td>88.0</td>\n",
       "      <td>88.0</td>\n",
       "      <td>87.0</td>\n",
       "      <td>86.0</td>\n",
       "      <td>85.0</td>\n",
       "      <td>85.0</td>\n",
       "      <td>85.0</td>\n",
       "      <td>1</td>\n",
       "    </tr>\n",
       "    <tr>\n",
       "      <th>0</th>\n",
       "      <td>87.0</td>\n",
       "      <td>86.0</td>\n",
       "      <td>85.0</td>\n",
       "      <td>85.0</td>\n",
       "      <td>85.0</td>\n",
       "      <td>85.0</td>\n",
       "      <td>85.0</td>\n",
       "      <td>85.0</td>\n",
       "      <td>85.0</td>\n",
       "      <td>85.0</td>\n",
       "      <td>1</td>\n",
       "    </tr>\n",
       "  </tbody>\n",
       "</table>\n",
       "</div>"
      ],
      "text/plain": [
       "      0     1     2     3     4     5     6     7     8     9  cluster\n",
       "0  80.0  80.0  81.0  82.0  84.0  84.0  86.0  86.0  88.0  88.0        1\n",
       "0  84.0  86.0  86.0  88.0  88.0  89.0  88.0  88.0  89.0  89.0        1\n",
       "0  89.0  88.0  88.0  89.0  89.0  89.0  89.0  88.0  88.0  88.0        1\n",
       "0  89.0  89.0  88.0  88.0  88.0  87.0  86.0  85.0  85.0  85.0        1\n",
       "0  87.0  86.0  85.0  85.0  85.0  85.0  85.0  85.0  85.0  85.0        1"
      ]
     },
     "execution_count": 14,
     "metadata": {},
     "output_type": "execute_result"
    }
   ],
   "source": [
    "hr_window_cavo = pd.read_csv(f'../../../datasets/study-players/20230908/clustering/cavo_malena_hr_windows_10_50_k_4_kmeans.csv',index_col=0)\n",
    "hr_window_cavo.head()"
   ]
  },
  {
   "cell_type": "code",
   "execution_count": 15,
   "id": "1e421e9c-6a9e-4187-a50f-0ca218c7861e",
   "metadata": {},
   "outputs": [],
   "source": [
    "# Colores para cada número\n",
    "colores = {1: 'blue', 2: 'green', 3: 'yellow', 4: 'red'}"
   ]
  },
  {
   "cell_type": "code",
   "execution_count": 16,
   "id": "220c094b-56bc-40f4-aeac-e7483a14a16a",
   "metadata": {},
   "outputs": [],
   "source": [
    "# Crear un array con los colores correspondientes\n",
    "actividad_colores = [colores[i] for i in hr_window_arrojeria['cluster']]"
   ]
  },
  {
   "cell_type": "code",
   "execution_count": 17,
   "id": "6a9290cf-63c3-4ca6-b641-39a95b73590f",
   "metadata": {},
   "outputs": [],
   "source": [
    "# Crear un array de la misma longitud que los datos pero con todos los elementos siendo 1\n",
    "# Esto es para que la altura de todas las barras sea la misma\n",
    "actividad_alturas = np.ones(len(hr_window_arrojeria))"
   ]
  },
  {
   "cell_type": "code",
   "execution_count": 18,
   "id": "e5cfa4b3-3976-4f12-93b0-ac1bd8b9f16d",
   "metadata": {},
   "outputs": [
    {
     "data": {
      "image/png": "[encoded data removed]",
      "text/plain": [
       "<Figure size 1440x144 with 1 Axes>"
      ]
     },
     "metadata": {},
     "output_type": "display_data"
    }
   ],
   "source": [
    "# Definir el tamaño de la figura\n",
    "plt.figure(figsize=(20, 2))\n",
    "\n",
    "# Crear la gráfica\n",
    "plt.bar(range(len(hr_window_arrojeria)), actividad_alturas, color=actividad_colores, width=1)\n",
    "\n",
    "# Quitar los ticks del eje x para que no se vean los números\n",
    "plt.xticks([])\n",
    "plt.yticks([])\n",
    "\n",
    "# Crear la leyenda\n",
    "leyenda = [mpatches.Patch(color=v, label=k) for k, v in colores.items()]\n",
    "plt.legend(handles=leyenda)\n",
    "\n",
    "# Mostrar la gráfica\n",
    "plt.show()"
   ]
  },
  {
   "cell_type": "code",
   "execution_count": 19,
   "id": "e19b90cb-a4ce-4f6f-8197-981818edd3aa",
   "metadata": {},
   "outputs": [],
   "source": [
    "# Colores para cada número\n",
    "colores = {1: 'blue', 2: 'green', 3: 'yellow', 4: 'red'}"
   ]
  },
  {
   "cell_type": "code",
   "execution_count": 20,
   "id": "bbcf2bdd-2e04-4f09-8e70-d6fceb1bc337",
   "metadata": {},
   "outputs": [],
   "source": [
    "# Crear un array con los colores correspondientes\n",
    "actividad_colores = [colores[i] for i in hr_window_cavo['cluster']]"
   ]
  },
  {
   "cell_type": "code",
   "execution_count": 21,
   "id": "291befc0-50da-4317-bbd9-77624cd9a402",
   "metadata": {},
   "outputs": [],
   "source": [
    "# Crear un array de la misma longitud que los datos pero con todos los elementos siendo 1\n",
    "# Esto es para que la altura de todas las barras sea la misma\n",
    "actividad_alturas = np.ones(len(hr_window_cavo))"
   ]
  },
  {
   "cell_type": "code",
   "execution_count": 22,
   "id": "968bb514-9618-403c-a20b-2012b6634b29",
   "metadata": {},
   "outputs": [
    {
     "data": {
      "image/png": "[encoded data removed]",
      "text/plain": [
       "<Figure size 1440x144 with 1 Axes>"
      ]
     },
     "metadata": {},
     "output_type": "display_data"
    }
   ],
   "source": [
    "# Definir el tamaño de la figura\n",
    "plt.figure(figsize=(20, 2))\n",
    "\n",
    "# Crear la gráfica\n",
    "plt.bar(range(len(hr_window_cavo)), actividad_alturas, color=actividad_colores, width=1)\n",
    "\n",
    "# Quitar los ticks del eje x para que no se vean los números\n",
    "plt.xticks([])\n",
    "plt.yticks([])\n",
    "\n",
    "# Crear la leyenda\n",
    "leyenda = [mpatches.Patch(color=v, label=k) for k, v in colores.items()]\n",
    "plt.legend(handles=leyenda)\n",
    "\n",
    "# Mostrar la gráfica\n",
    "plt.show()"
   ]
  },
  {
   "cell_type": "code",
   "execution_count": null,
   "id": "fce46938-f442-4306-ac5f-aac75df0c822",
   "metadata": {},
   "outputs": [],
   "source": []
  }
 ],
 "metadata": {
  "kernelspec": {
   "display_name": "Python 3 (ipykernel)",
   "language": "python",
   "name": "python3"
  },
  "language_info": {
   "codemirror_mode": {
    "name": "ipython",
    "version": 3
   },
   "file_extension": ".py",
   "mimetype": "text/x-python",
   "name": "python",
   "nbconvert_exporter": "python",
   "pygments_lexer": "ipython3",
   "version": "3.9.2"
  }
 },
 "nbformat": 4,
 "nbformat_minor": 5
}
