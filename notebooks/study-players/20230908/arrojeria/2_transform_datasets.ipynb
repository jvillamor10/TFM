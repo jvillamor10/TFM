{
 "cells": [
  {
   "cell_type": "code",
   "execution_count": 1,
   "id": "7f826731-5fa5-435c-a3e2-55bceaa2dbb9",
   "metadata": {},
   "outputs": [],
   "source": [
    "import pandas as pd\n",
    "import matplotlib.pyplot as plt\n",
    "import numpy as np"
   ]
  },
  {
   "cell_type": "markdown",
   "id": "489167aa-8d37-448c-886d-d7286481ee45",
   "metadata": {},
   "source": [
    "Se ajustan los valores *record_date* y *player_name*"
   ]
  },
  {
   "cell_type": "code",
   "execution_count": 2,
   "id": "d016c773-f69a-416f-a0e7-e2024d5789b5",
   "metadata": {},
   "outputs": [],
   "source": [
    "record_date = '20230908'"
   ]
  },
  {
   "cell_type": "code",
   "execution_count": 3,
   "id": "a7d7c611-3c14-4fb8-b709-d67e2f44f362",
   "metadata": {},
   "outputs": [],
   "source": [
    "player_name = 'arrojeria_esther'"
   ]
  },
  {
   "cell_type": "code",
   "execution_count": 4,
   "id": "cb1d346a-33e2-4eb9-a721-338a9f596a82",
   "metadata": {},
   "outputs": [],
   "source": [
    "PLAYER_HR_FILE_DIR = f'../../../../datasets/study-players/{record_date}/{player_name}_hr.csv'"
   ]
  },
  {
   "cell_type": "code",
   "execution_count": 5,
   "id": "b2124411-f8be-40ca-b488-c89953f8c1ab",
   "metadata": {},
   "outputs": [
    {
     "data": {
      "text/html": [
       "<div>\n",
       "<style scoped>\n",
       "    .dataframe tbody tr th:only-of-type {\n",
       "        vertical-align: middle;\n",
       "    }\n",
       "\n",
       "    .dataframe tbody tr th {\n",
       "        vertical-align: top;\n",
       "    }\n",
       "\n",
       "    .dataframe thead th {\n",
       "        text-align: right;\n",
       "    }\n",
       "</style>\n",
       "<table border=\"1\" class=\"dataframe\">\n",
       "  <thead>\n",
       "    <tr style=\"text-align: right;\">\n",
       "      <th></th>\n",
       "      <th>seconds</th>\n",
       "      <th>date</th>\n",
       "      <th>hr</th>\n",
       "    </tr>\n",
       "  </thead>\n",
       "  <tbody>\n",
       "    <tr>\n",
       "      <th>8771</th>\n",
       "      <td>80,802</td>\n",
       "      <td>[2023-09-08 19:19:20 454]</td>\n",
       "      <td>74.0</td>\n",
       "    </tr>\n",
       "    <tr>\n",
       "      <th>8829</th>\n",
       "      <td>81,302</td>\n",
       "      <td>[2023-09-08 19:19:20 954]</td>\n",
       "      <td>74.0</td>\n",
       "    </tr>\n",
       "    <tr>\n",
       "      <th>8885</th>\n",
       "      <td>81,802</td>\n",
       "      <td>[2023-09-08 19:19:21 454]</td>\n",
       "      <td>74.0</td>\n",
       "    </tr>\n",
       "    <tr>\n",
       "      <th>8938</th>\n",
       "      <td>82,302</td>\n",
       "      <td>[2023-09-08 19:19:21 954]</td>\n",
       "      <td>75.0</td>\n",
       "    </tr>\n",
       "    <tr>\n",
       "      <th>8993</th>\n",
       "      <td>82,802</td>\n",
       "      <td>[2023-09-08 19:19:22 454]</td>\n",
       "      <td>75.0</td>\n",
       "    </tr>\n",
       "  </tbody>\n",
       "</table>\n",
       "</div>"
      ],
      "text/plain": [
       "     seconds                       date    hr\n",
       "8771  80,802  [2023-09-08 19:19:20 454]  74.0\n",
       "8829  81,302  [2023-09-08 19:19:20 954]  74.0\n",
       "8885  81,802  [2023-09-08 19:19:21 454]  74.0\n",
       "8938  82,302  [2023-09-08 19:19:21 954]  75.0\n",
       "8993  82,802  [2023-09-08 19:19:22 454]  75.0"
      ]
     },
     "execution_count": 5,
     "metadata": {},
     "output_type": "execute_result"
    }
   ],
   "source": [
    "hr = pd.read_csv(PLAYER_HR_FILE_DIR,index_col=0)\n",
    "hr.head()"
   ]
  },
  {
   "cell_type": "code",
   "execution_count": 6,
   "id": "27df794e-523f-4a8f-9cdd-ef0347d454d5",
   "metadata": {},
   "outputs": [
    {
     "data": {
      "text/plain": [
       "seconds     object\n",
       "date        object\n",
       "hr         float64\n",
       "dtype: object"
      ]
     },
     "execution_count": 6,
     "metadata": {},
     "output_type": "execute_result"
    }
   ],
   "source": [
    "hr.dtypes"
   ]
  },
  {
   "cell_type": "markdown",
   "id": "4ce4ccba-2ef6-4366-9e06-076a0131a2f0",
   "metadata": {},
   "source": [
    "Se convierte el valor de seconds a un valor númerico"
   ]
  },
  {
   "cell_type": "code",
   "execution_count": 7,
   "id": "f2e7f0d1-a38e-44b9-9c8d-0494d8729eab",
   "metadata": {},
   "outputs": [],
   "source": [
    "def convert_comma_to_point(value):\n",
    "    if isinstance(value, str):\n",
    "        return value.replace(',','.')\n",
    "    return value"
   ]
  },
  {
   "cell_type": "code",
   "execution_count": 8,
   "id": "d4a4a426-973b-4ad5-8723-959cc78b302d",
   "metadata": {},
   "outputs": [],
   "source": [
    "hr['seconds'] = hr['seconds'].apply(lambda x: convert_comma_to_point(x))\n",
    "hr['seconds'] = hr['seconds'].apply(pd.to_numeric)"
   ]
  },
  {
   "cell_type": "markdown",
   "id": "fd95c497-43ac-4e4b-b7db-8cdf26e359d6",
   "metadata": {},
   "source": [
    "Se hace un pequeño estudio"
   ]
  },
  {
   "cell_type": "code",
   "execution_count": 9,
   "id": "8e89151a-e142-420a-b89e-e137d13baf55",
   "metadata": {},
   "outputs": [
    {
     "data": {
      "text/plain": [
       "<AxesSubplot:>"
      ]
     },
     "execution_count": 9,
     "metadata": {},
     "output_type": "execute_result"
    },
    {
     "data": {
      "image/png": "[encoded data removed]",
      "text/plain": [
       "<Figure size 432x288 with 1 Axes>"
      ]
     },
     "metadata": {
      "needs_background": "light"
     },
     "output_type": "display_data"
    }
   ],
   "source": [
    "hr.plot(y='hr')"
   ]
  },
  {
   "cell_type": "code",
   "execution_count": 10,
   "id": "1cb95cf5-09c2-49f3-8a01-56d107adaaa4",
   "metadata": {},
   "outputs": [
    {
     "name": "stdout",
     "output_type": "stream",
     "text": [
      "Valor mínimo 80.802\n",
      "Valor máximo 9219.816\n"
     ]
    }
   ],
   "source": [
    "min_seconds = hr['seconds'].min()\n",
    "max_seconds = hr['seconds'].max()\n",
    "\n",
    "print(f\"Valor mínimo {min_seconds}\")\n",
    "print(f\"Valor máximo {max_seconds}\")"
   ]
  },
  {
   "cell_type": "code",
   "execution_count": 11,
   "id": "9ba404d9-fd5b-4133-9d78-128a9cc68fed",
   "metadata": {},
   "outputs": [
    {
     "name": "stdout",
     "output_type": "stream",
     "text": [
      "Minutos totales: 152.3169 minutos\n",
      "Horas totales: 2.538615 horas\n"
     ]
    }
   ],
   "source": [
    "minutes = (max_seconds - min_seconds) / 60\n",
    "hours = minutes / 60\n",
    "print(f\"Minutos totales: {minutes} minutos\")\n",
    "print(f\"Horas totales: {hours} horas\")"
   ]
  },
  {
   "cell_type": "markdown",
   "id": "2e15ab2c-5ac2-4de7-9a77-9395b221bd7f",
   "metadata": {},
   "source": [
    "La frecuencia de la variable HR es de 0.5 segundos, es decir, cada medio segundo, se recoge el ritmo cardíaco de la jugada. Se va a comprobar que esto se cumple."
   ]
  },
  {
   "cell_type": "code",
   "execution_count": 12,
   "id": "1be727d7-54b4-49c0-ba64-ac5f24d44fcd",
   "metadata": {},
   "outputs": [
    {
     "data": {
      "text/plain": [
       "8771         NaN\n",
       "8829       0.500\n",
       "8885       0.500\n",
       "8938       0.500\n",
       "8993       0.500\n",
       "           ...  \n",
       "1040981    0.501\n",
       "1041038    0.499\n",
       "1041094    0.503\n",
       "1041150    0.500\n",
       "1041207    0.500\n",
       "Name: seconds, Length: 17520, dtype: float64"
      ]
     },
     "execution_count": 12,
     "metadata": {},
     "output_type": "execute_result"
    }
   ],
   "source": [
    "hr['seconds'].diff()"
   ]
  },
  {
   "cell_type": "code",
   "execution_count": 13,
   "id": "2d014307-001f-4201-bd15-1b03c0b8fa57",
   "metadata": {},
   "outputs": [
    {
     "data": {
      "text/plain": [
       "array([   nan,  0.5  ,  1.5  ,  6.5  , 30.5  ,  2.5  ,  3.5  ,  9.5  ,\n",
       "       42.5  ,  6.5  ,  8.5  , 12.5  , 10.5  , 17.5  ,  4.5  ,  5.5  ,\n",
       "        7.5  , 29.5  ,  3.   ,  2.   ,  0.5  ,  4.   ,  5.   ,  0.5  ,\n",
       "        0.515,  0.499,  0.501,  0.484,  0.503,  0.498,  0.502,  0.502,\n",
       "        0.497,  0.499,  0.505,  0.483,  0.517,  0.498,  0.518,  0.481,\n",
       "        0.482,  0.519,  0.481,  0.501,  0.504,  0.464,  0.53 ,  0.484,\n",
       "        0.516,  3.502,  1.999,  0.497,  0.517,  2.499,  0.467,  0.535,\n",
       "        0.52 ,  0.496,  0.469,  0.48 ,  0.521,  0.519,  0.482,  0.451,\n",
       "        0.548,  0.472,  0.532,  0.479,  0.479,  0.504,  0.518,  0.503,\n",
       "        0.478,  0.521,  0.508,  0.493,  0.45 ,  0.552,  0.485,  0.522,\n",
       "        0.483,  0.495,  0.506,  0.475,  0.528,  0.494,  0.536,  0.476,\n",
       "        0.507,  0.496,  0.494,  0.469,  0.52 ,  0.462,  0.54 ,  0.505,\n",
       "        0.495,  3.999,  2.499,  0.508,  0.5  ,  0.516,  0.534,  0.498,\n",
       "        0.52 ,  0.502,  0.501,  0.479,  0.499,  0.508,  0.477,  0.49 ,\n",
       "        0.53 ,  0.497,  0.517,  0.504,  3.503,  2.497,  3.001,  0.466,\n",
       "        0.534,  0.516,  0.471,  0.529,  0.494,  0.547,  0.48 ,  0.486,\n",
       "        0.503,  0.481,  0.519,  0.472,  0.484,  0.506,  0.48 ,  0.483,\n",
       "        0.521,  0.486,  0.465,  0.538,  0.512,  0.531,  2.502,  0.529,\n",
       "        0.512,  0.506,  0.487,  0.533,  0.507,  0.549,  0.47 ,  0.416,\n",
       "        0.586,  0.454,  0.548,  0.485,  0.515,  0.475,  0.515,  0.505,\n",
       "        0.457,  0.543,  0.395,  0.606,  0.514,  0.513,  0.496,  0.509,\n",
       "        0.489,  0.488,  0.468,  1.999,  0.455,  0.547,  3.502,  2.501,\n",
       "        0.469,  3.498,  2.486,  0.447,  0.553,  0.476,  0.511,  0.487,\n",
       "        0.493,  0.467,  0.411,  0.59 ,  0.449,  0.46 ,  0.523,  2.498,\n",
       "        0.471,  2.501,  0.51 ,  1.998,  0.532,  0.446,  0.555,  0.513,\n",
       "        0.472,  0.502,  0.499,  0.503,  0.457,  0.546,  0.514,  0.485,\n",
       "        0.514,  0.498,  0.486,  0.516,  0.501,  0.517,  0.515,  0.497,\n",
       "        0.488,  0.534,  0.496,  0.504,  0.495,  0.484,  3.004,  3.497,\n",
       "        3.001,  0.483,  0.48 ,  0.539,  0.487,  0.521,  0.47 ,  0.513,\n",
       "        0.453,  0.47 ,  0.531,  0.481,  0.478,  0.471,  0.505,  0.535])"
      ]
     },
     "execution_count": 13,
     "metadata": {},
     "output_type": "execute_result"
    }
   ],
   "source": [
    "hr['seconds'].diff().unique()"
   ]
  },
  {
   "cell_type": "code",
   "execution_count": 14,
   "id": "edfdfa20-99a9-424e-aafc-fb053f83cab6",
   "metadata": {},
   "outputs": [],
   "source": [
    "hr['diff'] = hr['seconds'].diff()"
   ]
  },
  {
   "cell_type": "code",
   "execution_count": 15,
   "id": "0bb331e3-4b6f-48bb-ab7d-219f01b47218",
   "metadata": {},
   "outputs": [
    {
     "data": {
      "text/plain": [
       "diff\n",
       "0.395     1\n",
       "0.411     1\n",
       "0.416     1\n",
       "0.446     1\n",
       "0.447     1\n",
       "         ..\n",
       "12.500    1\n",
       "17.500    1\n",
       "29.500    1\n",
       "30.500    1\n",
       "42.500    1\n",
       "Length: 239, dtype: int64"
      ]
     },
     "execution_count": 15,
     "metadata": {},
     "output_type": "execute_result"
    }
   ],
   "source": [
    "hr.pivot_table(columns=['diff'], aggfunc='size')"
   ]
  },
  {
   "cell_type": "markdown",
   "id": "751e3cf0-1866-4b00-8073-66ef820b2b05",
   "metadata": {},
   "source": [
    "Se interpolan los datos"
   ]
  },
  {
   "cell_type": "code",
   "execution_count": 16,
   "id": "2f8b4fed-5d85-4fd0-8fa6-b63bf9a34caa",
   "metadata": {},
   "outputs": [],
   "source": [
    "new_df = pd.DataFrame()"
   ]
  },
  {
   "cell_type": "code",
   "execution_count": 17,
   "id": "0888798b-bb16-40e1-95cd-6ad1489ade8e",
   "metadata": {},
   "outputs": [],
   "source": [
    "last = hr.iloc[0]\n",
    "for i in range(1, hr.shape[0]):\n",
    "    new_df = new_df.append(last)\n",
    "    # si valor actual tiene diff mayor que 0.5, generar números\n",
    "    \n",
    "    if hr.iloc[i]['diff'] > 0.5:\n",
    "        seconds = last['seconds']\n",
    "        value = (hr.iloc[i]['hr'] + last['hr'])/ 2\n",
    "        #print(hr.iloc[i]['hr'], last['hr'], value)\n",
    "        #print(last, hr.iloc[i])\n",
    "        for x in range(0, int(hr.iloc[i]['diff']/0.5) -1):\n",
    "            \n",
    "            seconds = seconds + 0.5\n",
    "            new_df = new_df.append({'seconds': seconds, 'date': None, 'hr': value},ignore_index=True)\n",
    "    last = hr.iloc[i]\n"
   ]
  },
  {
   "cell_type": "code",
   "execution_count": 18,
   "id": "ab5d7d73-9771-4eaf-bca3-365c0c32b1e8",
   "metadata": {},
   "outputs": [
    {
     "data": {
      "text/html": [
       "<div>\n",
       "<style scoped>\n",
       "    .dataframe tbody tr th:only-of-type {\n",
       "        vertical-align: middle;\n",
       "    }\n",
       "\n",
       "    .dataframe tbody tr th {\n",
       "        vertical-align: top;\n",
       "    }\n",
       "\n",
       "    .dataframe thead th {\n",
       "        text-align: right;\n",
       "    }\n",
       "</style>\n",
       "<table border=\"1\" class=\"dataframe\">\n",
       "  <thead>\n",
       "    <tr style=\"text-align: right;\">\n",
       "      <th></th>\n",
       "      <th>seconds</th>\n",
       "      <th>date</th>\n",
       "      <th>hr</th>\n",
       "      <th>diff</th>\n",
       "    </tr>\n",
       "  </thead>\n",
       "  <tbody>\n",
       "    <tr>\n",
       "      <th>0</th>\n",
       "      <td>80.802</td>\n",
       "      <td>[2023-09-08 19:19:20 454]</td>\n",
       "      <td>74.0</td>\n",
       "      <td>NaN</td>\n",
       "    </tr>\n",
       "    <tr>\n",
       "      <th>1</th>\n",
       "      <td>81.302</td>\n",
       "      <td>[2023-09-08 19:19:20 954]</td>\n",
       "      <td>74.0</td>\n",
       "      <td>0.500</td>\n",
       "    </tr>\n",
       "    <tr>\n",
       "      <th>2</th>\n",
       "      <td>81.802</td>\n",
       "      <td>[2023-09-08 19:19:21 454]</td>\n",
       "      <td>74.0</td>\n",
       "      <td>0.500</td>\n",
       "    </tr>\n",
       "    <tr>\n",
       "      <th>3</th>\n",
       "      <td>82.302</td>\n",
       "      <td>[2023-09-08 19:19:21 954]</td>\n",
       "      <td>75.0</td>\n",
       "      <td>0.500</td>\n",
       "    </tr>\n",
       "    <tr>\n",
       "      <th>4</th>\n",
       "      <td>82.802</td>\n",
       "      <td>[2023-09-08 19:19:22 454]</td>\n",
       "      <td>75.0</td>\n",
       "      <td>0.500</td>\n",
       "    </tr>\n",
       "    <tr>\n",
       "      <th>...</th>\n",
       "      <td>...</td>\n",
       "      <td>...</td>\n",
       "      <td>...</td>\n",
       "      <td>...</td>\n",
       "    </tr>\n",
       "    <tr>\n",
       "      <th>1040923</th>\n",
       "      <td>9217.313</td>\n",
       "      <td>[2023-09-08 21:51:36 965]</td>\n",
       "      <td>118.0</td>\n",
       "      <td>0.499</td>\n",
       "    </tr>\n",
       "    <tr>\n",
       "      <th>1040981</th>\n",
       "      <td>9217.814</td>\n",
       "      <td>[2023-09-08 21:51:37 466]</td>\n",
       "      <td>118.0</td>\n",
       "      <td>0.501</td>\n",
       "    </tr>\n",
       "    <tr>\n",
       "      <th>1041038</th>\n",
       "      <td>9218.313</td>\n",
       "      <td>[2023-09-08 21:51:37 965]</td>\n",
       "      <td>118.0</td>\n",
       "      <td>0.499</td>\n",
       "    </tr>\n",
       "    <tr>\n",
       "      <th>1041094</th>\n",
       "      <td>9218.816</td>\n",
       "      <td>[2023-09-08 21:51:38 468]</td>\n",
       "      <td>118.0</td>\n",
       "      <td>0.503</td>\n",
       "    </tr>\n",
       "    <tr>\n",
       "      <th>1041150</th>\n",
       "      <td>9219.316</td>\n",
       "      <td>[2023-09-08 21:51:38 968]</td>\n",
       "      <td>118.0</td>\n",
       "      <td>0.500</td>\n",
       "    </tr>\n",
       "  </tbody>\n",
       "</table>\n",
       "<p>18265 rows × 4 columns</p>\n",
       "</div>"
      ],
      "text/plain": [
       "          seconds                       date     hr   diff\n",
       "0          80.802  [2023-09-08 19:19:20 454]   74.0    NaN\n",
       "1          81.302  [2023-09-08 19:19:20 954]   74.0  0.500\n",
       "2          81.802  [2023-09-08 19:19:21 454]   74.0  0.500\n",
       "3          82.302  [2023-09-08 19:19:21 954]   75.0  0.500\n",
       "4          82.802  [2023-09-08 19:19:22 454]   75.0  0.500\n",
       "...           ...                        ...    ...    ...\n",
       "1040923  9217.313  [2023-09-08 21:51:36 965]  118.0  0.499\n",
       "1040981  9217.814  [2023-09-08 21:51:37 466]  118.0  0.501\n",
       "1041038  9218.313  [2023-09-08 21:51:37 965]  118.0  0.499\n",
       "1041094  9218.816  [2023-09-08 21:51:38 468]  118.0  0.503\n",
       "1041150  9219.316  [2023-09-08 21:51:38 968]  118.0  0.500\n",
       "\n",
       "[18265 rows x 4 columns]"
      ]
     },
     "execution_count": 18,
     "metadata": {},
     "output_type": "execute_result"
    }
   ],
   "source": [
    "new_df"
   ]
  },
  {
   "cell_type": "code",
   "execution_count": 19,
   "id": "242b429a-4792-4bb8-8e36-5275ba2f00d8",
   "metadata": {},
   "outputs": [],
   "source": [
    "new_df.to_csv(f'../../../../datasets/study-players/{record_date}/{player_name}_hr_without_gaps.csv')"
   ]
  },
  {
   "cell_type": "markdown",
   "id": "8a76ba6e-45db-4b03-be43-387a6e4b6111",
   "metadata": {},
   "source": [
    "# Ahora hacer lo mismo con activity"
   ]
  },
  {
   "cell_type": "code",
   "execution_count": 20,
   "id": "c88b6e0d-5886-41ba-b6ef-f5a9b2a299c6",
   "metadata": {},
   "outputs": [],
   "source": [
    "PLAYER_ACTIVITY_FILE_DIR = f'../../../../datasets/study-players/{record_date}/{player_name}_activity_load.csv'"
   ]
  },
  {
   "cell_type": "code",
   "execution_count": 21,
   "id": "4ad89904-0da1-4e01-b5cc-3c68ebe9d50a",
   "metadata": {},
   "outputs": [
    {
     "data": {
      "text/html": [
       "<div>\n",
       "<style scoped>\n",
       "    .dataframe tbody tr th:only-of-type {\n",
       "        vertical-align: middle;\n",
       "    }\n",
       "\n",
       "    .dataframe tbody tr th {\n",
       "        vertical-align: top;\n",
       "    }\n",
       "\n",
       "    .dataframe thead th {\n",
       "        text-align: right;\n",
       "    }\n",
       "</style>\n",
       "<table border=\"1\" class=\"dataframe\">\n",
       "  <thead>\n",
       "    <tr style=\"text-align: right;\">\n",
       "      <th></th>\n",
       "      <th>seconds</th>\n",
       "      <th>date</th>\n",
       "      <th>activity_load_2d</th>\n",
       "      <th>activity_load_3d</th>\n",
       "    </tr>\n",
       "  </thead>\n",
       "  <tbody>\n",
       "    <tr>\n",
       "      <th>79</th>\n",
       "      <td>1,790</td>\n",
       "      <td>[2023-09-08 19:18:01 442]</td>\n",
       "      <td>0,0088</td>\n",
       "      <td>0,0097</td>\n",
       "    </tr>\n",
       "    <tr>\n",
       "      <th>185</th>\n",
       "      <td>2,790</td>\n",
       "      <td>[2023-09-08 19:18:02 442]</td>\n",
       "      <td>0,0018</td>\n",
       "      <td>0,0025</td>\n",
       "    </tr>\n",
       "    <tr>\n",
       "      <th>295</th>\n",
       "      <td>3,790</td>\n",
       "      <td>[2023-09-08 19:18:03 442]</td>\n",
       "      <td>0,0018</td>\n",
       "      <td>0,0029</td>\n",
       "    </tr>\n",
       "    <tr>\n",
       "      <th>406</th>\n",
       "      <td>4,790</td>\n",
       "      <td>[2023-09-08 19:18:04 442]</td>\n",
       "      <td>0,0042</td>\n",
       "      <td>0,0051</td>\n",
       "    </tr>\n",
       "    <tr>\n",
       "      <th>517</th>\n",
       "      <td>5,790</td>\n",
       "      <td>[2023-09-08 19:18:05 442]</td>\n",
       "      <td>0,0031</td>\n",
       "      <td>0,0041</td>\n",
       "    </tr>\n",
       "  </tbody>\n",
       "</table>\n",
       "</div>"
      ],
      "text/plain": [
       "    seconds                       date activity_load_2d activity_load_3d\n",
       "79    1,790  [2023-09-08 19:18:01 442]           0,0088           0,0097\n",
       "185   2,790  [2023-09-08 19:18:02 442]           0,0018           0,0025\n",
       "295   3,790  [2023-09-08 19:18:03 442]           0,0018           0,0029\n",
       "406   4,790  [2023-09-08 19:18:04 442]           0,0042           0,0051\n",
       "517   5,790  [2023-09-08 19:18:05 442]           0,0031           0,0041"
      ]
     },
     "execution_count": 21,
     "metadata": {},
     "output_type": "execute_result"
    }
   ],
   "source": [
    "activity_load = pd.read_csv(PLAYER_ACTIVITY_FILE_DIR,index_col=0)\n",
    "activity_load.head()"
   ]
  },
  {
   "cell_type": "markdown",
   "id": "b95db4ea-70f3-4979-be11-f7b53cf3ea6c",
   "metadata": {},
   "source": [
    "Se debe cambiar los valores numéricos a las cargas de actividad y a los segundos"
   ]
  },
  {
   "cell_type": "code",
   "execution_count": 22,
   "id": "6ec3a468-91b1-4ac0-ad7a-bfc21e79f10b",
   "metadata": {},
   "outputs": [],
   "source": [
    "activity_load['seconds'] = activity_load['seconds'].apply(lambda x: convert_comma_to_point(x))\n",
    "activity_load['seconds'] = activity_load['seconds'].apply(pd.to_numeric)"
   ]
  },
  {
   "cell_type": "code",
   "execution_count": 23,
   "id": "91739de1-3885-4663-a430-99c3106a6e2e",
   "metadata": {},
   "outputs": [],
   "source": [
    "activity_load['activity_load_2d'] = activity_load['activity_load_2d'].apply(lambda x: convert_comma_to_point(x))\n",
    "activity_load['activity_load_2d'] = activity_load['activity_load_2d'].apply(pd.to_numeric)"
   ]
  },
  {
   "cell_type": "code",
   "execution_count": 24,
   "id": "92a66a54-0113-4b06-b575-89a7859c551c",
   "metadata": {},
   "outputs": [],
   "source": [
    "activity_load['activity_load_3d'] = activity_load['activity_load_3d'].apply(lambda x: convert_comma_to_point(x))\n",
    "activity_load['activity_load_3d'] = activity_load['activity_load_3d'].apply(pd.to_numeric)"
   ]
  },
  {
   "cell_type": "code",
   "execution_count": 25,
   "id": "a389c373-bead-4835-b84b-ff32e3d2442d",
   "metadata": {},
   "outputs": [
    {
     "data": {
      "text/plain": [
       "seconds             float64\n",
       "date                 object\n",
       "activity_load_2d    float64\n",
       "activity_load_3d    float64\n",
       "dtype: object"
      ]
     },
     "execution_count": 25,
     "metadata": {},
     "output_type": "execute_result"
    }
   ],
   "source": [
    "activity_load.dtypes"
   ]
  },
  {
   "cell_type": "markdown",
   "id": "83477613-a932-4574-8766-ceb16d903bc3",
   "metadata": {},
   "source": [
    "Se muestran unos gráficos"
   ]
  },
  {
   "cell_type": "code",
   "execution_count": 26,
   "id": "935931c3-e593-4d8b-a013-3d1d1db5d756",
   "metadata": {},
   "outputs": [
    {
     "data": {
      "text/plain": [
       "<AxesSubplot:>"
      ]
     },
     "execution_count": 26,
     "metadata": {},
     "output_type": "execute_result"
    },
    {
     "data": {
      "image/png": "[encoded data removed]",
      "text/plain": [
       "<Figure size 432x288 with 1 Axes>"
      ]
     },
     "metadata": {
      "needs_background": "light"
     },
     "output_type": "display_data"
    }
   ],
   "source": [
    "activity_load.plot(y='activity_load_2d')"
   ]
  },
  {
   "cell_type": "code",
   "execution_count": 27,
   "id": "5656b2c8-72a0-4ae0-87cb-7a3d5c6b354a",
   "metadata": {},
   "outputs": [
    {
     "data": {
      "text/plain": [
       "<AxesSubplot:>"
      ]
     },
     "execution_count": 27,
     "metadata": {},
     "output_type": "execute_result"
    },
    {
     "data": {
      "image/png": "[encoded data removed]",
      "text/plain": [
       "<Figure size 432x288 with 1 Axes>"
      ]
     },
     "metadata": {
      "needs_background": "light"
     },
     "output_type": "display_data"
    }
   ],
   "source": [
    "activity_load.plot(y='activity_load_3d')"
   ]
  },
  {
   "cell_type": "code",
   "execution_count": 28,
   "id": "fcd1a337-9d33-44e9-94ff-3fb982986c39",
   "metadata": {},
   "outputs": [
    {
     "name": "stdout",
     "output_type": "stream",
     "text": [
      "Valor mínimo 1.79\n",
      "Valor máximo 9220.51\n"
     ]
    }
   ],
   "source": [
    "min_seconds = activity_load['seconds'].min()\n",
    "max_seconds = activity_load['seconds'].max()\n",
    "\n",
    "print(f\"Valor mínimo {min_seconds}\")\n",
    "print(f\"Valor máximo {max_seconds}\")"
   ]
  },
  {
   "cell_type": "code",
   "execution_count": 29,
   "id": "f7855877-d929-4355-9b26-ad85c02cfe8e",
   "metadata": {},
   "outputs": [
    {
     "name": "stdout",
     "output_type": "stream",
     "text": [
      "Minutos totales: 153.64533333333333 minutos\n",
      "Horas totales: 2.5607555555555552 horas\n"
     ]
    }
   ],
   "source": [
    "minutes = (max_seconds - min_seconds) / 60\n",
    "hours = minutes / 60\n",
    "print(f\"Minutos totales: {minutes} minutos\")\n",
    "print(f\"Horas totales: {hours} horas\")"
   ]
  },
  {
   "cell_type": "markdown",
   "id": "f3f4b0e4-805e-48df-8bdf-5e41507d4b93",
   "metadata": {},
   "source": [
    "Se cuenta con más info de la carga de actividad"
   ]
  },
  {
   "cell_type": "markdown",
   "id": "89567676-04b1-4727-bfb0-af7b389c9890",
   "metadata": {},
   "source": [
    "Se comprueban los gaps, frecuencia de un segundoactivity_load['seconds'].diff()"
   ]
  },
  {
   "cell_type": "code",
   "execution_count": 30,
   "id": "812dff1c-47c3-4b21-9267-171934fd0e2a",
   "metadata": {},
   "outputs": [
    {
     "data": {
      "text/plain": [
       "79           NaN\n",
       "185        1.000\n",
       "295        1.000\n",
       "406        1.000\n",
       "517        1.000\n",
       "           ...  \n",
       "1040832    0.984\n",
       "1040947    1.017\n",
       "1041060    1.000\n",
       "1041172    1.002\n",
       "1041280    1.000\n",
       "Name: seconds, Length: 9195, dtype: float64"
      ]
     },
     "execution_count": 30,
     "metadata": {},
     "output_type": "execute_result"
    }
   ],
   "source": [
    "activity_load['seconds'].diff()"
   ]
  },
  {
   "cell_type": "code",
   "execution_count": 31,
   "id": "67ae720b-79ec-4e53-8941-062fd55a7545",
   "metadata": {},
   "outputs": [
    {
     "data": {
      "text/plain": [
       "array([  nan, 1.   , 1.   , 1.158, 1.   , 1.162, 1.   , 1.161, 1.163,\n",
       "       1.   , 1.161, 1.16 , 1.162, 1.183, 1.14 , 1.161, 1.161, 1.   ,\n",
       "       1.162, 1.161, 1.162, 1.16 , 1.   , 1.162, 1.161, 1.015, 0.999,\n",
       "       1.001, 1.16 , 0.985, 1.014, 1.002, 0.998, 1.001, 0.999, 0.997,\n",
       "       1.004, 0.984, 1.016, 1.003, 0.997, 1.017, 0.982, 1.017, 0.983,\n",
       "       1.018, 1.003, 1.167, 0.965, 1.03 , 0.981, 1.002, 0.983, 0.98 ,\n",
       "       1.019, 1.006, 1.16 , 0.998, 0.984, 1.019, 0.967, 1.035, 0.996,\n",
       "       1.02 , 1.129, 1.032, 0.981, 1.144, 0.953, 1.047, 0.985, 0.973,\n",
       "       1.177, 0.979, 1.021, 1.165, 1.004, 0.979, 1.021, 1.008, 0.992,\n",
       "       0.949, 1.052, 0.978, 1.023, 1.005, 1.158, 1.022, 1.006, 0.994,\n",
       "       0.965, 1.036, 0.976, 0.995, 1.023, 1.155, 0.982, 1.018, 1.015,\n",
       "       0.961, 1.039, 0.994, 1.022, 1.156, 1.016, 1.163, 0.998, 1.002,\n",
       "       0.98 , 1.001, 0.999, 0.991, 1.03 , 0.997, 1.016, 0.97 , 1.158,\n",
       "       1.003, 0.966, 0.977, 1.021, 1.019, 1.017, 0.971, 1.02 , 0.978,\n",
       "       1.022, 0.981, 0.951, 1.048, 0.979, 0.985, 0.98 , 1.005, 1.159,\n",
       "       1.02 , 0.983, 0.972, 1.031, 1.164, 0.996, 0.993, 1.007, 0.964,\n",
       "       1.039, 0.968, 1.013, 0.967, 0.984, 1.161, 0.97 , 1.028, 1.004,\n",
       "       1.01 , 1.006, 0.987, 1.033, 1.015, 0.969, 1.162, 1.163, 1.16 ,\n",
       "       1.049, 0.916, 1.086, 0.954, 1.047, 1.146, 0.976, 1.179, 0.957,\n",
       "       1.043, 0.895, 1.107, 0.986, 1.153, 1.009, 0.99 , 0.993, 1.143,\n",
       "       0.986, 0.982, 1.181, 1.159, 1.012, 0.995, 1.148, 1.012, 0.947,\n",
       "       1.18 , 1.027, 1.014, 1.155, 0.968, 1.033, 1.17 , 0.989, 1.018,\n",
       "       1.158, 0.911, 1.089, 0.971, 1.032, 0.949, 0.961, 1.024, 1.144,\n",
       "       1.178, 0.989, 1.009, 1.031, 0.988, 0.945, 1.057, 0.956, 1.045,\n",
       "       1.002, 0.997, 1.014, 0.987, 1.013, 0.989, 1.003, 0.999, 0.984,\n",
       "       0.985, 1.015, 0.998, 0.996, 1.004, 1.034, 0.981, 1.001, 1.016,\n",
       "       1.019, 1.164, 0.994, 0.986, 1.038, 1.145, 1.005, 1.176, 1.02 ,\n",
       "       0.97 , 1.011, 1.017, 1.013, 0.995, 0.953, 1.048, 1.163, 1.03 ,\n",
       "       1.032, 1.146, 0.98 ])"
      ]
     },
     "execution_count": 31,
     "metadata": {},
     "output_type": "execute_result"
    }
   ],
   "source": [
    "activity_load['seconds'].diff().unique()"
   ]
  },
  {
   "cell_type": "markdown",
   "id": "b6f6ce43-a736-494e-9bdd-f42eb6c2c1e9",
   "metadata": {},
   "source": [
    "No hay gaps significativos, no hay que hacer cambios, se guarda el dataset."
   ]
  },
  {
   "cell_type": "code",
   "execution_count": 32,
   "id": "a792d629-2121-4838-b49e-2ba0bbd117b5",
   "metadata": {},
   "outputs": [],
   "source": [
    "activity_load.to_csv(f'../../../../datasets/study-players/{record_date}/{player_name}_activity_load.csv')"
   ]
  },
  {
   "cell_type": "code",
   "execution_count": null,
   "id": "c8f34f38-2877-4146-adc7-e36fd1329a92",
   "metadata": {},
   "outputs": [],
   "source": []
  }
 ],
 "metadata": {
  "kernelspec": {
   "display_name": "Python 3 (ipykernel)",
   "language": "python",
   "name": "python3"
  },
  "language_info": {
   "codemirror_mode": {
    "name": "ipython",
    "version": 3
   },
   "file_extension": ".py",
   "mimetype": "text/x-python",
   "name": "python",
   "nbconvert_exporter": "python",
   "pygments_lexer": "ipython3",
   "version": "3.9.2"
  }
 },
 "nbformat": 4,
 "nbformat_minor": 5
}
