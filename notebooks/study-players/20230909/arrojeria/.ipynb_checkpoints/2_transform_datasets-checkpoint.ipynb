{
 "cells": [
  {
   "cell_type": "code",
   "execution_count": 1,
   "id": "7f826731-5fa5-435c-a3e2-55bceaa2dbb9",
   "metadata": {},
   "outputs": [],
   "source": [
    "import pandas as pd\n",
    "import matplotlib.pyplot as plt\n",
    "import numpy as np"
   ]
  },
  {
   "cell_type": "markdown",
   "id": "489167aa-8d37-448c-886d-d7286481ee45",
   "metadata": {},
   "source": [
    "Se ajustan los valores *record_date* y *player_name*"
   ]
  },
  {
   "cell_type": "code",
   "execution_count": 2,
   "id": "d016c773-f69a-416f-a0e7-e2024d5789b5",
   "metadata": {},
   "outputs": [],
   "source": [
    "record_date = '20230909'"
   ]
  },
  {
   "cell_type": "code",
   "execution_count": 3,
   "id": "a7d7c611-3c14-4fb8-b709-d67e2f44f362",
   "metadata": {},
   "outputs": [],
   "source": [
    "player_name = 'arrojeria_esther'"
   ]
  },
  {
   "cell_type": "code",
   "execution_count": 4,
   "id": "cb1d346a-33e2-4eb9-a721-338a9f596a82",
   "metadata": {},
   "outputs": [],
   "source": [
    "PLAYER_HR_FILE_DIR = f'../../../../datasets/study-players/{record_date}/{player_name}_hr.csv'"
   ]
  },
  {
   "cell_type": "code",
   "execution_count": 5,
   "id": "b2124411-f8be-40ca-b488-c89953f8c1ab",
   "metadata": {},
   "outputs": [
    {
     "data": {
      "text/html": [
       "<div>\n",
       "<style scoped>\n",
       "    .dataframe tbody tr th:only-of-type {\n",
       "        vertical-align: middle;\n",
       "    }\n",
       "\n",
       "    .dataframe tbody tr th {\n",
       "        vertical-align: top;\n",
       "    }\n",
       "\n",
       "    .dataframe thead th {\n",
       "        text-align: right;\n",
       "    }\n",
       "</style>\n",
       "<table border=\"1\" class=\"dataframe\">\n",
       "  <thead>\n",
       "    <tr style=\"text-align: right;\">\n",
       "      <th></th>\n",
       "      <th>seconds</th>\n",
       "      <th>date</th>\n",
       "      <th>hr</th>\n",
       "    </tr>\n",
       "  </thead>\n",
       "  <tbody>\n",
       "    <tr>\n",
       "      <th>8681</th>\n",
       "      <td>79,952</td>\n",
       "      <td>[2023-09-09 20:19:12 914]</td>\n",
       "      <td>80.0</td>\n",
       "    </tr>\n",
       "    <tr>\n",
       "      <th>8736</th>\n",
       "      <td>80,452</td>\n",
       "      <td>[2023-09-09 20:19:13 414]</td>\n",
       "      <td>80.0</td>\n",
       "    </tr>\n",
       "    <tr>\n",
       "      <th>8791</th>\n",
       "      <td>80,952</td>\n",
       "      <td>[2023-09-09 20:19:13 914]</td>\n",
       "      <td>80.0</td>\n",
       "    </tr>\n",
       "    <tr>\n",
       "      <th>8845</th>\n",
       "      <td>81,452</td>\n",
       "      <td>[2023-09-09 20:19:14 414]</td>\n",
       "      <td>81.0</td>\n",
       "    </tr>\n",
       "    <tr>\n",
       "      <th>8902</th>\n",
       "      <td>81,952</td>\n",
       "      <td>[2023-09-09 20:19:14 914]</td>\n",
       "      <td>81.0</td>\n",
       "    </tr>\n",
       "  </tbody>\n",
       "</table>\n",
       "</div>"
      ],
      "text/plain": [
       "     seconds                       date    hr\n",
       "8681  79,952  [2023-09-09 20:19:12 914]  80.0\n",
       "8736  80,452  [2023-09-09 20:19:13 414]  80.0\n",
       "8791  80,952  [2023-09-09 20:19:13 914]  80.0\n",
       "8845  81,452  [2023-09-09 20:19:14 414]  81.0\n",
       "8902  81,952  [2023-09-09 20:19:14 914]  81.0"
      ]
     },
     "execution_count": 5,
     "metadata": {},
     "output_type": "execute_result"
    }
   ],
   "source": [
    "hr = pd.read_csv(PLAYER_HR_FILE_DIR,index_col=0)\n",
    "hr.head()"
   ]
  },
  {
   "cell_type": "code",
   "execution_count": 6,
   "id": "27df794e-523f-4a8f-9cdd-ef0347d454d5",
   "metadata": {},
   "outputs": [
    {
     "data": {
      "text/plain": [
       "seconds     object\n",
       "date        object\n",
       "hr         float64\n",
       "dtype: object"
      ]
     },
     "execution_count": 6,
     "metadata": {},
     "output_type": "execute_result"
    }
   ],
   "source": [
    "hr.dtypes"
   ]
  },
  {
   "cell_type": "markdown",
   "id": "4ce4ccba-2ef6-4366-9e06-076a0131a2f0",
   "metadata": {},
   "source": [
    "Se convierte el valor de seconds a un valor númerico"
   ]
  },
  {
   "cell_type": "code",
   "execution_count": 7,
   "id": "f2e7f0d1-a38e-44b9-9c8d-0494d8729eab",
   "metadata": {},
   "outputs": [],
   "source": [
    "def convert_comma_to_point(value):\n",
    "    if isinstance(value, str):\n",
    "        return value.replace(',','.')\n",
    "    return value"
   ]
  },
  {
   "cell_type": "code",
   "execution_count": 8,
   "id": "d4a4a426-973b-4ad5-8723-959cc78b302d",
   "metadata": {},
   "outputs": [],
   "source": [
    "hr['seconds'] = hr['seconds'].apply(lambda x: convert_comma_to_point(x))\n",
    "hr['seconds'] = hr['seconds'].apply(pd.to_numeric)"
   ]
  },
  {
   "cell_type": "markdown",
   "id": "fd95c497-43ac-4e4b-b7db-8cdf26e359d6",
   "metadata": {},
   "source": [
    "Se hace un pequeño estudio"
   ]
  },
  {
   "cell_type": "code",
   "execution_count": 9,
   "id": "8e89151a-e142-420a-b89e-e137d13baf55",
   "metadata": {},
   "outputs": [
    {
     "data": {
      "text/plain": [
       "<AxesSubplot:>"
      ]
     },
     "execution_count": 9,
     "metadata": {},
     "output_type": "execute_result"
    },
    {
     "data": {
      "image/png": "[encoded data removed]",
      "text/plain": [
       "<Figure size 432x288 with 1 Axes>"
      ]
     },
     "metadata": {
      "needs_background": "light"
     },
     "output_type": "display_data"
    }
   ],
   "source": [
    "hr.plot(y='hr')"
   ]
  },
  {
   "cell_type": "code",
   "execution_count": 10,
   "id": "1cb95cf5-09c2-49f3-8a01-56d107adaaa4",
   "metadata": {},
   "outputs": [
    {
     "name": "stdout",
     "output_type": "stream",
     "text": [
      "Valor mínimo 79.952\n",
      "Valor máximo 10338.2\n"
     ]
    }
   ],
   "source": [
    "min_seconds = hr['seconds'].min()\n",
    "max_seconds = hr['seconds'].max()\n",
    "\n",
    "print(f\"Valor mínimo {min_seconds}\")\n",
    "print(f\"Valor máximo {max_seconds}\")"
   ]
  },
  {
   "cell_type": "code",
   "execution_count": 11,
   "id": "9ba404d9-fd5b-4133-9d78-128a9cc68fed",
   "metadata": {},
   "outputs": [
    {
     "name": "stdout",
     "output_type": "stream",
     "text": [
      "Minutos totales: 170.97080000000003 minutos\n",
      "Horas totales: 2.849513333333334 horas\n"
     ]
    }
   ],
   "source": [
    "minutes = (max_seconds - min_seconds) / 60\n",
    "hours = minutes / 60\n",
    "print(f\"Minutos totales: {minutes} minutos\")\n",
    "print(f\"Horas totales: {hours} horas\")"
   ]
  },
  {
   "cell_type": "markdown",
   "id": "2e15ab2c-5ac2-4de7-9a77-9395b221bd7f",
   "metadata": {},
   "source": [
    "La frecuencia de la variable HR es de 0.5 segundos, es decir, cada medio segundo, se recoge el ritmo cardíaco de la jugada. Se va a comprobar que esto se cumple."
   ]
  },
  {
   "cell_type": "code",
   "execution_count": 12,
   "id": "1be727d7-54b4-49c0-ba64-ac5f24d44fcd",
   "metadata": {},
   "outputs": [
    {
     "data": {
      "text/plain": [
       "8681       NaN\n",
       "8736       0.5\n",
       "8791       0.5\n",
       "8845       0.5\n",
       "8902       0.5\n",
       "          ... \n",
       "1174142    0.5\n",
       "1174198    0.5\n",
       "1174254    0.5\n",
       "1174311    0.5\n",
       "1174367    0.5\n",
       "Name: seconds, Length: 19953, dtype: float64"
      ]
     },
     "execution_count": 12,
     "metadata": {},
     "output_type": "execute_result"
    }
   ],
   "source": [
    "hr['seconds'].diff()"
   ]
  },
  {
   "cell_type": "code",
   "execution_count": 13,
   "id": "2d014307-001f-4201-bd15-1b03c0b8fa57",
   "metadata": {},
   "outputs": [
    {
     "data": {
      "text/plain": [
       "array([   nan,  0.5  ,  2.5  ,  3.   ,  6.5  ,  4.5  ,  1.5  ,  2.   ,\n",
       "        4.   ,  0.498,  0.501,  0.487,  0.509,  0.508,  0.495,  0.501,\n",
       "        0.503,  0.494,  0.506,  0.488,  0.499,  0.514,  0.498,  0.502,\n",
       "        0.496,  0.495,  0.516,  0.503,  0.482,  0.515,  0.497,  0.499,\n",
       "        0.484,  0.517,  0.504,  0.497,  0.517,  0.502,  0.483,  0.513,\n",
       "        0.48 ,  0.482,  0.515,  0.496,  0.518,  0.521,  0.519,  0.506,\n",
       "        0.505,  0.504,  0.507,  0.481,  0.522,  0.451,  0.549,  0.486,\n",
       "        0.484,  0.52 ,  0.474,  0.523,  0.505,  0.485,  0.471,  0.529,\n",
       "        0.485,  0.467,  0.531,  0.483,  0.516,  0.535,  0.522,  0.475,\n",
       "        0.525,  2.501,  1.996,  0.514,  0.488,  0.408,  0.588,  0.511,\n",
       "        0.441,  0.558,  0.518,  0.501,  0.495,  0.499,  0.484,  0.503,\n",
       "        0.498,  0.496,  0.516,  0.502,  0.477,  0.483,  0.497,  0.481,\n",
       "        0.533,  0.493,  0.519,  0.48 ,  0.468,  0.534,  0.481,  0.519,\n",
       "        0.504,  0.52 ,  0.486,  0.469,  0.508,  0.506,  0.51 ,  0.474,\n",
       "        0.517,  0.478,  0.514,  0.487,  0.494,  0.485, 10.002,  7.003,\n",
       "        4.498,  0.999,  0.45 ,  0.552,  0.462,  0.512,  0.488,  0.513,\n",
       "        0.487,  0.532,  5.   ,  4.502,  3.997,  0.505,  0.515,  2.999,\n",
       "        0.47 ,  0.529,  5.502,  3.499,  2.001,  1.469,  0.482,  0.457,\n",
       "        0.546,  0.521,  0.521,  0.534,  0.555,  0.479,  0.518,  0.464,\n",
       "        7.503,  4.998,  0.477,  0.522,  0.492,  0.479,  4.501,  0.538,\n",
       "        0.5  ,  0.516,  0.501,  0.503,  0.504,  0.498,  0.488,  0.499,\n",
       "        0.515,  0.484,  0.502,  7.003,  3.997,  0.486,  0.526,  0.529,\n",
       "        0.472,  0.496,  0.505,  0.507,  0.494,  0.447,  0.517,  0.508,\n",
       "        0.497,  2.993,  3.5  ,  1.982,  0.481,  0.493,  0.487,  0.519,\n",
       "        0.485,  0.506,  0.534,  0.491,  0.468,  0.53 ,  0.51 ,  0.495,\n",
       "        0.461,  0.536,  0.521,  0.49 ,  0.51 ,  0.507,  0.52 ,  4.051,\n",
       "        2.499,  0.459,  0.544,  0.47 ,  0.483,  0.494,  0.49 ,  0.528,\n",
       "        0.463,  0.536,  0.492,  0.511,  0.471,  0.482,  0.492,  0.476,\n",
       "        0.442,  0.54 ,  0.514,  0.532,  0.475,  0.453,  0.547,  0.493,\n",
       "        1.501,  0.523,  0.508,  0.529,  0.406,  0.595,  0.446,  0.556,\n",
       "       12.   ,  8.5  ,  6.001,  2.985,  2.998,  0.511,  0.489,  5.518,\n",
       "        4.001,  2.002,  0.527,  0.458,  0.541,  0.476,  0.455,  0.545,\n",
       "        3.999,  3.499,  0.448,  4.502,  4.502,  3.498,  1.999,  0.562,\n",
       "        4.988,  4.012,  2.498,  0.479,  0.452,  0.444,  0.554,  0.557,\n",
       "        0.48 ,  0.542,  7.   ,  0.535,  0.53 ,  0.489,  0.484,  0.499,\n",
       "        0.512,  0.505,  0.501,  0.497,  0.516,  0.483,  0.498,  0.496,\n",
       "        6.002,  4.499,  3.001,  0.515,  0.504,  0.503,  0.502,  0.523,\n",
       "        6.987,  6.514,  3.488,  0.512,  0.467,  0.531,  0.485,  0.486,\n",
       "        0.478,  0.514,  0.477,  0.481,  0.451,  0.546,  0.457,  0.517,\n",
       "        0.55 ,  0.487,  0.462,  0.537,  0.495,  0.525,  0.493,  0.507,\n",
       "        0.513,  0.494,  0.49 ,  0.513,  0.48 ,  0.488,  0.506,  0.557,\n",
       "        4.999,  0.473,  0.457,  0.543,  0.469,  0.524,  0.482])"
      ]
     },
     "execution_count": 13,
     "metadata": {},
     "output_type": "execute_result"
    }
   ],
   "source": [
    "hr['seconds'].diff().unique()"
   ]
  },
  {
   "cell_type": "code",
   "execution_count": 14,
   "id": "edfdfa20-99a9-424e-aafc-fb053f83cab6",
   "metadata": {},
   "outputs": [],
   "source": [
    "hr['diff'] = hr['seconds'].diff()"
   ]
  },
  {
   "cell_type": "code",
   "execution_count": 15,
   "id": "0bb331e3-4b6f-48bb-ab7d-219f01b47218",
   "metadata": {},
   "outputs": [
    {
     "data": {
      "text/plain": [
       "diff\n",
       "0.406     1\n",
       "0.408     1\n",
       "0.441     3\n",
       "0.442     1\n",
       "0.444     1\n",
       "         ..\n",
       "7.003     1\n",
       "7.503     1\n",
       "8.500     1\n",
       "10.002    2\n",
       "12.000    1\n",
       "Length: 334, dtype: int64"
      ]
     },
     "execution_count": 15,
     "metadata": {},
     "output_type": "execute_result"
    }
   ],
   "source": [
    "hr.pivot_table(columns=['diff'], aggfunc='size')"
   ]
  },
  {
   "cell_type": "markdown",
   "id": "751e3cf0-1866-4b00-8073-66ef820b2b05",
   "metadata": {},
   "source": [
    "Se interpolan los datos"
   ]
  },
  {
   "cell_type": "code",
   "execution_count": 16,
   "id": "2f8b4fed-5d85-4fd0-8fa6-b63bf9a34caa",
   "metadata": {},
   "outputs": [],
   "source": [
    "new_df = pd.DataFrame()"
   ]
  },
  {
   "cell_type": "code",
   "execution_count": 17,
   "id": "0888798b-bb16-40e1-95cd-6ad1489ade8e",
   "metadata": {},
   "outputs": [],
   "source": [
    "last = hr.iloc[0]\n",
    "for i in range(1, hr.shape[0]):\n",
    "    new_df = new_df.append(last)\n",
    "    # si valor actual tiene diff mayor que 0.5, generar números\n",
    "    \n",
    "    if hr.iloc[i]['diff'] > 0.5:\n",
    "        seconds = last['seconds']\n",
    "        value = (hr.iloc[i]['hr'] + last['hr'])/ 2\n",
    "        #print(hr.iloc[i]['hr'], last['hr'], value)\n",
    "        #print(last, hr.iloc[i])\n",
    "        for x in range(0, int(hr.iloc[i]['diff']/0.5) -1):\n",
    "            \n",
    "            seconds = seconds + 0.5\n",
    "            new_df = new_df.append({'seconds': seconds, 'date': None, 'hr': value},ignore_index=True)\n",
    "    last = hr.iloc[i]\n"
   ]
  },
  {
   "cell_type": "code",
   "execution_count": 18,
   "id": "ab5d7d73-9771-4eaf-bca3-365c0c32b1e8",
   "metadata": {},
   "outputs": [
    {
     "data": {
      "text/html": [
       "<div>\n",
       "<style scoped>\n",
       "    .dataframe tbody tr th:only-of-type {\n",
       "        vertical-align: middle;\n",
       "    }\n",
       "\n",
       "    .dataframe tbody tr th {\n",
       "        vertical-align: top;\n",
       "    }\n",
       "\n",
       "    .dataframe thead th {\n",
       "        text-align: right;\n",
       "    }\n",
       "</style>\n",
       "<table border=\"1\" class=\"dataframe\">\n",
       "  <thead>\n",
       "    <tr style=\"text-align: right;\">\n",
       "      <th></th>\n",
       "      <th>seconds</th>\n",
       "      <th>date</th>\n",
       "      <th>hr</th>\n",
       "      <th>diff</th>\n",
       "    </tr>\n",
       "  </thead>\n",
       "  <tbody>\n",
       "    <tr>\n",
       "      <th>0</th>\n",
       "      <td>79.952</td>\n",
       "      <td>[2023-09-09 20:19:12 914]</td>\n",
       "      <td>80.0</td>\n",
       "      <td>NaN</td>\n",
       "    </tr>\n",
       "    <tr>\n",
       "      <th>1</th>\n",
       "      <td>80.452</td>\n",
       "      <td>[2023-09-09 20:19:13 414]</td>\n",
       "      <td>80.0</td>\n",
       "      <td>0.5</td>\n",
       "    </tr>\n",
       "    <tr>\n",
       "      <th>2</th>\n",
       "      <td>80.952</td>\n",
       "      <td>[2023-09-09 20:19:13 914]</td>\n",
       "      <td>80.0</td>\n",
       "      <td>0.5</td>\n",
       "    </tr>\n",
       "    <tr>\n",
       "      <th>3</th>\n",
       "      <td>81.452</td>\n",
       "      <td>[2023-09-09 20:19:14 414]</td>\n",
       "      <td>81.0</td>\n",
       "      <td>0.5</td>\n",
       "    </tr>\n",
       "    <tr>\n",
       "      <th>4</th>\n",
       "      <td>81.952</td>\n",
       "      <td>[2023-09-09 20:19:14 914]</td>\n",
       "      <td>81.0</td>\n",
       "      <td>0.5</td>\n",
       "    </tr>\n",
       "    <tr>\n",
       "      <th>...</th>\n",
       "      <td>...</td>\n",
       "      <td>...</td>\n",
       "      <td>...</td>\n",
       "      <td>...</td>\n",
       "    </tr>\n",
       "    <tr>\n",
       "      <th>1174088</th>\n",
       "      <td>10335.700</td>\n",
       "      <td>[2023-09-09 23:10:08 662]</td>\n",
       "      <td>99.0</td>\n",
       "      <td>0.5</td>\n",
       "    </tr>\n",
       "    <tr>\n",
       "      <th>1174142</th>\n",
       "      <td>10336.200</td>\n",
       "      <td>[2023-09-09 23:10:09 162]</td>\n",
       "      <td>99.0</td>\n",
       "      <td>0.5</td>\n",
       "    </tr>\n",
       "    <tr>\n",
       "      <th>1174198</th>\n",
       "      <td>10336.700</td>\n",
       "      <td>[2023-09-09 23:10:09 662]</td>\n",
       "      <td>98.0</td>\n",
       "      <td>0.5</td>\n",
       "    </tr>\n",
       "    <tr>\n",
       "      <th>1174254</th>\n",
       "      <td>10337.200</td>\n",
       "      <td>[2023-09-09 23:10:10 162]</td>\n",
       "      <td>98.0</td>\n",
       "      <td>0.5</td>\n",
       "    </tr>\n",
       "    <tr>\n",
       "      <th>1174311</th>\n",
       "      <td>10337.700</td>\n",
       "      <td>[2023-09-09 23:10:10 662]</td>\n",
       "      <td>98.0</td>\n",
       "      <td>0.5</td>\n",
       "    </tr>\n",
       "  </tbody>\n",
       "</table>\n",
       "<p>20489 rows × 4 columns</p>\n",
       "</div>"
      ],
      "text/plain": [
       "           seconds                       date    hr  diff\n",
       "0           79.952  [2023-09-09 20:19:12 914]  80.0   NaN\n",
       "1           80.452  [2023-09-09 20:19:13 414]  80.0   0.5\n",
       "2           80.952  [2023-09-09 20:19:13 914]  80.0   0.5\n",
       "3           81.452  [2023-09-09 20:19:14 414]  81.0   0.5\n",
       "4           81.952  [2023-09-09 20:19:14 914]  81.0   0.5\n",
       "...            ...                        ...   ...   ...\n",
       "1174088  10335.700  [2023-09-09 23:10:08 662]  99.0   0.5\n",
       "1174142  10336.200  [2023-09-09 23:10:09 162]  99.0   0.5\n",
       "1174198  10336.700  [2023-09-09 23:10:09 662]  98.0   0.5\n",
       "1174254  10337.200  [2023-09-09 23:10:10 162]  98.0   0.5\n",
       "1174311  10337.700  [2023-09-09 23:10:10 662]  98.0   0.5\n",
       "\n",
       "[20489 rows x 4 columns]"
      ]
     },
     "execution_count": 18,
     "metadata": {},
     "output_type": "execute_result"
    }
   ],
   "source": [
    "new_df"
   ]
  },
  {
   "cell_type": "code",
   "execution_count": 19,
   "id": "242b429a-4792-4bb8-8e36-5275ba2f00d8",
   "metadata": {},
   "outputs": [],
   "source": [
    "new_df.to_csv(f'../../../../datasets/study-players/{record_date}/{player_name}_hr_without_gaps.csv')"
   ]
  },
  {
   "cell_type": "markdown",
   "id": "8a76ba6e-45db-4b03-be43-387a6e4b6111",
   "metadata": {},
   "source": [
    "# Ahora hacer lo mismo con activity"
   ]
  },
  {
   "cell_type": "code",
   "execution_count": 20,
   "id": "c88b6e0d-5886-41ba-b6ef-f5a9b2a299c6",
   "metadata": {},
   "outputs": [],
   "source": [
    "PLAYER_ACTIVITY_FILE_DIR = f'../../../../datasets/study-players/{record_date}/{player_name}_activity_load.csv'"
   ]
  },
  {
   "cell_type": "code",
   "execution_count": 21,
   "id": "4ad89904-0da1-4e01-b5cc-3c68ebe9d50a",
   "metadata": {},
   "outputs": [
    {
     "data": {
      "text/html": [
       "<div>\n",
       "<style scoped>\n",
       "    .dataframe tbody tr th:only-of-type {\n",
       "        vertical-align: middle;\n",
       "    }\n",
       "\n",
       "    .dataframe tbody tr th {\n",
       "        vertical-align: top;\n",
       "    }\n",
       "\n",
       "    .dataframe thead th {\n",
       "        text-align: right;\n",
       "    }\n",
       "</style>\n",
       "<table border=\"1\" class=\"dataframe\">\n",
       "  <thead>\n",
       "    <tr style=\"text-align: right;\">\n",
       "      <th></th>\n",
       "      <th>seconds</th>\n",
       "      <th>date</th>\n",
       "      <th>activity_load_2d</th>\n",
       "      <th>activity_load_3d</th>\n",
       "    </tr>\n",
       "  </thead>\n",
       "  <tbody>\n",
       "    <tr>\n",
       "      <th>74</th>\n",
       "      <td>1,772</td>\n",
       "      <td>[2023-09-09 20:17:54 734]</td>\n",
       "      <td>0,0053</td>\n",
       "      <td>0,0057</td>\n",
       "    </tr>\n",
       "    <tr>\n",
       "      <th>185</th>\n",
       "      <td>2,772</td>\n",
       "      <td>[2023-09-09 20:17:55 734]</td>\n",
       "      <td>0,0029</td>\n",
       "      <td>0,0032</td>\n",
       "    </tr>\n",
       "    <tr>\n",
       "      <th>296</th>\n",
       "      <td>3,772</td>\n",
       "      <td>[2023-09-09 20:17:56 734]</td>\n",
       "      <td>0,0061</td>\n",
       "      <td>0,0065</td>\n",
       "    </tr>\n",
       "    <tr>\n",
       "      <th>407</th>\n",
       "      <td>4,772</td>\n",
       "      <td>[2023-09-09 20:17:57 734]</td>\n",
       "      <td>0,0043</td>\n",
       "      <td>0,0046</td>\n",
       "    </tr>\n",
       "    <tr>\n",
       "      <th>514</th>\n",
       "      <td>5,772</td>\n",
       "      <td>[2023-09-09 20:17:58 734]</td>\n",
       "      <td>0,0022</td>\n",
       "      <td>0,0025</td>\n",
       "    </tr>\n",
       "  </tbody>\n",
       "</table>\n",
       "</div>"
      ],
      "text/plain": [
       "    seconds                       date activity_load_2d activity_load_3d\n",
       "74    1,772  [2023-09-09 20:17:54 734]           0,0053           0,0057\n",
       "185   2,772  [2023-09-09 20:17:55 734]           0,0029           0,0032\n",
       "296   3,772  [2023-09-09 20:17:56 734]           0,0061           0,0065\n",
       "407   4,772  [2023-09-09 20:17:57 734]           0,0043           0,0046\n",
       "514   5,772  [2023-09-09 20:17:58 734]           0,0022           0,0025"
      ]
     },
     "execution_count": 21,
     "metadata": {},
     "output_type": "execute_result"
    }
   ],
   "source": [
    "activity_load = pd.read_csv(PLAYER_ACTIVITY_FILE_DIR,index_col=0)\n",
    "activity_load.head()"
   ]
  },
  {
   "cell_type": "markdown",
   "id": "b95db4ea-70f3-4979-be11-f7b53cf3ea6c",
   "metadata": {},
   "source": [
    "Se debe cambiar los valores numéricos a las cargas de actividad y a los segundos"
   ]
  },
  {
   "cell_type": "code",
   "execution_count": 22,
   "id": "6ec3a468-91b1-4ac0-ad7a-bfc21e79f10b",
   "metadata": {},
   "outputs": [],
   "source": [
    "activity_load['seconds'] = activity_load['seconds'].apply(lambda x: convert_comma_to_point(x))\n",
    "activity_load['seconds'] = activity_load['seconds'].apply(pd.to_numeric)"
   ]
  },
  {
   "cell_type": "code",
   "execution_count": 23,
   "id": "91739de1-3885-4663-a430-99c3106a6e2e",
   "metadata": {},
   "outputs": [],
   "source": [
    "activity_load['activity_load_2d'] = activity_load['activity_load_2d'].apply(lambda x: convert_comma_to_point(x))\n",
    "activity_load['activity_load_2d'] = activity_load['activity_load_2d'].apply(pd.to_numeric)"
   ]
  },
  {
   "cell_type": "code",
   "execution_count": 24,
   "id": "92a66a54-0113-4b06-b575-89a7859c551c",
   "metadata": {},
   "outputs": [],
   "source": [
    "activity_load['activity_load_3d'] = activity_load['activity_load_3d'].apply(lambda x: convert_comma_to_point(x))\n",
    "activity_load['activity_load_3d'] = activity_load['activity_load_3d'].apply(pd.to_numeric)"
   ]
  },
  {
   "cell_type": "code",
   "execution_count": 25,
   "id": "a389c373-bead-4835-b84b-ff32e3d2442d",
   "metadata": {},
   "outputs": [
    {
     "data": {
      "text/plain": [
       "seconds             float64\n",
       "date                 object\n",
       "activity_load_2d    float64\n",
       "activity_load_3d    float64\n",
       "dtype: object"
      ]
     },
     "execution_count": 25,
     "metadata": {},
     "output_type": "execute_result"
    }
   ],
   "source": [
    "activity_load.dtypes"
   ]
  },
  {
   "cell_type": "markdown",
   "id": "83477613-a932-4574-8766-ceb16d903bc3",
   "metadata": {},
   "source": [
    "Se muestran unos gráficos"
   ]
  },
  {
   "cell_type": "code",
   "execution_count": 26,
   "id": "935931c3-e593-4d8b-a013-3d1d1db5d756",
   "metadata": {},
   "outputs": [
    {
     "data": {
      "text/plain": [
       "<AxesSubplot:>"
      ]
     },
     "execution_count": 26,
     "metadata": {},
     "output_type": "execute_result"
    },
    {
     "data": {
      "image/png": "[encoded data removed]",
      "text/plain": [
       "<Figure size 432x288 with 1 Axes>"
      ]
     },
     "metadata": {
      "needs_background": "light"
     },
     "output_type": "display_data"
    }
   ],
   "source": [
    "activity_load.plot(y='activity_load_2d')"
   ]
  },
  {
   "cell_type": "code",
   "execution_count": 27,
   "id": "5656b2c8-72a0-4ae0-87cb-7a3d5c6b354a",
   "metadata": {},
   "outputs": [
    {
     "data": {
      "text/plain": [
       "<AxesSubplot:>"
      ]
     },
     "execution_count": 27,
     "metadata": {},
     "output_type": "execute_result"
    },
    {
     "data": {
      "image/png": "[encoded data removed]",
      "text/plain": [
       "<Figure size 432x288 with 1 Axes>"
      ]
     },
     "metadata": {
      "needs_background": "light"
     },
     "output_type": "display_data"
    }
   ],
   "source": [
    "activity_load.plot(y='activity_load_3d')"
   ]
  },
  {
   "cell_type": "code",
   "execution_count": 28,
   "id": "fcd1a337-9d33-44e9-94ff-3fb982986c39",
   "metadata": {},
   "outputs": [
    {
     "name": "stdout",
     "output_type": "stream",
     "text": [
      "Valor mínimo 1.772\n",
      "Valor máximo 10363.796\n"
     ]
    }
   ],
   "source": [
    "min_seconds = activity_load['seconds'].min()\n",
    "max_seconds = activity_load['seconds'].max()\n",
    "\n",
    "print(f\"Valor mínimo {min_seconds}\")\n",
    "print(f\"Valor máximo {max_seconds}\")"
   ]
  },
  {
   "cell_type": "code",
   "execution_count": 29,
   "id": "f7855877-d929-4355-9b26-ad85c02cfe8e",
   "metadata": {},
   "outputs": [
    {
     "name": "stdout",
     "output_type": "stream",
     "text": [
      "Minutos totales: 172.7004 minutos\n",
      "Horas totales: 2.87834 horas\n"
     ]
    }
   ],
   "source": [
    "minutes = (max_seconds - min_seconds) / 60\n",
    "hours = minutes / 60\n",
    "print(f\"Minutos totales: {minutes} minutos\")\n",
    "print(f\"Horas totales: {hours} horas\")"
   ]
  },
  {
   "cell_type": "markdown",
   "id": "f3f4b0e4-805e-48df-8bdf-5e41507d4b93",
   "metadata": {},
   "source": [
    "Se cuenta con más info de la carga de actividad"
   ]
  },
  {
   "cell_type": "markdown",
   "id": "89567676-04b1-4727-bfb0-af7b389c9890",
   "metadata": {},
   "source": [
    "Se comprueban los gaps, frecuencia de un segundoactivity_load['seconds'].diff()"
   ]
  },
  {
   "cell_type": "code",
   "execution_count": 30,
   "id": "812dff1c-47c3-4b21-9267-171934fd0e2a",
   "metadata": {},
   "outputs": [
    {
     "data": {
      "text/plain": [
       "74         NaN\n",
       "185        1.0\n",
       "296        1.0\n",
       "407        1.0\n",
       "514        1.0\n",
       "          ... \n",
       "1176749    1.0\n",
       "1176860    1.0\n",
       "1176970    1.0\n",
       "1177078    1.0\n",
       "1177189    1.0\n",
       "Name: seconds, Length: 10335, dtype: float64"
      ]
     },
     "execution_count": 30,
     "metadata": {},
     "output_type": "execute_result"
    }
   ],
   "source": [
    "activity_load['seconds'].diff()"
   ]
  },
  {
   "cell_type": "code",
   "execution_count": 31,
   "id": "67ae720b-79ec-4e53-8941-062fd55a7545",
   "metadata": {},
   "outputs": [
    {
     "data": {
      "text/plain": [
       "array([  nan, 1.   , 1.   , 1.   , 1.   , 1.162, 1.162, 1.161, 1.   ,\n",
       "       1.16 , 1.162, 1.163, 1.161, 1.161, 1.162, 1.162, 0.998, 0.999,\n",
       "       0.989, 1.008, 1.009, 0.998, 0.995, 1.004, 0.994, 1.007, 1.013,\n",
       "       1.002, 0.996, 0.997, 1.015, 1.002, 0.999, 1.001, 1.001, 1.003,\n",
       "       0.983, 1.015, 1.003, 0.985, 1.017, 1.004, 0.997, 1.164, 0.984,\n",
       "       1.018, 1.014, 0.98 , 1.016, 0.982, 1.019, 1.14 , 1.022, 0.981,\n",
       "       1.02 , 1.005, 1.006, 1.022, 0.951, 1.048, 0.983, 1.016, 0.987,\n",
       "       1.014, 0.985, 0.975, 0.996, 1.131, 1.03 , 0.979, 0.968, 1.032,\n",
       "       1.021, 1.017, 1.157, 0.994, 1.036, 1.023, 0.973, 1.026, 0.986,\n",
       "       0.909, 1.088, 1.01 , 0.942, 1.057, 1.16 , 1.161, 1.159, 0.988,\n",
       "       1.   , 1.003, 0.981, 1.021, 0.998, 0.999, 1.001, 0.984, 1.014,\n",
       "       1.002, 0.981, 1.006, 0.997, 1.016, 1.004, 0.976, 1.024, 0.995,\n",
       "       1.021, 0.967, 1.034, 0.985, 1.015, 0.994, 1.006, 1.019, 1.017,\n",
       "       0.983, 1.158, 0.996, 0.968, 1.005, 1.143, 1.019, 0.977, 1.181,\n",
       "       1.007, 1.012, 1.018, 0.986, 0.949, 1.052, 1.16 , 1.005, 1.012,\n",
       "       0.99 , 1.164, 0.979, 0.968, 1.031, 0.995, 0.978, 0.987, 1.145,\n",
       "       0.971, 1.029, 1.183, 1.156, 0.969, 1.01 , 1.162, 0.966, 1.032,\n",
       "       1.191, 0.979, 1.145, 1.184, 1.034, 1.192, 0.963, 1.055, 0.964,\n",
       "       1.035, 1.178, 0.97 , 1.032, 1.144, 0.992, 1.165, 1.142, 1.038,\n",
       "       0.993, 1.167, 0.993, 1.013, 0.98 , 1.003, 1.001, 0.998, 0.988,\n",
       "       0.999, 0.984, 1.002, 1.163, 0.968, 1.016, 0.975, 1.026, 0.971,\n",
       "       1.029, 0.983, 1.017, 1.16 , 0.973, 1.029, 0.985, 1.007, 0.947,\n",
       "       1.05 , 0.981, 1.019, 1.005, 1.007, 1.004, 0.997, 0.992, 0.993,\n",
       "       1.147, 0.995, 1.18 , 0.994, 1.006, 0.992, 1.034, 1.021, 1.011,\n",
       "       0.987, 1.159, 0.969, 1.03 , 0.996, 1.158, 0.963, 1.02 , 1.015,\n",
       "       1.164, 1.161, 1.172, 1.053, 1.153, 0.98 , 1.012, 0.988, 1.028,\n",
       "       0.975, 1.023, 0.941, 1.041, 1.014, 1.174, 1.033, 0.976, 0.991,\n",
       "       0.952, 1.047, 1.163, 1.162, 0.971, 0.905, 1.096, 0.944, 1.057,\n",
       "       1.17 , 0.989, 1.01 , 0.989, 1.02 , 1.158, 0.986, 1.033, 1.025,\n",
       "       0.956, 1.045, 1.177, 1.011, 0.949, 1.048, 0.947, 1.063, 1.03 ,\n",
       "       0.952, 1.049, 0.966, 0.982, 1.159, 1.059, 1.16 , 1.008, 0.965,\n",
       "       1.012, 1.167, 0.998, 1.004, 1.015, 1.001, 0.984, 1.013, 1.002,\n",
       "       1.016, 0.999, 0.997, 1.165, 1.003, 0.981, 1.024, 0.979, 1.166,\n",
       "       0.996, 0.977, 1.022, 1.005, 1.011, 0.976, 0.983, 0.951, 1.007,\n",
       "       0.994, 0.957, 1.017, 0.949, 1.049, 1.02 , 1.038, 0.995, 0.968,\n",
       "       1.032, 0.988, 1.164, 1.014, 0.986, 1.023, 0.985, 1.019, 1.166,\n",
       "       1.178, 1.031, 1.162, 1.032, 1.163])"
      ]
     },
     "execution_count": 31,
     "metadata": {},
     "output_type": "execute_result"
    }
   ],
   "source": [
    "activity_load['seconds'].diff().unique()"
   ]
  },
  {
   "cell_type": "markdown",
   "id": "b6f6ce43-a736-494e-9bdd-f42eb6c2c1e9",
   "metadata": {},
   "source": [
    "No hay gaps significativos, no hay que hacer cambios, se guarda el dataset."
   ]
  },
  {
   "cell_type": "code",
   "execution_count": 32,
   "id": "a792d629-2121-4838-b49e-2ba0bbd117b5",
   "metadata": {},
   "outputs": [],
   "source": [
    "activity_load.to_csv(f'../../../../datasets/study-players/{record_date}/{player_name}_activity_load.csv')"
   ]
  },
  {
   "cell_type": "code",
   "execution_count": null,
   "id": "c8f34f38-2877-4146-adc7-e36fd1329a92",
   "metadata": {},
   "outputs": [],
   "source": []
  }
 ],
 "metadata": {
  "kernelspec": {
   "display_name": "Python 3 (ipykernel)",
   "language": "python",
   "name": "python3"
  },
  "language_info": {
   "codemirror_mode": {
    "name": "ipython",
    "version": 3
   },
   "file_extension": ".py",
   "mimetype": "text/x-python",
   "name": "python",
   "nbconvert_exporter": "python",
   "pygments_lexer": "ipython3",
   "version": "3.9.2"
  }
 },
 "nbformat": 4,
 "nbformat_minor": 5
}
