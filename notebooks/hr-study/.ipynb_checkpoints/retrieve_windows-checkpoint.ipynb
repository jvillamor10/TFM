{
 "cells": [
  {
   "cell_type": "markdown",
   "id": "baec7726-a653-48d2-a63f-d066fe06343b",
   "metadata": {},
   "source": [
    "# Cuaderno que se encarga de obtener las ventanas de HR"
   ]
  },
  {
   "cell_type": "code",
   "execution_count": 1,
   "id": "4665312a-3e53-4ae3-8cdb-1f65f84ce735",
   "metadata": {},
   "outputs": [],
   "source": [
    "import pandas as pd"
   ]
  },
  {
   "cell_type": "code",
   "execution_count": 2,
   "id": "6557b671-482b-4956-aadc-9538925296da",
   "metadata": {},
   "outputs": [
    {
     "data": {
      "text/html": [
       "<div>\n",
       "<style scoped>\n",
       "    .dataframe tbody tr th:only-of-type {\n",
       "        vertical-align: middle;\n",
       "    }\n",
       "\n",
       "    .dataframe tbody tr th {\n",
       "        vertical-align: top;\n",
       "    }\n",
       "\n",
       "    .dataframe thead th {\n",
       "        text-align: right;\n",
       "    }\n",
       "</style>\n",
       "<table border=\"1\" class=\"dataframe\">\n",
       "  <thead>\n",
       "    <tr style=\"text-align: right;\">\n",
       "      <th></th>\n",
       "      <th>seconds</th>\n",
       "      <th>date</th>\n",
       "      <th>hr</th>\n",
       "      <th>diff</th>\n",
       "      <th>gap</th>\n",
       "    </tr>\n",
       "  </thead>\n",
       "  <tbody>\n",
       "    <tr>\n",
       "      <th>0</th>\n",
       "      <td>126.304</td>\n",
       "      <td>2023-04-23 18:10:38.770</td>\n",
       "      <td>75.0</td>\n",
       "      <td>NaN</td>\n",
       "      <td>0.0</td>\n",
       "    </tr>\n",
       "    <tr>\n",
       "      <th>1</th>\n",
       "      <td>126.804</td>\n",
       "      <td>2023-04-23 18:10:38.770</td>\n",
       "      <td>75.0</td>\n",
       "      <td>0.5</td>\n",
       "      <td>0.0</td>\n",
       "    </tr>\n",
       "    <tr>\n",
       "      <th>2</th>\n",
       "      <td>127.304</td>\n",
       "      <td>2023-04-23 18:10:38.770</td>\n",
       "      <td>75.0</td>\n",
       "      <td>0.5</td>\n",
       "      <td>0.0</td>\n",
       "    </tr>\n",
       "    <tr>\n",
       "      <th>3</th>\n",
       "      <td>127.804</td>\n",
       "      <td>2023-04-23 18:10:38.770</td>\n",
       "      <td>75.0</td>\n",
       "      <td>0.5</td>\n",
       "      <td>0.0</td>\n",
       "    </tr>\n",
       "    <tr>\n",
       "      <th>4</th>\n",
       "      <td>128.304</td>\n",
       "      <td>2023-04-23 18:10:38.770</td>\n",
       "      <td>75.0</td>\n",
       "      <td>0.5</td>\n",
       "      <td>0.0</td>\n",
       "    </tr>\n",
       "  </tbody>\n",
       "</table>\n",
       "</div>"
      ],
      "text/plain": [
       "   seconds                     date    hr  diff  gap\n",
       "0  126.304  2023-04-23 18:10:38.770  75.0   NaN  0.0\n",
       "1  126.804  2023-04-23 18:10:38.770  75.0   0.5  0.0\n",
       "2  127.304  2023-04-23 18:10:38.770  75.0   0.5  0.0\n",
       "3  127.804  2023-04-23 18:10:38.770  75.0   0.5  0.0\n",
       "4  128.304  2023-04-23 18:10:38.770  75.0   0.5  0.0"
      ]
     },
     "execution_count": 2,
     "metadata": {},
     "output_type": "execute_result"
    }
   ],
   "source": [
    "hr = pd.read_csv('../../datasets/hr-study/hr_without_gaps.csv',index_col=0)\n",
    "hr.head()"
   ]
  },
  {
   "cell_type": "code",
   "execution_count": 3,
   "id": "9a05a0b1-54b5-402e-bfe9-3b04d7f80e76",
   "metadata": {},
   "outputs": [
    {
     "name": "stdout",
     "output_type": "stream",
     "text": [
      "Número de registros: 21689\n"
     ]
    }
   ],
   "source": [
    "print(f'Número de registros: {len(hr)}')"
   ]
  },
  {
   "cell_type": "markdown",
   "id": "c9323cd8-daa5-483e-812c-67c1008bfb15",
   "metadata": {},
   "source": [
    "Se fijan los valores"
   ]
  },
  {
   "cell_type": "code",
   "execution_count": 4,
   "id": "616949e2-8571-4c65-93ae-385c03614610",
   "metadata": {},
   "outputs": [],
   "source": [
    "window_size = 10\n",
    "overlap = 0.5"
   ]
  },
  {
   "cell_type": "markdown",
   "id": "b64ddd83-38a9-4cc4-ba3b-b2f3642ddac5",
   "metadata": {},
   "source": [
    "Se crea el dataframe en el que se van a guardar las ventanas\n",
    "\n",
    "Primeramente, se crean las columnas\n"
   ]
  },
  {
   "cell_type": "code",
   "execution_count": 5,
   "id": "6e5afd8e-6355-4e08-8b42-314cc26fbbfa",
   "metadata": {},
   "outputs": [],
   "source": [
    "window = pd.DataFrame()"
   ]
  },
  {
   "cell_type": "markdown",
   "id": "174d5143-610a-41e5-baf7-29818262a112",
   "metadata": {},
   "source": [
    "Primeramente se hace una prueba de concepto"
   ]
  },
  {
   "cell_type": "markdown",
   "id": "9e64ae89-1fdc-4a07-84c2-e8af7a1c9f47",
   "metadata": {},
   "source": [
    "Sin solapar"
   ]
  },
  {
   "cell_type": "code",
   "execution_count": 6,
   "id": "b159d3c3-8bbd-4fa4-bd7f-1d3ca8416e5d",
   "metadata": {},
   "outputs": [],
   "source": [
    "for i in range(0,20, window_size):\n",
    "    window = window.append([hr.iloc[i:i+window_size]['hr'].values])"
   ]
  },
  {
   "cell_type": "code",
   "execution_count": 7,
   "id": "9fd12ed6-f3e0-4c81-a313-8e462015d3e6",
   "metadata": {},
   "outputs": [
    {
     "data": {
      "text/html": [
       "<div>\n",
       "<style scoped>\n",
       "    .dataframe tbody tr th:only-of-type {\n",
       "        vertical-align: middle;\n",
       "    }\n",
       "\n",
       "    .dataframe tbody tr th {\n",
       "        vertical-align: top;\n",
       "    }\n",
       "\n",
       "    .dataframe thead th {\n",
       "        text-align: right;\n",
       "    }\n",
       "</style>\n",
       "<table border=\"1\" class=\"dataframe\">\n",
       "  <thead>\n",
       "    <tr style=\"text-align: right;\">\n",
       "      <th></th>\n",
       "      <th>0</th>\n",
       "      <th>1</th>\n",
       "      <th>2</th>\n",
       "      <th>3</th>\n",
       "      <th>4</th>\n",
       "      <th>5</th>\n",
       "      <th>6</th>\n",
       "      <th>7</th>\n",
       "      <th>8</th>\n",
       "      <th>9</th>\n",
       "    </tr>\n",
       "  </thead>\n",
       "  <tbody>\n",
       "    <tr>\n",
       "      <th>0</th>\n",
       "      <td>75.0</td>\n",
       "      <td>75.0</td>\n",
       "      <td>75.0</td>\n",
       "      <td>75.0</td>\n",
       "      <td>75.0</td>\n",
       "      <td>75.0</td>\n",
       "      <td>75.0</td>\n",
       "      <td>75.0</td>\n",
       "      <td>76.0</td>\n",
       "      <td>76.0</td>\n",
       "    </tr>\n",
       "    <tr>\n",
       "      <th>0</th>\n",
       "      <td>77.0</td>\n",
       "      <td>77.0</td>\n",
       "      <td>77.0</td>\n",
       "      <td>77.0</td>\n",
       "      <td>77.0</td>\n",
       "      <td>77.0</td>\n",
       "      <td>77.0</td>\n",
       "      <td>78.0</td>\n",
       "      <td>78.0</td>\n",
       "      <td>78.0</td>\n",
       "    </tr>\n",
       "  </tbody>\n",
       "</table>\n",
       "</div>"
      ],
      "text/plain": [
       "      0     1     2     3     4     5     6     7     8     9\n",
       "0  75.0  75.0  75.0  75.0  75.0  75.0  75.0  75.0  76.0  76.0\n",
       "0  77.0  77.0  77.0  77.0  77.0  77.0  77.0  78.0  78.0  78.0"
      ]
     },
     "execution_count": 7,
     "metadata": {},
     "output_type": "execute_result"
    }
   ],
   "source": [
    "window"
   ]
  },
  {
   "cell_type": "markdown",
   "id": "19e04538-fb4d-4fb6-b3a6-3652a69cff1f",
   "metadata": {},
   "source": [
    "Con solapación"
   ]
  },
  {
   "cell_type": "code",
   "execution_count": 8,
   "id": "0c9f8bad-2952-4d04-9496-88be6b148290",
   "metadata": {},
   "outputs": [],
   "source": [
    "window = pd.DataFrame()"
   ]
  },
  {
   "cell_type": "code",
   "execution_count": 9,
   "id": "4d741b77-f760-4d96-82a7-c20df6353d36",
   "metadata": {},
   "outputs": [],
   "source": [
    "for i in range(0,20, int(window_size*(1-overlap))):\n",
    "    window = window.append([hr.iloc[i:i+window_size]['hr'].values])"
   ]
  },
  {
   "cell_type": "code",
   "execution_count": 13,
   "id": "0f402fca-638f-4b95-8e42-d558f2bc347c",
   "metadata": {},
   "outputs": [],
   "source": [
    "window.reset_index(inplace=True)"
   ]
  },
  {
   "cell_type": "code",
   "execution_count": 14,
   "id": "a878bab5-a2a0-40d5-8693-158881988c7e",
   "metadata": {},
   "outputs": [
    {
     "data": {
      "text/html": [
       "<div>\n",
       "<style scoped>\n",
       "    .dataframe tbody tr th:only-of-type {\n",
       "        vertical-align: middle;\n",
       "    }\n",
       "\n",
       "    .dataframe tbody tr th {\n",
       "        vertical-align: top;\n",
       "    }\n",
       "\n",
       "    .dataframe thead th {\n",
       "        text-align: right;\n",
       "    }\n",
       "</style>\n",
       "<table border=\"1\" class=\"dataframe\">\n",
       "  <thead>\n",
       "    <tr style=\"text-align: right;\">\n",
       "      <th></th>\n",
       "      <th>index</th>\n",
       "      <th>0</th>\n",
       "      <th>1</th>\n",
       "      <th>2</th>\n",
       "      <th>3</th>\n",
       "      <th>4</th>\n",
       "      <th>5</th>\n",
       "      <th>6</th>\n",
       "      <th>7</th>\n",
       "      <th>8</th>\n",
       "      <th>9</th>\n",
       "    </tr>\n",
       "  </thead>\n",
       "  <tbody>\n",
       "    <tr>\n",
       "      <th>0</th>\n",
       "      <td>0</td>\n",
       "      <td>75.0</td>\n",
       "      <td>75.0</td>\n",
       "      <td>75.0</td>\n",
       "      <td>75.0</td>\n",
       "      <td>75.0</td>\n",
       "      <td>75.0</td>\n",
       "      <td>75.0</td>\n",
       "      <td>75.0</td>\n",
       "      <td>76.0</td>\n",
       "      <td>76.0</td>\n",
       "    </tr>\n",
       "    <tr>\n",
       "      <th>1</th>\n",
       "      <td>0</td>\n",
       "      <td>75.0</td>\n",
       "      <td>75.0</td>\n",
       "      <td>75.0</td>\n",
       "      <td>76.0</td>\n",
       "      <td>76.0</td>\n",
       "      <td>77.0</td>\n",
       "      <td>77.0</td>\n",
       "      <td>77.0</td>\n",
       "      <td>77.0</td>\n",
       "      <td>77.0</td>\n",
       "    </tr>\n",
       "    <tr>\n",
       "      <th>2</th>\n",
       "      <td>0</td>\n",
       "      <td>77.0</td>\n",
       "      <td>77.0</td>\n",
       "      <td>77.0</td>\n",
       "      <td>77.0</td>\n",
       "      <td>77.0</td>\n",
       "      <td>77.0</td>\n",
       "      <td>77.0</td>\n",
       "      <td>78.0</td>\n",
       "      <td>78.0</td>\n",
       "      <td>78.0</td>\n",
       "    </tr>\n",
       "    <tr>\n",
       "      <th>3</th>\n",
       "      <td>0</td>\n",
       "      <td>77.0</td>\n",
       "      <td>77.0</td>\n",
       "      <td>78.0</td>\n",
       "      <td>78.0</td>\n",
       "      <td>78.0</td>\n",
       "      <td>78.0</td>\n",
       "      <td>78.0</td>\n",
       "      <td>78.0</td>\n",
       "      <td>78.0</td>\n",
       "      <td>78.0</td>\n",
       "    </tr>\n",
       "  </tbody>\n",
       "</table>\n",
       "</div>"
      ],
      "text/plain": [
       "   index     0     1     2     3     4     5     6     7     8     9\n",
       "0      0  75.0  75.0  75.0  75.0  75.0  75.0  75.0  75.0  76.0  76.0\n",
       "1      0  75.0  75.0  75.0  76.0  76.0  77.0  77.0  77.0  77.0  77.0\n",
       "2      0  77.0  77.0  77.0  77.0  77.0  77.0  77.0  78.0  78.0  78.0\n",
       "3      0  77.0  77.0  78.0  78.0  78.0  78.0  78.0  78.0  78.0  78.0"
      ]
     },
     "execution_count": 14,
     "metadata": {},
     "output_type": "execute_result"
    }
   ],
   "source": [
    "window"
   ]
  },
  {
   "cell_type": "markdown",
   "id": "da985854-6e4c-4833-92fc-e7a42f10cb0b",
   "metadata": {},
   "source": [
    "# Obtención del conjunto de datos"
   ]
  },
  {
   "cell_type": "code",
   "execution_count": 29,
   "id": "d11d2e4f-9864-4481-be30-f6b92da7c5c4",
   "metadata": {},
   "outputs": [],
   "source": [
    "window_size = 10\n",
    "overlap = 0.5"
   ]
  },
  {
   "cell_type": "markdown",
   "id": "4a63eb66-e2db-4eec-8c15-0cf8ffea140f",
   "metadata": {},
   "source": [
    "Con un tamaño 10, se recogen periodos de 5 segundos."
   ]
  },
  {
   "cell_type": "code",
   "execution_count": 30,
   "id": "a7323806-b66f-4703-8971-57f987539fbc",
   "metadata": {},
   "outputs": [],
   "source": [
    "window = pd.DataFrame()"
   ]
  },
  {
   "cell_type": "code",
   "execution_count": 31,
   "id": "ea7741e5-3f70-4f2e-a7eb-87f9d19de081",
   "metadata": {},
   "outputs": [],
   "source": [
    "for i in range(0,len(hr), int(window_size*(1-overlap))):\n",
    "    window = window.append([hr.iloc[i:i+window_size]['hr'].values])"
   ]
  },
  {
   "cell_type": "code",
   "execution_count": 33,
   "id": "8c7af07e-4b80-4e2d-96b5-d72637957eeb",
   "metadata": {},
   "outputs": [
    {
     "data": {
      "text/html": [
       "<div>\n",
       "<style scoped>\n",
       "    .dataframe tbody tr th:only-of-type {\n",
       "        vertical-align: middle;\n",
       "    }\n",
       "\n",
       "    .dataframe tbody tr th {\n",
       "        vertical-align: top;\n",
       "    }\n",
       "\n",
       "    .dataframe thead th {\n",
       "        text-align: right;\n",
       "    }\n",
       "</style>\n",
       "<table border=\"1\" class=\"dataframe\">\n",
       "  <thead>\n",
       "    <tr style=\"text-align: right;\">\n",
       "      <th></th>\n",
       "      <th>0</th>\n",
       "      <th>1</th>\n",
       "      <th>2</th>\n",
       "      <th>3</th>\n",
       "      <th>4</th>\n",
       "      <th>5</th>\n",
       "      <th>6</th>\n",
       "      <th>7</th>\n",
       "      <th>8</th>\n",
       "      <th>9</th>\n",
       "    </tr>\n",
       "  </thead>\n",
       "  <tbody>\n",
       "    <tr>\n",
       "      <th>0</th>\n",
       "      <td>75.0</td>\n",
       "      <td>75.0</td>\n",
       "      <td>75.0</td>\n",
       "      <td>75.0</td>\n",
       "      <td>75.0</td>\n",
       "      <td>75.0</td>\n",
       "      <td>75.0</td>\n",
       "      <td>75.0</td>\n",
       "      <td>76.0</td>\n",
       "      <td>76.0</td>\n",
       "    </tr>\n",
       "    <tr>\n",
       "      <th>0</th>\n",
       "      <td>75.0</td>\n",
       "      <td>75.0</td>\n",
       "      <td>75.0</td>\n",
       "      <td>76.0</td>\n",
       "      <td>76.0</td>\n",
       "      <td>77.0</td>\n",
       "      <td>77.0</td>\n",
       "      <td>77.0</td>\n",
       "      <td>77.0</td>\n",
       "      <td>77.0</td>\n",
       "    </tr>\n",
       "    <tr>\n",
       "      <th>0</th>\n",
       "      <td>77.0</td>\n",
       "      <td>77.0</td>\n",
       "      <td>77.0</td>\n",
       "      <td>77.0</td>\n",
       "      <td>77.0</td>\n",
       "      <td>77.0</td>\n",
       "      <td>77.0</td>\n",
       "      <td>78.0</td>\n",
       "      <td>78.0</td>\n",
       "      <td>78.0</td>\n",
       "    </tr>\n",
       "    <tr>\n",
       "      <th>0</th>\n",
       "      <td>77.0</td>\n",
       "      <td>77.0</td>\n",
       "      <td>78.0</td>\n",
       "      <td>78.0</td>\n",
       "      <td>78.0</td>\n",
       "      <td>78.0</td>\n",
       "      <td>78.0</td>\n",
       "      <td>78.0</td>\n",
       "      <td>78.0</td>\n",
       "      <td>78.0</td>\n",
       "    </tr>\n",
       "    <tr>\n",
       "      <th>0</th>\n",
       "      <td>78.0</td>\n",
       "      <td>78.0</td>\n",
       "      <td>78.0</td>\n",
       "      <td>78.0</td>\n",
       "      <td>78.0</td>\n",
       "      <td>78.0</td>\n",
       "      <td>78.0</td>\n",
       "      <td>78.0</td>\n",
       "      <td>78.0</td>\n",
       "      <td>78.0</td>\n",
       "    </tr>\n",
       "    <tr>\n",
       "      <th>...</th>\n",
       "      <td>...</td>\n",
       "      <td>...</td>\n",
       "      <td>...</td>\n",
       "      <td>...</td>\n",
       "      <td>...</td>\n",
       "      <td>...</td>\n",
       "      <td>...</td>\n",
       "      <td>...</td>\n",
       "      <td>...</td>\n",
       "      <td>...</td>\n",
       "    </tr>\n",
       "    <tr>\n",
       "      <th>0</th>\n",
       "      <td>96.0</td>\n",
       "      <td>96.0</td>\n",
       "      <td>95.0</td>\n",
       "      <td>95.0</td>\n",
       "      <td>95.0</td>\n",
       "      <td>95.0</td>\n",
       "      <td>95.0</td>\n",
       "      <td>95.0</td>\n",
       "      <td>96.0</td>\n",
       "      <td>96.0</td>\n",
       "    </tr>\n",
       "    <tr>\n",
       "      <th>0</th>\n",
       "      <td>95.0</td>\n",
       "      <td>95.0</td>\n",
       "      <td>95.0</td>\n",
       "      <td>96.0</td>\n",
       "      <td>96.0</td>\n",
       "      <td>96.0</td>\n",
       "      <td>96.0</td>\n",
       "      <td>96.0</td>\n",
       "      <td>96.0</td>\n",
       "      <td>96.0</td>\n",
       "    </tr>\n",
       "    <tr>\n",
       "      <th>0</th>\n",
       "      <td>96.0</td>\n",
       "      <td>96.0</td>\n",
       "      <td>96.0</td>\n",
       "      <td>96.0</td>\n",
       "      <td>96.0</td>\n",
       "      <td>96.0</td>\n",
       "      <td>96.0</td>\n",
       "      <td>96.0</td>\n",
       "      <td>96.0</td>\n",
       "      <td>96.0</td>\n",
       "    </tr>\n",
       "    <tr>\n",
       "      <th>0</th>\n",
       "      <td>96.0</td>\n",
       "      <td>96.0</td>\n",
       "      <td>96.0</td>\n",
       "      <td>96.0</td>\n",
       "      <td>96.0</td>\n",
       "      <td>96.0</td>\n",
       "      <td>96.0</td>\n",
       "      <td>96.0</td>\n",
       "      <td>96.0</td>\n",
       "      <td>NaN</td>\n",
       "    </tr>\n",
       "    <tr>\n",
       "      <th>0</th>\n",
       "      <td>96.0</td>\n",
       "      <td>96.0</td>\n",
       "      <td>96.0</td>\n",
       "      <td>96.0</td>\n",
       "      <td>NaN</td>\n",
       "      <td>NaN</td>\n",
       "      <td>NaN</td>\n",
       "      <td>NaN</td>\n",
       "      <td>NaN</td>\n",
       "      <td>NaN</td>\n",
       "    </tr>\n",
       "  </tbody>\n",
       "</table>\n",
       "<p>4338 rows × 10 columns</p>\n",
       "</div>"
      ],
      "text/plain": [
       "       0     1     2     3     4     5     6     7     8     9\n",
       "0   75.0  75.0  75.0  75.0  75.0  75.0  75.0  75.0  76.0  76.0\n",
       "0   75.0  75.0  75.0  76.0  76.0  77.0  77.0  77.0  77.0  77.0\n",
       "0   77.0  77.0  77.0  77.0  77.0  77.0  77.0  78.0  78.0  78.0\n",
       "0   77.0  77.0  78.0  78.0  78.0  78.0  78.0  78.0  78.0  78.0\n",
       "0   78.0  78.0  78.0  78.0  78.0  78.0  78.0  78.0  78.0  78.0\n",
       "..   ...   ...   ...   ...   ...   ...   ...   ...   ...   ...\n",
       "0   96.0  96.0  95.0  95.0  95.0  95.0  95.0  95.0  96.0  96.0\n",
       "0   95.0  95.0  95.0  96.0  96.0  96.0  96.0  96.0  96.0  96.0\n",
       "0   96.0  96.0  96.0  96.0  96.0  96.0  96.0  96.0  96.0  96.0\n",
       "0   96.0  96.0  96.0  96.0  96.0  96.0  96.0  96.0  96.0   NaN\n",
       "0   96.0  96.0  96.0  96.0   NaN   NaN   NaN   NaN   NaN   NaN\n",
       "\n",
       "[4338 rows x 10 columns]"
      ]
     },
     "execution_count": 33,
     "metadata": {},
     "output_type": "execute_result"
    }
   ],
   "source": [
    "window"
   ]
  },
  {
   "cell_type": "code",
   "execution_count": 35,
   "id": "1a07ecff-efe7-4959-be39-e5c935959ade",
   "metadata": {},
   "outputs": [],
   "source": [
    "window.reset_index(inplace=True)"
   ]
  },
  {
   "cell_type": "code",
   "execution_count": 37,
   "id": "4dd5a346-49ff-4be3-b7ca-0beb1dde4c00",
   "metadata": {},
   "outputs": [],
   "source": [
    "window.drop(['index'],inplace=True,axis=1)"
   ]
  },
  {
   "cell_type": "markdown",
   "id": "58497a13-1b72-4ff7-9635-5bef40b7c691",
   "metadata": {},
   "source": [
    "Se reinician los índices y se guarda el conjunto de datos"
   ]
  },
  {
   "cell_type": "code",
   "execution_count": 38,
   "id": "0d356388-7400-4d14-9414-7c853ec7d10b",
   "metadata": {},
   "outputs": [
    {
     "data": {
      "text/html": [
       "<div>\n",
       "<style scoped>\n",
       "    .dataframe tbody tr th:only-of-type {\n",
       "        vertical-align: middle;\n",
       "    }\n",
       "\n",
       "    .dataframe tbody tr th {\n",
       "        vertical-align: top;\n",
       "    }\n",
       "\n",
       "    .dataframe thead th {\n",
       "        text-align: right;\n",
       "    }\n",
       "</style>\n",
       "<table border=\"1\" class=\"dataframe\">\n",
       "  <thead>\n",
       "    <tr style=\"text-align: right;\">\n",
       "      <th></th>\n",
       "      <th>0</th>\n",
       "      <th>1</th>\n",
       "      <th>2</th>\n",
       "      <th>3</th>\n",
       "      <th>4</th>\n",
       "      <th>5</th>\n",
       "      <th>6</th>\n",
       "      <th>7</th>\n",
       "      <th>8</th>\n",
       "      <th>9</th>\n",
       "    </tr>\n",
       "  </thead>\n",
       "  <tbody>\n",
       "    <tr>\n",
       "      <th>0</th>\n",
       "      <td>75.0</td>\n",
       "      <td>75.0</td>\n",
       "      <td>75.0</td>\n",
       "      <td>75.0</td>\n",
       "      <td>75.0</td>\n",
       "      <td>75.0</td>\n",
       "      <td>75.0</td>\n",
       "      <td>75.0</td>\n",
       "      <td>76.0</td>\n",
       "      <td>76.0</td>\n",
       "    </tr>\n",
       "    <tr>\n",
       "      <th>1</th>\n",
       "      <td>75.0</td>\n",
       "      <td>75.0</td>\n",
       "      <td>75.0</td>\n",
       "      <td>76.0</td>\n",
       "      <td>76.0</td>\n",
       "      <td>77.0</td>\n",
       "      <td>77.0</td>\n",
       "      <td>77.0</td>\n",
       "      <td>77.0</td>\n",
       "      <td>77.0</td>\n",
       "    </tr>\n",
       "    <tr>\n",
       "      <th>2</th>\n",
       "      <td>77.0</td>\n",
       "      <td>77.0</td>\n",
       "      <td>77.0</td>\n",
       "      <td>77.0</td>\n",
       "      <td>77.0</td>\n",
       "      <td>77.0</td>\n",
       "      <td>77.0</td>\n",
       "      <td>78.0</td>\n",
       "      <td>78.0</td>\n",
       "      <td>78.0</td>\n",
       "    </tr>\n",
       "    <tr>\n",
       "      <th>3</th>\n",
       "      <td>77.0</td>\n",
       "      <td>77.0</td>\n",
       "      <td>78.0</td>\n",
       "      <td>78.0</td>\n",
       "      <td>78.0</td>\n",
       "      <td>78.0</td>\n",
       "      <td>78.0</td>\n",
       "      <td>78.0</td>\n",
       "      <td>78.0</td>\n",
       "      <td>78.0</td>\n",
       "    </tr>\n",
       "    <tr>\n",
       "      <th>4</th>\n",
       "      <td>78.0</td>\n",
       "      <td>78.0</td>\n",
       "      <td>78.0</td>\n",
       "      <td>78.0</td>\n",
       "      <td>78.0</td>\n",
       "      <td>78.0</td>\n",
       "      <td>78.0</td>\n",
       "      <td>78.0</td>\n",
       "      <td>78.0</td>\n",
       "      <td>78.0</td>\n",
       "    </tr>\n",
       "  </tbody>\n",
       "</table>\n",
       "</div>"
      ],
      "text/plain": [
       "      0     1     2     3     4     5     6     7     8     9\n",
       "0  75.0  75.0  75.0  75.0  75.0  75.0  75.0  75.0  76.0  76.0\n",
       "1  75.0  75.0  75.0  76.0  76.0  77.0  77.0  77.0  77.0  77.0\n",
       "2  77.0  77.0  77.0  77.0  77.0  77.0  77.0  78.0  78.0  78.0\n",
       "3  77.0  77.0  78.0  78.0  78.0  78.0  78.0  78.0  78.0  78.0\n",
       "4  78.0  78.0  78.0  78.0  78.0  78.0  78.0  78.0  78.0  78.0"
      ]
     },
     "execution_count": 38,
     "metadata": {},
     "output_type": "execute_result"
    }
   ],
   "source": [
    "window.head()"
   ]
  },
  {
   "cell_type": "code",
   "execution_count": 39,
   "id": "00d8f0e4-828b-47d5-8921-c9faa10d60bc",
   "metadata": {},
   "outputs": [],
   "source": [
    "window.to_csv('../../datasets/hr-study/windows_10_50.csv')"
   ]
  },
  {
   "cell_type": "code",
   "execution_count": null,
   "id": "0391dd32-5c1a-4b32-a05f-b74a10f17149",
   "metadata": {
    "tags": []
   },
   "outputs": [],
   "source": [
    "window"
   ]
  },
  {
   "cell_type": "code",
   "execution_count": null,
   "id": "c2dc7c74-d7d9-440b-9547-da3449487ec2",
   "metadata": {},
   "outputs": [],
   "source": []
  },
  {
   "cell_type": "code",
   "execution_count": null,
   "id": "3552c1bf-112a-4248-9d14-ff3ce64d4c1c",
   "metadata": {},
   "outputs": [],
   "source": []
  }
 ],
 "metadata": {
  "kernelspec": {
   "display_name": "Python 3 (ipykernel)",
   "language": "python",
   "name": "python3"
  },
  "language_info": {
   "codemirror_mode": {
    "name": "ipython",
    "version": 3
   },
   "file_extension": ".py",
   "mimetype": "text/x-python",
   "name": "python",
   "nbconvert_exporter": "python",
   "pygments_lexer": "ipython3",
   "version": "3.9.2"
  }
 },
 "nbformat": 4,
 "nbformat_minor": 5
}
