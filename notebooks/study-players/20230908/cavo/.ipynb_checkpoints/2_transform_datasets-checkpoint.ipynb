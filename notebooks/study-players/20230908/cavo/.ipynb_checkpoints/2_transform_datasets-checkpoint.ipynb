{
 "cells": [
  {
   "cell_type": "code",
   "execution_count": 1,
   "id": "7f826731-5fa5-435c-a3e2-55bceaa2dbb9",
   "metadata": {},
   "outputs": [],
   "source": [
    "import pandas as pd\n",
    "import matplotlib.pyplot as plt\n",
    "import numpy as np"
   ]
  },
  {
   "cell_type": "markdown",
   "id": "489167aa-8d37-448c-886d-d7286481ee45",
   "metadata": {},
   "source": [
    "Se ajustan los valores *record_date* y *player_name*"
   ]
  },
  {
   "cell_type": "code",
   "execution_count": 2,
   "id": "d016c773-f69a-416f-a0e7-e2024d5789b5",
   "metadata": {},
   "outputs": [],
   "source": [
    "record_date = '20230908'"
   ]
  },
  {
   "cell_type": "code",
   "execution_count": 3,
   "id": "a7d7c611-3c14-4fb8-b709-d67e2f44f362",
   "metadata": {},
   "outputs": [],
   "source": [
    "player_name = 'cavo_malena'"
   ]
  },
  {
   "cell_type": "code",
   "execution_count": 4,
   "id": "cb1d346a-33e2-4eb9-a721-338a9f596a82",
   "metadata": {},
   "outputs": [],
   "source": [
    "PLAYER_HR_FILE_DIR = f'../../../../datasets/study-players/{record_date}/{player_name}_hr.csv'"
   ]
  },
  {
   "cell_type": "code",
   "execution_count": 5,
   "id": "b2124411-f8be-40ca-b488-c89953f8c1ab",
   "metadata": {},
   "outputs": [
    {
     "data": {
      "text/html": [
       "<div>\n",
       "<style scoped>\n",
       "    .dataframe tbody tr th:only-of-type {\n",
       "        vertical-align: middle;\n",
       "    }\n",
       "\n",
       "    .dataframe tbody tr th {\n",
       "        vertical-align: top;\n",
       "    }\n",
       "\n",
       "    .dataframe thead th {\n",
       "        text-align: right;\n",
       "    }\n",
       "</style>\n",
       "<table border=\"1\" class=\"dataframe\">\n",
       "  <thead>\n",
       "    <tr style=\"text-align: right;\">\n",
       "      <th></th>\n",
       "      <th>seconds</th>\n",
       "      <th>date</th>\n",
       "      <th>hr</th>\n",
       "    </tr>\n",
       "  </thead>\n",
       "  <tbody>\n",
       "    <tr>\n",
       "      <th>10684</th>\n",
       "      <td>98,302</td>\n",
       "      <td>[2023-09-08 19:20:31 439]</td>\n",
       "      <td>80.0</td>\n",
       "    </tr>\n",
       "    <tr>\n",
       "      <th>10741</th>\n",
       "      <td>98,802</td>\n",
       "      <td>[2023-09-08 19:20:31 939]</td>\n",
       "      <td>80.0</td>\n",
       "    </tr>\n",
       "    <tr>\n",
       "      <th>10799</th>\n",
       "      <td>99,302</td>\n",
       "      <td>[2023-09-08 19:20:32 439]</td>\n",
       "      <td>81.0</td>\n",
       "    </tr>\n",
       "    <tr>\n",
       "      <th>10856</th>\n",
       "      <td>99,802</td>\n",
       "      <td>[2023-09-08 19:20:32 939]</td>\n",
       "      <td>82.0</td>\n",
       "    </tr>\n",
       "    <tr>\n",
       "      <th>10910</th>\n",
       "      <td>100,302</td>\n",
       "      <td>[2023-09-08 19:20:33 439]</td>\n",
       "      <td>84.0</td>\n",
       "    </tr>\n",
       "  </tbody>\n",
       "</table>\n",
       "</div>"
      ],
      "text/plain": [
       "       seconds                       date    hr\n",
       "10684   98,302  [2023-09-08 19:20:31 439]  80.0\n",
       "10741   98,802  [2023-09-08 19:20:31 939]  80.0\n",
       "10799   99,302  [2023-09-08 19:20:32 439]  81.0\n",
       "10856   99,802  [2023-09-08 19:20:32 939]  82.0\n",
       "10910  100,302  [2023-09-08 19:20:33 439]  84.0"
      ]
     },
     "execution_count": 5,
     "metadata": {},
     "output_type": "execute_result"
    }
   ],
   "source": [
    "hr = pd.read_csv(PLAYER_HR_FILE_DIR,index_col=0)\n",
    "hr.head()"
   ]
  },
  {
   "cell_type": "code",
   "execution_count": 6,
   "id": "27df794e-523f-4a8f-9cdd-ef0347d454d5",
   "metadata": {},
   "outputs": [
    {
     "data": {
      "text/plain": [
       "seconds     object\n",
       "date        object\n",
       "hr         float64\n",
       "dtype: object"
      ]
     },
     "execution_count": 6,
     "metadata": {},
     "output_type": "execute_result"
    }
   ],
   "source": [
    "hr.dtypes"
   ]
  },
  {
   "cell_type": "markdown",
   "id": "4ce4ccba-2ef6-4366-9e06-076a0131a2f0",
   "metadata": {},
   "source": [
    "Se convierte el valor de seconds a un valor númerico"
   ]
  },
  {
   "cell_type": "code",
   "execution_count": 7,
   "id": "f2e7f0d1-a38e-44b9-9c8d-0494d8729eab",
   "metadata": {},
   "outputs": [],
   "source": [
    "def convert_comma_to_point(value):\n",
    "    if isinstance(value, str):\n",
    "        return value.replace(',','.')\n",
    "    return value"
   ]
  },
  {
   "cell_type": "code",
   "execution_count": 8,
   "id": "d4a4a426-973b-4ad5-8723-959cc78b302d",
   "metadata": {},
   "outputs": [],
   "source": [
    "hr['seconds'] = hr['seconds'].apply(lambda x: convert_comma_to_point(x))\n",
    "hr['seconds'] = hr['seconds'].apply(pd.to_numeric)"
   ]
  },
  {
   "cell_type": "markdown",
   "id": "fd95c497-43ac-4e4b-b7db-8cdf26e359d6",
   "metadata": {},
   "source": [
    "Se hace un pequeño estudio"
   ]
  },
  {
   "cell_type": "code",
   "execution_count": 9,
   "id": "8e89151a-e142-420a-b89e-e137d13baf55",
   "metadata": {},
   "outputs": [
    {
     "data": {
      "text/plain": [
       "<AxesSubplot:>"
      ]
     },
     "execution_count": 9,
     "metadata": {},
     "output_type": "execute_result"
    },
    {
     "data": {
      "image/png": "[encoded data removed]",
      "text/plain": [
       "<Figure size 432x288 with 1 Axes>"
      ]
     },
     "metadata": {
      "needs_background": "light"
     },
     "output_type": "display_data"
    }
   ],
   "source": [
    "hr.plot(y='hr')"
   ]
  },
  {
   "cell_type": "code",
   "execution_count": 10,
   "id": "1cb95cf5-09c2-49f3-8a01-56d107adaaa4",
   "metadata": {},
   "outputs": [
    {
     "name": "stdout",
     "output_type": "stream",
     "text": [
      "Valor mínimo 98.302\n",
      "Valor máximo 8558.556\n"
     ]
    }
   ],
   "source": [
    "min_seconds = hr['seconds'].min()\n",
    "max_seconds = hr['seconds'].max()\n",
    "\n",
    "print(f\"Valor mínimo {min_seconds}\")\n",
    "print(f\"Valor máximo {max_seconds}\")"
   ]
  },
  {
   "cell_type": "code",
   "execution_count": 11,
   "id": "9ba404d9-fd5b-4133-9d78-128a9cc68fed",
   "metadata": {},
   "outputs": [
    {
     "name": "stdout",
     "output_type": "stream",
     "text": [
      "Minutos totales: 141.00423333333336 minutos\n",
      "Horas totales: 2.350070555555556 horas\n"
     ]
    }
   ],
   "source": [
    "minutes = (max_seconds - min_seconds) / 60\n",
    "hours = minutes / 60\n",
    "print(f\"Minutos totales: {minutes} minutos\")\n",
    "print(f\"Horas totales: {hours} horas\")"
   ]
  },
  {
   "cell_type": "markdown",
   "id": "2e15ab2c-5ac2-4de7-9a77-9395b221bd7f",
   "metadata": {},
   "source": [
    "La frecuencia de la variable HR es de 0.5 segundos, es decir, cada medio segundo, se recoge el ritmo cardíaco de la jugada. Se va a comprobar que esto se cumple."
   ]
  },
  {
   "cell_type": "code",
   "execution_count": 12,
   "id": "1be727d7-54b4-49c0-ba64-ac5f24d44fcd",
   "metadata": {},
   "outputs": [
    {
     "data": {
      "text/plain": [
       "10684     NaN\n",
       "10741     0.5\n",
       "10799     0.5\n",
       "10856     0.5\n",
       "10910     0.5\n",
       "         ... \n",
       "976599    0.5\n",
       "976656    0.5\n",
       "976712    0.5\n",
       "976767    0.5\n",
       "976823    0.5\n",
       "Name: seconds, Length: 16794, dtype: float64"
      ]
     },
     "execution_count": 12,
     "metadata": {},
     "output_type": "execute_result"
    }
   ],
   "source": [
    "hr['seconds'].diff()"
   ]
  },
  {
   "cell_type": "code",
   "execution_count": 13,
   "id": "2d014307-001f-4201-bd15-1b03c0b8fa57",
   "metadata": {},
   "outputs": [
    {
     "data": {
      "text/plain": [
       "array([  nan, 0.5  , 0.5  , 0.5  , 3.5  , 2.5  , 9.5  , 7.   , 4.5  ,\n",
       "       0.5  , 6.5  , 5.5  , 4.   , 2.   , 0.5  , 0.5  , 0.499, 0.498,\n",
       "       0.499, 0.468, 0.535, 0.501, 0.503, 0.503, 0.502, 0.501, 0.472,\n",
       "       0.532, 0.502, 0.464, 0.537, 0.506, 0.498, 0.496, 0.497, 0.497,\n",
       "       0.504, 0.504, 0.466, 0.532, 0.469, 0.529, 0.495, 0.465, 0.536,\n",
       "       0.495, 0.485, 0.511, 0.463, 0.533, 0.505, 0.505, 0.507, 0.493,\n",
       "       0.457, 0.545, 0.462, 0.539, 0.461, 0.537, 0.471, 0.531, 0.473,\n",
       "       0.527, 0.507, 0.46 , 0.535, 0.408, 0.595, 0.496, 0.494, 0.472,\n",
       "       0.53 , 0.508, 0.492, 0.506, 0.491, 0.51 , 0.488, 0.454, 0.546,\n",
       "       0.382, 0.618, 3.001, 4.999, 5.001, 2.999, 0.508, 0.47 , 0.528,\n",
       "       0.47 , 0.501, 0.498, 0.502, 0.499, 0.503, 0.496, 0.497, 0.504,\n",
       "       0.531, 0.469, 0.531])"
      ]
     },
     "execution_count": 13,
     "metadata": {},
     "output_type": "execute_result"
    }
   ],
   "source": [
    "hr['seconds'].diff().unique()"
   ]
  },
  {
   "cell_type": "code",
   "execution_count": 14,
   "id": "edfdfa20-99a9-424e-aafc-fb053f83cab6",
   "metadata": {},
   "outputs": [],
   "source": [
    "hr['diff'] = hr['seconds'].diff()"
   ]
  },
  {
   "cell_type": "code",
   "execution_count": 15,
   "id": "0bb331e3-4b6f-48bb-ab7d-219f01b47218",
   "metadata": {},
   "outputs": [
    {
     "data": {
      "text/plain": [
       "diff\n",
       "0.382    1\n",
       "0.408    1\n",
       "0.454    1\n",
       "0.457    1\n",
       "0.460    1\n",
       "        ..\n",
       "5.001    1\n",
       "5.500    1\n",
       "6.500    1\n",
       "7.000    1\n",
       "9.500    1\n",
       "Length: 101, dtype: int64"
      ]
     },
     "execution_count": 15,
     "metadata": {},
     "output_type": "execute_result"
    }
   ],
   "source": [
    "hr.pivot_table(columns=['diff'], aggfunc='size')"
   ]
  },
  {
   "cell_type": "markdown",
   "id": "751e3cf0-1866-4b00-8073-66ef820b2b05",
   "metadata": {},
   "source": [
    "Se interpolan los datos"
   ]
  },
  {
   "cell_type": "code",
   "execution_count": 16,
   "id": "2f8b4fed-5d85-4fd0-8fa6-b63bf9a34caa",
   "metadata": {},
   "outputs": [],
   "source": [
    "new_df = pd.DataFrame()"
   ]
  },
  {
   "cell_type": "code",
   "execution_count": 17,
   "id": "0888798b-bb16-40e1-95cd-6ad1489ade8e",
   "metadata": {},
   "outputs": [],
   "source": [
    "last = hr.iloc[0]\n",
    "for i in range(1, hr.shape[0]):\n",
    "    new_df = new_df.append(last)\n",
    "    # si valor actual tiene diff mayor que 0.5, generar números\n",
    "    \n",
    "    if hr.iloc[i]['diff'] > 0.5:\n",
    "        seconds = last['seconds']\n",
    "        value = (hr.iloc[i]['hr'] + last['hr'])/ 2\n",
    "        #print(hr.iloc[i]['hr'], last['hr'], value)\n",
    "        #print(last, hr.iloc[i])\n",
    "        for x in range(0, int(hr.iloc[i]['diff']/0.5) -1):\n",
    "            \n",
    "            seconds = seconds + 0.5\n",
    "            new_df = new_df.append({'seconds': seconds, 'date': None, 'hr': value},ignore_index=True)\n",
    "    last = hr.iloc[i]\n"
   ]
  },
  {
   "cell_type": "code",
   "execution_count": 18,
   "id": "ab5d7d73-9771-4eaf-bca3-365c0c32b1e8",
   "metadata": {},
   "outputs": [
    {
     "data": {
      "text/html": [
       "<div>\n",
       "<style scoped>\n",
       "    .dataframe tbody tr th:only-of-type {\n",
       "        vertical-align: middle;\n",
       "    }\n",
       "\n",
       "    .dataframe tbody tr th {\n",
       "        vertical-align: top;\n",
       "    }\n",
       "\n",
       "    .dataframe thead th {\n",
       "        text-align: right;\n",
       "    }\n",
       "</style>\n",
       "<table border=\"1\" class=\"dataframe\">\n",
       "  <thead>\n",
       "    <tr style=\"text-align: right;\">\n",
       "      <th></th>\n",
       "      <th>seconds</th>\n",
       "      <th>date</th>\n",
       "      <th>hr</th>\n",
       "      <th>diff</th>\n",
       "    </tr>\n",
       "  </thead>\n",
       "  <tbody>\n",
       "    <tr>\n",
       "      <th>0</th>\n",
       "      <td>98.302</td>\n",
       "      <td>[2023-09-08 19:20:31 439]</td>\n",
       "      <td>80.0</td>\n",
       "      <td>NaN</td>\n",
       "    </tr>\n",
       "    <tr>\n",
       "      <th>1</th>\n",
       "      <td>98.802</td>\n",
       "      <td>[2023-09-08 19:20:31 939]</td>\n",
       "      <td>80.0</td>\n",
       "      <td>0.5</td>\n",
       "    </tr>\n",
       "    <tr>\n",
       "      <th>2</th>\n",
       "      <td>99.302</td>\n",
       "      <td>[2023-09-08 19:20:32 439]</td>\n",
       "      <td>81.0</td>\n",
       "      <td>0.5</td>\n",
       "    </tr>\n",
       "    <tr>\n",
       "      <th>3</th>\n",
       "      <td>99.802</td>\n",
       "      <td>[2023-09-08 19:20:32 939]</td>\n",
       "      <td>82.0</td>\n",
       "      <td>0.5</td>\n",
       "    </tr>\n",
       "    <tr>\n",
       "      <th>4</th>\n",
       "      <td>100.302</td>\n",
       "      <td>[2023-09-08 19:20:33 439]</td>\n",
       "      <td>84.0</td>\n",
       "      <td>0.5</td>\n",
       "    </tr>\n",
       "    <tr>\n",
       "      <th>...</th>\n",
       "      <td>...</td>\n",
       "      <td>...</td>\n",
       "      <td>...</td>\n",
       "      <td>...</td>\n",
       "    </tr>\n",
       "    <tr>\n",
       "      <th>976542</th>\n",
       "      <td>8556.056</td>\n",
       "      <td>[2023-09-08 21:41:29 193]</td>\n",
       "      <td>128.0</td>\n",
       "      <td>0.5</td>\n",
       "    </tr>\n",
       "    <tr>\n",
       "      <th>976599</th>\n",
       "      <td>8556.556</td>\n",
       "      <td>[2023-09-08 21:41:29 693]</td>\n",
       "      <td>128.0</td>\n",
       "      <td>0.5</td>\n",
       "    </tr>\n",
       "    <tr>\n",
       "      <th>976656</th>\n",
       "      <td>8557.056</td>\n",
       "      <td>[2023-09-08 21:41:30 193]</td>\n",
       "      <td>128.0</td>\n",
       "      <td>0.5</td>\n",
       "    </tr>\n",
       "    <tr>\n",
       "      <th>976712</th>\n",
       "      <td>8557.556</td>\n",
       "      <td>[2023-09-08 21:41:30 693]</td>\n",
       "      <td>128.0</td>\n",
       "      <td>0.5</td>\n",
       "    </tr>\n",
       "    <tr>\n",
       "      <th>976767</th>\n",
       "      <td>8558.056</td>\n",
       "      <td>[2023-09-08 21:41:31 193]</td>\n",
       "      <td>128.0</td>\n",
       "      <td>0.5</td>\n",
       "    </tr>\n",
       "  </tbody>\n",
       "</table>\n",
       "<p>16918 rows × 4 columns</p>\n",
       "</div>"
      ],
      "text/plain": [
       "         seconds                       date     hr  diff\n",
       "0         98.302  [2023-09-08 19:20:31 439]   80.0   NaN\n",
       "1         98.802  [2023-09-08 19:20:31 939]   80.0   0.5\n",
       "2         99.302  [2023-09-08 19:20:32 439]   81.0   0.5\n",
       "3         99.802  [2023-09-08 19:20:32 939]   82.0   0.5\n",
       "4        100.302  [2023-09-08 19:20:33 439]   84.0   0.5\n",
       "...          ...                        ...    ...   ...\n",
       "976542  8556.056  [2023-09-08 21:41:29 193]  128.0   0.5\n",
       "976599  8556.556  [2023-09-08 21:41:29 693]  128.0   0.5\n",
       "976656  8557.056  [2023-09-08 21:41:30 193]  128.0   0.5\n",
       "976712  8557.556  [2023-09-08 21:41:30 693]  128.0   0.5\n",
       "976767  8558.056  [2023-09-08 21:41:31 193]  128.0   0.5\n",
       "\n",
       "[16918 rows x 4 columns]"
      ]
     },
     "execution_count": 18,
     "metadata": {},
     "output_type": "execute_result"
    }
   ],
   "source": [
    "new_df"
   ]
  },
  {
   "cell_type": "code",
   "execution_count": 19,
   "id": "242b429a-4792-4bb8-8e36-5275ba2f00d8",
   "metadata": {},
   "outputs": [],
   "source": [
    "new_df.to_csv(f'../../../../datasets/study-players/{record_date}/{player_name}_hr_without_gaps.csv')"
   ]
  },
  {
   "cell_type": "markdown",
   "id": "8a76ba6e-45db-4b03-be43-387a6e4b6111",
   "metadata": {},
   "source": [
    "# Ahora hacer lo mismo con activity"
   ]
  },
  {
   "cell_type": "code",
   "execution_count": 20,
   "id": "c88b6e0d-5886-41ba-b6ef-f5a9b2a299c6",
   "metadata": {},
   "outputs": [],
   "source": [
    "PLAYER_ACTIVITY_FILE_DIR = f'../../../../datasets/study-players/{record_date}/{player_name}_activity_load.csv'"
   ]
  },
  {
   "cell_type": "code",
   "execution_count": 21,
   "id": "4ad89904-0da1-4e01-b5cc-3c68ebe9d50a",
   "metadata": {},
   "outputs": [
    {
     "data": {
      "text/html": [
       "<div>\n",
       "<style scoped>\n",
       "    .dataframe tbody tr th:only-of-type {\n",
       "        vertical-align: middle;\n",
       "    }\n",
       "\n",
       "    .dataframe tbody tr th {\n",
       "        vertical-align: top;\n",
       "    }\n",
       "\n",
       "    .dataframe thead th {\n",
       "        text-align: right;\n",
       "    }\n",
       "</style>\n",
       "<table border=\"1\" class=\"dataframe\">\n",
       "  <thead>\n",
       "    <tr style=\"text-align: right;\">\n",
       "      <th></th>\n",
       "      <th>seconds</th>\n",
       "      <th>date</th>\n",
       "      <th>activity_load_2d</th>\n",
       "      <th>activity_load_3d</th>\n",
       "    </tr>\n",
       "  </thead>\n",
       "  <tbody>\n",
       "    <tr>\n",
       "      <th>72</th>\n",
       "      <td>1,765</td>\n",
       "      <td>[2023-09-08 19:18:54 902]</td>\n",
       "      <td>0,005</td>\n",
       "      <td>0,0055</td>\n",
       "    </tr>\n",
       "    <tr>\n",
       "      <th>181</th>\n",
       "      <td>2,765</td>\n",
       "      <td>[2023-09-08 19:18:55 902]</td>\n",
       "      <td>0,0019</td>\n",
       "      <td>0,0022</td>\n",
       "    </tr>\n",
       "    <tr>\n",
       "      <th>291</th>\n",
       "      <td>3,765</td>\n",
       "      <td>[2023-09-08 19:18:56 902]</td>\n",
       "      <td>0,0022</td>\n",
       "      <td>0,0025</td>\n",
       "    </tr>\n",
       "    <tr>\n",
       "      <th>402</th>\n",
       "      <td>4,765</td>\n",
       "      <td>[2023-09-08 19:18:57 902]</td>\n",
       "      <td>0,002</td>\n",
       "      <td>0,0023</td>\n",
       "    </tr>\n",
       "    <tr>\n",
       "      <th>513</th>\n",
       "      <td>5,765</td>\n",
       "      <td>[2023-09-08 19:18:58 902]</td>\n",
       "      <td>0,0022</td>\n",
       "      <td>0,0025</td>\n",
       "    </tr>\n",
       "  </tbody>\n",
       "</table>\n",
       "</div>"
      ],
      "text/plain": [
       "    seconds                       date activity_load_2d activity_load_3d\n",
       "72    1,765  [2023-09-08 19:18:54 902]            0,005           0,0055\n",
       "181   2,765  [2023-09-08 19:18:55 902]           0,0019           0,0022\n",
       "291   3,765  [2023-09-08 19:18:56 902]           0,0022           0,0025\n",
       "402   4,765  [2023-09-08 19:18:57 902]            0,002           0,0023\n",
       "513   5,765  [2023-09-08 19:18:58 902]           0,0022           0,0025"
      ]
     },
     "execution_count": 21,
     "metadata": {},
     "output_type": "execute_result"
    }
   ],
   "source": [
    "activity_load = pd.read_csv(PLAYER_ACTIVITY_FILE_DIR,index_col=0)\n",
    "activity_load.head()"
   ]
  },
  {
   "cell_type": "markdown",
   "id": "b95db4ea-70f3-4979-be11-f7b53cf3ea6c",
   "metadata": {},
   "source": [
    "Se debe cambiar los valores numéricos a las cargas de actividad y a los segundos"
   ]
  },
  {
   "cell_type": "code",
   "execution_count": 22,
   "id": "6ec3a468-91b1-4ac0-ad7a-bfc21e79f10b",
   "metadata": {},
   "outputs": [],
   "source": [
    "activity_load['seconds'] = activity_load['seconds'].apply(lambda x: convert_comma_to_point(x))\n",
    "activity_load['seconds'] = activity_load['seconds'].apply(pd.to_numeric)"
   ]
  },
  {
   "cell_type": "code",
   "execution_count": 23,
   "id": "91739de1-3885-4663-a430-99c3106a6e2e",
   "metadata": {},
   "outputs": [],
   "source": [
    "activity_load['activity_load_2d'] = activity_load['activity_load_2d'].apply(lambda x: convert_comma_to_point(x))\n",
    "activity_load['activity_load_2d'] = activity_load['activity_load_2d'].apply(pd.to_numeric)"
   ]
  },
  {
   "cell_type": "code",
   "execution_count": 24,
   "id": "92a66a54-0113-4b06-b575-89a7859c551c",
   "metadata": {},
   "outputs": [],
   "source": [
    "activity_load['activity_load_3d'] = activity_load['activity_load_3d'].apply(lambda x: convert_comma_to_point(x))\n",
    "activity_load['activity_load_3d'] = activity_load['activity_load_3d'].apply(pd.to_numeric)"
   ]
  },
  {
   "cell_type": "code",
   "execution_count": 25,
   "id": "a389c373-bead-4835-b84b-ff32e3d2442d",
   "metadata": {},
   "outputs": [
    {
     "data": {
      "text/plain": [
       "seconds             float64\n",
       "date                 object\n",
       "activity_load_2d    float64\n",
       "activity_load_3d    float64\n",
       "dtype: object"
      ]
     },
     "execution_count": 25,
     "metadata": {},
     "output_type": "execute_result"
    }
   ],
   "source": [
    "activity_load.dtypes"
   ]
  },
  {
   "cell_type": "markdown",
   "id": "83477613-a932-4574-8766-ceb16d903bc3",
   "metadata": {},
   "source": [
    "Se muestran unos gráficos"
   ]
  },
  {
   "cell_type": "code",
   "execution_count": 26,
   "id": "935931c3-e593-4d8b-a013-3d1d1db5d756",
   "metadata": {},
   "outputs": [
    {
     "data": {
      "text/plain": [
       "<AxesSubplot:>"
      ]
     },
     "execution_count": 26,
     "metadata": {},
     "output_type": "execute_result"
    },
    {
     "data": {
      "image/png": "[encoded data removed]",
      "text/plain": [
       "<Figure size 432x288 with 1 Axes>"
      ]
     },
     "metadata": {
      "needs_background": "light"
     },
     "output_type": "display_data"
    }
   ],
   "source": [
    "activity_load.plot(y='activity_load_2d')"
   ]
  },
  {
   "cell_type": "code",
   "execution_count": 27,
   "id": "5656b2c8-72a0-4ae0-87cb-7a3d5c6b354a",
   "metadata": {},
   "outputs": [
    {
     "data": {
      "text/plain": [
       "<AxesSubplot:>"
      ]
     },
     "execution_count": 27,
     "metadata": {},
     "output_type": "execute_result"
    },
    {
     "data": {
      "image/png": "[encoded data removed]",
      "text/plain": [
       "<Figure size 432x288 with 1 Axes>"
      ]
     },
     "metadata": {
      "needs_background": "light"
     },
     "output_type": "display_data"
    }
   ],
   "source": [
    "activity_load.plot(y='activity_load_3d')"
   ]
  },
  {
   "cell_type": "code",
   "execution_count": 28,
   "id": "fcd1a337-9d33-44e9-94ff-3fb982986c39",
   "metadata": {},
   "outputs": [
    {
     "name": "stdout",
     "output_type": "stream",
     "text": [
      "Valor mínimo 1.765\n",
      "Valor máximo 8559.447\n"
     ]
    }
   ],
   "source": [
    "min_seconds = activity_load['seconds'].min()\n",
    "max_seconds = activity_load['seconds'].max()\n",
    "\n",
    "print(f\"Valor mínimo {min_seconds}\")\n",
    "print(f\"Valor máximo {max_seconds}\")"
   ]
  },
  {
   "cell_type": "code",
   "execution_count": 29,
   "id": "f7855877-d929-4355-9b26-ad85c02cfe8e",
   "metadata": {},
   "outputs": [
    {
     "name": "stdout",
     "output_type": "stream",
     "text": [
      "Minutos totales: 142.62803333333335 minutos\n",
      "Horas totales: 2.3771338888888893 horas\n"
     ]
    }
   ],
   "source": [
    "minutes = (max_seconds - min_seconds) / 60\n",
    "hours = minutes / 60\n",
    "print(f\"Minutos totales: {minutes} minutos\")\n",
    "print(f\"Horas totales: {hours} horas\")"
   ]
  },
  {
   "cell_type": "markdown",
   "id": "f3f4b0e4-805e-48df-8bdf-5e41507d4b93",
   "metadata": {},
   "source": [
    "Se cuenta con más info de la carga de actividad"
   ]
  },
  {
   "cell_type": "markdown",
   "id": "89567676-04b1-4727-bfb0-af7b389c9890",
   "metadata": {},
   "source": [
    "Se comprueban los gaps, frecuencia de un segundoactivity_load['seconds'].diff()"
   ]
  },
  {
   "cell_type": "code",
   "execution_count": 30,
   "id": "812dff1c-47c3-4b21-9267-171934fd0e2a",
   "metadata": {},
   "outputs": [
    {
     "data": {
      "text/plain": [
       "72        NaN\n",
       "181       1.0\n",
       "291       1.0\n",
       "402       1.0\n",
       "513       1.0\n",
       "         ... \n",
       "976473    1.0\n",
       "976587    1.0\n",
       "976699    1.0\n",
       "976810    1.0\n",
       "976921    1.0\n",
       "Name: seconds, Length: 8536, dtype: float64"
      ]
     },
     "execution_count": 30,
     "metadata": {},
     "output_type": "execute_result"
    }
   ],
   "source": [
    "activity_load['seconds'].diff()"
   ]
  },
  {
   "cell_type": "code",
   "execution_count": 31,
   "id": "67ae720b-79ec-4e53-8941-062fd55a7545",
   "metadata": {},
   "outputs": [
    {
     "data": {
      "text/plain": [
       "array([  nan, 1.   , 1.   , 1.   , 1.   , 1.155, 1.162, 1.161, 1.162,\n",
       "       1.   , 1.162, 1.162, 1.16 , 1.   , 1.161, 1.161, 1.163, 1.16 ,\n",
       "       1.   , 1.161, 1.16 , 1.172, 1.151, 1.162, 1.162, 1.16 , 1.161,\n",
       "       1.16 , 1.162, 0.997, 0.967, 1.194, 1.002, 0.999, 0.997, 1.002,\n",
       "       0.998, 1.001, 1.001, 0.998, 0.971, 1.032, 0.963, 1.037, 0.999,\n",
       "       1.005, 0.996, 1.005, 1.003, 1.003, 1.004, 1.032, 0.97 , 1.029,\n",
       "       1.16 , 0.969, 1.033, 1.163, 0.964, 1.038, 1.163, 0.985, 1.012,\n",
       "       0.962, 1.035, 1.164, 0.968, 0.995, 0.994, 1.007, 0.993, 0.957,\n",
       "       1.045, 1.039, 0.962, 0.996, 1.004, 1.031, 1.164, 0.973, 1.026,\n",
       "       1.159, 1.007, 0.96 , 1.036, 0.908, 1.096, 1.159, 0.972, 1.03 ,\n",
       "       1.03 , 1.185, 1.143, 1.008, 1.008, 1.006, 1.167, 0.991, 1.01 ,\n",
       "       0.987, 1.157, 0.954, 0.883, 1.117, 1.006, 0.971, 1.028, 0.998,\n",
       "       1.001, 0.998, 1.157, 1.002, 0.997, 0.999, 1.004, 0.969, 1.003,\n",
       "       0.996, 1.163])"
      ]
     },
     "execution_count": 31,
     "metadata": {},
     "output_type": "execute_result"
    }
   ],
   "source": [
    "activity_load['seconds'].diff().unique()"
   ]
  },
  {
   "cell_type": "markdown",
   "id": "b6f6ce43-a736-494e-9bdd-f42eb6c2c1e9",
   "metadata": {},
   "source": [
    "No hay gaps significativos, no hay que hacer cambios, se guarda el dataset."
   ]
  },
  {
   "cell_type": "code",
   "execution_count": 32,
   "id": "a792d629-2121-4838-b49e-2ba0bbd117b5",
   "metadata": {},
   "outputs": [],
   "source": [
    "activity_load.to_csv(f'../../../../datasets/study-players/{record_date}/{player_name}_activity_load.csv')"
   ]
  },
  {
   "cell_type": "code",
   "execution_count": null,
   "id": "c8f34f38-2877-4146-adc7-e36fd1329a92",
   "metadata": {},
   "outputs": [],
   "source": []
  }
 ],
 "metadata": {
  "kernelspec": {
   "display_name": "Python 3 (ipykernel)",
   "language": "python",
   "name": "python3"
  },
  "language_info": {
   "codemirror_mode": {
    "name": "ipython",
    "version": 3
   },
   "file_extension": ".py",
   "mimetype": "text/x-python",
   "name": "python",
   "nbconvert_exporter": "python",
   "pygments_lexer": "ipython3",
   "version": "3.9.2"
  }
 },
 "nbformat": 4,
 "nbformat_minor": 5
}
